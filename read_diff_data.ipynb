{
 "cells": [
  {
   "cell_type": "code",
   "execution_count": null,
   "metadata": {},
   "outputs": [],
   "source": [
    "# import required packages/libraries\n",
    "import pandas as pd\n",
    "import numpy as np\n",
    "import os"
   ]
  },
  {
   "cell_type": "code",
   "execution_count": null,
   "metadata": {},
   "outputs": [],
   "source": [
    "\n",
    "\n",
    "# read data into dataframe\n",
    "df = pd.read_excel(\"../EOC_Raw_Data/2017_nondrug_wetamd.xlsx\",sheetname=0)\n",
    "\n",
    "# display first 5 rows in the dataframe\n",
    "df.head()"
   ]
  },
  {
   "cell_type": "code",
   "execution_count": null,
   "metadata": {},
   "outputs": [],
   "source": [
    "# read data into dataframe\n",
    "df1 = pd.read_csv(\"../EOC_Raw_Data/AllCol_2017.csv\")\n",
    "\n",
    "# display first 5 rows in the dataframe\n",
    "df1.head()"
   ]
  },
  {
   "cell_type": "code",
   "execution_count": null,
   "metadata": {},
   "outputs": [],
   "source": [
    "pd.options.display.max_seq_items = 5000\n",
    "mylist= df1['claimid'].unique()\n",
    "print (mylist.tolist())"
   ]
  },
  {
   "cell_type": "code",
   "execution_count": null,
   "metadata": {},
   "outputs": [],
   "source": [
    "df1['claimid'].nunique()"
   ]
  },
  {
   "cell_type": "code",
   "execution_count": null,
   "metadata": {},
   "outputs": [],
   "source": [
    "mylist_not_inRawData = df[~df['Value'].isin(df1['claimid'])].dropna(how = 'all')\n",
    "print(mylist_not_inRawData)\n",
    "mylist_not_inRawData.to_csv('../EOC_Raw_Data/Missing.csv')"
   ]
  },
  {
   "cell_type": "code",
   "execution_count": null,
   "metadata": {},
   "outputs": [],
   "source": [
    "# read data into dataframe\n",
    "df2 = pd.read_excel(\"../EOC_Raw_Data/All_2017.xlsx\",sheet_name = 0)\n",
    "\n",
    "# display first 5 rows in the dataframe\n",
    "df2.head()"
   ]
  },
  {
   "cell_type": "code",
   "execution_count": null,
   "metadata": {},
   "outputs": [],
   "source": [
    "mylist_missing2 = df[~df['Value'].isin(df2['claimid'])].dropna(how = 'all')\n",
    "print(mylist_missing2)\n",
    "mylist_missing2.to_csv('../EOC_Raw_Data/Missing2.csv')"
   ]
  },
  {
   "cell_type": "code",
   "execution_count": null,
   "metadata": {},
   "outputs": [],
   "source": [
    "# read data into dataframe\n",
    "df3 = pd.read_excel(\"../EOC_Raw_Data/Colless_2017.xlsx\",sheet_name = 0)\n",
    "\n",
    "# display first 5 rows in the dataframe\n",
    "df3.head()"
   ]
  },
  {
   "cell_type": "code",
   "execution_count": null,
   "metadata": {},
   "outputs": [],
   "source": [
    "mylist_missing3 = df[~df['Value'].isin(df3['claimid'])].dropna(how = 'all')\n",
    "print(mylist_missing3)\n",
    "mylist_missing3.to_csv('../EOC_Raw_Data/Missing3.csv')"
   ]
  },
  {
   "cell_type": "code",
   "execution_count": null,
   "metadata": {},
   "outputs": [],
   "source": [
    "# read data into dataframe\n",
    "df4 = pd.read_csv(\"../EOC_Raw_Data/main.csv\")\n",
    "\n",
    "# display first 5 rows in the dataframe\n",
    "df4.head()"
   ]
  },
  {
   "cell_type": "code",
   "execution_count": null,
   "metadata": {},
   "outputs": [],
   "source": [
    "mylist_missing4 = df[~df['Value'].isin(df4['claimid'])].dropna(how = 'all')\n",
    "print(mylist_missing4)\n",
    "mylist_missing4.to_csv('../EOC_Raw_Data/Missing4.csv')"
   ]
  },
  {
   "cell_type": "code",
   "execution_count": null,
   "metadata": {},
   "outputs": [],
   "source": [
    "# read data into dataframe\n",
    "df5 = pd.read_csv(\"../EOC_Raw_Data/EOC_Data_2017.csv\")\n",
    "\n",
    "# display first 5 rows in the dataframe\n",
    "df5.head()"
   ]
  },
  {
   "cell_type": "code",
   "execution_count": null,
   "metadata": {},
   "outputs": [],
   "source": [
    "mylist_missing5 = df[~df['Value'].isin(df5['claimid'])]\n",
    "print(mylist_missing5)\n",
    "mylist_missing5.to_csv('../EOC_Raw_Data/Missing5.csv')"
   ]
  },
  {
   "cell_type": "code",
   "execution_count": null,
   "metadata": {},
   "outputs": [],
   "source": [
    "df5['claimid']"
   ]
  },
  {
   "cell_type": "code",
   "execution_count": null,
   "metadata": {},
   "outputs": [],
   "source": [
    "from glob import glob\n",
    "\n",
    "with open('../EOC_Raw_Data/Andre2017.xlsx', 'a') as singleFile:\n",
    "    for csv in glob('../EOC_Raw_Data/Andre_2017/*.xlsx'):\n",
    "        if csv == 'Andre2017.xlsx':\n",
    "            pass\n",
    "        else:\n",
    "            for line in open(csv, 'r'):\n",
    "                singleFile.write(line)"
   ]
  },
  {
   "cell_type": "code",
   "execution_count": null,
   "metadata": {},
   "outputs": [],
   "source": [
    "import glob\n",
    "all_data = pd.DataFrame()\n",
    "for f in glob.glob(\"../EOC_Raw_Data/Andre_2017/*.xlsx\"):\n",
    "    df6 = pd.read_excel(f)\n",
    "    all_data = all_data.append(df6,ignore_index=True)"
   ]
  },
  {
   "cell_type": "code",
   "execution_count": null,
   "metadata": {},
   "outputs": [],
   "source": [
    "mylist_missing6 = df[~df['Value'].isin(all_data['claimid'])]\n",
    "print(mylist_missing6)\n",
    "mylist_missing6.to_csv('../EOC_Raw_Data/Missing6.csv')"
   ]
  },
  {
   "cell_type": "code",
   "execution_count": null,
   "metadata": {},
   "outputs": [],
   "source": [
    "# read data into dataframe\n",
    "df7 = pd.read_csv(\"../EOC_Raw_Data/AMD_Wet.csv\")\n",
    "\n",
    "# display first 5 rows in the dataframe\n",
    "df7.head()"
   ]
  },
  {
   "cell_type": "code",
   "execution_count": null,
   "metadata": {},
   "outputs": [],
   "source": [
    "mylist_missing7 = df[~df['Value'].isin(df7['Claim_ID'])]\n",
    "print(mylist_missing7)\n",
    "mylist_missing7.to_csv('../EOC_Raw_Data/Missing7.csv')"
   ]
  },
  {
   "cell_type": "code",
   "execution_count": null,
   "metadata": {},
   "outputs": [],
   "source": [
    "from glob import glob\n",
    "\n",
    "with open('../EOC_Raw_Data/EOC_Data_2018.csv', 'a') as singleFile:\n",
    "    for csv in glob('../EOC_Raw_Data/Data_2018/*.csv'):\n",
    "        if csv == 'EOC_Data_2018.csv':\n",
    "            pass\n",
    "        else:\n",
    "            for line in open(csv, 'r'):\n",
    "                singleFile.write(line)"
   ]
  },
  {
   "cell_type": "code",
   "execution_count": null,
   "metadata": {},
   "outputs": [],
   "source": [
    "\n",
    "# read data into dataframe\n",
    "df1 = pd.read_csv(\"../EOC_Raw_Data/EOC_Data_2017_f.csv\",skiprows=1,nrows=1667176)\n",
    "\n",
    "# display first 5 rows in the dataframe\n",
    "df1"
   ]
  },
  {
   "cell_type": "code",
   "execution_count": null,
   "metadata": {},
   "outputs": [],
   "source": [
    "df1.info()"
   ]
  },
  {
   "cell_type": "code",
   "execution_count": null,
   "metadata": {},
   "outputs": [],
   "source": [
    "df1.claimid  = df1.claimid.astype(str).astype(int)"
   ]
  },
  {
   "cell_type": "code",
   "execution_count": null,
   "metadata": {},
   "outputs": [],
   "source": [
    "\n",
    "# read data into dataframe\n",
    "df2 = pd.read_csv(\"../EOC_Raw_Data/add.csv\",skiprows=1)\n",
    "\n",
    "# display first 5 rows in the dataframe\n",
    "df2.head()"
   ]
  },
  {
   "cell_type": "code",
   "execution_count": null,
   "metadata": {},
   "outputs": [],
   "source": [
    "df2.info()"
   ]
  },
  {
   "cell_type": "code",
   "execution_count": null,
   "metadata": {},
   "outputs": [],
   "source": [
    "df3= pd.merge(df2, df1, on=['claimid','srvday'],how='inner')"
   ]
  },
  {
   "cell_type": "code",
   "execution_count": null,
   "metadata": {},
   "outputs": [],
   "source": [
    "df3.info()"
   ]
  },
  {
   "cell_type": "code",
   "execution_count": null,
   "metadata": {},
   "outputs": [],
   "source": [
    "df3"
   ]
  },
  {
   "cell_type": "code",
   "execution_count": null,
   "metadata": {},
   "outputs": [],
   "source": [
    "df3.to_csv(\"../EOC_Raw_Data/eoc_2017_join.csv\")"
   ]
  },
  {
   "cell_type": "code",
   "execution_count": null,
   "metadata": {},
   "outputs": [],
   "source": [
    "# read data into dataframe\n",
    "df8 = pd.read_csv(\"../EOC_Raw_Data/Report_Lumped_AMD_Wet.csv\")\n",
    "\n",
    "# display first 5 rows in the dataframe\n",
    "df8.head()"
   ]
  },
  {
   "cell_type": "code",
   "execution_count": null,
   "metadata": {},
   "outputs": [],
   "source": [
    "mylist_missing8 = df[~df['Value'].isin(df8['#EOCs'])]\n",
    "print(mylist_missing8)\n",
    "mylist_missing8.to_csv('../EOC_Raw_Data/Missing8.csv')"
   ]
  },
  {
   "cell_type": "code",
   "execution_count": null,
   "metadata": {},
   "outputs": [],
   "source": [
    "mylist_missing8['#EOCs'].unique()"
   ]
  },
  {
   "cell_type": "code",
   "execution_count": null,
   "metadata": {},
   "outputs": [],
   "source": [
    "mylist_missing8.to_csv('../EOC_Raw_Data/Missing11.csv',index=False)"
   ]
  },
  {
   "cell_type": "code",
   "execution_count": null,
   "metadata": {},
   "outputs": [],
   "source": [
    "df8[df8.duplicated(['Claim_ID'], keep=False)]"
   ]
  },
  {
   "cell_type": "code",
   "execution_count": null,
   "metadata": {},
   "outputs": [],
   "source": []
  }
 ],
 "metadata": {
  "kernelspec": {
   "display_name": "Python 3",
   "language": "python",
   "name": "python3"
  },
  "language_info": {
   "codemirror_mode": {
    "name": "ipython",
    "version": 3
   },
   "file_extension": ".py",
   "mimetype": "text/x-python",
   "name": "python",
   "nbconvert_exporter": "python",
   "pygments_lexer": "ipython3",
   "version": "3.7.0"
  }
 },
 "nbformat": 4,
 "nbformat_minor": 2
}
