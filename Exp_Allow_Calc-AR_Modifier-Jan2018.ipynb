{
 "cells": [
  {
   "cell_type": "code",
   "execution_count": null,
   "metadata": {},
   "outputs": [],
   "source": [
    "# import required packages/libraries\n",
    "import pandas as pd\n",
    "import numpy as np\n",
    "import os\n",
    "\n",
    "# Path to the data directory into which the cleaned data is saved.\n",
    "csv_file_path = os.path.join(\"..\", \"Allowable\",\"Jan-2018.csv\")\n",
    "#csv_file_path_1 = os.path.join(\"..\", \"EOC_Raw_Data\", \"EOC_Data_2018.csv\")\n",
    "if not os.path.exists(csv_file_path):\n",
    "    print(\"{} doesn't exist - perhaps the data cleaning script needs to be run?\".format(csv_file_path))\n",
    "\n",
    "# set option to display all columns in a dataframe \n",
    "pd.set_option('display.width', 500)\n",
    "pd.set_option('display.max_columns', None)"
   ]
  },
  {
   "cell_type": "code",
   "execution_count": null,
   "metadata": {},
   "outputs": [],
   "source": [
    "# read data into dataframe\n",
    "df = pd.read_csv(csv_file_path, quoting=2, parse_dates=True, infer_datetime_format=True, encoding=\"UTF-8\",skiprows=1,low_memory=False,error_bad_lines = False)\n",
    "#df_2018 = pd.read_csv(csv_file_path_1, quoting=2, parse_dates=True, infer_datetime_format=True, encoding=\"UTF-8\",low_memory=False)\n",
    "\n",
    "# display first 5 rows in the dataframe\n",
    "df.head()"
   ]
  },
  {
   "cell_type": "code",
   "execution_count": null,
   "metadata": {},
   "outputs": [],
   "source": [
    "df.rename(columns={\n",
    "'claimid':'Claim_ID',\n",
    "'srvday':'Claim_Service_Day',\n",
    "'rndrng prvdr':'Rendering_Provider',\n",
    "'rndrng prvdrfullnme':'Rendering_Provider_Name',\n",
    "'rndrng prvdrlstnme':'Rendering_Provider_LastName',\n",
    "'svc dprtmnt':'Service_Dept',\n",
    "'appttype':'Appt_Type',\n",
    "'patientid':'Patient_ID',\n",
    "'ins pkg name':'Ins_Pkg_Name',\n",
    "'primary clm ins pkg name':'Primary_Claim_Ins_Pkg_Name',\n",
    "'secondary clm ins pkg name':'Secondary_Claim_Ins_Pkg_Name',\n",
    "'proccode-descr':'Procedure_Codes_with_desc',\n",
    "'proccode-grp procedure clas...':'Proc_Clas',    \n",
    "'icd10claimdiagcode01':'Primary_Diagnosis_10', \n",
    "'icd10claimdiagcode02':'ICD-10_Claim_Diagnosis_Code02',\n",
    "'icd10claimdiagcode03':'ICD-10_Claim_Diagnosis_Code03',\n",
    "'icd10claimdiagcode04':'ICD-10_Claim_Diagnosis_Code04',\n",
    "'icd10claimdiagcode05':'ICD-10_Claim_Diagnosis_Code05',\n",
    "'icd10claimdiagcode06':'ICD-10_Claim_Diagnosis_Code06',\n",
    "'icd10claimdiagcode07':'ICD-10_Claim_Diagnosis_Code07',\n",
    "'icd10claimdiagcode08':'ICD-10_Claim_Diagnosis_Code08',\n",
    "'icd10claimdiagcode09':'ICD-10_Claim_Diagnosis_Code09',\n",
    "'icd10claimdiagcode10':'ICD-10_Claim_Diagnosis_Code010',\n",
    "'icd10claimdiagcode11':'ICD-10_Claim_Diagnosis_Code011',\n",
    "'icd10claimdiagcode12':'ICD-10_Claim_Diagnosis_Code012',\n",
    "'icd9claimdiagcode01':'Primary_Diagnosis_9',\n",
    "'icd9claimdiagcode02':'ICD-9_Claim_Diagnosis_Code02',\n",
    "'icd9claimdiagcode03':'ICD-9_Claim_Diagnosis_Code03',\n",
    "'icd9claimdiagcode04':'ICD-9_Claim_Diagnosis_Code04',\n",
    "'chg units sum':'Sum_Charge_Units',\n",
    "'#chg':'Sum_Charges',\n",
    "'net pmt':'Sum_Net_Payments',\n",
    "'all chgs':'Sum_All_Charges',\n",
    "'contract':'Sum_Contractual_Adj',\n",
    "'allowed':'Sum_Actual_Allowed_Amts',\n",
    "'expected':'Sum_Expected_Allowed_Amts',\n",
    "'allow diff':'Sum_Allowable_Diff',\n",
    "'pmt':'Sum_Payments',\n",
    "'trnsfr type':'Transfer_Type',\n",
    "'adjall':'Sum_All_Adj',\n",
    "'current chg':'Current_Charge'\n",
    "    },\n",
    "    inplace=True)"
   ]
  },
  {
   "cell_type": "code",
   "execution_count": null,
   "metadata": {},
   "outputs": [],
   "source": [
    "df.head()"
   ]
  },
  {
   "cell_type": "code",
   "execution_count": null,
   "metadata": {},
   "outputs": [],
   "source": [
    "df[df['Claim_ID']==1175461]"
   ]
  },
  {
   "cell_type": "code",
   "execution_count": null,
   "metadata": {
    "scrolled": true
   },
   "outputs": [],
   "source": [
    "df.info()"
   ]
  },
  {
   "cell_type": "code",
   "execution_count": null,
   "metadata": {},
   "outputs": [],
   "source": [
    "df.describe()"
   ]
  },
  {
   "cell_type": "code",
   "execution_count": null,
   "metadata": {},
   "outputs": [],
   "source": [
    "df.isnull().sum()"
   ]
  },
  {
   "cell_type": "code",
   "execution_count": null,
   "metadata": {},
   "outputs": [],
   "source": [
    "#(df_2017['Transfer_Type'] == 'trnsfr type').count()"
   ]
  },
  {
   "cell_type": "code",
   "execution_count": null,
   "metadata": {},
   "outputs": [],
   "source": [
    "df['Proc_Code1'], df['Proc_Desc'] = df['Procedure_Codes_with_desc'].str.split(':', 1).str"
   ]
  },
  {
   "cell_type": "code",
   "execution_count": null,
   "metadata": {},
   "outputs": [],
   "source": [
    "df['Proc_Code']= df['Proc_Code1'].str.split(',').str[0]"
   ]
  },
  {
   "cell_type": "code",
   "execution_count": null,
   "metadata": {},
   "outputs": [],
   "source": [
    "df['MODIFIER']= df['Proc_Code1'].str.split(',').str[1]"
   ]
  },
  {
   "cell_type": "code",
   "execution_count": null,
   "metadata": {},
   "outputs": [],
   "source": [
    "df"
   ]
  },
  {
   "cell_type": "code",
   "execution_count": null,
   "metadata": {},
   "outputs": [],
   "source": [
    "df['Transfer_Type'].unique()"
   ]
  },
  {
   "cell_type": "code",
   "execution_count": null,
   "metadata": {},
   "outputs": [],
   "source": [
    "df['Primary_Claim_Ins_Pkg_Name'].unique()"
   ]
  },
  {
   "cell_type": "code",
   "execution_count": null,
   "metadata": {},
   "outputs": [],
   "source": [
    "df_medicare = df[(df['Primary_Claim_Ins_Pkg_Name'].str.contains(\"Medicare\")) | (df['Primary_Claim_Ins_Pkg_Name'].str.contains(\"Medicaid\"))]"
   ]
  },
  {
   "cell_type": "code",
   "execution_count": null,
   "metadata": {},
   "outputs": [],
   "source": [
    "df_medicare[df_medicare['Claim_ID']==1121992]"
   ]
  },
  {
   "cell_type": "code",
   "execution_count": null,
   "metadata": {},
   "outputs": [],
   "source": [
    "df_medicare[\"Primary_Claim_Ins_Pkg_Name\"].unique()"
   ]
  },
  {
   "cell_type": "code",
   "execution_count": null,
   "metadata": {},
   "outputs": [],
   "source": [
    "df_medicare= df_medicare[df_medicare['Transfer_Type']=='Primary']"
   ]
  },
  {
   "cell_type": "code",
   "execution_count": null,
   "metadata": {},
   "outputs": [],
   "source": [
    "df_medicare"
   ]
  },
  {
   "cell_type": "code",
   "execution_count": null,
   "metadata": {},
   "outputs": [],
   "source": [
    "df_medicare[df_medicare['Claim_ID']==1121992]"
   ]
  },
  {
   "cell_type": "code",
   "execution_count": null,
   "metadata": {},
   "outputs": [],
   "source": [
    "df_filtered = df_medicare[(~df_medicare['Primary_Claim_Ins_Pkg_Name'].str.startswith(\"WellCare\")) | (~df_medicare['Primary_Claim_Ins_Pkg_Name'].str.startswith(\"Horizon NJ Health\"))]"
   ]
  },
  {
   "cell_type": "code",
   "execution_count": null,
   "metadata": {},
   "outputs": [],
   "source": [
    "df_filtered = df_filtered[['Claim_ID','MODIFIER','Rendering_Provider_LastName','Primary_Claim_Ins_Pkg_Name','Proc_Code','Sum_Charge_Units']]"
   ]
  },
  {
   "cell_type": "code",
   "execution_count": null,
   "metadata": {},
   "outputs": [],
   "source": [
    "df_filtered "
   ]
  },
  {
   "cell_type": "code",
   "execution_count": null,
   "metadata": {},
   "outputs": [],
   "source": [
    "df_filtered[df_filtered['Claim_ID']==1121992]"
   ]
  },
  {
   "cell_type": "code",
   "execution_count": null,
   "metadata": {},
   "outputs": [],
   "source": [
    "df_filtered['Claim_ID'].nunique()"
   ]
  },
  {
   "cell_type": "code",
   "execution_count": null,
   "metadata": {},
   "outputs": [],
   "source": [
    "df_filtered['Primary_Claim_Ins_Pkg_Name'].unique()"
   ]
  },
  {
   "cell_type": "code",
   "execution_count": null,
   "metadata": {},
   "outputs": [],
   "source": [
    "df_filtered.loc[df_filtered['Claim_ID'] == 1121039]"
   ]
  },
  {
   "cell_type": "code",
   "execution_count": null,
   "metadata": {},
   "outputs": [],
   "source": [
    "#csv_file_path = os.path.join(\"..\", \"Allowable\", \"Physician_List.csv\")\n",
    "#df_Phyisician = pd.read_csv(csv_file_path, quoting=2, parse_dates=True, infer_datetime_format=True, encoding=\"UTF-8\",low_memory=False)"
   ]
  },
  {
   "cell_type": "code",
   "execution_count": null,
   "metadata": {},
   "outputs": [],
   "source": [
    "#df_Phyisician"
   ]
  },
  {
   "cell_type": "code",
   "execution_count": null,
   "metadata": {},
   "outputs": [],
   "source": [
    "#df_filtered_BCBS = df_filtered[df_filtered['Primary_Claim_Ins_Pkg_Name'].str.contains(\"BCBS\")]"
   ]
  },
  {
   "cell_type": "code",
   "execution_count": null,
   "metadata": {},
   "outputs": [],
   "source": [
    "#df_filtered_BCBS"
   ]
  },
  {
   "cell_type": "code",
   "execution_count": null,
   "metadata": {},
   "outputs": [],
   "source": [
    "#df_filtered=df_filtered.apply(lambda x: x.str.title() if(x.dtype == 'object') else x)"
   ]
  },
  {
   "cell_type": "code",
   "execution_count": null,
   "metadata": {},
   "outputs": [],
   "source": [
    "df_filtered['Rendering_Provider_LastName'] = df_filtered['Rendering_Provider_LastName'].str.title()\n",
    "df_filtered['Primary_Claim_Ins_Pkg_Name'] = df_filtered['Primary_Claim_Ins_Pkg_Name'].str.title()"
   ]
  },
  {
   "cell_type": "code",
   "execution_count": null,
   "metadata": {},
   "outputs": [],
   "source": [
    "#list = df_Phyisician['BCBS']"
   ]
  },
  {
   "cell_type": "code",
   "execution_count": null,
   "metadata": {},
   "outputs": [],
   "source": [
    "#def set_loc(row):\n",
    "    #if row[\"Rendering_Provider_LastName\"] in ({'Cohen','Cummins','Feiner','Hahn','Harris','Ho','Kim','Madreperla','Noorily','Seery','Voleti','Mughal','Chinskey','Fine','Friedman','Green','Keyser','Krawitz','Mantopoulos','Prenner','Roth','Shah','Wheatley','Yarian'}):\n",
    "       # return \"North\"\n",
    "   # else:\n",
    "        #return \"South\"\n",
    "\n",
    "#df_filtered = df_filtered.assign(Location=df.apply(set_loc, axis=1))"
   ]
  },
  {
   "cell_type": "code",
   "execution_count": null,
   "metadata": {},
   "outputs": [],
   "source": [
    "north_physician =['Cohen','Cummins','Feiner','Hahn','Harris','Ho','Kim','Madreperla','Noorily','Seery','Voleti']\n",
    "df_filtered['Location'] = df_filtered['Rendering_Provider_LastName'].apply(lambda x: 'North' if any(s in x for s in north_physician) else 'South')"
   ]
  },
  {
   "cell_type": "code",
   "execution_count": null,
   "metadata": {},
   "outputs": [],
   "source": [
    "df_filtered['Location'] == 'South'"
   ]
  },
  {
   "cell_type": "code",
   "execution_count": null,
   "metadata": {},
   "outputs": [],
   "source": [
    "#north_physician =['Cohen','Cummins','Feiner','Hahn','Harris','Ho','Kim','Madreperla','Noorily','Seery','Voleti','Mughal','Chinskey','Fine','Friedman','Green','Keyser','Krawitz','Mantopoulos','Prenner','Roth','Shah','Wheatley','Yarian']\n",
    "\n",
    "#def matcher(x):\n",
    "    #for i in north_physician:\n",
    "        #return \"North\"\n",
    "    #else:\n",
    "        #return \"South\"\n",
    "\n",
    "#df_filtered['Location'] = df_filtered['Rendering_Provider_LastName'].apply(matcher)"
   ]
  },
  {
   "cell_type": "code",
   "execution_count": null,
   "metadata": {},
   "outputs": [],
   "source": [
    "#def set_type(row):\n",
    "    #if row[\"Rendering_Provider_LastName\"] in {'Cohen','Cummins','Feiner','Hahn','Harris','Ho','Kim','Madreperla','Noorily','Seery','Voleti','Mughal','Chinskey','Fine','Friedman','Green','Keyser','Krawitz','Mantopoulos','Prenner','Roth','Shah','Wheatley','Yarian'}:\n",
    "        #return \"PAR\"\n",
    "    #else:\n",
    "        #return \"NON-PAR\"\n",
    "\n",
    "#df_filtered_BCBS = df_filtered_BCBS.assign(Type=df_filtered_BCBS.apply(set_type, axis=1))\n",
    "\n",
    "        "
   ]
  },
  {
   "cell_type": "code",
   "execution_count": null,
   "metadata": {},
   "outputs": [],
   "source": [
    "df_filtered['Location'] == 'South'"
   ]
  },
  {
   "cell_type": "code",
   "execution_count": null,
   "metadata": {},
   "outputs": [],
   "source": [
    "# Path to the data directory into which the cleaned data is saved.\n",
    "csv_file_path = os.path.join(\"..\", \"Allowable\", \"Medicare_South_Q4_2017.csv\")\n",
    "#csv_file_path_1 = os.path.join(\"..\", \"EOC_Raw_Data\", \"EOC_Data_2018.csv\")\n",
    "if not os.path.exists(csv_file_path):\n",
    "    print(\"{} doesn't exist - perhaps the data cleaning script needs to be run?\".format(csv_file_path))\n",
    "# read data into dataframe\n",
    "df_fee_schedules_south = pd.read_csv(csv_file_path, quoting=2, parse_dates=True, infer_datetime_format=True, encoding=\"UTF-8\",low_memory=False)"
   ]
  },
  {
   "cell_type": "code",
   "execution_count": null,
   "metadata": {},
   "outputs": [],
   "source": [
    "df_fee_schedules_south['Location'] = 'South'"
   ]
  },
  {
   "cell_type": "code",
   "execution_count": null,
   "metadata": {},
   "outputs": [],
   "source": [
    "df_fee_schedules_south.dtypes"
   ]
  },
  {
   "cell_type": "code",
   "execution_count": null,
   "metadata": {},
   "outputs": [],
   "source": [
    "df_fee_schedules_south['MODIFIER'].astype(str)"
   ]
  },
  {
   "cell_type": "code",
   "execution_count": null,
   "metadata": {},
   "outputs": [],
   "source": [
    "# Path to the data directory into which the cleaned data is saved.\n",
    "csv_file_path = os.path.join(\"..\", \"Allowable\", \"Medicare_North_Q4_2017.csv\")\n",
    "#csv_file_path_1 = os.path.join(\"..\", \"EOC_Raw_Data\", \"EOC_Data_2018.csv\")\n",
    "if not os.path.exists(csv_file_path):\n",
    "    print(\"{} doesn't exist - perhaps the data cleaning script needs to be run?\".format(csv_file_path))\n",
    "# read data into dataframe\n",
    "df_fee_schedules_north = pd.read_csv(csv_file_path, quoting=2, parse_dates=True, infer_datetime_format=True, encoding=\"UTF-8\",low_memory=False)"
   ]
  },
  {
   "cell_type": "code",
   "execution_count": null,
   "metadata": {},
   "outputs": [],
   "source": [
    "df_fee_schedules_north['Location'] = 'North'"
   ]
  },
  {
   "cell_type": "code",
   "execution_count": null,
   "metadata": {},
   "outputs": [],
   "source": [
    "df_fee_schedules_north.head()"
   ]
  },
  {
   "cell_type": "code",
   "execution_count": null,
   "metadata": {},
   "outputs": [],
   "source": [
    "df_fee_schedules_north['PAR FEE'] = df_fee_schedules_north['PAR FEE'].str.replace(' ', '')"
   ]
  },
  {
   "cell_type": "code",
   "execution_count": null,
   "metadata": {},
   "outputs": [],
   "source": [
    "df_fee_schedules_north['PAR FEE'] = df_fee_schedules_north['PAR FEE'].str.replace('$', '')"
   ]
  },
  {
   "cell_type": "code",
   "execution_count": null,
   "metadata": {},
   "outputs": [],
   "source": [
    "df_fee_schedules_north['PAR FEE'] = df_fee_schedules_north['PAR FEE'].str.replace(',', '')"
   ]
  },
  {
   "cell_type": "code",
   "execution_count": null,
   "metadata": {},
   "outputs": [],
   "source": [
    "df_fee_schedules_north.dtypes"
   ]
  },
  {
   "cell_type": "code",
   "execution_count": null,
   "metadata": {},
   "outputs": [],
   "source": [
    "df_fee_schedules_north['PAR FEE'].astype(float)"
   ]
  },
  {
   "cell_type": "code",
   "execution_count": null,
   "metadata": {},
   "outputs": [],
   "source": [
    "#df_fee_schedules_south=df_fee_schedules_south.drop_duplicates(subset=['PROC CODE'], keep='first')"
   ]
  },
  {
   "cell_type": "code",
   "execution_count": null,
   "metadata": {},
   "outputs": [],
   "source": [
    "#df_fee_schedules_north=df_fee_schedules_north.drop_duplicates(subset=['PROC CODE'], keep='first')"
   ]
  },
  {
   "cell_type": "code",
   "execution_count": null,
   "metadata": {},
   "outputs": [],
   "source": [
    "df_fee_schedules = df_fee_schedules_south.append(df_fee_schedules_north, ignore_index=True)"
   ]
  },
  {
   "cell_type": "code",
   "execution_count": null,
   "metadata": {},
   "outputs": [],
   "source": [
    "df_fee_schedules=df_fee_schedules.rename(columns = {'PROC CODE':'Proc_Code','PAR FEE':'PAR_FEE','FAC IND':'FAC_IND'})"
   ]
  },
  {
   "cell_type": "code",
   "execution_count": null,
   "metadata": {},
   "outputs": [],
   "source": [
    "df_fee_schedules"
   ]
  },
  {
   "cell_type": "code",
   "execution_count": null,
   "metadata": {},
   "outputs": [],
   "source": [
    "df_fee_schedules.to_csv(\"../Allowable/fee_sch1.csv\",index=False)"
   ]
  },
  {
   "cell_type": "code",
   "execution_count": null,
   "metadata": {},
   "outputs": [],
   "source": [
    "df_fee_schedules= df_fee_schedules[df_fee_schedules[\"FAC_IND\"] != '#']"
   ]
  },
  {
   "cell_type": "code",
   "execution_count": null,
   "metadata": {},
   "outputs": [],
   "source": [
    "df_fee_schedules"
   ]
  },
  {
   "cell_type": "code",
   "execution_count": null,
   "metadata": {},
   "outputs": [],
   "source": [
    "#df_fee_schedules['MODIFIER'].apply(lambda x: x.str.title())"
   ]
  },
  {
   "cell_type": "code",
   "execution_count": null,
   "metadata": {},
   "outputs": [],
   "source": [
    "df_fee_schedules"
   ]
  },
  {
   "cell_type": "code",
   "execution_count": null,
   "metadata": {},
   "outputs": [],
   "source": [
    "df_fee_schedules.isnull().sum()"
   ]
  },
  {
   "cell_type": "code",
   "execution_count": null,
   "metadata": {},
   "outputs": [],
   "source": [
    "df_fee_schedules.dtypes"
   ]
  },
  {
   "cell_type": "code",
   "execution_count": null,
   "metadata": {},
   "outputs": [],
   "source": [
    "df_fee_schedules.columns"
   ]
  },
  {
   "cell_type": "code",
   "execution_count": null,
   "metadata": {},
   "outputs": [],
   "source": [
    "df_fee_schedules =df_fee_schedules [['FAC_IND', 'IND', 'Proc_Code','MODIFIER', 'PAR_FEE', 'NON PAR FEE', 'LC', 'EHR LC**', 'PQRS LC***', 'LC****', 'Location']]"
   ]
  },
  {
   "cell_type": "code",
   "execution_count": null,
   "metadata": {},
   "outputs": [],
   "source": [
    "df_fee_schedules"
   ]
  },
  {
   "cell_type": "code",
   "execution_count": null,
   "metadata": {},
   "outputs": [],
   "source": [
    "df_fee_schedules.to_csv(\"../Allowable/fee-sch.csv\",index=False)"
   ]
  },
  {
   "cell_type": "code",
   "execution_count": null,
   "metadata": {},
   "outputs": [],
   "source": [
    "df_fee_schedules = df_fee_schedules[df_fee_schedules.PAR_FEE.notnull()]"
   ]
  },
  {
   "cell_type": "code",
   "execution_count": null,
   "metadata": {},
   "outputs": [],
   "source": [
    "df_fee_schedules"
   ]
  },
  {
   "cell_type": "code",
   "execution_count": null,
   "metadata": {},
   "outputs": [],
   "source": [
    "df_fee_schedules1 = df_fee_schedules[df_fee_schedules.MODIFIER.notnull()]"
   ]
  },
  {
   "cell_type": "code",
   "execution_count": null,
   "metadata": {},
   "outputs": [],
   "source": [
    "df_fee_schedules1"
   ]
  },
  {
   "cell_type": "code",
   "execution_count": null,
   "metadata": {},
   "outputs": [],
   "source": [
    "df_fee_schedules1['Location']=='South'"
   ]
  },
  {
   "cell_type": "code",
   "execution_count": null,
   "metadata": {},
   "outputs": [],
   "source": [
    "#df_fee_schedules2.to_csv(\"../Allowable/df_fee_schedules2.csv\",index=False)"
   ]
  },
  {
   "cell_type": "code",
   "execution_count": null,
   "metadata": {},
   "outputs": [],
   "source": [
    "df_fee_schedules2= df_fee_schedules[df_fee_schedules['MODIFIER'].isnull()]"
   ]
  },
  {
   "cell_type": "code",
   "execution_count": null,
   "metadata": {},
   "outputs": [],
   "source": [
    "df_fee_schedules2"
   ]
  },
  {
   "cell_type": "code",
   "execution_count": null,
   "metadata": {},
   "outputs": [],
   "source": [
    "df_fee_schedules2[['Proc_Code']].duplicated().any()"
   ]
  },
  {
   "cell_type": "code",
   "execution_count": null,
   "metadata": {},
   "outputs": [],
   "source": [
    "df_filtered.dtypes"
   ]
  },
  {
   "cell_type": "code",
   "execution_count": null,
   "metadata": {},
   "outputs": [],
   "source": [
    "#df_filtered.fillna('Other')"
   ]
  },
  {
   "cell_type": "code",
   "execution_count": null,
   "metadata": {},
   "outputs": [],
   "source": [
    "df_filtered['MODIFIER'].nunique()"
   ]
  },
  {
   "cell_type": "code",
   "execution_count": null,
   "metadata": {},
   "outputs": [],
   "source": [
    "df_filtered= df_filtered.drop_duplicates(['Claim_ID','Proc_Code','MODIFIER','Location','Rendering_Provider_LastName','Primary_Claim_Ins_Pkg_Name','Sum_Charge_Units'])"
   ]
  },
  {
   "cell_type": "code",
   "execution_count": null,
   "metadata": {},
   "outputs": [],
   "source": [
    "df_filtered[df_filtered['Claim_ID']==1157425]"
   ]
  },
  {
   "cell_type": "code",
   "execution_count": null,
   "metadata": {},
   "outputs": [],
   "source": [
    "df_filtered_New= (df_filtered.groupby(['Claim_ID','Location','Proc_Code','MODIFIER','Primary_Claim_Ins_Pkg_Name'])\n",
    "    .agg({'Sum_Charge_Units':'sum',\n",
    "          })\n",
    "    .reset_index()\n",
    "                 )"
   ]
  },
  {
   "cell_type": "code",
   "execution_count": null,
   "metadata": {},
   "outputs": [],
   "source": [
    "df_filtered_New[df_filtered_New['Claim_ID'] == 1157425]"
   ]
  },
  {
   "cell_type": "code",
   "execution_count": null,
   "metadata": {},
   "outputs": [],
   "source": [
    "df_filtered_New[df_filtered_New['Sum_Charge_Units'] == 20.0]"
   ]
  },
  {
   "cell_type": "code",
   "execution_count": null,
   "metadata": {},
   "outputs": [],
   "source": [
    "df_filtered_New"
   ]
  },
  {
   "cell_type": "code",
   "execution_count": null,
   "metadata": {},
   "outputs": [],
   "source": [
    "df_filtered_New[df_filtered_New['Claim_ID']==1120844]"
   ]
  },
  {
   "cell_type": "code",
   "execution_count": null,
   "metadata": {},
   "outputs": [],
   "source": [
    "df_filtered_New['MODIFIER'].nunique()"
   ]
  },
  {
   "cell_type": "code",
   "execution_count": null,
   "metadata": {},
   "outputs": [],
   "source": [
    "df_filtered_New.isnull().sum()"
   ]
  },
  {
   "cell_type": "code",
   "execution_count": null,
   "metadata": {},
   "outputs": [],
   "source": [
    "df_filtered_New.to_csv(\"../Allowable/group.csv\",index=False)"
   ]
  },
  {
   "cell_type": "code",
   "execution_count": null,
   "metadata": {},
   "outputs": [],
   "source": [
    "mylist_missing8 = df_filtered[~df_filtered['Proc_Code'].isin(df_filtered_New['Proc_Code'])]\n",
    "print(mylist_missing8)"
   ]
  },
  {
   "cell_type": "code",
   "execution_count": null,
   "metadata": {},
   "outputs": [],
   "source": [
    "df_filtered_New['Proc_Code'].unique()"
   ]
  },
  {
   "cell_type": "code",
   "execution_count": null,
   "metadata": {},
   "outputs": [],
   "source": [
    "df_filtered_New.dtypes"
   ]
  },
  {
   "cell_type": "code",
   "execution_count": null,
   "metadata": {},
   "outputs": [],
   "source": [
    "df_fee_schedules.dtypes"
   ]
  },
  {
   "cell_type": "code",
   "execution_count": null,
   "metadata": {},
   "outputs": [],
   "source": [
    "df_fee_schedules1.dtypes"
   ]
  },
  {
   "cell_type": "code",
   "execution_count": null,
   "metadata": {},
   "outputs": [],
   "source": [
    "df_fee_schedules2.dtypes"
   ]
  },
  {
   "cell_type": "code",
   "execution_count": null,
   "metadata": {},
   "outputs": [],
   "source": [
    "df_filtered_New[['Proc_Code','Location']].duplicated().any()"
   ]
  },
  {
   "cell_type": "code",
   "execution_count": null,
   "metadata": {},
   "outputs": [],
   "source": [
    "df_filtered_New.to_csv(\"../Allowable/new.csv\",index=False)"
   ]
  },
  {
   "cell_type": "code",
   "execution_count": null,
   "metadata": {},
   "outputs": [],
   "source": [
    "df_filtered_New.isnull().sum()"
   ]
  },
  {
   "cell_type": "code",
   "execution_count": null,
   "metadata": {},
   "outputs": [],
   "source": [
    "df_fee_schedules.isnull().sum()"
   ]
  },
  {
   "cell_type": "code",
   "execution_count": null,
   "metadata": {},
   "outputs": [],
   "source": [
    "df_filtered_New[df_filtered_New['Proc_Code'].isin(df_fee_schedules['Proc_Code'])]"
   ]
  },
  {
   "cell_type": "code",
   "execution_count": null,
   "metadata": {},
   "outputs": [],
   "source": [
    "df_filtered_mod1 = df_filtered_New.merge(df_fee_schedules1,on=['Proc_Code','MODIFIER','Location'])"
   ]
  },
  {
   "cell_type": "code",
   "execution_count": null,
   "metadata": {},
   "outputs": [],
   "source": [
    "df_filtered_mod1"
   ]
  },
  {
   "cell_type": "code",
   "execution_count": null,
   "metadata": {},
   "outputs": [],
   "source": [
    "df_filtered_mod2 = df_filtered_New.merge(df_fee_schedules2,on=['Proc_Code','Location'])"
   ]
  },
  {
   "cell_type": "code",
   "execution_count": null,
   "metadata": {},
   "outputs": [],
   "source": [
    "df_filtered_mod2"
   ]
  },
  {
   "cell_type": "code",
   "execution_count": null,
   "metadata": {},
   "outputs": [],
   "source": [
    "df_final_mod = df_filtered_mod1.append(df_filtered_mod2,sort=True)"
   ]
  },
  {
   "cell_type": "code",
   "execution_count": null,
   "metadata": {},
   "outputs": [],
   "source": [
    "df_final_mod.columns"
   ]
  },
  {
   "cell_type": "code",
   "execution_count": null,
   "metadata": {},
   "outputs": [],
   "source": [
    "df_final_mod = df_final_mod[['Claim_ID', 'Proc_Code','Location', 'MODIFIER', 'MODIFIER_x','PAR_FEE','NON PAR FEE', 'Primary_Claim_Ins_Pkg_Name', 'Sum_Charge_Units']]"
   ]
  },
  {
   "cell_type": "code",
   "execution_count": null,
   "metadata": {},
   "outputs": [],
   "source": [
    "df_final_mod"
   ]
  },
  {
   "cell_type": "code",
   "execution_count": null,
   "metadata": {},
   "outputs": [],
   "source": [
    "df_final_mod['MODIFIER'].unique()"
   ]
  },
  {
   "cell_type": "code",
   "execution_count": null,
   "metadata": {},
   "outputs": [],
   "source": [
    "df_final_mod['MODIFIER_x'].unique()"
   ]
  },
  {
   "cell_type": "code",
   "execution_count": null,
   "metadata": {},
   "outputs": [],
   "source": [
    "df_final_mod.isnull().sum()"
   ]
  },
  {
   "cell_type": "code",
   "execution_count": null,
   "metadata": {},
   "outputs": [],
   "source": [
    "df_final_mod.MODIFIER_x  = df_final_mod.MODIFIER_x.fillna('')"
   ]
  },
  {
   "cell_type": "code",
   "execution_count": null,
   "metadata": {},
   "outputs": [],
   "source": [
    "df_final_mod.MODIFIER  = df_final_mod.MODIFIER.fillna('')"
   ]
  },
  {
   "cell_type": "code",
   "execution_count": null,
   "metadata": {},
   "outputs": [],
   "source": [
    "df_final_mod"
   ]
  },
  {
   "cell_type": "code",
   "execution_count": null,
   "metadata": {},
   "outputs": [],
   "source": [
    "df_final_mod['MODIFIER']=df_final_mod.apply(lambda x:'%s%s' % (x['MODIFIER'],x['MODIFIER_x']),axis=1)"
   ]
  },
  {
   "cell_type": "code",
   "execution_count": null,
   "metadata": {},
   "outputs": [],
   "source": [
    "df_final_mod = df_final_mod[['Claim_ID', 'Proc_Code','Location', 'MODIFIER', 'PAR_FEE','NON PAR FEE', 'Primary_Claim_Ins_Pkg_Name', 'Sum_Charge_Units']]"
   ]
  },
  {
   "cell_type": "code",
   "execution_count": null,
   "metadata": {},
   "outputs": [],
   "source": [
    "df_final_mod"
   ]
  },
  {
   "cell_type": "code",
   "execution_count": null,
   "metadata": {},
   "outputs": [],
   "source": [
    "df_final_mod[df_final_mod['Claim_ID']==1120844]"
   ]
  },
  {
   "cell_type": "code",
   "execution_count": null,
   "metadata": {},
   "outputs": [],
   "source": [
    "df_final_mod= df_final_mod.drop_duplicates(['Claim_ID','Proc_Code','Location','MODIFIER'])[['Claim_ID','Proc_Code','Location','MODIFIER','PAR_FEE','NON PAR FEE','Primary_Claim_Ins_Pkg_Name','Sum_Charge_Units']]"
   ]
  },
  {
   "cell_type": "code",
   "execution_count": null,
   "metadata": {},
   "outputs": [],
   "source": [
    "df_final_mod[df_final_mod['Sum_Charge_Units']==20.0]"
   ]
  },
  {
   "cell_type": "code",
   "execution_count": null,
   "metadata": {},
   "outputs": [],
   "source": [
    "df_final_mod_New= (df_final_mod.groupby(['Claim_ID','Location','Proc_Code','MODIFIER','PAR_FEE','Primary_Claim_Ins_Pkg_Name'])\n",
    "    .agg({'Sum_Charge_Units':'sum',\n",
    "          })\n",
    "    .reset_index()\n",
    "                 )"
   ]
  },
  {
   "cell_type": "code",
   "execution_count": null,
   "metadata": {},
   "outputs": [],
   "source": [
    "df_final_mod_New[df_final_mod_New['Claim_ID']==1120844]"
   ]
  },
  {
   "cell_type": "code",
   "execution_count": null,
   "metadata": {},
   "outputs": [],
   "source": [
    "df_final_mod_New"
   ]
  },
  {
   "cell_type": "code",
   "execution_count": null,
   "metadata": {},
   "outputs": [],
   "source": [
    "df_final_mod_New['Primary_Claim_Ins_Pkg_Name'].unique()"
   ]
  },
  {
   "cell_type": "code",
   "execution_count": null,
   "metadata": {},
   "outputs": [],
   "source": [
    "df_final_mod_New.to_csv(\"../Allowable/both.csv\",index=False)"
   ]
  },
  {
   "cell_type": "code",
   "execution_count": null,
   "metadata": {},
   "outputs": [],
   "source": [
    "# Path to the data directory into which the cleaned data is saved.\n",
    "csv_file_path = os.path.join(\"..\", \"Allowable\", \"Updated_Modifier_Rates.csv\")\n",
    "#csv_file_path_1 = os.path.join(\"..\", \"EOC_Raw_Data\", \"EOC_Data_2018.csv\")\n",
    "if not os.path.exists(csv_file_path):\n",
    "    print(\"{} doesn't exist - perhaps the data cleaning script needs to be run?\".format(csv_file_path))\n",
    "# read data into dataframe\n",
    "df_modifier_rates =  pd.read_csv(csv_file_path, quoting=2, parse_dates=True, infer_datetime_format=True, encoding=\"UTF-8\",low_memory=False)"
   ]
  },
  {
   "cell_type": "code",
   "execution_count": null,
   "metadata": {},
   "outputs": [],
   "source": [
    "df_modifier_rates"
   ]
  },
  {
   "cell_type": "code",
   "execution_count": null,
   "metadata": {},
   "outputs": [],
   "source": [
    "df_modifier_rates.dtypes"
   ]
  },
  {
   "cell_type": "code",
   "execution_count": null,
   "metadata": {},
   "outputs": [],
   "source": [
    "df_final_mod_New.dtypes"
   ]
  },
  {
   "cell_type": "code",
   "execution_count": null,
   "metadata": {},
   "outputs": [],
   "source": [
    "df_final_mod_New = df_final_mod_New.merge(df_modifier_rates,on=['MODIFIER'])"
   ]
  },
  {
   "cell_type": "code",
   "execution_count": null,
   "metadata": {},
   "outputs": [],
   "source": [
    "df_final_mod_New"
   ]
  },
  {
   "cell_type": "code",
   "execution_count": null,
   "metadata": {},
   "outputs": [],
   "source": [
    "# Path to the data directory into which the cleaned data is saved.\n",
    "csv_file_path = os.path.join(\"..\", \"Allowable\", \"Updated_Contracts_Rates.csv\")\n",
    "#csv_file_path_1 = os.path.join(\"..\", \"EOC_Raw_Data\", \"EOC_Data_2018.csv\")\n",
    "if not os.path.exists(csv_file_path):\n",
    "    print(\"{} doesn't exist - perhaps the data cleaning script needs to be run?\".format(csv_file_path))\n",
    "# read data into dataframe\n",
    "df_contracts =  pd.read_csv(csv_file_path, quoting=2, parse_dates=True, infer_datetime_format=True, encoding=\"UTF-8\",low_memory=False)"
   ]
  },
  {
   "cell_type": "code",
   "execution_count": null,
   "metadata": {},
   "outputs": [],
   "source": [
    "df_contracts"
   ]
  },
  {
   "cell_type": "code",
   "execution_count": null,
   "metadata": {},
   "outputs": [],
   "source": [
    "df_contracts.to_csv(\"../Allowable/Contracts.csv\",index=False)"
   ]
  },
  {
   "cell_type": "code",
   "execution_count": null,
   "metadata": {},
   "outputs": [],
   "source": [
    "df_contracts.dtypes"
   ]
  },
  {
   "cell_type": "code",
   "execution_count": null,
   "metadata": {},
   "outputs": [],
   "source": [
    "df_final = df_final_mod_New.merge(df_contracts,left_on='Primary_Claim_Ins_Pkg_Name',right_on='Primary_Ins_Package_Name')"
   ]
  },
  {
   "cell_type": "code",
   "execution_count": null,
   "metadata": {},
   "outputs": [],
   "source": [
    "df_final"
   ]
  },
  {
   "cell_type": "code",
   "execution_count": null,
   "metadata": {},
   "outputs": [],
   "source": [
    "df_final=df_final[df_final['Rate_2018'].notnull()]"
   ]
  },
  {
   "cell_type": "code",
   "execution_count": null,
   "metadata": {},
   "outputs": [],
   "source": [
    "df_final['PAR_FEE']=df_final['PAR_FEE'].astype(float)"
   ]
  },
  {
   "cell_type": "code",
   "execution_count": null,
   "metadata": {},
   "outputs": [],
   "source": [
    "def calc_par_fee(column): \n",
    "    if column['Rate_2018'] != 'NaN' :\n",
    "        return (round((column['PAR_FEE']),2) * round((column['Rate_2018']/100),0))\n",
    "    else :\n",
    "        return 0"
   ]
  },
  {
   "cell_type": "code",
   "execution_count": null,
   "metadata": {},
   "outputs": [],
   "source": [
    "df_final"
   ]
  },
  {
   "cell_type": "code",
   "execution_count": null,
   "metadata": {},
   "outputs": [],
   "source": [
    "df_final.dtypes"
   ]
  },
  {
   "cell_type": "code",
   "execution_count": null,
   "metadata": {},
   "outputs": [],
   "source": [
    "df_final['Calc_Contract_Value'] = df_final.apply(calc_par_fee, axis=1) "
   ]
  },
  {
   "cell_type": "code",
   "execution_count": null,
   "metadata": {},
   "outputs": [],
   "source": [
    "df_final"
   ]
  },
  {
   "cell_type": "code",
   "execution_count": null,
   "metadata": {},
   "outputs": [],
   "source": [
    "df_final.dtypes"
   ]
  },
  {
   "cell_type": "code",
   "execution_count": null,
   "metadata": {},
   "outputs": [],
   "source": [
    "df_final['Sum_Charge_Units'].astype(float)"
   ]
  },
  {
   "cell_type": "code",
   "execution_count": null,
   "metadata": {},
   "outputs": [],
   "source": [
    "df_final['Calc_Contract_Value'].astype(float)"
   ]
  },
  {
   "cell_type": "code",
   "execution_count": null,
   "metadata": {},
   "outputs": [],
   "source": [
    "type('Calc_Contract_Value')\n"
   ]
  },
  {
   "cell_type": "code",
   "execution_count": null,
   "metadata": {},
   "outputs": [],
   "source": [
    "type('Sum_Charge_Units')"
   ]
  },
  {
   "cell_type": "code",
   "execution_count": null,
   "metadata": {},
   "outputs": [],
   "source": [
    "df_final.loc[df_final['Claim_ID'] == 1123244, 'Sum_Charge_Units'] = 5"
   ]
  },
  {
   "cell_type": "code",
   "execution_count": null,
   "metadata": {},
   "outputs": [],
   "source": [
    "def calc_primary_pmts(column): \n",
    "    if column['Calc_Contract_Value'] != 0 :\n",
    "        return ((float(column['Calc_Contract_Value'])) * (float(column['Sum_Charge_Units'])) * (float(column['Modifier_Rate']))/100)\n",
    "    else :\n",
    "        return 0"
   ]
  },
  {
   "cell_type": "code",
   "execution_count": null,
   "metadata": {},
   "outputs": [],
   "source": [
    "df_final['Calc_Primary_Payments'] = df_final.apply(calc_primary_pmts, axis=1) "
   ]
  },
  {
   "cell_type": "code",
   "execution_count": null,
   "metadata": {},
   "outputs": [],
   "source": [
    "df_final"
   ]
  },
  {
   "cell_type": "code",
   "execution_count": null,
   "metadata": {},
   "outputs": [],
   "source": [
    "df.columns"
   ]
  },
  {
   "cell_type": "code",
   "execution_count": null,
   "metadata": {},
   "outputs": [],
   "source": [
    "df = df_medicare[['Claim_ID','Proc_Code','Transfer_Type','Sum_Actual_Allowed_Amts','Sum_All_Charges','Sum_All_Adj','Sum_Net_Payments','Sum_Expected_Allowed_Amts']]"
   ]
  },
  {
   "cell_type": "code",
   "execution_count": null,
   "metadata": {},
   "outputs": [],
   "source": [
    "df.rename(columns = {'Sum_Actual_Allowed_Amts':'Athena_Actual_Allowed_Amts','Sum_All_Charges':'Athena_All_Charges',\n",
    "                    'Sum_All_Adj':'Athena_All_Adj','Sum_Net_Payments':'Athena_Net_Payments','Sum_Expected_Allowed_Amts':'Athena_Expected_Allowed_Amts'}, inplace = True)"
   ]
  },
  {
   "cell_type": "code",
   "execution_count": null,
   "metadata": {},
   "outputs": [],
   "source": [
    "#df = (df.groupby(['Claim_ID','Proc_Code','Transfer_Type'])\n",
    "    #.agg({'Athena_Actual_Allowed_Amts':'sum','Athena_All_Charges':'sum', 'Athena_All_Adj':'sum','Athena_Net_Payments':'sum',\n",
    "          #'Athena_Expected_Allowed_Amts':'sum'})\n",
    "   # .reset_index()\n",
    "     #            )"
   ]
  },
  {
   "cell_type": "code",
   "execution_count": null,
   "metadata": {},
   "outputs": [],
   "source": [
    "df[df['Claim_ID'] == 1121992]"
   ]
  },
  {
   "cell_type": "code",
   "execution_count": null,
   "metadata": {},
   "outputs": [],
   "source": [
    "df_Calc_AR =  df_final.merge(df, how='left', on=['Claim_ID','Proc_Code'])"
   ]
  },
  {
   "cell_type": "code",
   "execution_count": null,
   "metadata": {},
   "outputs": [],
   "source": [
    "df_Calc_AR "
   ]
  },
  {
   "cell_type": "code",
   "execution_count": null,
   "metadata": {},
   "outputs": [],
   "source": [
    "df_Calc_AR[df_Calc_AR['Claim_ID'] == 1121992]"
   ]
  },
  {
   "cell_type": "code",
   "execution_count": null,
   "metadata": {},
   "outputs": [],
   "source": [
    "df_Calc_AR[df_Calc_AR['Claim_ID'] == 1123244]"
   ]
  },
  {
   "cell_type": "code",
   "execution_count": null,
   "metadata": {},
   "outputs": [],
   "source": [
    "df_Calc_AR  = df_Calc_AR .drop(df_Calc_AR[df_Calc_AR.Athena_All_Charges == 0].index)\n",
    "df_Calc_AR  = df_Calc_AR .drop(df_Calc_AR[df_Calc_AR.Athena_Net_Payments == 0].index)"
   ]
  },
  {
   "cell_type": "code",
   "execution_count": null,
   "metadata": {},
   "outputs": [],
   "source": [
    "df_Calc_AR.loc[df_Calc_AR ['Claim_ID'] == 1121992, 'Athena_Net_Payments'] = 1515.28\n"
   ]
  },
  {
   "cell_type": "code",
   "execution_count": null,
   "metadata": {},
   "outputs": [],
   "source": [
    "type('Athena_Net_Payments')"
   ]
  },
  {
   "cell_type": "code",
   "execution_count": null,
   "metadata": {},
   "outputs": [],
   "source": [
    "df_Calc_AR['Athena_Primary_Pmts'] = -df_Calc_AR['Athena_Net_Payments']"
   ]
  },
  {
   "cell_type": "code",
   "execution_count": null,
   "metadata": {},
   "outputs": [],
   "source": [
    "def diff_primary_pmts(column): \n",
    "        return (column['Calc_Primary_Payments'] - (column['Athena_Primary_Pmts']))"
   ]
  },
  {
   "cell_type": "code",
   "execution_count": null,
   "metadata": {},
   "outputs": [],
   "source": [
    "df_Calc_AR['Diff_Primary_Payments'] = df_Calc_AR.apply(diff_primary_pmts, axis=1) "
   ]
  },
  {
   "cell_type": "code",
   "execution_count": null,
   "metadata": {},
   "outputs": [],
   "source": [
    "def calc_actual_allow(column): \n",
    "        return (column['Athena_All_Charges'] - (-column['Athena_All_Adj']))"
   ]
  },
  {
   "cell_type": "code",
   "execution_count": null,
   "metadata": {},
   "outputs": [],
   "source": [
    "df_Calc_AR['Calc_Actual_Allowed_Amts'] = df_Calc_AR.apply(calc_actual_allow, axis=1)"
   ]
  },
  {
   "cell_type": "code",
   "execution_count": null,
   "metadata": {},
   "outputs": [],
   "source": [
    "df_Calc_AR['Calc_Actual_Allowed_Amts'].astype(float)"
   ]
  },
  {
   "cell_type": "code",
   "execution_count": null,
   "metadata": {},
   "outputs": [],
   "source": [
    "df_Calc_AR['Athena_Actual_Allowed_Amts'].astype(float)"
   ]
  },
  {
   "cell_type": "code",
   "execution_count": null,
   "metadata": {},
   "outputs": [],
   "source": [
    "df_Calc_AR['Diff_Actual_Allowed_Amts'] = df_Calc_AR['Calc_Actual_Allowed_Amts']- df_Calc_AR['Athena_Actual_Allowed_Amts']"
   ]
  },
  {
   "cell_type": "code",
   "execution_count": null,
   "metadata": {},
   "outputs": [],
   "source": [
    "def calc_sec_patient_pay(column): \n",
    "        return (column['Calc_Actual_Allowed_Amts'] - (column['Calc_Primary_Payments']))"
   ]
  },
  {
   "cell_type": "code",
   "execution_count": null,
   "metadata": {},
   "outputs": [],
   "source": [
    "df_Calc_AR['Calc_Sec_Patient_Pay'] = df_Calc_AR.apply(calc_sec_patient_pay, axis=1)"
   ]
  },
  {
   "cell_type": "code",
   "execution_count": null,
   "metadata": {},
   "outputs": [],
   "source": [
    "def athena_sec_patient_pay(column): \n",
    "        return (column['Athena_Actual_Allowed_Amts'] - (column['Athena_Primary_Pmts']))"
   ]
  },
  {
   "cell_type": "code",
   "execution_count": null,
   "metadata": {},
   "outputs": [],
   "source": [
    "df_Calc_AR['Athena_Sec_Patient_Pay'] = df_Calc_AR.apply(athena_sec_patient_pay, axis=1)"
   ]
  },
  {
   "cell_type": "code",
   "execution_count": null,
   "metadata": {},
   "outputs": [],
   "source": [
    "def diff_sec_patient_pay(column): \n",
    "        return (column['Calc_Sec_Patient_Pay'] - (column['Athena_Sec_Patient_Pay']))"
   ]
  },
  {
   "cell_type": "code",
   "execution_count": null,
   "metadata": {},
   "outputs": [],
   "source": [
    "df_Calc_AR['Diff_Sec_Patient_Pay'] = df_Calc_AR.apply(diff_sec_patient_pay, axis=1)"
   ]
  },
  {
   "cell_type": "code",
   "execution_count": null,
   "metadata": {},
   "outputs": [],
   "source": [
    "def perc_athena_actual_allow(column): \n",
    "     if column['Calc_Primary_Payments'] != 0 :\n",
    "        return ((column['Athena_Actual_Allowed_Amts'] /(column['Calc_Primary_Payments'])) *100)\n",
    "     else:\n",
    "        return 0       "
   ]
  },
  {
   "cell_type": "code",
   "execution_count": null,
   "metadata": {},
   "outputs": [],
   "source": [
    "df_Calc_AR['%_athena_actual_allow'] = df_Calc_AR.apply(perc_athena_actual_allow, axis=1)"
   ]
  },
  {
   "cell_type": "code",
   "execution_count": null,
   "metadata": {},
   "outputs": [],
   "source": [
    "def perc_athena_primary_pay(column): \n",
    "    if column['Athena_Actual_Allowed_Amts'] != 0 :\n",
    "        return ((column['Athena_Primary_Pmts'] /(column['Athena_Actual_Allowed_Amts'])) *100)\n",
    "    else :\n",
    "        return 0       "
   ]
  },
  {
   "cell_type": "code",
   "execution_count": null,
   "metadata": {},
   "outputs": [],
   "source": [
    "df_Calc_AR['%_athena_primary_pay'] = df_Calc_AR.apply(perc_athena_primary_pay, axis=1)"
   ]
  },
  {
   "cell_type": "code",
   "execution_count": null,
   "metadata": {},
   "outputs": [],
   "source": [
    "def perc_calc_primary_pay(column): \n",
    "     if column['Athena_Actual_Allowed_Amts'] != 0 :\n",
    "        return ((column['Calc_Primary_Payments']/(column['Athena_Actual_Allowed_Amts']))*100)\n",
    "     else :\n",
    "        return 0        "
   ]
  },
  {
   "cell_type": "code",
   "execution_count": null,
   "metadata": {},
   "outputs": [],
   "source": [
    "df_Calc_AR['%_calc_primary_pay'] = df_Calc_AR.apply(perc_calc_primary_pay, axis=1)"
   ]
  },
  {
   "cell_type": "code",
   "execution_count": null,
   "metadata": {},
   "outputs": [],
   "source": [
    "def calc_underpayment(column): \n",
    "     if (column['Athena_Actual_Allowed_Amts'] < column['Calc_Primary_Payments']) & (column['%_athena_actual_allow'] < 98):\n",
    "        return ((column['Athena_Actual_Allowed_Amts']) - (column['Calc_Primary_Payments'] *0.98))\n",
    "     else :\n",
    "        return 0  "
   ]
  },
  {
   "cell_type": "code",
   "execution_count": null,
   "metadata": {},
   "outputs": [],
   "source": [
    "df_Calc_AR['Underpayment'] = df_Calc_AR.apply(calc_underpayment, axis=1)"
   ]
  },
  {
   "cell_type": "code",
   "execution_count": null,
   "metadata": {},
   "outputs": [],
   "source": [
    "#def ar_actual(column): \n",
    "        #return ((column['Sum_All_Charges'] - column['Athena_Expected_Allowable'])-(column['Sum_Primary_Pmts']))"
   ]
  },
  {
   "cell_type": "code",
   "execution_count": null,
   "metadata": {},
   "outputs": [],
   "source": [
    "#df_Calc_AR['Actual_AR'] = df_Calc_AR.apply(ar_actual, axis=1) "
   ]
  },
  {
   "cell_type": "code",
   "execution_count": null,
   "metadata": {},
   "outputs": [],
   "source": [
    "#def ar_calc(column): \n",
    "        #return ((column['Sum_All_Charges'] - column['Calc_Expected_Allowable'])- (column['Sum_Primary_Pmts']))"
   ]
  },
  {
   "cell_type": "code",
   "execution_count": null,
   "metadata": {},
   "outputs": [],
   "source": [
    "#df_Calc_AR['Calc_AR'] = df_Calc_AR.apply(ar_calc, axis=1)"
   ]
  },
  {
   "cell_type": "code",
   "execution_count": null,
   "metadata": {},
   "outputs": [],
   "source": [
    "df_Calc_AR "
   ]
  },
  {
   "cell_type": "code",
   "execution_count": null,
   "metadata": {},
   "outputs": [],
   "source": [
    "df_Calc_AR[df_Calc_AR['Calc_Actual_Allowed_Amts'] == df_Calc_AR['Athena_Actual_Allowed_Amts']]"
   ]
  },
  {
   "cell_type": "code",
   "execution_count": null,
   "metadata": {},
   "outputs": [],
   "source": [
    "df_Calc_AR.to_csv(\"../Allowable/cals_r.csv\",index=False)"
   ]
  },
  {
   "cell_type": "code",
   "execution_count": null,
   "metadata": {},
   "outputs": [],
   "source": [
    "df_Calc_AR.columns"
   ]
  },
  {
   "cell_type": "code",
   "execution_count": null,
   "metadata": {},
   "outputs": [],
   "source": [
    "df_Calc_AR_New=df_Calc_AR[['Claim_ID', 'Proc_Code','Location','Transfer_Type','Primary_Claim_Ins_Pkg_Name', 'Sum_Charge_Units', 'PAR_FEE','MODIFIER', 'Modifier_Rate','Rate_2018', 'Rate_2017', 'Rate_2016', 'Rate_2015', 'Rate_2014', 'Calc_Contract_Value', 'Calc_Primary_Payments','Athena_Primary_Pmts','Diff_Primary_Payments','Calc_Actual_Allowed_Amts', 'Athena_Actual_Allowed_Amts','Underpayment','Diff_Actual_Allowed_Amts', '%_athena_actual_allow', '%_athena_primary_pay', '%_calc_primary_pay', 'Athena_Expected_Allowed_Amts','Athena_All_Charges', 'Athena_All_Adj', 'Athena_Net_Payments','Calc_Sec_Patient_Pay','Athena_Sec_Patient_Pay','Diff_Sec_Patient_Pay']]"
   ]
  },
  {
   "cell_type": "code",
   "execution_count": null,
   "metadata": {},
   "outputs": [],
   "source": [
    "df_Calc_AR_New['Sum_Charge_Units'].dtype"
   ]
  },
  {
   "cell_type": "code",
   "execution_count": null,
   "metadata": {},
   "outputs": [],
   "source": []
  },
  {
   "cell_type": "code",
   "execution_count": null,
   "metadata": {},
   "outputs": [],
   "source": [
    "df_Calc_AR_New[df_Calc_AR_New['Sum_Charge_Units']==0]"
   ]
  },
  {
   "cell_type": "code",
   "execution_count": null,
   "metadata": {},
   "outputs": [],
   "source": [
    "df_Calc_AR_New = df_Calc_AR_New.drop(df_Calc_AR_New[df_Calc_AR_New.Sum_Charge_Units == 0].index)"
   ]
  },
  {
   "cell_type": "code",
   "execution_count": null,
   "metadata": {},
   "outputs": [],
   "source": [
    "df_Calc_AR_New = df_Calc_AR_New.drop_duplicates(['Claim_ID','Proc_Code'])[['Claim_ID', 'Proc_Code','Location','Transfer_Type','Primary_Claim_Ins_Pkg_Name', 'Sum_Charge_Units', 'PAR_FEE','MODIFIER', 'Modifier_Rate','Rate_2018', 'Rate_2017', 'Rate_2016', 'Rate_2015', 'Rate_2014', 'Calc_Contract_Value', 'Calc_Primary_Payments','Athena_Primary_Pmts','Diff_Primary_Payments','Calc_Actual_Allowed_Amts', 'Athena_Actual_Allowed_Amts','Underpayment','Diff_Actual_Allowed_Amts', '%_athena_actual_allow', '%_athena_primary_pay', '%_calc_primary_pay', 'Athena_Expected_Allowed_Amts','Athena_All_Charges', 'Athena_All_Adj', 'Athena_Net_Payments','Calc_Sec_Patient_Pay','Athena_Sec_Patient_Pay','Diff_Sec_Patient_Pay']]"
   ]
  },
  {
   "cell_type": "code",
   "execution_count": null,
   "metadata": {},
   "outputs": [],
   "source": [
    "#df_Calc_AR_New[df_Calc_AR_New['Sum_Charge_Units']=='0']"
   ]
  },
  {
   "cell_type": "code",
   "execution_count": null,
   "metadata": {},
   "outputs": [],
   "source": [
    "df_Calc_AR_New_Aetna = df_Calc_AR_New[(df_Calc_AR_New['Primary_Claim_Ins_Pkg_Name'].str.contains(\"Aetna\"))]"
   ]
  },
  {
   "cell_type": "code",
   "execution_count": null,
   "metadata": {},
   "outputs": [],
   "source": [
    "df_Calc_AR_New_Aetna.to_csv(\"../Allowable/Allowable_2018/Jan2018/Aetna_Allowable_Jan2018.csv\",index=False)"
   ]
  },
  {
   "cell_type": "code",
   "execution_count": null,
   "metadata": {},
   "outputs": [],
   "source": [
    "df_Calc_AR_New_BCBS = df_Calc_AR_New[(df_Calc_AR_New['Primary_Claim_Ins_Pkg_Name'].str.contains(\"Bcbs\"))]"
   ]
  },
  {
   "cell_type": "code",
   "execution_count": null,
   "metadata": {},
   "outputs": [],
   "source": [
    "df_Calc_AR_New_BCBS.to_csv(\"../Allowable/Allowable_2018/Jan2018/BCBS_Allowable_Jan2018.csv\",index=False)"
   ]
  },
  {
   "cell_type": "code",
   "execution_count": null,
   "metadata": {},
   "outputs": [],
   "source": [
    "df_Calc_AR_New_Amerigroup = df_Calc_AR_New[(df_Calc_AR_New['Primary_Claim_Ins_Pkg_Name'].str.contains(\"Amerigroup\"))]"
   ]
  },
  {
   "cell_type": "code",
   "execution_count": null,
   "metadata": {},
   "outputs": [],
   "source": [
    "df_Calc_AR_New_Amerigroup.to_csv(\"../Allowable/Allowable_2018/Jan2018/Amerigroup_Allowable_Jan2018.csv\",index=False)"
   ]
  },
  {
   "cell_type": "code",
   "execution_count": null,
   "metadata": {},
   "outputs": [],
   "source": [
    "df_Calc_AR_New_Humana = df_Calc_AR_New[(df_Calc_AR_New['Primary_Claim_Ins_Pkg_Name'].str.contains(\"Humana\"))]"
   ]
  },
  {
   "cell_type": "code",
   "execution_count": null,
   "metadata": {},
   "outputs": [],
   "source": [
    "df_Calc_AR_New_Humana.to_csv(\"../Allowable/Allowable_2018/Jan2018/Humana_Allowable_Jan2018.csv\",index=False)"
   ]
  },
  {
   "cell_type": "code",
   "execution_count": null,
   "metadata": {},
   "outputs": [],
   "source": [
    "df_Calc_AR_New_United = df_Calc_AR_New[(df_Calc_AR_New['Primary_Claim_Ins_Pkg_Name'].str.contains(\"United\"))]"
   ]
  },
  {
   "cell_type": "code",
   "execution_count": null,
   "metadata": {},
   "outputs": [],
   "source": [
    "df_Calc_AR_New_United.to_csv(\"../Allowable/Allowable_2018/Jan2018/United_Allowable_Jan2018.csv\",index=False)"
   ]
  },
  {
   "cell_type": "code",
   "execution_count": null,
   "metadata": {},
   "outputs": [],
   "source": [
    "df_Calc_AR_New_Medicare = df_Calc_AR_New[(df_Calc_AR_New['Primary_Claim_Ins_Pkg_Name'].str.contains(\"Medicare-Nj\"))]"
   ]
  },
  {
   "cell_type": "code",
   "execution_count": null,
   "metadata": {},
   "outputs": [],
   "source": [
    "df_Calc_AR_New_Medicare.to_csv(\"../Allowable/Allowable_2018/Jan2018/Medicare_Allowable_Jan2018.csv\",index=False)"
   ]
  },
  {
   "cell_type": "code",
   "execution_count": null,
   "metadata": {},
   "outputs": [],
   "source": [
    "df_Calc_AR_New_Palmetto = df_Calc_AR_New[(df_Calc_AR_New['Primary_Claim_Ins_Pkg_Name'].str.contains(\"Palmetto\"))]"
   ]
  },
  {
   "cell_type": "code",
   "execution_count": null,
   "metadata": {},
   "outputs": [],
   "source": [
    "df_Calc_AR_New_Palmetto.to_csv(\"../Allowable/Allowable_2018/Jan2018/Palmetto_Allowable_Jan2018.csv\",index=False)"
   ]
  },
  {
   "cell_type": "code",
   "execution_count": null,
   "metadata": {},
   "outputs": [],
   "source": [
    "df_Calc_AR_New_Clover = df_Calc_AR_New[(df_Calc_AR_New['Primary_Claim_Ins_Pkg_Name'].str.contains(\"Clover\"))]"
   ]
  },
  {
   "cell_type": "code",
   "execution_count": null,
   "metadata": {},
   "outputs": [],
   "source": [
    "df_Calc_AR_New_Clover.to_csv(\"../Allowable/Allowable_2018/Jan2018/Clover_Allowable_Jan2018.csv\",index=False)"
   ]
  },
  {
   "cell_type": "code",
   "execution_count": null,
   "metadata": {},
   "outputs": [],
   "source": [
    "total = df_Calc_AR_New.apply(np.sum)\n",
    "total['Primary_Claim_Ins_Pkg_Name'] = 'Total'\n",
    "df_Calc_AR_New= df_Calc_AR_New.append(pd.DataFrame(total.values, index=total.keys()).T, ignore_index=True)"
   ]
  },
  {
   "cell_type": "code",
   "execution_count": null,
   "metadata": {},
   "outputs": [],
   "source": [
    "df_Calc_AR_New.to_csv(\"../Allowable/Allowable_2018/Jan2018/Report_Allowable_Jan2018.csv\",index=False)"
   ]
  },
  {
   "cell_type": "code",
   "execution_count": null,
   "metadata": {},
   "outputs": [],
   "source": []
  },
  {
   "cell_type": "code",
   "execution_count": null,
   "metadata": {},
   "outputs": [],
   "source": []
  }
 ],
 "metadata": {
  "kernelspec": {
   "display_name": "Python 3",
   "language": "python",
   "name": "python3"
  },
  "language_info": {
   "codemirror_mode": {
    "name": "ipython",
    "version": 3
   },
   "file_extension": ".py",
   "mimetype": "text/x-python",
   "name": "python",
   "nbconvert_exporter": "python",
   "pygments_lexer": "ipython3",
   "version": "3.7.0"
  }
 },
 "nbformat": 4,
 "nbformat_minor": 2
}
