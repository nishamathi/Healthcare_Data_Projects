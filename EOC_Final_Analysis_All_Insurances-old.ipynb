{
 "cells": [
  {
   "cell_type": "code",
   "execution_count": null,
   "metadata": {},
   "outputs": [],
   "source": [
    "# import required packages/libraries\n",
    "import pandas as pd\n",
    "import numpy as np\n",
    "import os\n",
    "\n",
    "# Path to the data directory into which the cleaned data is saved.\n",
    "csv_file_path = os.path.join(\"..\", \"EOC_Raw_Data\", \"EOC_Data_2017_All_ICD10-9.csv\")\n",
    "if not os.path.exists(csv_file_path):\n",
    "    print(\"{} doesn't exist - perhaps the data cleaning script needs to be run?\".format(csv_file_path))\n",
    "\n",
    "# set option to display all columns in a dataframe \n",
    "pd.set_option('display.width', 500)\n",
    "pd.set_option('display.max_columns', None)"
   ]
  },
  {
   "cell_type": "code",
   "execution_count": null,
   "metadata": {},
   "outputs": [],
   "source": [
    "# read data into dataframe\n",
    "df = pd.read_csv(csv_file_path, quoting=2, parse_dates=True, infer_datetime_format=True, encoding=\"UTF-8\",low_memory=False, skiprows=1)\n",
    "\n",
    "# display first 5 rows in the dataframe\n",
    "df.head()"
   ]
  },
  {
   "cell_type": "code",
   "execution_count": null,
   "metadata": {},
   "outputs": [],
   "source": [
    "df.rename(columns={\n",
    "'claimid':'Claim_ID',\n",
    "'srvday':'Claim_Service_Day',\n",
    "'rndrng prvdr':'Rendering_Provider',\n",
    "'rndrng prvdrfullnme':'Rendering_Provider_Name',\n",
    "'svc dprtmnt':'Service_Dept',\n",
    "'appttype':'Appt_Type',\n",
    "'patientid':'Patient_ID',\n",
    "'ins pkg name':'Ins_Pkg_Name',\n",
    "'primary clm ins pkg name':'Primary_Claim_Ins_Pkg_Name',\n",
    "'secondary clm ins pkg name':'Secondary_Claim_Ins_Pkg_Name',\n",
    "'proccode-descr':'Procedure_Codes_with_desc',\n",
    "'proccode-grp procedure clas...':'Proc_Clas',    \n",
    "'icd10claimdiagcode01':'Primary_Diagnosis_10', \n",
    "'icd10claimdiagcode02':'ICD-10_Claim_Diagnosis_Code02',\n",
    "'icd10claimdiagcode03':'ICD-10_Claim_Diagnosis_Code03',\n",
    "'icd10claimdiagcode04':'ICD-10_Claim_Diagnosis_Code04',\n",
    "'icd10claimdiagcode05':'ICD-10_Claim_Diagnosis_Code05',\n",
    "'icd10claimdiagcode06':'ICD-10_Claim_Diagnosis_Code06',\n",
    "'icd10claimdiagcode07':'ICD-10_Claim_Diagnosis_Code07',\n",
    "'icd10claimdiagcode08':'ICD-10_Claim_Diagnosis_Code08',\n",
    "'icd10claimdiagcode09':'ICD-10_Claim_Diagnosis_Code09',\n",
    "'icd10claimdiagcode10':'ICD-10_Claim_Diagnosis_Code010',\n",
    "'icd10claimdiagcode11':'ICD-10_Claim_Diagnosis_Code011',\n",
    "'icd10claimdiagcode12':'ICD-10_Claim_Diagnosis_Code012',\n",
    "'icd9claimdiagcode01':'Primary_Diagnosis_9',\n",
    "'icd9claimdiagcode02':'ICD-9_Claim_Diagnosis_Code02',\n",
    "'icd9claimdiagcode03':'ICD-9_Claim_Diagnosis_Code03',\n",
    "'icd9claimdiagcode04':'ICD-9_Claim_Diagnosis_Code04',\n",
    "'chg units sum':'Sum_Charge_Units',\n",
    "'#chg':'Sum_Charges',\n",
    "'net pmt':'Sum_Net_Payments',\n",
    "'all chgs':'Sum_All_Charges',\n",
    "'contract':'Sum_Contractual_Adj',\n",
    "'allowed':'Sum_Actual_Allowed_Amts',\n",
    "'expected':'Sum_Expected_Allowed_Amts',\n",
    "'allow diff':'Sum_Allowable_Diff',\n",
    "'pmt':'Sum_Payments',\n",
    "'trnsfr type':'Transfer_Type',\n",
    "'adjall':'Sum_All_Adj',\n",
    "'current chg':'Current_Charge'\n",
    "    },\n",
    "    inplace=True)"
   ]
  },
  {
   "cell_type": "code",
   "execution_count": null,
   "metadata": {},
   "outputs": [],
   "source": [
    "df.head()"
   ]
  },
  {
   "cell_type": "code",
   "execution_count": null,
   "metadata": {
    "scrolled": true
   },
   "outputs": [],
   "source": [
    "df.info()"
   ]
  },
  {
   "cell_type": "code",
   "execution_count": null,
   "metadata": {},
   "outputs": [],
   "source": [
    "df.describe()"
   ]
  },
  {
   "cell_type": "code",
   "execution_count": null,
   "metadata": {},
   "outputs": [],
   "source": [
    "df.isnull().sum()"
   ]
  },
  {
   "cell_type": "code",
   "execution_count": null,
   "metadata": {},
   "outputs": [],
   "source": [
    "df['Transfer_Type'].unique()"
   ]
  },
  {
   "cell_type": "markdown",
   "metadata": {},
   "source": [
    "################################################################################################################################\n",
    "# Filter data only for Primary Payments\n",
    "################################################################################################################################"
   ]
  },
  {
   "cell_type": "code",
   "execution_count": null,
   "metadata": {},
   "outputs": [],
   "source": [
    "df['Ins_Pkg_Name'].unique()"
   ]
  },
  {
   "cell_type": "code",
   "execution_count": null,
   "metadata": {},
   "outputs": [],
   "source": [
    "df = df.loc[df['Transfer_Type'] == 'Primary']\n",
    "df = df.loc[(df['Primary_Claim_Ins_Pkg_Name'].str.startswith('Aetna')) | (df['Primary_Claim_Ins_Pkg_Name'].str.startswith('Meritain Health - Aetna')) |(df['Primary_Claim_Ins_Pkg_Name'].str.startswith('Chesterfield Resources - Aetna')) | (df['Primary_Claim_Ins_Pkg_Name'].str.startswith('1199SEIU Benefit and Pension Funds - Aetna'))]\n"
   ]
  },
  {
   "cell_type": "code",
   "execution_count": null,
   "metadata": {},
   "outputs": [],
   "source": [
    "df.loc[df['Claim_ID'] == 981887]"
   ]
  },
  {
   "cell_type": "code",
   "execution_count": null,
   "metadata": {},
   "outputs": [],
   "source": [
    "df.info()"
   ]
  },
  {
   "cell_type": "code",
   "execution_count": null,
   "metadata": {},
   "outputs": [],
   "source": [
    "df['Proc_Code1'], df['Proc_Desc'] = df['Procedure_Codes_with_desc'].str.split(':', 1).str"
   ]
  },
  {
   "cell_type": "code",
   "execution_count": null,
   "metadata": {},
   "outputs": [],
   "source": [
    "df['Proc_Code']= df['Proc_Code1'].str.split(',').str[0]"
   ]
  },
  {
   "cell_type": "code",
   "execution_count": null,
   "metadata": {},
   "outputs": [],
   "source": [
    "df"
   ]
  },
  {
   "cell_type": "code",
   "execution_count": null,
   "metadata": {},
   "outputs": [],
   "source": [
    "df['Proc_Code'].isnull().sum()"
   ]
  },
  {
   "cell_type": "code",
   "execution_count": null,
   "metadata": {},
   "outputs": [],
   "source": [
    "\n",
    "df['Proc_Code'].unique()"
   ]
  },
  {
   "cell_type": "code",
   "execution_count": null,
   "metadata": {},
   "outputs": [],
   "source": [
    "df['Proc_Desc'].unique()"
   ]
  },
  {
   "cell_type": "code",
   "execution_count": null,
   "metadata": {},
   "outputs": [],
   "source": [
    "df"
   ]
  },
  {
   "cell_type": "code",
   "execution_count": null,
   "metadata": {},
   "outputs": [],
   "source": [
    "df.Sum_All_Charges = df.Sum_All_Charges.astype(float).fillna(0.0)"
   ]
  },
  {
   "cell_type": "code",
   "execution_count": null,
   "metadata": {},
   "outputs": [],
   "source": [
    "df.Sum_All_Adj = df.Sum_All_Adj.astype(float).fillna(0.0)\n",
    "df.Sum_Contractual_Adj = df.Sum_Contractual_Adj.astype(float).fillna(0.0)\n",
    "df.Sum_Charges = df.Sum_Charges.astype(float).fillna(0.0)\n",
    "df.Sum_Net_Payments = df.Sum_Net_Payments.astype(float).fillna(0.0)\n",
    "df.Sum_Actual_Allowed_Amts = df.Sum_Actual_Allowed_Amts.astype(float).fillna(0.0)\n",
    "df.Sum_Expected_Allowed_Amts = df.Sum_Expected_Allowed_Amts.astype(float).fillna(0.0)\n",
    "df.Sum_Allowable_Diff = df.Sum_Allowable_Diff.astype(float).fillna(0.0)\n",
    "df.Sum_Payments = df.Sum_Payments.astype(float).fillna(0.0)"
   ]
  },
  {
   "cell_type": "code",
   "execution_count": null,
   "metadata": {},
   "outputs": [],
   "source": [
    "df['Sum_Calculated_Allowable']= df['Sum_All_Charges'] - df['Sum_Contractual_Adj']"
   ]
  },
  {
   "cell_type": "code",
   "execution_count": null,
   "metadata": {},
   "outputs": [],
   "source": [
    "df"
   ]
  },
  {
   "cell_type": "code",
   "execution_count": null,
   "metadata": {},
   "outputs": [],
   "source": [
    "df['Primary_Diagnosis_10'].unique()"
   ]
  },
  {
   "cell_type": "code",
   "execution_count": null,
   "metadata": {},
   "outputs": [],
   "source": [
    "replacements = {\n",
    "   'Primary_Diagnosis_10': {\n",
    "        \n",
    "      \n",
    "        r'(H3532.*)': 'AMD - Wet',\n",
    "        #r'(E1.*)': 'Diabetes',\n",
    "        E10.321*, E10.331*, E10.341*,E10.351*\n",
    "E11.321*,E11.331*,E11341*,E11.351*\n",
    "\n",
    "        #r'(H3531.*)': 'AMD - Dry',\n",
    "        #r'(H3581.*)': 'ME',\n",
    "        #r'(H3483.*)': 'BRVO',\n",
    "        r'(Q.*)': 'Congenital',\n",
    "        r'(H3481.*)': 'CRVO',\n",
    "        r'(S[0-9].*)': 'Injury',\n",
    "        r'(T[0-9].*)': 'Injury',\n",
    "        r'(H44.*)': 'mCNV',\n",
    "        r'(C[0-9].*)':'Neoplasm',\n",
    "        r'(D[0-9].*)':'Neoplasm',\n",
    "        r'(H3537.*)': 'Puckering',\n",
    "        r'(H33.*)': 'RD',\n",
    "        r'(H431.*)':'Vitreous Degeneration',\n",
    "        r'(H438.*)':'Vitreous Degeneration',\n",
    " \n",
    "   }\n",
    "}\n",
    "df.replace(replacements, regex=True, inplace=True)\n",
    "df"
   ]
  },
  {
   "cell_type": "code",
   "execution_count": null,
   "metadata": {},
   "outputs": [],
   "source": [
    "df['Primary_Diagnosis_10'].unique()"
   ]
  },
  {
   "cell_type": "code",
   "execution_count": null,
   "metadata": {},
   "outputs": [],
   "source": [
    "df['Primary_Diagnosis_10'].replace(['H3570', \n",
    "       'H35341', 'Z98890', 'H35352', 'H35413',\n",
    "       'H35713', 'H538', 'H209','H3509', 'H3552',\n",
    "       'H4089', 'H35053', 'H402222',\n",
    "       'H35351', 'H1812', 'H18232', 'H3562','H35052', 'H35721',\n",
    "       'H35343', 'Z961', 'H401130', 'H35353', 'H35342', 'H3530', 'H04123',\n",
    "       'Z0000', 'H35359', 'H35711', 'H31093', 'H35021', 'H40052',\n",
    "       'H40053', 'H26492', 'H1131', 'H3554', 'R51', 'H34232', 'H35712',\n",
    "       'H30133', 'H30142', 'H4323', 'H35051', 'H20013', 'H04122',\n",
    "       'H40041', 'H35361', 'G360', 'H47293', 'H35383', 'H43391', 'H34823',\n",
    "       'H35363', 'H43392', 'H40013', 'H35032', 'H35411', 'H3563',\n",
    "       'H30141', 'Z79899', 'G43B0', 'H11221', 'H469', 'H35463', 'H0016',\n",
    "       'H5319', 'H3411', 'H3553', 'H35443', 'H3093', 'H43393', 'H40022',\n",
    "       'G43101', 'H35412', 'H16219', 'H34231', 'H16422', 'H01009', 'H3023',\n",
    "       'H35723', 'H15002','H3540','H547','H47312', 'H53431', 'H47292',\n",
    "       'H31422', 'H21542', 'H30131', 'H35033', 'H1011', 'H35072',\n",
    "       'H27111', 'H27112', 'H47392','H20012',\n",
    "       'H35423', 'H3550', 'A150', 'H30113', 'H35073', 'H34233', 'B5801',\n",
    "       'H4711', 'H53452', 'H4061X2', 'H2512', 'H26491', 'H3021', 'H47091',\n",
    "       'H59022', 'H211X2', 'I872', 'H3561', 'H2589', 'H20052', 'H5711',\n",
    "       'H1132', 'H35451', 'H524', 'G932', 'H47011', 'H40042', 'G453',\n",
    "       'H409', 'H31411', 'M316', 'H4710', 'H3533', 'H35103', 'H31013',\n",
    "       'H401131', 'H59021', 'H30892', 'Z794', 'H2513', 'H2142', 'H40023',\n",
    "       'H5213', 'H04121', 'H35362', 'B377', 'H25813', 'H15033', 'H16103',\n",
    "       'H47012', 'H5362', 'H40051', 'H532', 'H47323', 'H401110', 'H5712',\n",
    "       'H5316', 'H15031', 'H34211', 'H35042', 'H401411', 'H3551',\n",
    "       'H00023', 'H4302', 'H31301', 'H53121', 'H35461', 'H35011', 'B488',\n",
    "       'H53461', 'H01003', 'H4602', 'H20023', 'H31092', 'H4612', 'H27132',\n",
    "       'H30043', 'H10812', 'H31002', 'H35722', 'H01113', 'H401224',\n",
    "       'H47333', 'H1820', 'H3091', 'H35433', 'I10', 'H31012', 'H3412',\n",
    "       'H2141', 'H20022', 'G43901', 'H53133', 'H4321', 'G43109', 'H11423',\n",
    "       'H259', 'H47291', 'H4322', 'H462', 'H4749', 'H11003', 'H31091',\n",
    "       'H21301', 'H20011', 'H2511', 'H53413', 'H20032', 'H00036', 'H5713',\n",
    "       'H11132', 'H2521', 'H1851', 'G8911', 'H20823', 'H18613', 'E0500',\n",
    "       'H211X1', 'H47311', 'H35031', 'H4301', 'H31322', 'H47213', 'H5352',\n",
    "       'H15102', 'G35', 'H401330', 'J301', 'H35043', 'H27121', 'H25812',\n",
    "       'H15019', 'H31103', 'H04129', 'H0013', 'H15012', 'H401132',\n",
    "       'H53453', 'H26102', 'H468', 'H401123', 'H3022', 'G43119', 'H1010',\n",
    "       'B830', 'H31321', 'H4601', 'H02053', 'H4061X3', 'B0239', 'H53141',\n",
    "       'H27131', 'H2013', 'H2000', 'H53002', 'B5889', 'H47391', 'H25042',\n",
    "       'H2701', 'H47322', 'H30102', 'H53412', 'H4063X0', 'H40019',\n",
    "       'H40002', 'H2189', 'H401120', 'H30103', 'H16042', 'H40231',\n",
    "       'H1811', 'H40043', 'H2102', 'H539', 'H53001', 'H16001', 'H25043',\n",
    "       'H26131','H43399', 'H53439', 'H31011',\n",
    "       'Z9001', 'Z973', 'H16002', 'H4062X0', 'H30891', 'H47013', 'H47092',\n",
    "       'H35022', 'H35012', 'J300', 'H16141', 'H401133', 'H21262',\n",
    "       'H53423', 'H01023', 'H1031', 'G43B1', 'H40059', 'H00039', 'H35071',\n",
    "       'H4911', 'H35382', 'H18231', 'H35462', 'H20042', 'H318', 'H1013',\n",
    "       'H4010X3', 'H35041', 'H35101', 'H26493', 'H15833', 'H02412',\n",
    "       'H5500', 'H21341', 'H47033', 'H21561', 'H53123', 'M3210', 'H53421',\n",
    "       'H5340', 'H578', 'H40011', 'H31001', 'Z83518', 'H16122', 'H53459',\n",
    "       'H2702', 'H27122', 'H0520', 'H15111', 'G500', 'H01116', 'H1032',\n",
    "       'H15832', 'H4611', 'H401433', 'H1033', 'H35469', 'H34212',\n",
    "       'H4921', 'H10013', 'G8918', 'H47321', 'H5000', 'H01006', 'Z83511',\n",
    "       'E7871', 'H53032', 'H401113', 'H35381', 'H11441', 'H30001',\n",
    "       'H21552', 'H53142', 'G514', 'H16142', 'H04222', 'H5111', 'H5351',\n",
    "       'H35109', 'B394', 'H16221', 'H53462', 'H30149', 'H25811', 'H18421',\n",
    "       'H25011', 'H31311', 'H4922', 'H00013', 'H349', 'H1859', 'B0052',\n",
    "       'Z9841', 'H31121', 'H548', 'Z947', 'H4041X0', 'H53131', 'H26499', 'H211X3', 'H3582', 'H3589'],'OTHER',inplace=True)"
   ]
  },
  {
   "cell_type": "code",
   "execution_count": null,
   "metadata": {},
   "outputs": [],
   "source": [
    "df['Primary_Diagnosis_10'].unique()"
   ]
  },
  {
   "cell_type": "code",
   "execution_count": null,
   "metadata": {},
   "outputs": [],
   "source": [
    "df['ICD-10_Claim_Diagnosis_Code02'].unique()"
   ]
  },
  {
   "cell_type": "code",
   "execution_count": null,
   "metadata": {},
   "outputs": [],
   "source": [
    "replacements = {\n",
    "   'ICD-10_Claim_Diagnosis_Code02': {\n",
    "        \n",
    "       \n",
    "        r'(H3532.*)': 'AMD - Wet',\n",
    "        r'(E1.*)': 'Diabetes',\n",
    "        r'(H3531.*)': 'AMD - Dry',\n",
    "        r'(H3581.*)': 'ME',\n",
    "        r'(H3483.*)': 'BRVO',\n",
    "        r'(Q.*)': 'Congenital',\n",
    "        r'(H3481.*)': 'CRVO',\n",
    "        r'(S[0-9].*)': 'Injury',\n",
    "        r'(T[0-9].*)': 'Injury',\n",
    "        r'(H44.*)': 'mCNV',\n",
    "        r'(C[0-9].*)':'Neoplasm',\n",
    "        r'(D[0-9].*)':'Neoplasm',\n",
    "        r'(H3537.*)': 'Puckering',\n",
    "        r'(H33.*)': 'RD',\n",
    "        r'(H431.*)':'Vitreous Degeneration',\n",
    "        r'(H438.*)':'Vitreous Degeneration',\n",
    " \n",
    "   }\n",
    "}\n",
    "df.replace(replacements, regex=True, inplace=True)\n",
    "df"
   ]
  },
  {
   "cell_type": "code",
   "execution_count": null,
   "metadata": {},
   "outputs": [],
   "source": [
    "df['ICD-10_Claim_Diagnosis_Code02'].unique()"
   ]
  },
  {
   "cell_type": "code",
   "execution_count": null,
   "metadata": {},
   "outputs": [],
   "source": [
    "df['ICD-10_Claim_Diagnosis_Code02'].replace(['H35063',\n",
    "       'H3561', 'H2513', 'H2511', 'Z794', 'H35062', 'H5319',\n",
    "       'H43391', 'H40013','H538', 'H16141',\n",
    "       'H43392', 'H4749', 'H259', 'H35412', 'Z961',\n",
    "       'H35363', 'H35033', 'H35053', 'H04552', 'H04122',\n",
    "       'H35352', 'H43393', 'H5213', 'H35413','H3562',\n",
    "       'H0016', 'H40051', 'H209', 'H35722', 'H35721', 'H20011', 'H35031',\n",
    "       'H3509', 'Z98890', 'H53002', 'H35411', 'W902XXA', 'H16143',\n",
    "       'H40033', 'H35341', 'H31091', 'H35351', 'H40041', 'H2512',\n",
    "       'H27112', 'H31012', 'H35713', 'H3570', 'H25813', 'H26491',\n",
    "       'H47393', 'H35462', 'H532', 'H27132', 'H4010X1', 'H59021',\n",
    "       'H211X1', 'B394', 'H31002', 'H35712', 'H35461', 'H4089', 'H3022',\n",
    "       'H35711', 'H21543', 'R51', 'H35023', 'H47293', 'H5347', 'H35463',\n",
    "       'H40023', 'H30033', 'H35353', 'H26493', 'H3530', 'H35361',\n",
    "       'H40053', 'H35071', 'H40052', 'H4321', 'H35432',\n",
    "       'H47012', 'H25811', 'H01003', 'H3093', 'H35032', 'H401134',\n",
    "       'H35343', 'H401132', 'H35342', 'H3554', 'H18232', 'H35103',\n",
    "       'H35431', 'H43312', 'H47011', 'H16001', 'H5703',\n",
    "       'H268','H20013', 'H30113',\n",
    "       'H30133', 'H35021', 'H26492', 'H35041', 'H40022', 'H35052',\n",
    "       'H25041','H40001', 'H35723', 'H211X2', 'H35362', 'H53131',\n",
    "       'H31093', 'H30001', 'H1812','H04121', 'H31092',\n",
    "       'H1820', 'H35051', 'H20041', 'H40043', 'G43B1', 'H04123',\n",
    "       'H3092', 'H34232', 'H3552', 'G43B0', 'G932', 'G20', 'H34211',\n",
    "       'H5316', 'H27121', 'H409', 'H3023', 'H53133', 'H2702', 'I6529',\n",
    "       'H5442', 'H30143', 'H4322', 'H35433', 'H547', 'H3563', 'H25812',\n",
    "       'H3411','H35073', 'H401133', 'H53001', 'B0051',\n",
    "       'H25043', 'H34212', 'H1811', 'H401131', 'G459', 'H401112',\n",
    "       'H40021', 'Z9841', 'H15833', 'H11001', 'H4041X0', 'H34231',\n",
    "       'H1131', 'H18613', 'H179', 'R569', 'H4710', 'H11221', 'G43109',\n",
    "       'H2142', 'H15012', 'H15102', 'H43311', 'H31011', 'H15002', 'H3550',\n",
    "       'H21342', 'M109', 'H3551', 'H18421', 'H1859', 'H4061X2', 'M3210',\n",
    "       'H20052', 'H21541', 'H4711', 'H2013', 'H53411', 'H401110',\n",
    "       'H35061', 'H59022', 'H4301', 'H4713', 'H47091', 'H4612', 'Z8579',\n",
    "       'H01006', 'H16101', 'H35022', 'H469', 'H2589', 'H35451', 'Z83518',\n",
    "       'H30103', 'H401130', 'H16222', 'H2101', 'H02843', 'G510', 'H40042',\n",
    "       'H21231', 'B5801', 'H16223', 'H4063X0', 'H35042', 'H20022',\n",
    "       'H21341', 'Z947', 'H05012', 'H401122', 'H4942', 'H4323', 'H40011',\n",
    "       'H401123', 'H18231', 'H43313', 'Z970', 'H3412', 'Z7952', 'H53123',\n",
    "       'I10', 'H18453', 'H02049', 'H16002', 'H18422', 'H30141', 'H31301',\n",
    "       'H1789', 'H21502', 'H401111', 'H2102', 'H3540', 'H318', 'H4602',\n",
    "       'H5203', 'H40029', 'H53032', 'H47321', 'H31099', 'H211X3',\n",
    "       'H47292', 'H47323', 'Z9001', 'H2000', 'H468', 'H53421', 'H4911',\n",
    "       'H15103', 'H40049', 'H401190', 'H21511', 'H53453', 'H53431', 'B20',\n",
    "       'H25042', 'H53462', 'H401120', 'H548', 'G35', 'H0520', 'Z79899',\n",
    "       'H02056', 'H31421', 'H4061X3', 'H27111', 'H47092', 'H35043',\n",
    "       'H47099', 'H21233', 'H2701', 'H5212', 'H26101', 'H2181', 'H04203',\n",
    "       'H40019', 'B5889', 'H401330', 'H25093', 'H524', 'N189', 'H3533',\n",
    "       'H21542', 'B029', 'H30813', 'H4720', 'H5712', 'H25013', 'Z8679',\n",
    "       'H479','H47029', 'H04129',\n",
    "       'H30132', 'H53413', 'H3523', 'H15832', 'H47022', 'H47233', 'H2522',\n",
    "       'H5441', 'H16422', 'H40059', 'H20012', 'H00013', 'H4912', 'H31022',\n",
    "       'H35359', 'H5010', 'H5000', 'H31321', 'H5210', 'H02403', 'H20051',\n",
    "       'H401234', 'H11442', 'H35039', 'H01113', 'H35011', 'H34822',\n",
    "       'E0500', 'H1045', 'H47331', 'H4042X4', 'I63139', 'H31411',\n",
    "       'H35443', 'H40031', 'H35101', 'H53452', 'H4041X2', 'H1132',\n",
    "       'H53022', 'H31311', 'H43399', 'H26102', 'H02526', 'H59023',\n",
    "       'H01116', 'H5711', 'H1851', 'H31322', 'G453', 'H35419', 'H30003',\n",
    "       'H11152', 'H31013', 'H578', 'H35423', 'H4051X2', 'H31422',\n",
    "       'H40003', 'H31103', 'H5200', 'H34239', 'H15031', 'H40012',\n",
    "       'H35421', 'H401433', 'Z952', 'K50919', 'M316', 'H01026', 'H27131',\n",
    "       'H18892', 'G514', 'H53122', 'H401113', 'G43909', 'H47032',\n",
    "       'H16221', 'H18011', 'H18612', 'H16102', 'H11003', 'H02103',\n",
    "       'H05241', 'H3091', 'H11153', 'H53003', 'H4742','H35732', 'H16142',\n",
    "       'H31423', 'H401331', 'Z9883'],'OTHER',inplace=True)"
   ]
  },
  {
   "cell_type": "code",
   "execution_count": null,
   "metadata": {},
   "outputs": [],
   "source": [
    "df['ICD-10_Claim_Diagnosis_Code02'].unique()"
   ]
  },
  {
   "cell_type": "code",
   "execution_count": null,
   "metadata": {},
   "outputs": [],
   "source": [
    "df['ICD-10_Claim_Diagnosis_Code03'].unique()"
   ]
  },
  {
   "cell_type": "code",
   "execution_count": null,
   "metadata": {},
   "outputs": [],
   "source": [
    "replacements = {\n",
    "   'ICD-10_Claim_Diagnosis_Code03': {\n",
    "        \n",
    "       \n",
    "        r'(H3532.*)': 'AMD - Wet',\n",
    "        r'(E1.*)': 'Diabetes',\n",
    "        r'(H3531.*)': 'AMD - Dry',\n",
    "        r'(H3581.*)': 'ME',\n",
    "        r'(H3483.*)': 'BRVO',\n",
    "        r'(Q.*)': 'Congenital',\n",
    "        r'(H3481.*)': 'CRVO',\n",
    "        r'(S[0-9].*)': 'Injury',\n",
    "        r'(T[0-9].*)': 'Injury',\n",
    "        r'(H44.*)': 'mCNV',\n",
    "        r'(C[0-9].*)':'Neoplasm',\n",
    "        r'(D[0-9].*)':'Neoplasm',\n",
    "        r'(H3537.*)': 'Puckering',\n",
    "        r'(H33.*)': 'RD',\n",
    "        r'(H431.*)':'Vitreous Degeneration',\n",
    "        r'(H438.*)':'Vitreous Degeneration',\n",
    "     \n",
    "   }\n",
    "}\n",
    "df.replace(replacements, regex=True, inplace=True)\n",
    "df"
   ]
  },
  {
   "cell_type": "code",
   "execution_count": null,
   "metadata": {},
   "outputs": [],
   "source": [
    "df['ICD-10_Claim_Diagnosis_Code03'].unique()"
   ]
  },
  {
   "cell_type": "code",
   "execution_count": null,
   "metadata": {},
   "outputs": [],
   "source": [
    "df['ICD-10_Claim_Diagnosis_Code03'].replace(['Z794', 'H47321', 'H3562',\n",
    "       'H4010X2', 'H401133', 'H401132','H35431',\n",
    "       'H43391', 'H401131', 'H43392', 'H1131',\n",
    "       'H35412', 'H25043', 'H524', 'H25813', 'H43393', 'H5442', 'H401130',\n",
    "       'H1859', 'H35343', 'H40023', 'H538', 'H35413', 'H4322', 'H5213',\n",
    "       'H3561','Z98890', 'H2513', 'H16223', 'H409', 'H259',\n",
    "       'H3554', 'H47091', 'H35362', 'H35033', 'H35351', 'H4922', 'Z961',\n",
    "       'Z79899','H3530', 'H26013', 'H26491',\n",
    "       'H40049', 'H25811', 'H04121', 'H401193', 'H25812', 'H3522',\n",
    "       'H35352', 'H35342', 'H1820', 'H4321','H26492',\n",
    "       'H2511', 'H35433', 'H35722', 'H25013', 'H2589', 'H2512', 'H3523',\n",
    "       'H35361', 'I10', 'H01003', 'H35462', 'H04123', 'H532',\n",
    "       'H40029', 'H50112', 'H4089','H31092', 'H5319',\n",
    "       'H35363', 'H401120', 'H35411', 'E0500', 'H35463', 'H26493',\n",
    "       'H5316', 'H40053', 'H209', 'H35341', 'H40013', 'H3563', 'H401123',\n",
    "       'H35353', 'H548', 'H30132', 'H47022', 'G43B0', 'H34212', 'H04129',\n",
    "       'H40051', 'H53031', 'H401113', 'Z947', 'H47311', 'H35461',\n",
    "       'H31093', 'H47012', 'H3509', 'H35432', 'H53002', 'M3210','H40053', 'H43392', 'H25811',\n",
    "       'H40013', 'H20023','H1859', 'H35721',\n",
    "       'H01003', 'BRVO', 'Z794', 'H2513', 'H43391', 'H35413', 'RD',\n",
    "       'Z961', 'H3530', 'H3411', 'H25813', 'H35461', 'H3561', 'H26492',\n",
    "       'H34232', 'H35071','H35352',\n",
    "       'H26493', 'H35033','H35353', 'H43393', 'Z98890',\n",
    "       'H35363', 'H532', 'H53002', 'H02053', 'H35351', 'H401121',\n",
    "       'H25043', 'H4089', 'H3562', 'H2102', 'H04123', 'H2013', 'H35432',\n",
    "       'H469', 'H26491', 'H409', 'Z992', 'H35411', 'H35341',\n",
    "       'H35362', 'H401132', 'H35443', 'H5712', 'H18422', 'H259', 'H34231',\n",
    "       'H04122', 'I10', 'H209', 'H40042', 'Z79899', 'H3554', 'H35412',\n",
    "       'H35361', 'H5213', 'H35342', 'H35043', 'H30113', 'H35433',\n",
    "       'H30142', 'H1811', 'H401113', 'H3533', 'H25812', 'H31013',\n",
    "       'H40023', 'H47321', 'H53021', 'H4922','H59021',\n",
    "       'H3540', 'H5010', 'H04223', 'H47012', 'H401133', 'H53123', 'H5316',\n",
    "       'H53032', 'H35462', 'H21542', 'H35013', 'H35722', 'H11002',\n",
    "       'H47013', 'H2512', 'H16223', 'H35051', 'Z83518', 'H35463',\n",
    "       'H35072', 'H02103', 'H47091', 'H35052', 'H3021', 'H211X2',\n",
    "       'H401131', 'H548', 'H5359', 'H35713', 'M3210', 'H2511', 'H401123',\n",
    "       'H4322', 'H04129', 'Z9842', 'H401122', 'H21233', 'H401130',\n",
    "       'H3563', 'Z9883', 'H16423', 'H318', 'H30043', 'H34212', 'H43312',\n",
    "       'H40033', 'H16142', 'H3551', 'H27111', 'H179', 'H31002', 'G7000',\n",
    "       'N179', 'H4063X0', 'H53031', 'H40052', 'H16211', 'H3509', 'G43101',\n",
    "       'H35031', 'H0016', 'H31093', 'H538', 'H401134', 'H4061X0',\n",
    "       'H25041', 'H15101', 'H43311', 'H20823', 'H35423', 'Z856', 'H25042',\n",
    "       'H21541', 'Z947', 'H27112', 'H40021', 'H40041', 'H02056', 'I872',\n",
    "       'H31001', 'H59022', 'H18231', 'H53133', 'H4321', 'H3570', 'H25013',\n",
    "       'H34213', 'R569', 'H1011', 'H3553', 'H211X3', 'G43B0', 'H4710',\n",
    "       'B029', 'H35022', 'H00023', 'H20013', 'H35343', 'B394', 'H01006',\n",
    "       'H21531', 'H5000', 'H43313', 'H47093', 'H2589', 'G4485', 'H53121',\n",
    "       'H1132', 'H15002', 'H35349', 'H35421', 'G514', 'H04121', 'H1131',\n",
    "       'H40022', 'H25093', 'H1851', 'H47323', 'H5501', 'H30033', 'H35073',\n",
    "       'H31003', 'H16042', 'H3412', 'H401112', 'H18421', 'H40011',\n",
    "       'Z0100', 'H1820', 'H4301', 'H18613', 'H211X1', 'H547', 'H2101',\n",
    "       'H31092', 'I4891', 'H53411', 'H26412', 'H40043', 'H16141',\n",
    "       'H35041', 'H524', 'H2701', 'H2011', 'Z970', 'H4010X0', 'H3093',\n",
    "       'H401110', 'H47011', 'B5801', 'H5713', 'H40012', 'H35711',\n",
    "       'H53421', 'H35723', 'H35431', 'H35133', 'H4720', 'H35102',\n",
    "       'H20032', 'H4711', 'H18232', 'H50812', 'H402220', 'H31091',\n",
    "       'H4601', 'H53001', 'H02401', 'H47322', 'H16143', 'H15833',\n",
    "       'H401233', 'L121', 'H02106', 'H2510', 'H3022', 'H527', 'H578',\n",
    "       'G43909', 'H1700', 'H11003', 'H18413', 'H53039', 'H3090', 'H40231',\n",
    "       'H00012', 'G43109', 'H401432', 'H30813', 'H5711', 'Z8639',\n",
    "       'E70329', 'H34211', 'H11001', 'Z9001', 'H2022',\n",
    "       'H35359', 'H5441', 'H31103', 'H4923', 'L719', 'H52213', 'H47231',\n",
    "       'H02402', 'H25092', 'N189', 'H5202', 'H35032', 'H401124', 'A6920',\n",
    "       'H21551', 'H4921', 'H1133', 'H2703', 'H52203', 'G510', 'B20',\n",
    "       'H20011', 'H35712', 'H25819', 'G453', 'H11152', 'H01116',\n",
    "       'H4062X0', 'H5210', 'H35029', 'H31411', 'H18411', 'H40019',\n",
    "       'B0239', 'Z8571', 'G932', 'I679', 'H539', 'H25012', 'H02846',\n",
    "       'H35101', 'H21342', 'H11442', 'H2702', 'H25031', 'I252', 'H35062',\n",
    "       'H10022', 'H35383', 'H31301', 'H35053', 'H53143', 'H5702',\n",
    "       'H4043X0', 'H30143', 'H35021', 'H401234', 'H47233', 'H31322',\n",
    "       'H47092', 'H4323', 'H31099', 'H53451', 'H31011', 'H5052', 'H31421',\n",
    "       'H2640', 'H26012', 'H11153', 'I6529', 'H15011', 'G35', 'H0013',\n",
    "       'H401433', 'H27132', 'H27131', 'H30133', 'H30012', 'H15031',\n",
    "       'H53042', 'H35061', 'H43399', 'H30149', 'H53433', 'H401114',\n",
    "       'G4733', 'H47292', 'M352', 'H31312','H5203', 'H401331','H15033','H3589', 'H3582'],'OTHER',inplace=True)"
   ]
  },
  {
   "cell_type": "code",
   "execution_count": null,
   "metadata": {},
   "outputs": [],
   "source": [
    "df['ICD-10_Claim_Diagnosis_Code03'].unique()"
   ]
  },
  {
   "cell_type": "code",
   "execution_count": null,
   "metadata": {},
   "outputs": [],
   "source": [
    "df['ICD-10_Claim_Diagnosis_Code04'].unique()"
   ]
  },
  {
   "cell_type": "code",
   "execution_count": null,
   "metadata": {},
   "outputs": [],
   "source": [
    "replacements = {\n",
    "   'ICD-10_Claim_Diagnosis_Code04': {\n",
    "        \n",
    "       \n",
    "        r'(H3532.*)': 'AMD - Wet',\n",
    "        r'(E1.*)': 'Diabetes',\n",
    "        r'(H3531.*)': 'AMD - Dry',\n",
    "        r'(H3581.*)': 'ME',\n",
    "        r'(H3483.*)': 'BRVO',\n",
    "        r'(Q.*)': 'Congenital',\n",
    "        r'(H3481.*)': 'CRVO',\n",
    "        r'(S[0-9].*)': 'Injury',\n",
    "        r'(T[0-9].*)': 'Injury',\n",
    "        r'(H44.*)': 'mCNV',\n",
    "        r'(C[0-9].*)':'Neoplasm',\n",
    "        r'(D[0-9].*)':'Neoplasm',\n",
    "        r'(H3537.*)': 'Puckering',\n",
    "        r'(H33.*)': 'RD',\n",
    "        r'(H431.*)':'Vitreous Degeneration',\n",
    "        r'(H438.*)':'Vitreous Degeneration',\n",
    "\n",
    "   }\n",
    "}\n",
    "df.replace(replacements, regex=True, inplace=True)\n",
    "df"
   ]
  },
  {
   "cell_type": "code",
   "execution_count": null,
   "metadata": {},
   "outputs": [],
   "source": [
    "df['ICD-10_Claim_Diagnosis_Code04'].unique()"
   ]
  },
  {
   "cell_type": "code",
   "execution_count": null,
   "metadata": {},
   "outputs": [],
   "source": [
    "df['ICD-10_Claim_Diagnosis_Code04'].replace(['H43392','G43101', 'H25013',\n",
    "       'H259', 'H2513', 'Z98890', 'H53432',\n",
    "       'Z961','G514', 'H43393', 'H3561',\n",
    "       'H35413', 'H25813', 'H409', 'H04123','H35033',\n",
    "       'Z794', 'H43391', 'M3210', 'H5316', 'H401133', 'H25811', 'H35103',\n",
    "       'H35433', 'H40051', 'H401113', 'H3562', 'H2512',\n",
    "       'H401132', 'H35721', 'H1859', 'Z7952', 'I10', 'H26493', 'H01006',\n",
    "       'H35031', 'H26492', 'H538', 'H35722', 'H35363', 'H26491', 'H1132',\n",
    "       'H0013', 'H4322', 'H40013', 'H3523', 'H35412', 'H5213', 'H35351',\n",
    "       'H01003', 'H4010X2', 'H35053', 'H53133', 'H35361', 'H30133',\n",
    "       'H2511', 'H25093', 'H1840', 'H401131', 'H401130', 'G43801',\n",
    "       'H35431', 'H35059', 'H35411', 'H4089', 'H35461',\n",
    "       'Z79899', 'H209', 'H401122', 'H2589', 'H35362', 'H35051',\n",
    "       'H40053', 'H43392','H25811',\n",
    "       'H40013', 'H20023','H1859', 'H35721',\n",
    "       'H01003','Z794', 'H2513', 'H43391', 'H35413',\n",
    "       'Z961', 'H3530', 'H3411', 'H25813', 'H35461', 'H3561', 'H26492',\n",
    "       'H34232', 'H35071','H35352',\n",
    "       'H26493', 'H35033','H35353', 'H43393', 'Z98890',\n",
    "       'H35363', 'H532', 'H53002', 'H02053', 'H35351', 'H401121',\n",
    "       'H25043', 'H4089', 'H3562', 'H2102', 'H04123', 'H2013', 'H35432',\n",
    "       'H469', 'H26491', 'H409', 'Z992', 'H35411', 'H35341',\n",
    "       'H35362', 'H401132', 'H35443', 'H5712', 'H18422', 'H259', 'H34231',\n",
    "       'H04122', 'I10', 'H209', 'H40042', 'Z79899', 'H3554', 'H35412',\n",
    "       'H35361', 'H5213', 'H35342', 'H35043', 'H30113', 'H35433',\n",
    "       'H30142', 'H1811', 'H401113', 'H3533', 'H25812', 'H31013',\n",
    "       'H40023', 'H47321', 'H53021', 'H4922','H59021',\n",
    "       'H3540', 'H5010', 'H04223', 'H47012', 'H401133', 'H53123', 'H5316',\n",
    "       'H53032', 'H35462', 'H21542', 'H35013', 'H35722','H11002',\n",
    "       'H47013', 'H2512', 'H16223', 'H35051', 'Z83518', 'H35463',\n",
    "       'H35072', 'H02103', 'H47091', 'H35052', 'H3021', 'H211X2',\n",
    "       'H401131', 'H548', 'H5359', 'H35713', 'M3210', 'H2511', 'H401123',\n",
    "       'H4322', 'H04129', 'Z9842', 'H401122', 'H21233', 'H401130',\n",
    "       'H3563', 'Z9883', 'H16423', 'H318', 'H30043', 'H34212', 'H43312',\n",
    "       'H40033', 'H16142', 'H3551', 'H27111', 'H179', 'H31002', 'G7000',\n",
    "       'N179', 'H4063X0', 'H53031', 'H40052', 'H16211', 'H3509', 'G43101',\n",
    "       'H35031', 'H0016', 'H31093', 'H538', 'H401134', 'H4061X0',\n",
    "       'H25041', 'H15101', 'H43311', 'H20823', 'H35423', 'Z856', 'H25042',\n",
    "       'H21541', 'Z947', 'H27112', 'H40021', 'H40041', 'H02056', 'I872',\n",
    "       'H31001', 'H59022', 'H18231', 'H53133', 'H4321', 'H3570', 'H25013',\n",
    "       'H34213', 'R569', 'H1011', 'H3553', 'H211X3', 'G43B0', 'H4710',\n",
    "       'B029', 'H35022', 'H00023', 'H20013', 'H35343', 'B394', 'H01006',\n",
    "       'H21531', 'H5000', 'H43313', 'H47093', 'H2589', 'G4485', 'H53121',\n",
    "       'H1132', 'H15002', 'H35349', 'H35421', 'G514', 'H04121', 'H1131',\n",
    "       'H40022', 'H25093', 'H1851', 'H47323', 'H5501', 'H30033', 'H35073',\n",
    "       'H31003', 'H16042', 'H3412', 'H401112', 'H18421', 'H40011',\n",
    "       'Z0100', 'H1820', 'H4301', 'H18613', 'H211X1', 'H547', 'H2101',\n",
    "       'H31092', 'I4891', 'H53411', 'H26412', 'H40043', 'H16141',\n",
    "       'H35041', 'H524', 'H2701', 'H2011', 'Z970', 'H4010X0', 'H3093',\n",
    "       'H401110', 'H47011', 'B5801', 'H5713', 'H40012', 'H35711',\n",
    "       'H53421', 'H35723', 'H35431', 'H35133', 'H4720', 'H35102',\n",
    "       'H20032', 'H4711', 'H18232', 'H50812', 'H402220', 'H31091',\n",
    "       'H4601', 'H53001', 'H02401', 'H47322', 'H16143', 'H15833',\n",
    "       'H401233', 'L121', 'H02106', 'H2510', 'H3022', 'H527', 'H578',\n",
    "       'G43909', 'H1700', 'H11003', 'H18413', 'H53039', 'H3090', 'H40231',\n",
    "       'H00012', 'G43109', 'H401432', 'H30813', 'H5711', 'Z8639',\n",
    "       'H4912','H4921',\n",
    "       'H5211', 'G510', 'BRVO', 'H02402', 'H31103',\n",
    "       'I679', 'H35359', 'H2640', 'H4901', 'H02431',\n",
    "       'H53042', 'E70321', 'H40019', 'H02411', 'H26132','H3520',\n",
    "       'H5319', 'H401111', 'H15832', 'H31012', 'H16212', 'H31011',\n",
    "       'H35422', 'H1013', 'H4323', 'H5212', 'H5500', 'H59031', 'H3092',\n",
    "       'H2129', 'H53022', 'H18061', 'H01023', 'Z9841', 'H402210',\n",
    "       'H21501', 'H468', 'H4902', 'H2702', 'H2703', 'H401411', 'H35731',\n",
    "       'H26003', 'H53003', 'H15121', 'E0500', 'H16421', 'H31321', 'I6529',\n",
    "       'H53011', 'H3552', 'H21552', 'H20012', 'M0800',\n",
    "       'H1089','E782', 'H15831', 'H18603', 'H5201',\n",
    "       'H21232', 'H25819', 'H35032', 'H5441', 'H53423', 'B20', 'H4031X0',\n",
    "       'H35021', 'E70329', 'H349', 'H30132', 'H5442', 'H27121', 'H15001',\n",
    "       'H40049', 'H5371', 'H21342', 'H11442', 'B0233', 'Z4801', 'H27122',\n",
    "       'W19XXXA', 'H01113', 'G35', 'H539', 'H4062X0', 'Y92128', 'H31411',\n",
    "       'H02403', 'H11153', 'H21231', 'B0239', 'H40213', 'H4061X2',\n",
    "       'H47092', 'H5203', 'H18423', 'H04209', 'H31099', 'H21551', 'H0233',\n",
    "       'H30131', 'H31421', 'H35042', 'H5210', 'H16101', 'H401211', 'N189',\n",
    "       'H35023', 'H402233', 'H35712','H3589', 'H3582'],'OTHER',inplace=True)"
   ]
  },
  {
   "cell_type": "code",
   "execution_count": null,
   "metadata": {},
   "outputs": [],
   "source": [
    "df['ICD-10_Claim_Diagnosis_Code04'].unique()"
   ]
  },
  {
   "cell_type": "code",
   "execution_count": null,
   "metadata": {},
   "outputs": [],
   "source": [
    "replacements = {\n",
    "   'ICD-10_Claim_Diagnosis_Code05': {\n",
    "        \n",
    "       \n",
    "        r'(H3532.*)': 'AMD - Wet',\n",
    "        r'(E1.*)': 'Diabetes',\n",
    "        r'(H3531.*)': 'AMD - Dry',\n",
    "        r'(H3581.*)': 'ME',\n",
    "        r'(H3483.*)': 'BRVO',\n",
    "        r'(Q.*)': 'Congenital',\n",
    "        r'(H3481.*)': 'CRVO',\n",
    "        r'(S[0-9].*)': 'Injury',\n",
    "        r'(T[0-9].*)': 'Injury',\n",
    "        r'(H44.*)': 'mCNV',\n",
    "        r'(C[0-9].*)':'Neoplasm',\n",
    "        r'(D[0-9].*)':'Neoplasm',\n",
    "        r'(H3537.*)': 'Puckering',\n",
    "        r'(H33.*)': 'RD',\n",
    "        r'(H431.*)':'Vitreous Degeneration',\n",
    "        r'(H438.*)':'Vitreous Degeneration',\n",
    "\n",
    "   }\n",
    "}\n",
    "df.replace(replacements, regex=True, inplace=True)\n",
    "df"
   ]
  },
  {
   "cell_type": "code",
   "execution_count": null,
   "metadata": {},
   "outputs": [],
   "source": [
    "df['ICD-10_Claim_Diagnosis_Code05'].unique()"
   ]
  },
  {
   "cell_type": "code",
   "execution_count": null,
   "metadata": {},
   "outputs": [],
   "source": [
    "df['ICD-10_Claim_Diagnosis_Code05'].replace(['Z9883', 'H35033', 'H2513','Z98890',\n",
    "       'Z794', 'H16223', 'Z961', 'H31091', 'H04123',\n",
    "       'H259', 'H01003', 'H35433',\n",
    "       'H43391', 'H4321','H35412', 'H35363',\n",
    "       'H401124', 'I10', 'H35413', 'H40049', 'H25042',\n",
    "       'H1859', 'H2511', 'H43393', 'H25813', 'H35431', 'H25043',\n",
    "       'H53133', 'H40013', 'H25812', 'M3500', 'H5500', 'H40011', 'H179',\n",
    "       'H01006', 'H35411', 'H43392', 'H25013', 'H26493', 'H409',\n",
    "       'H401230', 'H31322', 'M3210', 'H401122', 'Z79899', 'H401133',\n",
    "       'H401132', 'H53032', 'H5010','H04122', 'L719',\n",
    "       'H21233', 'H40042', 'H2702', 'H5203', 'H31421', 'H35362', 'H5213',\n",
    "       'H35352', 'H11153', 'I639', 'H538', 'H2512', 'H25811', 'H35341',\n",
    "       'Z947','H21232', 'H35463', 'H5212', 'H35361', 'H43312',\n",
    "       'H3530', 'H15832','H1131', 'H401130', 'H35351',\n",
    "       'H35712', 'H401131', 'H35731', 'H25093', 'H16141', 'H35103',\n",
    "       'H31092', 'H26492', 'H53002', 'H02431', 'H3561', 'H4089', 'B20',\n",
    "       'A6920', 'H40053', 'H52203', 'H40023', 'H47091', 'H5353', 'H31093',\n",
    "       'H1820', 'H01023', 'H35041', 'H53001', 'G514', 'H40051', 'H40043',\n",
    "       'H0013', 'H1132', 'G43B0', 'H40052', 'H18423', 'B394', 'H21542',\n",
    "       'H4322', 'H2589', 'Y92129', 'H31103', 'H402210', 'H532', 'H401190',\n",
    "       'G453', 'H401113', 'H47323', 'H401134', 'H31411', 'H35032',\n",
    "       'H11003', 'H02053', 'H35462', 'I6529', 'H539', 'H31301', 'H25011',\n",
    "       'G512', 'H18413', 'H18232', 'H35461', 'H2703', 'G43109', 'H04121',\n",
    "       'H53022', 'H2701', 'H47322', 'H53021', 'H209', 'H40041', 'Z83518',\n",
    "       'H25092', 'H35383', 'H40022', 'H35051', 'H35432', 'H35023',\n",
    "       'H35353', 'H1840', 'H04129', 'H15831', 'H26491', 'H469', 'H401121',\n",
    "       'H1851', 'H26063', 'H5711', 'H11002', 'H0236', 'H35013', 'H35342',\n",
    "       'H35721', 'H349', 'B0239', 'H27111', 'H16143', 'H31102', 'H47011',\n",
    "       'H31422', 'H11001', 'H4720', 'H35043', 'H15833', 'H401123',\n",
    "       'H5210', 'H26101', 'H2510', 'H40019', 'H02402', 'H18613', 'H21342','H3589', 'H3582'],'OTHER',inplace=True)"
   ]
  },
  {
   "cell_type": "code",
   "execution_count": null,
   "metadata": {},
   "outputs": [],
   "source": [
    "df['ICD-10_Claim_Diagnosis_Code05'].unique()"
   ]
  },
  {
   "cell_type": "code",
   "execution_count": null,
   "metadata": {},
   "outputs": [],
   "source": [
    "replacements = {\n",
    "   'ICD-10_Claim_Diagnosis_Code06': {\n",
    "        \n",
    "       \n",
    "        r'(H3532.*)': 'AMD - Wet',\n",
    "        r'(E1.*)': 'Diabetes',\n",
    "        r'(H3531.*)': 'AMD - Dry',\n",
    "        r'(H3581.*)': 'ME',\n",
    "        r'(H3483.*)': 'BRVO',\n",
    "        r'(Q.*)': 'Congenital',\n",
    "        r'(H3481.*)': 'CRVO',\n",
    "        r'(S[0-9].*)': 'Injury',\n",
    "        r'(T[0-9].*)': 'Injury',\n",
    "        r'(H44.*)': 'mCNV',\n",
    "        r'(C[0-9].*)':'Neoplasm',\n",
    "        r'(D[0-9].*)':'Neoplasm',\n",
    "        r'(H3537.*)': 'Puckering',\n",
    "        r'(H33.*)': 'RD',\n",
    "        r'(H431.*)':'Vitreous Degeneration',\n",
    "        r'(H438.*)':'Vitreous Degeneration',\n",
    "\n",
    "   }\n",
    "}\n",
    "df.replace(replacements, regex=True, inplace=True)\n",
    "df"
   ]
  },
  {
   "cell_type": "code",
   "execution_count": null,
   "metadata": {},
   "outputs": [],
   "source": [
    "df['ICD-10_Claim_Diagnosis_Code06'].unique()"
   ]
  },
  {
   "cell_type": "code",
   "execution_count": null,
   "metadata": {},
   "outputs": [],
   "source": [
    "df['ICD-10_Claim_Diagnosis_Code06'].replace(['H3561','H4089','H16143',\n",
    "       'H11002', 'H211X3', 'H01006', 'H43392', 'H25813', 'Z794',\n",
    "       'H01003', 'H2511', 'H4922', 'G43B0',\n",
    "       'H40023', 'H35351', 'H31401', 'RD', 'H35033', 'Z961', 'H2513',\n",
    "       'H409', 'H43391', 'H5213', 'H53002', 'H35411', 'H25011', 'H25812',\n",
    "       'H40033', 'H35352', 'H259', 'H3562', 'H26493', 'H3411', 'H401132',\n",
    "       'H5501', 'H40013','H2512', 'H25013', 'H35432', 'H04121',\n",
    "       'H35412', 'H04123', 'H179', 'H3022', 'H5359',\n",
    "       'G510', 'H40042', 'H35413', 'H5702', 'Z98890', 'H211X2', 'H11003',\n",
    "       'H40041', 'H4322', 'Z79899','H18413', 'H25819',\n",
    "       'H35341', 'H40012', 'H04122', 'H43393', 'H4321', 'H47091',\n",
    "       'H26491', 'H35433', 'H1840', 'H538', 'H532', 'H53042', 'H25811',\n",
    "       'H401133','H3412', 'H02403', 'H401130',\n",
    "       'H40053', 'I4891', 'H27131', 'H5340', 'H5010', 'H5319', 'H11153',\n",
    "       'Z83518', 'H401131', 'H31093', 'H35363', 'B20', 'H01116', 'H53001',\n",
    "       'H1820', 'H35431', 'H16223', 'H401121', 'H1851', 'H40051',\n",
    "       'H31092', 'I10', 'H31301', 'H31091', 'H35362', 'H539', 'Z947',\n",
    "       'H1131', 'H3530','H4720', 'H209', 'H318', 'H35461',\n",
    "       'H02103', 'H35031', 'H35032', 'H35361', 'I639', 'H18421', 'G35',\n",
    "       'H40052', 'H3509', 'K50918', 'H02136', 'H31103', 'H26492', 'A6920',\n",
    "       'H2703', 'H2640', 'H2702', 'H35353', 'Z992', 'H35043', 'H53032',\n",
    "       'H35171','H3589', 'H3582'],'OTHER',inplace=True)"
   ]
  },
  {
   "cell_type": "code",
   "execution_count": null,
   "metadata": {},
   "outputs": [],
   "source": [
    "df['ICD-10_Claim_Diagnosis_Code06'].unique()"
   ]
  },
  {
   "cell_type": "code",
   "execution_count": null,
   "metadata": {},
   "outputs": [],
   "source": [
    "replacements = {\n",
    "   'ICD-10_Claim_Diagnosis_Code07': {\n",
    "        \n",
    "       \n",
    "        r'(H3532.*)': 'AMD - Wet',\n",
    "        r'(E1.*)': 'Diabetes',\n",
    "        r'(H3531.*)': 'AMD - Dry',\n",
    "        r'(H3581.*)': 'ME',\n",
    "        r'(H3483.*)': 'BRVO',\n",
    "        r'(Q.*)': 'Congenital',\n",
    "        r'(H3481.*)': 'CRVO',\n",
    "        r'(S[0-9].*)': 'Injury',\n",
    "        r'(T[0-9].*)': 'Injury',\n",
    "        r'(H44.*)': 'mCNV',\n",
    "        r'(C[0-9].*)':'Neoplasm',\n",
    "        r'(D[0-9].*)':'Neoplasm',\n",
    "        r'(H3537.*)': 'Puckering',\n",
    "        r'(H33.*)': 'RD',\n",
    "        r'(H431.*)':'Vitreous Degeneration',\n",
    "        r'(H438.*)':'Vitreous Degeneration',\n",
    "\n",
    "   }\n",
    "}\n",
    "df.replace(replacements, regex=True, inplace=True)\n",
    "df"
   ]
  },
  {
   "cell_type": "code",
   "execution_count": null,
   "metadata": {},
   "outputs": [],
   "source": [
    "df['ICD-10_Claim_Diagnosis_Code07'].unique()"
   ]
  },
  {
   "cell_type": "code",
   "execution_count": null,
   "metadata": {},
   "outputs": [],
   "source": [
    "df['ICD-10_Claim_Diagnosis_Code07'].replace(['H25819', 'H01006','H5319', 'H401430',\n",
    "       'H43392', 'H4089', 'H26493', 'H5213',\n",
    "       'Z947', 'H43393', 'H2703', 'H259', 'H47091', 'H2512', 'Z961',\n",
    "       'Z98890', 'H409', 'H25813', 'H40052', 'H2513',\n",
    "       'H35352','H25011','G43B0', 'H04123',\n",
    "       'Z794','H21232', 'H31002', 'H01003', 'H401130',\n",
    "       'H43391', 'H35412', 'H26492', 'H27111', 'H35351', 'H35411', 'E079',\n",
    "       'H35062', 'I10', 'H35353', 'H30893', 'H0520', 'H2511',\n",
    "       'H35432', 'H40013', 'H31411', 'H04122', 'H4321', 'Z833', 'H179',\n",
    "       'H2702', 'H35033', 'L719', 'H40043', 'H211X2', 'Z83518', 'H25811',\n",
    "       'H35722', 'H5000', 'H31001', 'H3562', 'H30132', 'H11153',\n",
    "       'H04121', 'Z9883', 'H53002', 'H538', 'H35362', 'H40041','H3589', 'H3582'],'OTHER',inplace=True)"
   ]
  },
  {
   "cell_type": "code",
   "execution_count": null,
   "metadata": {},
   "outputs": [],
   "source": [
    "df['ICD-10_Claim_Diagnosis_Code07'].unique()"
   ]
  },
  {
   "cell_type": "code",
   "execution_count": null,
   "metadata": {},
   "outputs": [],
   "source": [
    "replacements = {\n",
    "   'ICD-10_Claim_Diagnosis_Code08': {\n",
    "        \n",
    "       \n",
    "        r'(H3532.*)': 'AMD - Wet',\n",
    "        r'(E1.*)': 'Diabetes',\n",
    "        r'(H3531.*)': 'AMD - Dry',\n",
    "        r'(H3581.*)': 'ME',\n",
    "        r'(H3483.*)': 'BRVO',\n",
    "        r'(Q.*)': 'Congenital',\n",
    "        r'(H3481.*)': 'CRVO',\n",
    "        r'(S[0-9].*)': 'Injury',\n",
    "        r'(T[0-9].*)': 'Injury',\n",
    "        r'(H44.*)': 'mCNV',\n",
    "        r'(C[0-9].*)':'Neoplasm',\n",
    "        r'(D[0-9].*)':'Neoplasm',\n",
    "        r'(H3537.*)': 'Puckering',\n",
    "        r'(H33.*)': 'RD',\n",
    "        r'(H431.*)':'Vitreous Degeneration',\n",
    "        r'(H438.*)':'Vitreous Degeneration',\n",
    "\n",
    "   }\n",
    "}\n",
    "df.replace(replacements, regex=True, inplace=True)\n",
    "df"
   ]
  },
  {
   "cell_type": "code",
   "execution_count": null,
   "metadata": {},
   "outputs": [],
   "source": [
    "df['ICD-10_Claim_Diagnosis_Code08'].unique()"
   ]
  },
  {
   "cell_type": "code",
   "execution_count": null,
   "metadata": {},
   "outputs": [],
   "source": [
    "df['ICD-10_Claim_Diagnosis_Code08'].replace(['H401132', 'Z961', 'H35433', 'Z98890', 'H25812', 'H2513',\n",
    "       'H35353', 'H30893', 'H25042','H21232', 'H3530', 'H15833',\n",
    "       'H01006','H25043', 'H3562', 'H0016', 'H40052', 'H259',\n",
    "       'H40013','H04123',\n",
    "       'Z83518', 'H43392','H04121', 'H3561',\n",
    "       'H31091', 'H2512', 'H43391', 'H5210', 'H31421', 'H0520', 'M3500',\n",
    "       'H25811', 'H35352','H3589', 'H3582'],'OTHER',inplace=True)"
   ]
  },
  {
   "cell_type": "code",
   "execution_count": null,
   "metadata": {},
   "outputs": [],
   "source": [
    "df['ICD-10_Claim_Diagnosis_Code08'].unique()"
   ]
  },
  {
   "cell_type": "code",
   "execution_count": null,
   "metadata": {},
   "outputs": [],
   "source": [
    "replacements = {\n",
    "   'ICD-10_Claim_Diagnosis_Code09': {\n",
    "        \n",
    "       \n",
    "        r'(H3532.*)': 'AMD - Wet',\n",
    "        r'(E1.*)': 'Diabetes',\n",
    "        r'(H3531.*)': 'AMD - Dry',\n",
    "        r'(H3581.*)': 'ME',\n",
    "        r'(H3483.*)': 'BRVO',\n",
    "        r'(Q.*)': 'Congenital',\n",
    "        r'(H3481.*)': 'CRVO',\n",
    "        r'(S[0-9].*)': 'Injury',\n",
    "        r'(T[0-9].*)': 'Injury',\n",
    "        r'(H44.*)': 'mCNV',\n",
    "        r'(C[0-9].*)':'Neoplasm',\n",
    "        r'(D[0-9].*)':'Neoplasm',\n",
    "        r'(H3537.*)': 'Puckering',\n",
    "        r'(H33.*)': 'RD',\n",
    "        r'(H431.*)':'Vitreous Degeneration',\n",
    "        r'(H438.*)':'Vitreous Degeneration',\n",
    "\n",
    "   }\n",
    "}\n",
    "df.replace(replacements, regex=True, inplace=True)\n",
    "df"
   ]
  },
  {
   "cell_type": "code",
   "execution_count": null,
   "metadata": {},
   "outputs": [],
   "source": [
    "df['ICD-10_Claim_Diagnosis_Code09'].unique()"
   ]
  },
  {
   "cell_type": "code",
   "execution_count": null,
   "metadata": {},
   "outputs": [],
   "source": [
    "df['ICD-10_Claim_Diagnosis_Code09'].replace(['H43393', 'H21232', 'H2513', 'Z98890', 'Z961',\n",
    "       'H25813', 'H31411', 'H26491', 'H43392',\n",
    "       'H40041', 'H0016','H3589', 'H3582'],'OTHER',inplace=True)"
   ]
  },
  {
   "cell_type": "code",
   "execution_count": null,
   "metadata": {},
   "outputs": [],
   "source": [
    "df['ICD-10_Claim_Diagnosis_Code09'].unique()"
   ]
  },
  {
   "cell_type": "code",
   "execution_count": null,
   "metadata": {},
   "outputs": [],
   "source": [
    "replacements = {\n",
    "   'ICD-10_Claim_Diagnosis_Code010': {\n",
    "        \n",
    "       \n",
    "        r'(H3532.*)': 'AMD - Wet',\n",
    "        r'(E1.*)': 'Diabetes',\n",
    "        r'(H3531.*)': 'AMD - Dry',\n",
    "        r'(H3581.*)': 'ME',\n",
    "        r'(H3483.*)': 'BRVO',\n",
    "        r'(Q.*)': 'Congenital',\n",
    "        r'(H3481.*)': 'CRVO',\n",
    "        r'(S[0-9].*)': 'Injury',\n",
    "        r'(T[0-9].*)': 'Injury',\n",
    "        r'(H44.*)': 'mCNV',\n",
    "        r'(C[0-9].*)':'Neoplasm',\n",
    "        r'(D[0-9].*)':'Neoplasm',\n",
    "        r'(H3537.*)': 'Puckering',\n",
    "        r'(H33.*)': 'RD',\n",
    "        r'(H431.*)':'Vitreous Degeneration',\n",
    "        r'(H438.*)':'Vitreous Degeneration',\n",
    "\n",
    "   }\n",
    "}\n",
    "df.replace(replacements, regex=True, inplace=True)\n",
    "df"
   ]
  },
  {
   "cell_type": "code",
   "execution_count": null,
   "metadata": {},
   "outputs": [],
   "source": [
    "df['ICD-10_Claim_Diagnosis_Code010'].unique()"
   ]
  },
  {
   "cell_type": "code",
   "execution_count": null,
   "metadata": {},
   "outputs": [],
   "source": [
    "df['ICD-10_Claim_Diagnosis_Code010'].replace(['H2513','Z961', 'H31411','H3589', 'H3582'],'OTHER',inplace=True)"
   ]
  },
  {
   "cell_type": "code",
   "execution_count": null,
   "metadata": {},
   "outputs": [],
   "source": [
    "df['ICD-10_Claim_Diagnosis_Code010'].unique()"
   ]
  },
  {
   "cell_type": "code",
   "execution_count": null,
   "metadata": {},
   "outputs": [],
   "source": [
    "replacements = {\n",
    "   'ICD-10_Claim_Diagnosis_Code011': {\n",
    "        \n",
    "       \n",
    "        r'(H3532.*)': 'AMD - Wet',\n",
    "        r'(E1.*)': 'Diabetes',\n",
    "        r'(H3531.*)': 'AMD - Dry',\n",
    "        r'(H3581.*)': 'ME',\n",
    "        r'(H3483.*)': 'BRVO',\n",
    "        r'(Q.*)': 'Congenital',\n",
    "        r'(H3481.*)': 'CRVO',\n",
    "        r'(S[0-9].*)': 'Injury',\n",
    "        r'(T[0-9].*)': 'Injury',\n",
    "        r'(H44.*)': 'mCNV',\n",
    "        r'(C[0-9].*)':'Neoplasm',\n",
    "        r'(D[0-9].*)':'Neoplasm',\n",
    "        r'(H3537.*)': 'Puckering',\n",
    "        r'(H33.*)': 'RD',\n",
    "        r'(H431.*)':'Vitreous Degeneration',\n",
    "        r'(H438.*)':'Vitreous Degeneration',\n",
    "\n",
    "   }\n",
    "}\n",
    "df.replace(replacements, regex=True, inplace=True)\n",
    "df"
   ]
  },
  {
   "cell_type": "code",
   "execution_count": null,
   "metadata": {},
   "outputs": [],
   "source": [
    "df['ICD-10_Claim_Diagnosis_Code011'].unique()"
   ]
  },
  {
   "cell_type": "code",
   "execution_count": null,
   "metadata": {},
   "outputs": [],
   "source": [
    "replacements = {\n",
    "   'ICD-10_Claim_Diagnosis_Code012': {\n",
    "        \n",
    "       \n",
    "        r'(H3532.*)': 'AMD - Wet',\n",
    "        r'(E1.*)': 'Diabetes',\n",
    "        r'(H3531.*)': 'AMD - Dry',\n",
    "        r'(H3581.*)': 'ME',\n",
    "        r'(H3483.*)': 'BRVO',\n",
    "        r'(Q.*)': 'Congenital',\n",
    "        r'(H3481.*)': 'CRVO',\n",
    "        r'(S[0-9].*)': 'Injury',\n",
    "        r'(T[0-9].*)': 'Injury',\n",
    "        r'(H44.*)': 'mCNV',\n",
    "        r'(C[0-9].*)':'Neoplasm',\n",
    "        r'(D[0-9].*)':'Neoplasm',\n",
    "        r'(H3537.*)': 'Puckering',\n",
    "        r'(H33.*)': 'RD',\n",
    "        r'(H431.*)':'Vitreous Degeneration',\n",
    "        r'(H438.*)':'Vitreous Degeneration',\n",
    "\n",
    "   }\n",
    "}\n",
    "df.replace(replacements, regex=True, inplace=True)\n",
    "df"
   ]
  },
  {
   "cell_type": "code",
   "execution_count": null,
   "metadata": {},
   "outputs": [],
   "source": [
    "df['ICD-10_Claim_Diagnosis_Code012'].unique()"
   ]
  },
  {
   "cell_type": "code",
   "execution_count": null,
   "metadata": {},
   "outputs": [],
   "source": [
    "replacements = {\n",
    "   'Primary_Diagnosis_9': {\n",
    "        \n",
    "       \n",
    "        r'(36250.*)': 'AMD - Wet',\n",
    "        r'(36252.*)': 'AMD - Wet',\n",
    "        r'(36283.*)': 'ME',\n",
    "        r'(36235.*)':'CRVO',\n",
    "        r'(36236.*)':'BRVO',\n",
    "        r'(362.07*)':'Diabetes'\n",
    "       \n",
    "   }\n",
    "}\n",
    "df.replace(replacements, regex=True, inplace=True)\n",
    "df"
   ]
  },
  {
   "cell_type": "code",
   "execution_count": null,
   "metadata": {},
   "outputs": [],
   "source": [
    "df['Primary_Diagnosis_9'].unique()"
   ]
  },
  {
   "cell_type": "code",
   "execution_count": null,
   "metadata": {},
   "outputs": [],
   "source": [
    "df['Primary_Diagnosis_9'].replace(['37923', '36321', '36110', '37921', '36256',\n",
    "       'V5867', '36103', '36033', '36254', '36253', '3612', '36263',\n",
    "       '36241', '36216', '2246', '36102', '37021', '3688', '36132',\n",
    "       '36619', '3643', '36101', '36217', '36274', 'V431', '36589',\n",
    "       '36610', 'V5889', '36000', '36523', '37927', '36257', '36211',\n",
    "       '36021', '37924', '37122', '36281', '36131', '36283', '36181',\n",
    "       '36242', '36276', '36130', '3732', '36031', '37854', '37922',\n",
    "       '36401', '36019','37515', '36502', 'V700', '36334',\n",
    "       '36107', '36501', '11500', '2251', '36332', '36212', '36504',\n",
    "       '36653', '37272', '25000', '3779', '2249', '37300', '36232',\n",
    "       '36313', '36616', '36510', '36315', '36100', '36442', '4019',\n",
    "       '36104', '9212', '36243', '36503', '36330', '3410', '37715',\n",
    "       '36012', '36255', '36237', '36215', '36119', '37934', '22809',\n",
    "       '1906', 'V5869', '37741', '36961', '34620', '37810', '36816',\n",
    "       '37261', '37730', '36266', '36815', '36231', '36275', '36264',\n",
    "       '36320', '28260', '36505', '34602', '36801', '37034', '37062',\n",
    "       '36214', '37721', '37925', '3699', '36843', '2161', '1302',\n",
    "       '74330', '36189', '3482', '99882', '990', '37932', '36289',\n",
    "       'V4578', 'V410', '37120', '37000', '36531', '36402', '36284',\n",
    "       '36340', '37749', '36618', '9181', '36811', '36512', '74356',\n",
    "       '36042', '3671', '34600', '36262', '36363', '36800', '36213',\n",
    "       '99659', '37033', '43310', '05329', '37853', '4779', '3659',\n",
    "       '37731', '36218', '36842', '74351', '36372', '37302', '3668',\n",
    "       '37200', '34621', '34692', '1280', '37313', '37430', '37724',\n",
    "       '36261', '37733', '37275', '36603', '74349', '36273', '36404',\n",
    "       '36521', '3638', '36471', '37205', '36617', '37722', '36620',\n",
    "       '36460', '37900', '37214', '36343', '37912', '36841', '37403',\n",
    "       '37433', '37950', '36463', '36234', '37743', '9300', '36475',\n",
    "       '7100', '37700', '36233', '36840', '36846', '36306', '37993',\n",
    "       '74345', '36614', '36474', '36106', '37255', '7596', '74781',\n",
    "       '135', 'V1919', '37023', '36844', '37931', '36371', '37100',\n",
    "       '37933', '25050', '37630', '37203', '37901', '8719', '37332',\n",
    "       '3501', '75989', '3674', '37157', '37732', 'V4569', '36202',\n",
    "       '36002', '36552', '74357', '99653', '37410', '2388', '37202',\n",
    "       '33818', '37800', 'V1911', '36513', '2245', '3682', '3670',\n",
    "       '36300', '36477', '36813', '37991', '3518', '37711', '36041',\n",
    "       '37522', '37883', '3694', '45981', '36854', '37701', '118',\n",
    "       '37161', '99889', '36361', '3320', '37143', '37723', '01190',\n",
    "       '36615', '37311', '05443', '36004', '36403', 'V4561', '36277',\n",
    "       '36001', 'V425', '36562', '37152', '23770'],'OTHER',inplace=True)"
   ]
  },
  {
   "cell_type": "code",
   "execution_count": null,
   "metadata": {},
   "outputs": [],
   "source": [
    "df['Primary_Diagnosis_9'].unique()"
   ]
  },
  {
   "cell_type": "code",
   "execution_count": null,
   "metadata": {},
   "outputs": [],
   "source": [
    "df.head()"
   ]
  },
  {
   "cell_type": "code",
   "execution_count": null,
   "metadata": {},
   "outputs": [],
   "source": [
    "df['Proc_Code'].isnull().sum()"
   ]
  },
  {
   "cell_type": "code",
   "execution_count": null,
   "metadata": {},
   "outputs": [],
   "source": [
    "df['Primary_Diagnosis_10'].isnull().sum()"
   ]
  },
  {
   "cell_type": "code",
   "execution_count": null,
   "metadata": {},
   "outputs": [],
   "source": [
    "df['ICD-10_Claim_Diagnosis_Code02'].isnull().sum()"
   ]
  },
  {
   "cell_type": "code",
   "execution_count": null,
   "metadata": {},
   "outputs": [],
   "source": [
    "df.info()"
   ]
  },
  {
   "cell_type": "code",
   "execution_count": null,
   "metadata": {},
   "outputs": [],
   "source": [
    "df2 = pd.DataFrame({'Claim_ID':df.Claim_ID.unique()})\n",
    "df2['Proc_Clas'] = [list(set(df['Proc_Clas'].loc[df['Claim_ID'] == x['Claim_ID']])) for _, x in df2.iterrows()]"
   ]
  },
  {
   "cell_type": "code",
   "execution_count": null,
   "metadata": {},
   "outputs": [],
   "source": [
    "df2"
   ]
  },
  {
   "cell_type": "code",
   "execution_count": null,
   "metadata": {},
   "outputs": [],
   "source": [
    "df2.to_csv('df2.csv', index=False)"
   ]
  },
  {
   "cell_type": "code",
   "execution_count": null,
   "metadata": {},
   "outputs": [],
   "source": [
    "df2.info()"
   ]
  },
  {
   "cell_type": "code",
   "execution_count": null,
   "metadata": {},
   "outputs": [],
   "source": [
    "df2['Proc_Clas']=df2['Proc_Clas'].astype(str)"
   ]
  },
  {
   "cell_type": "code",
   "execution_count": null,
   "metadata": {},
   "outputs": [],
   "source": [
    "df2['Proc_Clas1'], df2['Proc_Clas2'] = df2['Proc_Clas'].str.split(',', 1).str"
   ]
  },
  {
   "cell_type": "code",
   "execution_count": null,
   "metadata": {},
   "outputs": [],
   "source": [
    "df2"
   ]
  },
  {
   "cell_type": "code",
   "execution_count": null,
   "metadata": {},
   "outputs": [],
   "source": [
    "df2.isnull().sum()"
   ]
  },
  {
   "cell_type": "code",
   "execution_count": null,
   "metadata": {},
   "outputs": [],
   "source": [
    "df2 = df2[pd.notnull(df2['Proc_Clas2'])]"
   ]
  },
  {
   "cell_type": "code",
   "execution_count": null,
   "metadata": {},
   "outputs": [],
   "source": [
    "df2"
   ]
  },
  {
   "cell_type": "code",
   "execution_count": null,
   "metadata": {},
   "outputs": [],
   "source": [
    "df_Modifier = df[df['Claim_ID'].isin(df2['Claim_ID'])]"
   ]
  },
  {
   "cell_type": "code",
   "execution_count": null,
   "metadata": {},
   "outputs": [],
   "source": [
    "df_Modifier "
   ]
  },
  {
   "cell_type": "code",
   "execution_count": null,
   "metadata": {},
   "outputs": [],
   "source": [
    "df_Lumped_NonDrug = df[~df['Claim_ID'].isin(df2['Claim_ID'])]"
   ]
  },
  {
   "cell_type": "code",
   "execution_count": null,
   "metadata": {},
   "outputs": [],
   "source": [
    "df_Lumped_NonDrug"
   ]
  },
  {
   "cell_type": "code",
   "execution_count": null,
   "metadata": {},
   "outputs": [],
   "source": [
    "df_Modifier.loc[df_Modifier['Claim_ID'] == 1077095]"
   ]
  },
  {
   "cell_type": "code",
   "execution_count": null,
   "metadata": {},
   "outputs": [],
   "source": [
    "df_Modifier.info()"
   ]
  },
  {
   "cell_type": "code",
   "execution_count": null,
   "metadata": {},
   "outputs": [],
   "source": [
    "#Function to create output data folder to store graph and .csv \n",
    "def create_directory_for_output():\n",
    "    data_folder = os.path.join(\"..\", \"EOC_Raw_Data\", 'EOC_Reports_All_Insurance')\n",
    "    if not os.path.exists(data_folder):\n",
    "        os.mkdir(data_folder)\n",
    "    return data_folder\n",
    "\n",
    "output_folder=create_directory_for_output()\n",
    "output_folder"
   ]
  },
  {
   "cell_type": "markdown",
   "metadata": {},
   "source": [
    "################################################################################################################################\n",
    "# AMD - Wet\n",
    "################################################################################################################################"
   ]
  },
  {
   "cell_type": "code",
   "execution_count": null,
   "metadata": {},
   "outputs": [],
   "source": [
    "df_AMD_Wet=df_Modifier.loc[(df_Modifier['Primary_Diagnosis_10'] == 'AMD - Wet') |(df_Modifier['ICD-10_Claim_Diagnosis_Code02'] == 'AMD - Wet')|(df_Modifier['ICD-10_Claim_Diagnosis_Code03'] == 'AMD - Wet')|(df_Modifier['ICD-10_Claim_Diagnosis_Code04'] == 'AMD - Wet') |(df_Modifier['ICD-10_Claim_Diagnosis_Code05'] == 'AMD - Wet') |(df_Modifier['ICD-10_Claim_Diagnosis_Code06'] == 'AMD - Wet')|(df_Modifier['ICD-10_Claim_Diagnosis_Code07'] == 'AMD - Wet')|(df_Modifier['ICD-10_Claim_Diagnosis_Code08'] == 'AMD - Wet')|(df_Modifier['ICD-10_Claim_Diagnosis_Code09'] == 'AMD - Wet')|(df_Modifier['ICD-10_Claim_Diagnosis_Code010'] == 'AMD - Wet')|(df_Modifier['ICD-10_Claim_Diagnosis_Code011'] == 'AMD - Wet')|(df_Modifier['Primary_Diagnosis_9'] == 'AMD - Wet') ]"
   ]
  },
  {
   "cell_type": "code",
   "execution_count": null,
   "metadata": {},
   "outputs": [],
   "source": [
    "df_AMD_Wet= (df_AMD_Wet.groupby(['Claim_ID','Proc_Clas','Proc_Code','Proc_Desc'])\n",
    "    .agg({'Sum_Charges':'sum','Sum_All_Charges':'sum','Sum_Net_Payments':'sum',\n",
    "         'Sum_Contractual_Adj':'sum','Sum_Calculated_Allowable':'sum','Sum_Actual_Allowed_Amts':'sum','Sum_Expected_Allowed_Amts':'sum','Sum_All_Adj':'sum','Sum_Allowable_Diff':'sum','Sum_Payments':'sum',\n",
    "          })\n",
    "    .reset_index()\n",
    "                 )"
   ]
  },
  {
   "cell_type": "code",
   "execution_count": null,
   "metadata": {},
   "outputs": [],
   "source": [
    "df_AMD_Wet"
   ]
  },
  {
   "cell_type": "code",
   "execution_count": null,
   "metadata": {},
   "outputs": [],
   "source": [
    "df_AMD_Wet_DRUG=df_AMD_Wet[df_AMD_Wet['Proc_Clas']=='Drug']"
   ]
  },
  {
   "cell_type": "code",
   "execution_count": null,
   "metadata": {},
   "outputs": [],
   "source": [
    "df_AMD_Wet_DRUG"
   ]
  },
  {
   "cell_type": "code",
   "execution_count": null,
   "metadata": {},
   "outputs": [],
   "source": [
    "#df_AMD_Wet_DRUG=df_AMD_Wet_DRUG[df_AMD_Wet_DRUG['Proc_Code']=='J0178']"
   ]
  },
  {
   "cell_type": "code",
   "execution_count": null,
   "metadata": {},
   "outputs": [],
   "source": [
    "#df_AMD_Wet_DRUG.to_csv(\"../EOC_Raw_Data/drug.csv\")"
   ]
  },
  {
   "cell_type": "code",
   "execution_count": null,
   "metadata": {},
   "outputs": [],
   "source": [
    "df_AMD_Wet_Itemized =df_AMD_Wet[df_AMD_Wet['Proc_Clas']=='Non-Drug']"
   ]
  },
  {
   "cell_type": "code",
   "execution_count": null,
   "metadata": {},
   "outputs": [],
   "source": [
    "df_AMD_Wet_Itemized"
   ]
  },
  {
   "cell_type": "code",
   "execution_count": null,
   "metadata": {},
   "outputs": [],
   "source": [
    "df_AMD_Wet_Itemized_New= (df_AMD_Wet_Itemized.groupby(['Claim_ID','Proc_Clas'])\n",
    "    .agg({'Sum_Charges':'sum','Sum_All_Charges':'sum','Sum_Net_Payments':'sum',\n",
    "         'Sum_Contractual_Adj':'sum','Sum_Calculated_Allowable':'sum','Sum_Actual_Allowed_Amts':'sum','Sum_Expected_Allowed_Amts':'sum','Sum_All_Adj':'sum','Sum_Allowable_Diff':'sum','Sum_Payments':'sum',\n",
    "          })\n",
    "    .reset_index()\n",
    "                 )"
   ]
  },
  {
   "cell_type": "code",
   "execution_count": null,
   "metadata": {},
   "outputs": [],
   "source": [
    "df_AMD_Wet_Itemized_New"
   ]
  },
  {
   "cell_type": "code",
   "execution_count": null,
   "metadata": {},
   "outputs": [],
   "source": [
    "Report_AMD_Wet = pd.merge(df_AMD_Wet_DRUG,\n",
    "                 df_AMD_Wet_Itemized_New,\n",
    "                 on='Claim_ID', \n",
    "                 how='inner')"
   ]
  },
  {
   "cell_type": "code",
   "execution_count": null,
   "metadata": {},
   "outputs": [],
   "source": [
    "d = {'Claim_ID':'Claim_ID','Proc_Code':'Proc_Code','Proc_Desc':'EOC_with_or_no_drug','Sum_Charges_x':'#Units','Sum_Net_Payments_x':'EOC_Total_Pmt_Code_Portion',\n",
    "         'Sum_Actual_Allowed_Amts_x':'EOC_Total_Calculated_Allow_Code_Portion','Sum_Net_Payments_y':'EOC_Total_Pmt_Non_Code_Portion',\n",
    "         'Sum_Actual_Allowed_Amts_y':'EOC_Total_Calculated_Allow_Non_Code_Portion','Sum_All_Adj_x':'Total_All_Adj'}"
   ]
  },
  {
   "cell_type": "code",
   "execution_count": null,
   "metadata": {},
   "outputs": [],
   "source": [
    "Report_AMD_Wet = Report_AMD_Wet.rename(columns=lambda col: d.get(str(col)) if str(col) in d else col)"
   ]
  },
  {
   "cell_type": "code",
   "execution_count": null,
   "metadata": {},
   "outputs": [],
   "source": [
    "Report_AMD_Wet[['Claim_ID','Proc_Code','EOC_with_or_no_drug','#Units','EOC_Total_Pmt_Code_Portion',\n",
    "         'EOC_Total_Calculated_Allow_Code_Portion','EOC_Total_Pmt_Non_Code_Portion',\n",
    "         'EOC_Total_Calculated_Allow_Non_Code_Portion','Total_All_Adj']]"
   ]
  },
  {
   "cell_type": "code",
   "execution_count": null,
   "metadata": {},
   "outputs": [],
   "source": [
    "Report_AMD_Wet = Report_AMD_Wet.loc[Report_AMD_Wet['EOC_Total_Pmt_Code_Portion']!=0] \n",
    "#result = result.loc[result['Non_Code_Portion_Net_Payments']!=0] \n",
    "#result = result.loc[(result['EOC_Total_Pmt_Code_Portion']>= result['Total_All_Adj'])] "
   ]
  },
  {
   "cell_type": "code",
   "execution_count": null,
   "metadata": {},
   "outputs": [],
   "source": [
    "#Report_AMD_Wet=Report_AMD_Wet[Report_AMD_Wet['Proc_Code']=='J0178']"
   ]
  },
  {
   "cell_type": "code",
   "execution_count": null,
   "metadata": {},
   "outputs": [],
   "source": [
    "#Report_AMD_Wet.to_csv('../EOC_Raw_Data/result.csv',index=False)"
   ]
  },
  {
   "cell_type": "code",
   "execution_count": null,
   "metadata": {},
   "outputs": [],
   "source": [
    "Report_AMD_Wet_New= (Report_AMD_Wet.groupby(['Proc_Code','EOC_with_or_no_drug'])\n",
    "    .agg({'Claim_ID':'count','#Units':'sum','EOC_Total_Pmt_Code_Portion':'sum','EOC_Total_Pmt_Non_Code_Portion':'sum',\n",
    "         'EOC_Total_Calculated_Allow_Code_Portion':'sum','EOC_Total_Calculated_Allow_Non_Code_Portion':'sum',\n",
    "         'Total_All_Adj':'sum'})\n",
    "    .reset_index()\n",
    "    .rename(columns={'Claim_ID':'#EOCs'})\n",
    ")"
   ]
  },
  {
   "cell_type": "code",
   "execution_count": null,
   "metadata": {},
   "outputs": [],
   "source": [
    "Report_AMD_Wet_New"
   ]
  },
  {
   "cell_type": "code",
   "execution_count": null,
   "metadata": {},
   "outputs": [],
   "source": [
    "def eoc_total_pmt(column): \n",
    "         return ((column['EOC_Total_Pmt_Code_Portion'] + column['EOC_Total_Pmt_Non_Code_Portion']))\n"
   ]
  },
  {
   "cell_type": "code",
   "execution_count": null,
   "metadata": {},
   "outputs": [],
   "source": [
    "Report_AMD_Wet_New['EOC_Total_Pmts'] = Report_AMD_Wet_New.apply(eoc_total_pmt, axis=1) "
   ]
  },
  {
   "cell_type": "code",
   "execution_count": null,
   "metadata": {},
   "outputs": [],
   "source": [
    "def total_code_portion(column): \n",
    "    if column['EOC_Total_Pmts'] != 0 :\n",
    "        return ((column['EOC_Total_Pmt_Code_Portion']/ column['EOC_Total_Pmts'])*100)\n",
    "    else :\n",
    "        return 0"
   ]
  },
  {
   "cell_type": "code",
   "execution_count": null,
   "metadata": {},
   "outputs": [],
   "source": [
    "Report_AMD_Wet_New['%_of_code_portion'] = Report_AMD_Wet_New.apply(total_code_portion, axis=1) "
   ]
  },
  {
   "cell_type": "code",
   "execution_count": null,
   "metadata": {},
   "outputs": [],
   "source": [
    "def total_non_code_portion(column): \n",
    "    if column['EOC_Total_Pmts'] != 0 :\n",
    "        return ((column['EOC_Total_Pmt_Non_Code_Portion']/ column['EOC_Total_Pmts'])*100)\n",
    "    else :\n",
    "        return 0"
   ]
  },
  {
   "cell_type": "code",
   "execution_count": null,
   "metadata": {},
   "outputs": [],
   "source": [
    "Report_AMD_Wet_New['%_of_non_code_portion'] = Report_AMD_Wet_New.apply(total_non_code_portion, axis=1) "
   ]
  },
  {
   "cell_type": "code",
   "execution_count": null,
   "metadata": {},
   "outputs": [],
   "source": [
    "def eoc_total_calc_allow(column): \n",
    "         return ((column['EOC_Total_Calculated_Allow_Code_Portion'] + column['EOC_Total_Calculated_Allow_Non_Code_Portion']))"
   ]
  },
  {
   "cell_type": "code",
   "execution_count": null,
   "metadata": {},
   "outputs": [],
   "source": [
    "Report_AMD_Wet_New['EOC_Total_Calc_Allow'] = Report_AMD_Wet_New.apply(eoc_total_calc_allow, axis=1) "
   ]
  },
  {
   "cell_type": "code",
   "execution_count": null,
   "metadata": {},
   "outputs": [],
   "source": [
    "def total_allow_code_portion(column): \n",
    "    if column['EOC_Total_Calc_Allow'] != 0 :\n",
    "        return ((column['EOC_Total_Calculated_Allow_Code_Portion']/ column['EOC_Total_Calc_Allow'])*100)\n",
    "    else :\n",
    "        return 0"
   ]
  },
  {
   "cell_type": "code",
   "execution_count": null,
   "metadata": {},
   "outputs": [],
   "source": [
    "Report_AMD_Wet_New['%_of_allow_code_portion'] = Report_AMD_Wet_New.apply(total_allow_code_portion, axis=1) "
   ]
  },
  {
   "cell_type": "code",
   "execution_count": null,
   "metadata": {},
   "outputs": [],
   "source": [
    "def total_allow_non_code_portion(column): \n",
    "    if column['EOC_Total_Calc_Allow'] != 0 :\n",
    "        return ((column['EOC_Total_Calculated_Allow_Non_Code_Portion']/ column['EOC_Total_Calc_Allow'])*100)\n",
    "    else :\n",
    "        return 0"
   ]
  },
  {
   "cell_type": "code",
   "execution_count": null,
   "metadata": {},
   "outputs": [],
   "source": [
    "Report_AMD_Wet_New['%_of_allow_non_code_portion'] = Report_AMD_Wet_New.apply(total_allow_non_code_portion, axis=1) "
   ]
  },
  {
   "cell_type": "code",
   "execution_count": null,
   "metadata": {},
   "outputs": [],
   "source": [
    "def eoc_avg_pmt(column): \n",
    "    if column['#EOCs'] != 0 :\n",
    "        return ((column['EOC_Total_Pmts']/ column['#EOCs']))\n",
    "    else :\n",
    "        return 0"
   ]
  },
  {
   "cell_type": "code",
   "execution_count": null,
   "metadata": {},
   "outputs": [],
   "source": [
    "Report_AMD_Wet_New['EOC_Avg_Pmt'] = Report_AMD_Wet_New.apply(eoc_avg_pmt, axis=1) "
   ]
  },
  {
   "cell_type": "code",
   "execution_count": null,
   "metadata": {},
   "outputs": [],
   "source": [
    "def eoc_avg_calc_allow(column): \n",
    "    if column['#EOCs'] != 0 :\n",
    "        return ((column['EOC_Total_Calc_Allow']/ column['#EOCs']))\n",
    "    else :\n",
    "        return 0"
   ]
  },
  {
   "cell_type": "code",
   "execution_count": null,
   "metadata": {},
   "outputs": [],
   "source": [
    "Report_AMD_Wet_New['EOC_Avg_Calc_Allow'] = Report_AMD_Wet_New.apply(eoc_avg_calc_allow, axis=1) "
   ]
  },
  {
   "cell_type": "code",
   "execution_count": null,
   "metadata": {},
   "outputs": [],
   "source": [
    "Report_AMD_Wet_New"
   ]
  },
  {
   "cell_type": "code",
   "execution_count": null,
   "metadata": {},
   "outputs": [],
   "source": [
    "total_amd = Report_AMD_Wet_New.apply(np.sum)\n",
    "total_amd['Proc_Code'] = 'Total'\n",
    "Report_AMD_Wet_New= Report_AMD_Wet_New.append(pd.DataFrame(total_amd.values, index=total_amd.keys()).T, ignore_index=True)"
   ]
  },
  {
   "cell_type": "code",
   "execution_count": null,
   "metadata": {},
   "outputs": [],
   "source": [
    "Report_AMD_Wet_New"
   ]
  },
  {
   "cell_type": "code",
   "execution_count": null,
   "metadata": {},
   "outputs": [],
   "source": [
    "Report_AMD_Wet_New=Report_AMD_Wet_New[['Proc_Code','EOC_with_or_no_drug','#EOCs','#Units','EOC_Total_Pmts','EOC_Total_Pmt_Code_Portion','EOC_Total_Pmt_Non_Code_Portion',\n",
    "                             '%_of_code_portion','%_of_non_code_portion','EOC_Avg_Pmt','EOC_Total_Calc_Allow','EOC_Total_Calculated_Allow_Code_Portion',\n",
    "                             'EOC_Total_Calculated_Allow_Non_Code_Portion','%_of_allow_code_portion','%_of_allow_non_code_portion','EOC_Avg_Calc_Allow'\n",
    "                            ]]"
   ]
  },
  {
   "cell_type": "code",
   "execution_count": null,
   "metadata": {},
   "outputs": [],
   "source": [
    "#csv file name and path\n",
    "file_name = 'Report_AMD_Wet'\n",
    "file_path = os.path.join(output_folder, file_name)\n",
    "file_path+='.csv'\n",
    "Report_AMD_Wet_New.to_csv(file_path,index=False)"
   ]
  },
  {
   "cell_type": "code",
   "execution_count": null,
   "metadata": {},
   "outputs": [],
   "source": [
    "#Report_AMD_Wet_Itemized = df_AMD_Wet_Itemized.rename(columns=lambda col: d.get(str(col)) if str(col) in d else col)"
   ]
  },
  {
   "cell_type": "code",
   "execution_count": null,
   "metadata": {},
   "outputs": [],
   "source": [
    "Report_AMD_Wet_Itemized = pd.merge(\n",
    "                 df_AMD_Wet_Itemized,\n",
    "                 df_AMD_Wet_DRUG,\n",
    "                 on='Claim_ID', \n",
    "                 how='inner')"
   ]
  },
  {
   "cell_type": "code",
   "execution_count": null,
   "metadata": {},
   "outputs": [],
   "source": [
    "c= {'Claim_ID':'Claim_ID','Proc_Code_x':'Proc_Code','Proc_Desc_x':'Of_EOC_with_drug_Itemized','Sum_Charges_x':'#Units','Sum_Net_Payments_x':'EOC_Total_Pmt_Code_Portion',\n",
    "         'Sum_Actual_Allowed_Amts_x':'EOC_Total_Calculated_Allow_Code_Portion','Sum_Net_Payments_y':'EOC_Total_Pmt_Non_Code_Portion',\n",
    "         'Sum_Actual_Allowed_Amts_y':'EOC_Total_Calculated_Allow_Non_Code_Portion','Sum_All_Adj_x':'Total_All_Adj'}"
   ]
  },
  {
   "cell_type": "code",
   "execution_count": null,
   "metadata": {},
   "outputs": [],
   "source": [
    "Report_AMD_Wet_Itemized  = Report_AMD_Wet_Itemized .rename(columns=lambda col: c.get(str(col)) if str(col) in c else col)"
   ]
  },
  {
   "cell_type": "code",
   "execution_count": null,
   "metadata": {},
   "outputs": [],
   "source": [
    "Report_AMD_Wet_Itemized"
   ]
  },
  {
   "cell_type": "code",
   "execution_count": null,
   "metadata": {},
   "outputs": [],
   "source": [
    "Report_AMD_Wet_Itemized[['Claim_ID','Of_EOC_with_drug_Itemized','#Units','EOC_Total_Pmt_Code_Portion',\n",
    "         'EOC_Total_Calculated_Allow_Code_Portion','EOC_Total_Pmt_Non_Code_Portion',\n",
    "         'EOC_Total_Calculated_Allow_Non_Code_Portion','Total_All_Adj']]"
   ]
  },
  {
   "cell_type": "code",
   "execution_count": null,
   "metadata": {},
   "outputs": [],
   "source": [
    "Report_AMD_Wet_Itemized = Report_AMD_Wet_Itemized.loc[Report_AMD_Wet_Itemized['EOC_Total_Pmt_Code_Portion']!=0]"
   ]
  },
  {
   "cell_type": "code",
   "execution_count": null,
   "metadata": {},
   "outputs": [],
   "source": [
    "Report_AMD_Wet_Itemized_New= (Report_AMD_Wet_Itemized.groupby(['Proc_Code','Of_EOC_with_drug_Itemized'])\n",
    "    .agg({'Claim_ID':'count','#Units':'sum','EOC_Total_Pmt_Code_Portion':'sum','EOC_Total_Pmt_Non_Code_Portion':'sum',\n",
    "         'EOC_Total_Calculated_Allow_Code_Portion':'sum','EOC_Total_Calculated_Allow_Non_Code_Portion':'sum',\n",
    "         'Total_All_Adj':'sum'})\n",
    "    .reset_index()\n",
    "    .rename(columns={'Claim_ID':'#EOCs'})\n",
    ")"
   ]
  },
  {
   "cell_type": "code",
   "execution_count": null,
   "metadata": {},
   "outputs": [],
   "source": [
    "Report_AMD_Wet_Itemized_New"
   ]
  },
  {
   "cell_type": "code",
   "execution_count": null,
   "metadata": {},
   "outputs": [],
   "source": [
    "Report_AMD_Wet_Itemized_New['EOC_Total_Pmts'] = Report_AMD_Wet_Itemized_New.apply(eoc_total_pmt, axis=1) "
   ]
  },
  {
   "cell_type": "code",
   "execution_count": null,
   "metadata": {},
   "outputs": [],
   "source": [
    "Report_AMD_Wet_Itemized_New['%_of_code_portion'] = Report_AMD_Wet_Itemized_New.apply(total_code_portion, axis=1) "
   ]
  },
  {
   "cell_type": "code",
   "execution_count": null,
   "metadata": {},
   "outputs": [],
   "source": [
    "Report_AMD_Wet_Itemized_New['%_of_non_code_portion'] = Report_AMD_Wet_Itemized_New.apply(total_non_code_portion, axis=1) "
   ]
  },
  {
   "cell_type": "code",
   "execution_count": null,
   "metadata": {},
   "outputs": [],
   "source": [
    "Report_AMD_Wet_Itemized_New['EOC_Total_Calc_Allow'] = Report_AMD_Wet_Itemized_New.apply(eoc_total_calc_allow, axis=1) "
   ]
  },
  {
   "cell_type": "code",
   "execution_count": null,
   "metadata": {},
   "outputs": [],
   "source": [
    "Report_AMD_Wet_Itemized_New['%_of_allow_code_portion'] = Report_AMD_Wet_Itemized_New.apply(total_allow_code_portion, axis=1) "
   ]
  },
  {
   "cell_type": "code",
   "execution_count": null,
   "metadata": {},
   "outputs": [],
   "source": [
    "Report_AMD_Wet_Itemized_New['%_of_allow_non_code_portion'] = Report_AMD_Wet_Itemized_New.apply(total_allow_non_code_portion, axis=1) "
   ]
  },
  {
   "cell_type": "code",
   "execution_count": null,
   "metadata": {},
   "outputs": [],
   "source": [
    "Report_AMD_Wet_Itemized_New['EOC_Avg_Pmt'] = Report_AMD_Wet_Itemized_New.apply(eoc_avg_pmt, axis=1) "
   ]
  },
  {
   "cell_type": "code",
   "execution_count": null,
   "metadata": {},
   "outputs": [],
   "source": [
    "Report_AMD_Wet_Itemized_New['EOC_Avg_Calc_Allow'] = Report_AMD_Wet_Itemized_New.apply(eoc_avg_calc_allow, axis=1) "
   ]
  },
  {
   "cell_type": "code",
   "execution_count": null,
   "metadata": {},
   "outputs": [],
   "source": [
    "total_iamd = Report_AMD_Wet_New.apply(np.sum)\n",
    "total_iamd['Proc_Code'] = 'Total'\n",
    "Report_AMD_Wet_Itemized_New= Report_AMD_Wet_Itemized_New.append(pd.DataFrame(total_iamd.values, index=total_iamd.keys()).T, ignore_index=True)"
   ]
  },
  {
   "cell_type": "code",
   "execution_count": null,
   "metadata": {},
   "outputs": [],
   "source": [
    "Report_AMD_Wet_Itemized_New=Report_AMD_Wet_Itemized_New[['Proc_Code','Of_EOC_with_drug_Itemized','#EOCs','#Units','EOC_Total_Pmts','EOC_Total_Pmt_Code_Portion','EOC_Total_Pmt_Non_Code_Portion',\n",
    "                             '%_of_code_portion','%_of_non_code_portion','EOC_Avg_Pmt','EOC_Total_Calc_Allow','EOC_Total_Calculated_Allow_Code_Portion',\n",
    "                             'EOC_Total_Calculated_Allow_Non_Code_Portion','%_of_allow_code_portion','%_of_allow_non_code_portion','EOC_Avg_Calc_Allow'\n",
    "                            ]]"
   ]
  },
  {
   "cell_type": "code",
   "execution_count": null,
   "metadata": {},
   "outputs": [],
   "source": [
    "#csv file name and path\n",
    "file_name = 'Report_Itemized_AMD_Wet'\n",
    "file_path = os.path.join(output_folder, file_name)\n",
    "file_path+='.csv'\n",
    "Report_AMD_Wet_Itemized_New.to_csv(file_path,index=False)\n"
   ]
  },
  {
   "cell_type": "markdown",
   "metadata": {},
   "source": [
    "################################################################################################################################\n",
    "# Lumped Non Drug Procedures\n",
    "################################################################################################################################\n"
   ]
  },
  {
   "cell_type": "code",
   "execution_count": null,
   "metadata": {},
   "outputs": [],
   "source": [
    "df_Lumped_NonDrug.info()"
   ]
  },
  {
   "cell_type": "code",
   "execution_count": null,
   "metadata": {},
   "outputs": [],
   "source": [
    "df_Lumped_AMD_Wet=df_Lumped_NonDrug.loc[(df_Lumped_NonDrug['Primary_Diagnosis_10'] == 'AMD - Wet')|(df_Lumped_NonDrug['ICD-10_Claim_Diagnosis_Code02'] == 'AMD - Wet')|(df_Lumped_NonDrug['ICD-10_Claim_Diagnosis_Code03'] == 'AMD - Wet')|(df_Lumped_NonDrug['ICD-10_Claim_Diagnosis_Code04'] == 'AMD - Wet')| (df_Lumped_NonDrug['ICD-10_Claim_Diagnosis_Code05'] == 'AMD - Wet') |(df_Lumped_NonDrug['ICD-10_Claim_Diagnosis_Code06'] == 'AMD - Wet')|(df_Lumped_NonDrug['ICD-10_Claim_Diagnosis_Code07'] == 'AMD - Wet')|(df_Lumped_NonDrug['ICD-10_Claim_Diagnosis_Code08'] == 'AMD - Wet')|(df_Lumped_NonDrug['ICD-10_Claim_Diagnosis_Code09'] == 'AMD - Wet')|(df_Lumped_NonDrug['ICD-10_Claim_Diagnosis_Code010'] == 'AMD - Wet')|(df_Lumped_NonDrug['ICD-10_Claim_Diagnosis_Code011'] == 'AMD - Wet')|(df_Lumped_NonDrug['Primary_Diagnosis_9'] == 'AMD - Wet') ]"
   ]
  },
  {
   "cell_type": "code",
   "execution_count": null,
   "metadata": {},
   "outputs": [],
   "source": [
    "b= {'Claim_ID':'#EOCs','Proc_Code':'Proc_Code','Proc_Desc':'EOC_with_no_drug','Sum_Charges':'#Units','Sum_Net_Payments':'EOC_Total_Pmt_Code_Portion',\n",
    "         'Sum_Actual_Allowed_Amts':'EOC_Total_Calculated_Allow_Code_Portion'}"
   ]
  },
  {
   "cell_type": "code",
   "execution_count": null,
   "metadata": {},
   "outputs": [],
   "source": [
    "Report_Lumped_AMD_Wet  = df_Lumped_AMD_Wet .rename(columns=lambda col: b.get(str(col)) if str(col) in b else col)"
   ]
  },
  {
   "cell_type": "code",
   "execution_count": null,
   "metadata": {},
   "outputs": [],
   "source": [
    "Report_Lumped_AMD_Wet[['#EOCs','EOC_with_no_drug','#Units','EOC_Total_Pmt_Code_Portion',\n",
    "         'EOC_Total_Calculated_Allow_Code_Portion',\n",
    "         ]]"
   ]
  },
  {
   "cell_type": "code",
   "execution_count": null,
   "metadata": {},
   "outputs": [],
   "source": [
    "Report_Lumped_AMD_Wet= Report_Lumped_AMD_Wet.loc[Report_Lumped_AMD_Wet['EOC_Total_Pmt_Code_Portion']!=0]"
   ]
  },
  {
   "cell_type": "code",
   "execution_count": null,
   "metadata": {},
   "outputs": [],
   "source": [
    "Report_Lumped_AMD_Wet['#EOCs'].nunique()"
   ]
  },
  {
   "cell_type": "code",
   "execution_count": null,
   "metadata": {},
   "outputs": [],
   "source": [
    "Report_Lumped_AMD_Wet.agg(['sum'])"
   ]
  },
  {
   "cell_type": "markdown",
   "metadata": {},
   "source": [
    "################################################################################################################################\n",
    "# CRVO\n",
    "################################################################################################################################"
   ]
  },
  {
   "cell_type": "code",
   "execution_count": null,
   "metadata": {},
   "outputs": [],
   "source": [
    "df_CRVO=df_Modifier.loc[((df_Modifier['Primary_Diagnosis_10'] == 'CRVO')|(df_Modifier['ICD-10_Claim_Diagnosis_Code02'] == 'CRVO')|(df_Modifier['ICD-10_Claim_Diagnosis_Code03'] == 'CRVO')\n",
    "                        |(df_Modifier['ICD-10_Claim_Diagnosis_Code02'] == 'CRVO')|(df_Modifier['ICD-10_Claim_Diagnosis_Code03'] == 'CRVO')|(df_Modifier['ICD-10_Claim_Diagnosis_Code04'] == 'CRVO')\n",
    "                        |(df_Modifier['ICD-10_Claim_Diagnosis_Code05'] == 'CRVO') |(df_Modifier['ICD-10_Claim_Diagnosis_Code06'] == 'CRVO')|(df_Modifier['ICD-10_Claim_Diagnosis_Code07'] == 'CRVO')\n",
    "                        |(df_Modifier['ICD-10_Claim_Diagnosis_Code08'] == 'CRVO')|(df_Modifier['ICD-10_Claim_Diagnosis_Code09'] == 'CRVO')|(df_Modifier['ICD-10_Claim_Diagnosis_Code010'] == 'CRVO')\n",
    "                        |(df_Modifier['ICD-10_Claim_Diagnosis_Code011'] == 'CRVO')|(df_Modifier['Primary_Diagnosis_9'] == 'CRVO'))\n",
    "                        &((df_Modifier['ICD-10_Claim_Diagnosis_Code02'] == 'ME')|(df_Modifier['ICD-10_Claim_Diagnosis_Code03'] == 'ME')|(df_Modifier['ICD-10_Claim_Diagnosis_Code04'] == 'ME')\n",
    "                        |(df_Modifier['ICD-10_Claim_Diagnosis_Code05'] == 'ME')|(df_Modifier['ICD-10_Claim_Diagnosis_Code06'] == 'ME')\n",
    "                        |(df_Modifier['ICD-10_Claim_Diagnosis_Code07'] == 'ME')|(df_Modifier['ICD-10_Claim_Diagnosis_Code08'] == 'ME')\n",
    "                        |(df_Modifier['ICD-10_Claim_Diagnosis_Code09'] == 'ME')|(df_Modifier['ICD-10_Claim_Diagnosis_Code010'] == 'ME')\n",
    "                        |(df_Modifier['ICD-10_Claim_Diagnosis_Code011'] == 'ME')\n",
    "                        |(df_Modifier['Primary_Diagnosis_9'] == 'ME'))]\n",
    "         "
   ]
  },
  {
   "cell_type": "code",
   "execution_count": null,
   "metadata": {},
   "outputs": [],
   "source": [
    "df_CRVO=(df_CRVO.groupby(['Claim_ID','Proc_Clas','Proc_Code','Proc_Desc'])\n",
    "    .agg({'Sum_Charges':'sum','Sum_All_Charges':'sum','Sum_Net_Payments':'sum',\n",
    "         'Sum_Contractual_Adj':'sum','Sum_Calculated_Allowable':'sum','Sum_Actual_Allowed_Amts':'sum','Sum_Expected_Allowed_Amts':'sum','Sum_All_Adj':'sum','Sum_Allowable_Diff':'sum','Sum_Payments':'sum',\n",
    "          })\n",
    "    .reset_index())\n",
    "df_CRVO\n"
   ]
  },
  {
   "cell_type": "code",
   "execution_count": null,
   "metadata": {},
   "outputs": [],
   "source": [
    "df_CRVO_DRUG=df_CRVO[df_CRVO['Proc_Clas']=='Drug']\n",
    "df_CRVO_DRUG"
   ]
  },
  {
   "cell_type": "code",
   "execution_count": null,
   "metadata": {},
   "outputs": [],
   "source": [
    "df_CRVO_Itemized =df_CRVO[df_CRVO['Proc_Clas']=='Non-Drug']\n",
    "df_CRVO_Itemized"
   ]
  },
  {
   "cell_type": "code",
   "execution_count": null,
   "metadata": {},
   "outputs": [],
   "source": [
    "df_CRVO_Itemized_New= (df_CRVO_Itemized.groupby(['Claim_ID','Proc_Clas'])\n",
    "    .agg({'Sum_Charges':'sum','Sum_All_Charges':'sum','Sum_Net_Payments':'sum',\n",
    "         'Sum_Contractual_Adj':'sum','Sum_Calculated_Allowable':'sum','Sum_Actual_Allowed_Amts':'sum','Sum_Expected_Allowed_Amts':'sum','Sum_All_Adj':'sum','Sum_Allowable_Diff':'sum','Sum_Payments':'sum',\n",
    "          })\n",
    "    .reset_index()\n",
    "                 )\n"
   ]
  },
  {
   "cell_type": "code",
   "execution_count": null,
   "metadata": {},
   "outputs": [],
   "source": [
    "Report_CRVO = pd.merge(df_CRVO_DRUG,\n",
    "                 df_CRVO_Itemized_New,\n",
    "                 on='Claim_ID', \n",
    "                 how='inner')"
   ]
  },
  {
   "cell_type": "code",
   "execution_count": null,
   "metadata": {},
   "outputs": [],
   "source": [
    "Report_CRVO"
   ]
  },
  {
   "cell_type": "code",
   "execution_count": null,
   "metadata": {},
   "outputs": [],
   "source": [
    "Report_CRVO = Report_CRVO.rename(columns=lambda col: d.get(str(col)) if str(col) in d else col)\n",
    "Report_CRVO[['Claim_ID','Proc_Code','EOC_with_or_no_drug','#Units','EOC_Total_Pmt_Code_Portion',\n",
    "         'EOC_Total_Calculated_Allow_Code_Portion','EOC_Total_Pmt_Non_Code_Portion',\n",
    "         'EOC_Total_Calculated_Allow_Non_Code_Portion','Total_All_Adj']]\n",
    "\n"
   ]
  },
  {
   "cell_type": "code",
   "execution_count": null,
   "metadata": {},
   "outputs": [],
   "source": [
    "Report_CRVO"
   ]
  },
  {
   "cell_type": "code",
   "execution_count": null,
   "metadata": {},
   "outputs": [],
   "source": [
    "Report_CRVO = Report_CRVO.loc[Report_CRVO['EOC_Total_Pmt_Code_Portion']!=0] "
   ]
  },
  {
   "cell_type": "code",
   "execution_count": null,
   "metadata": {},
   "outputs": [],
   "source": [
    "Report_CRVO"
   ]
  },
  {
   "cell_type": "code",
   "execution_count": null,
   "metadata": {},
   "outputs": [],
   "source": [
    "Report_CRVO_New= (Report_CRVO.groupby(['Proc_Code','EOC_with_or_no_drug'])\n",
    "    .agg({'Claim_ID':'count','#Units':'sum','EOC_Total_Pmt_Code_Portion':'sum','EOC_Total_Pmt_Non_Code_Portion':'sum',\n",
    "         'EOC_Total_Calculated_Allow_Code_Portion':'sum','EOC_Total_Calculated_Allow_Non_Code_Portion':'sum',\n",
    "         'Total_All_Adj':'sum'})\n",
    "    .reset_index()\n",
    "    .rename(columns={'Claim_ID':'#EOCs'})\n",
    ")\n"
   ]
  },
  {
   "cell_type": "code",
   "execution_count": null,
   "metadata": {},
   "outputs": [],
   "source": [
    "Report_CRVO_New['EOC_Total_Pmts'] = Report_CRVO_New.apply(eoc_total_pmt, axis=1) \n",
    "Report_CRVO_New['%_of_code_portion'] = Report_CRVO_New.apply(total_code_portion, axis=1) \n",
    "Report_CRVO_New['%_of_non_code_portion'] = Report_CRVO_New.apply(total_non_code_portion, axis=1) \n",
    "Report_CRVO_New['EOC_Total_Calc_Allow'] = Report_CRVO_New.apply(eoc_total_calc_allow, axis=1) \n",
    "Report_CRVO_New['%_of_allow_code_portion'] = Report_CRVO_New.apply(total_allow_code_portion, axis=1) \n",
    "Report_CRVO_New['%_of_allow_non_code_portion'] = Report_CRVO_New.apply(total_allow_non_code_portion, axis=1) \n",
    "Report_CRVO_New['EOC_Avg_Pmt'] = Report_CRVO_New.apply(eoc_avg_pmt, axis=1) \n",
    "Report_CRVO_New['EOC_Avg_Calc_Allow'] = Report_CRVO_New.apply(eoc_avg_calc_allow, axis=1) \n"
   ]
  },
  {
   "cell_type": "code",
   "execution_count": null,
   "metadata": {},
   "outputs": [],
   "source": [
    "total_crvo = Report_CRVO_New.apply(np.sum)\n",
    "total_crvo['Proc_Code'] = 'Total'\n",
    "Report_CRVO_New= Report_CRVO_New.append(pd.DataFrame(total_crvo.values, index=total_crvo.keys()).T, ignore_index=True,sort=True)"
   ]
  },
  {
   "cell_type": "code",
   "execution_count": null,
   "metadata": {},
   "outputs": [],
   "source": [
    "Report_CRVO_New=Report_CRVO_New[['Proc_Code','EOC_with_or_no_drug','#EOCs','#Units','EOC_Total_Pmts','EOC_Total_Pmt_Code_Portion','EOC_Total_Pmt_Non_Code_Portion',\n",
    "                             '%_of_code_portion','%_of_non_code_portion','EOC_Avg_Pmt','EOC_Total_Calc_Allow','EOC_Total_Calculated_Allow_Code_Portion',\n",
    "                             'EOC_Total_Calculated_Allow_Non_Code_Portion','%_of_allow_code_portion','%_of_allow_non_code_portion','EOC_Avg_Calc_Allow'\n",
    "                            ]]"
   ]
  },
  {
   "cell_type": "code",
   "execution_count": null,
   "metadata": {},
   "outputs": [],
   "source": [
    "Report_CRVO_New"
   ]
  },
  {
   "cell_type": "code",
   "execution_count": null,
   "metadata": {},
   "outputs": [],
   "source": [
    "#csv file name and path\n",
    "file_name = 'Report_CRVO'\n",
    "file_path = os.path.join(output_folder, file_name)\n",
    "file_path+='.csv'\n",
    "Report_CRVO_New.to_csv(file_path,index=False)"
   ]
  },
  {
   "cell_type": "code",
   "execution_count": null,
   "metadata": {},
   "outputs": [],
   "source": [
    "Report_CRVO_Itemized = pd.merge(\n",
    "                 df_CRVO_Itemized,\n",
    "                 df_CRVO_DRUG,\n",
    "                 on='Claim_ID', \n",
    "                 how='inner')"
   ]
  },
  {
   "cell_type": "code",
   "execution_count": null,
   "metadata": {},
   "outputs": [],
   "source": [
    "Report_CRVO_Itemized  = Report_CRVO_Itemized .rename(columns=lambda col: c.get(str(col)) if str(col) in c else col)"
   ]
  },
  {
   "cell_type": "code",
   "execution_count": null,
   "metadata": {},
   "outputs": [],
   "source": [
    "Report_CRVO_Itemized[['Claim_ID','Of_EOC_with_drug_Itemized','#Units','EOC_Total_Pmt_Code_Portion',\n",
    "         'EOC_Total_Calculated_Allow_Code_Portion','EOC_Total_Pmt_Non_Code_Portion',\n",
    "         'EOC_Total_Calculated_Allow_Non_Code_Portion','Total_All_Adj']]"
   ]
  },
  {
   "cell_type": "code",
   "execution_count": null,
   "metadata": {},
   "outputs": [],
   "source": [
    "Report_CRVO_Itemized = Report_CRVO_Itemized.loc[Report_CRVO_Itemized['EOC_Total_Pmt_Code_Portion']!=0]"
   ]
  },
  {
   "cell_type": "code",
   "execution_count": null,
   "metadata": {},
   "outputs": [],
   "source": [
    "Report_CRVO_Itemized_New= (Report_CRVO_Itemized.groupby(['Proc_Code','Of_EOC_with_drug_Itemized'])\n",
    "    .agg({'Claim_ID':'count','#Units':'sum','EOC_Total_Pmt_Code_Portion':'sum','EOC_Total_Pmt_Non_Code_Portion':'sum',\n",
    "         'EOC_Total_Calculated_Allow_Code_Portion':'sum','EOC_Total_Calculated_Allow_Non_Code_Portion':'sum',\n",
    "         'Total_All_Adj':'sum'})\n",
    "    .reset_index()\n",
    "    .rename(columns={'Claim_ID':'#EOCs'})\n",
    ")"
   ]
  },
  {
   "cell_type": "code",
   "execution_count": null,
   "metadata": {},
   "outputs": [],
   "source": [
    "Report_CRVO_Itemized_New['EOC_Total_Pmts'] = Report_CRVO_Itemized_New.apply(eoc_total_pmt, axis=1) \n",
    "Report_CRVO_Itemized_New['%_of_code_portion'] = Report_CRVO_Itemized_New.apply(total_code_portion, axis=1) \n",
    "Report_CRVO_Itemized_New['%_of_non_code_portion'] = Report_CRVO_Itemized_New.apply(total_non_code_portion, axis=1) \n",
    "Report_CRVO_Itemized_New['EOC_Total_Calc_Allow'] = Report_CRVO_Itemized_New.apply(eoc_total_calc_allow, axis=1) \n",
    "Report_CRVO_Itemized_New['%_of_allow_code_portion'] = Report_CRVO_Itemized_New.apply(total_allow_code_portion, axis=1) \n",
    "Report_CRVO_Itemized_New['%_of_allow_non_code_portion'] = Report_CRVO_Itemized_New.apply(total_allow_non_code_portion, axis=1) \n",
    "Report_CRVO_Itemized_New['EOC_Avg_Pmt'] = Report_CRVO_Itemized_New.apply(eoc_avg_pmt, axis=1) \n",
    "Report_CRVO_Itemized_New['EOC_Avg_Calc_Allow'] = Report_CRVO_Itemized_New.apply(eoc_avg_calc_allow, axis=1) "
   ]
  },
  {
   "cell_type": "code",
   "execution_count": null,
   "metadata": {},
   "outputs": [],
   "source": [
    "total_icrvo = Report_CRVO_New.apply(np.sum)\n",
    "total_icrvo['Proc_Code'] = 'Total'\n",
    "Report_CRVO_Itemized_New= Report_CRVO_Itemized_New.append(pd.DataFrame(total_icrvo.values, index=total_icrvo.keys()).T, ignore_index=True,sort=True)"
   ]
  },
  {
   "cell_type": "code",
   "execution_count": null,
   "metadata": {},
   "outputs": [],
   "source": [
    "Report_CRVO_Itemized_New=Report_CRVO_Itemized_New[['Proc_Code','Of_EOC_with_drug_Itemized','#EOCs','#Units','EOC_Total_Pmts','EOC_Total_Pmt_Code_Portion','EOC_Total_Pmt_Non_Code_Portion',\n",
    "                             '%_of_code_portion','%_of_non_code_portion','EOC_Avg_Pmt','EOC_Total_Calc_Allow','EOC_Total_Calculated_Allow_Code_Portion',\n",
    "                             'EOC_Total_Calculated_Allow_Non_Code_Portion','%_of_allow_code_portion','%_of_allow_non_code_portion','EOC_Avg_Calc_Allow'\n",
    "                            ]]"
   ]
  },
  {
   "cell_type": "code",
   "execution_count": null,
   "metadata": {},
   "outputs": [],
   "source": [
    "Report_CRVO_Itemized_New"
   ]
  },
  {
   "cell_type": "code",
   "execution_count": null,
   "metadata": {},
   "outputs": [],
   "source": [
    "#csv file name and path\n",
    "file_name = 'Report_Itemized_CRVO'\n",
    "file_path = os.path.join(output_folder, file_name)\n",
    "file_path+='.csv'\n",
    "Report_CRVO_Itemized_New.to_csv(file_path,index=False)"
   ]
  },
  {
   "cell_type": "code",
   "execution_count": null,
   "metadata": {},
   "outputs": [],
   "source": [
    "df_Lumped_CRVO=df_Lumped_NonDrug.loc[((df_Lumped_NonDrug['Primary_Diagnosis_10'] == 'CRVO')|(df_Lumped_NonDrug['ICD-10_Claim_Diagnosis_Code02'] == 'CRVO')|(df_Lumped_NonDrug['ICD-10_Claim_Diagnosis_Code03'] == 'CRVO')\n",
    "                        |(df_Lumped_NonDrug['ICD-10_Claim_Diagnosis_Code02'] == 'CRVO')|(df_Lumped_NonDrug['ICD-10_Claim_Diagnosis_Code03'] == 'CRVO')|(df_Lumped_NonDrug['ICD-10_Claim_Diagnosis_Code04'] == 'CRVO')\n",
    "                        |(df_Lumped_NonDrug['ICD-10_Claim_Diagnosis_Code05'] == 'CRVO') |(df_Lumped_NonDrug['ICD-10_Claim_Diagnosis_Code06'] == 'CRVO')|(df_Lumped_NonDrug['ICD-10_Claim_Diagnosis_Code07'] == 'CRVO')\n",
    "                        |(df_Lumped_NonDrug['ICD-10_Claim_Diagnosis_Code08'] == 'CRVO')|(df_Lumped_NonDrug['ICD-10_Claim_Diagnosis_Code09'] == 'CRVO')|(df_Lumped_NonDrug['ICD-10_Claim_Diagnosis_Code010'] == 'CRVO')\n",
    "                        |(df_Lumped_NonDrug['ICD-10_Claim_Diagnosis_Code011'] == 'CRVO')|(df_Lumped_NonDrug['Primary_Diagnosis_9'] == 'CRVO'))\n",
    "                        &((df_Lumped_NonDrug['ICD-10_Claim_Diagnosis_Code02'] == 'ME')|(df_Lumped_NonDrug['ICD-10_Claim_Diagnosis_Code03'] == 'ME')|(df_Lumped_NonDrug['ICD-10_Claim_Diagnosis_Code04'] == 'ME')\n",
    "                        |(df_Lumped_NonDrug['ICD-10_Claim_Diagnosis_Code05'] == 'ME')|(df_Lumped_NonDrug['ICD-10_Claim_Diagnosis_Code06'] == 'ME')\n",
    "                        |(df_Lumped_NonDrug['ICD-10_Claim_Diagnosis_Code07'] == 'ME')|(df_Lumped_NonDrug['ICD-10_Claim_Diagnosis_Code08'] == 'ME')\n",
    "                        |(df_Lumped_NonDrug['ICD-10_Claim_Diagnosis_Code09'] == 'ME')|(df_Lumped_NonDrug['ICD-10_Claim_Diagnosis_Code010'] == 'ME')\n",
    "                        |(df_Lumped_NonDrug['ICD-10_Claim_Diagnosis_Code011'] == 'ME')\n",
    "                        |(df_Lumped_NonDrug['Primary_Diagnosis_9'] == 'ME'))]\n",
    "         "
   ]
  },
  {
   "cell_type": "code",
   "execution_count": null,
   "metadata": {},
   "outputs": [],
   "source": [
    "Report_Lumped_CRVO  = df_Lumped_CRVO.rename(columns=lambda col: b.get(str(col)) if str(col) in b else col)"
   ]
  },
  {
   "cell_type": "code",
   "execution_count": null,
   "metadata": {},
   "outputs": [],
   "source": [
    "Report_Lumped_CRVO[['#EOCs','EOC_with_no_drug','#Units','EOC_Total_Pmt_Code_Portion',\n",
    "         'EOC_Total_Calculated_Allow_Code_Portion',\n",
    "         ]]"
   ]
  },
  {
   "cell_type": "code",
   "execution_count": null,
   "metadata": {},
   "outputs": [],
   "source": [
    "Report_Lumped_CRVO= Report_Lumped_CRVO.loc[Report_Lumped_CRVO['EOC_Total_Pmt_Code_Portion']!=0]"
   ]
  },
  {
   "cell_type": "code",
   "execution_count": null,
   "metadata": {},
   "outputs": [],
   "source": [
    "Report_Lumped_CRVO['#EOCs'].nunique()"
   ]
  },
  {
   "cell_type": "code",
   "execution_count": null,
   "metadata": {},
   "outputs": [],
   "source": [
    "Report_Lumped_CRVO.agg(['sum'])"
   ]
  },
  {
   "cell_type": "markdown",
   "metadata": {},
   "source": [
    "################################################################################################################################\n",
    "# BRVO\n",
    "################################################################################################################################"
   ]
  },
  {
   "cell_type": "code",
   "execution_count": null,
   "metadata": {},
   "outputs": [],
   "source": [
    "df_BRVO=df_Modifier.loc[((df_Modifier['Primary_Diagnosis_10'] == 'BRVO')|(df_Modifier['ICD-10_Claim_Diagnosis_Code02'] == 'BRVO')|(df_Modifier['ICD-10_Claim_Diagnosis_Code03'] == 'BRVO')\n",
    "                        |(df_Modifier['ICD-10_Claim_Diagnosis_Code02'] == 'BRVO')|(df_Modifier['ICD-10_Claim_Diagnosis_Code03'] == 'BRVO')|(df_Modifier['ICD-10_Claim_Diagnosis_Code04'] == 'BRVO')\n",
    "                        |(df_Modifier['ICD-10_Claim_Diagnosis_Code05'] == 'BRVO') |(df_Modifier['ICD-10_Claim_Diagnosis_Code06'] == 'BRVO')|(df_Modifier['ICD-10_Claim_Diagnosis_Code07'] == 'BRVO')\n",
    "                        |(df_Modifier['ICD-10_Claim_Diagnosis_Code08'] == 'BRVO')|(df_Modifier['ICD-10_Claim_Diagnosis_Code09'] == 'BRVO')|(df_Modifier['ICD-10_Claim_Diagnosis_Code010'] == 'BRVO')\n",
    "                        |(df_Modifier['ICD-10_Claim_Diagnosis_Code011'] == 'BRVO')|(df_Modifier['Primary_Diagnosis_9'] == 'CRVO'))\n",
    "                        &((df_Modifier['ICD-10_Claim_Diagnosis_Code02'] == 'ME')|(df_Modifier['ICD-10_Claim_Diagnosis_Code03'] == 'ME')|(df_Modifier['ICD-10_Claim_Diagnosis_Code04'] == 'ME')\n",
    "                        |(df_Modifier['ICD-10_Claim_Diagnosis_Code05'] == 'ME')|(df_Modifier['ICD-10_Claim_Diagnosis_Code06'] == 'ME')\n",
    "                        |(df_Modifier['ICD-10_Claim_Diagnosis_Code07'] == 'ME')|(df_Modifier['ICD-10_Claim_Diagnosis_Code08'] == 'ME')\n",
    "                        |(df_Modifier['ICD-10_Claim_Diagnosis_Code09'] == 'ME')|(df_Modifier['ICD-10_Claim_Diagnosis_Code010'] == 'ME')\n",
    "                        |(df_Modifier['ICD-10_Claim_Diagnosis_Code011'] == 'ME')\n",
    "                        |(df_Modifier['Primary_Diagnosis_9'] == 'ME'))]\n",
    "         "
   ]
  },
  {
   "cell_type": "code",
   "execution_count": null,
   "metadata": {},
   "outputs": [],
   "source": [
    "df_BRVO=(df_BRVO.groupby(['Claim_ID','Proc_Clas','Proc_Code','Proc_Desc'])\n",
    "    .agg({'Sum_Charges':'sum','Sum_All_Charges':'sum','Sum_Net_Payments':'sum',\n",
    "         'Sum_Contractual_Adj':'sum','Sum_Calculated_Allowable':'sum','Sum_Actual_Allowed_Amts':'sum','Sum_Expected_Allowed_Amts':'sum','Sum_All_Adj':'sum','Sum_Allowable_Diff':'sum','Sum_Payments':'sum',\n",
    "          })\n",
    "    .reset_index())\n",
    "df_BRVO\n"
   ]
  },
  {
   "cell_type": "code",
   "execution_count": null,
   "metadata": {},
   "outputs": [],
   "source": [
    "df_BRVO_DRUG=df_BRVO[df_BRVO['Proc_Clas']=='Drug']\n",
    "df_BRVO_DRUG"
   ]
  },
  {
   "cell_type": "code",
   "execution_count": null,
   "metadata": {},
   "outputs": [],
   "source": [
    "df_BRVO_Itemized =df_BRVO[df_BRVO['Proc_Clas']=='Non-Drug']\n",
    "df_BRVO_Itemized"
   ]
  },
  {
   "cell_type": "code",
   "execution_count": null,
   "metadata": {},
   "outputs": [],
   "source": [
    "df_BRVO_Itemized_New= (df_BRVO_Itemized.groupby(['Claim_ID','Proc_Clas'])\n",
    "    .agg({'Sum_Charges':'sum','Sum_All_Charges':'sum','Sum_Net_Payments':'sum',\n",
    "         'Sum_Contractual_Adj':'sum','Sum_Calculated_Allowable':'sum','Sum_Actual_Allowed_Amts':'sum','Sum_Expected_Allowed_Amts':'sum','Sum_All_Adj':'sum','Sum_Allowable_Diff':'sum','Sum_Payments':'sum',\n",
    "          })\n",
    "    .reset_index()\n",
    "                 )\n"
   ]
  },
  {
   "cell_type": "code",
   "execution_count": null,
   "metadata": {},
   "outputs": [],
   "source": [
    "Report_BRVO = pd.merge(df_BRVO_DRUG,\n",
    "                 df_BRVO_Itemized_New,\n",
    "                 on='Claim_ID', \n",
    "                 how='inner')"
   ]
  },
  {
   "cell_type": "code",
   "execution_count": null,
   "metadata": {},
   "outputs": [],
   "source": [
    "Report_BRVO = Report_BRVO.rename(columns=lambda col: d.get(str(col)) if str(col) in d else col)\n",
    "Report_BRVO[['Claim_ID','Proc_Code','EOC_with_or_no_drug','#Units','EOC_Total_Pmt_Code_Portion',\n",
    "         'EOC_Total_Calculated_Allow_Code_Portion','EOC_Total_Pmt_Non_Code_Portion',\n",
    "         'EOC_Total_Calculated_Allow_Non_Code_Portion','Total_All_Adj']]\n",
    "\n"
   ]
  },
  {
   "cell_type": "code",
   "execution_count": null,
   "metadata": {},
   "outputs": [],
   "source": [
    "Report_BRVO = Report_BRVO.loc[Report_BRVO['EOC_Total_Pmt_Code_Portion']!=0] "
   ]
  },
  {
   "cell_type": "code",
   "execution_count": null,
   "metadata": {},
   "outputs": [],
   "source": [
    "Report_BRVO_New= (Report_BRVO.groupby(['Proc_Code','EOC_with_or_no_drug'])\n",
    "    .agg({'Claim_ID':'count','#Units':'sum','EOC_Total_Pmt_Code_Portion':'sum','EOC_Total_Pmt_Non_Code_Portion':'sum',\n",
    "         'EOC_Total_Calculated_Allow_Code_Portion':'sum','EOC_Total_Calculated_Allow_Non_Code_Portion':'sum',\n",
    "         'Total_All_Adj':'sum'})\n",
    "    .reset_index()\n",
    "    .rename(columns={'Claim_ID':'#EOCs'})\n",
    ")"
   ]
  },
  {
   "cell_type": "code",
   "execution_count": null,
   "metadata": {},
   "outputs": [],
   "source": [
    "Report_BRVO_New['EOC_Total_Pmts'] = Report_BRVO_New.apply(eoc_total_pmt, axis=1) \n",
    "Report_BRVO_New['%_of_code_portion'] = Report_BRVO_New.apply(total_code_portion, axis=1) \n",
    "Report_BRVO_New['%_of_non_code_portion'] = Report_BRVO_New.apply(total_non_code_portion, axis=1) \n",
    "Report_BRVO_New['EOC_Total_Calc_Allow'] = Report_BRVO_New.apply(eoc_total_calc_allow, axis=1) \n",
    "Report_BRVO_New['%_of_allow_code_portion'] = Report_BRVO_New.apply(total_allow_code_portion, axis=1) \n",
    "Report_BRVO_New['%_of_allow_non_code_portion'] = Report_BRVO_New.apply(total_allow_non_code_portion, axis=1) \n",
    "Report_BRVO_New['EOC_Avg_Pmt'] = Report_BRVO_New.apply(eoc_avg_pmt, axis=1) \n",
    "Report_BRVO_New['EOC_Avg_Calc_Allow'] = Report_BRVO_New.apply(eoc_avg_calc_allow, axis=1) \n"
   ]
  },
  {
   "cell_type": "code",
   "execution_count": null,
   "metadata": {},
   "outputs": [],
   "source": [
    "total_brvo = Report_BRVO_New.apply(np.sum)\n",
    "total_brvo['Proc_Code'] = 'Total'\n",
    "Report_BRVO_New= Report_BRVO_New.append(pd.DataFrame(total_brvo.values, index=total_brvo.keys()).T, ignore_index=True,sort=True)"
   ]
  },
  {
   "cell_type": "code",
   "execution_count": null,
   "metadata": {},
   "outputs": [],
   "source": [
    "Report_BRVO_New=Report_BRVO_New[['Proc_Code','EOC_with_or_no_drug','#EOCs','#Units','EOC_Total_Pmts','EOC_Total_Pmt_Code_Portion','EOC_Total_Pmt_Non_Code_Portion',\n",
    "                             '%_of_code_portion','%_of_non_code_portion','EOC_Avg_Pmt','EOC_Total_Calc_Allow','EOC_Total_Calculated_Allow_Code_Portion',\n",
    "                             'EOC_Total_Calculated_Allow_Non_Code_Portion','%_of_allow_code_portion','%_of_allow_non_code_portion','EOC_Avg_Calc_Allow'\n",
    "                            ]]"
   ]
  },
  {
   "cell_type": "code",
   "execution_count": null,
   "metadata": {},
   "outputs": [],
   "source": [
    "Report_BRVO_New"
   ]
  },
  {
   "cell_type": "code",
   "execution_count": null,
   "metadata": {},
   "outputs": [],
   "source": [
    "#csv file name and path\n",
    "file_name = 'Report_BRVO'\n",
    "file_path = os.path.join(output_folder, file_name)\n",
    "file_path+='.csv'\n",
    "Report_BRVO_New.to_csv(file_path,index=False)"
   ]
  },
  {
   "cell_type": "code",
   "execution_count": null,
   "metadata": {},
   "outputs": [],
   "source": [
    "Report_BRVO_Itemized = pd.merge(\n",
    "                 df_BRVO_Itemized,\n",
    "                 df_BRVO_DRUG,\n",
    "                 on='Claim_ID', \n",
    "                 how='inner')"
   ]
  },
  {
   "cell_type": "code",
   "execution_count": null,
   "metadata": {},
   "outputs": [],
   "source": [
    "Report_BRVO_Itemized  = Report_BRVO_Itemized .rename(columns=lambda col: c.get(str(col)) if str(col) in c else col)"
   ]
  },
  {
   "cell_type": "code",
   "execution_count": null,
   "metadata": {},
   "outputs": [],
   "source": [
    "Report_BRVO_Itemized[['Claim_ID','Of_EOC_with_drug_Itemized','#Units','EOC_Total_Pmt_Code_Portion',\n",
    "         'EOC_Total_Calculated_Allow_Code_Portion','EOC_Total_Pmt_Non_Code_Portion',\n",
    "         'EOC_Total_Calculated_Allow_Non_Code_Portion','Total_All_Adj']]"
   ]
  },
  {
   "cell_type": "code",
   "execution_count": null,
   "metadata": {},
   "outputs": [],
   "source": [
    "Report_BRVO_Itemized = Report_BRVO_Itemized.loc[Report_BRVO_Itemized['EOC_Total_Pmt_Code_Portion']!=0]"
   ]
  },
  {
   "cell_type": "code",
   "execution_count": null,
   "metadata": {},
   "outputs": [],
   "source": [
    "Report_BRVO_Itemized_New= (Report_BRVO_Itemized.groupby(['Proc_Code','Of_EOC_with_drug_Itemized'])\n",
    "    .agg({'Claim_ID':'count','#Units':'sum','EOC_Total_Pmt_Code_Portion':'sum','EOC_Total_Pmt_Non_Code_Portion':'sum',\n",
    "         'EOC_Total_Calculated_Allow_Code_Portion':'sum','EOC_Total_Calculated_Allow_Non_Code_Portion':'sum',\n",
    "         'Total_All_Adj':'sum'})\n",
    "    .reset_index()\n",
    "    .rename(columns={'Claim_ID':'#EOCs'})\n",
    ")"
   ]
  },
  {
   "cell_type": "code",
   "execution_count": null,
   "metadata": {},
   "outputs": [],
   "source": [
    "Report_BRVO_Itemized_New['EOC_Total_Pmts'] = Report_BRVO_Itemized_New.apply(eoc_total_pmt, axis=1) \n",
    "Report_BRVO_Itemized_New['%_of_code_portion'] = Report_BRVO_Itemized_New.apply(total_code_portion, axis=1) \n",
    "Report_BRVO_Itemized_New['%_of_non_code_portion'] = Report_BRVO_Itemized_New.apply(total_non_code_portion, axis=1) \n",
    "Report_BRVO_Itemized_New['EOC_Total_Calc_Allow'] = Report_BRVO_Itemized_New.apply(eoc_total_calc_allow, axis=1) \n",
    "Report_BRVO_Itemized_New['%_of_allow_code_portion'] = Report_BRVO_Itemized_New.apply(total_allow_code_portion, axis=1) \n",
    "Report_BRVO_Itemized_New['%_of_allow_non_code_portion'] = Report_BRVO_Itemized_New.apply(total_allow_non_code_portion, axis=1) \n",
    "Report_BRVO_Itemized_New['EOC_Avg_Pmt'] = Report_BRVO_Itemized_New.apply(eoc_avg_pmt, axis=1) \n",
    "Report_BRVO_Itemized_New['EOC_Avg_Calc_Allow'] = Report_BRVO_Itemized_New.apply(eoc_avg_calc_allow, axis=1) "
   ]
  },
  {
   "cell_type": "code",
   "execution_count": null,
   "metadata": {},
   "outputs": [],
   "source": [
    "total_ibrvo = Report_BRVO_New.apply(np.sum)\n",
    "total_ibrvo['Proc_Code'] = 'Total'\n",
    "Report_BRVO_Itemized_New= Report_BRVO_Itemized_New.append(pd.DataFrame(total_ibrvo.values, index=total_ibrvo.keys()).T, ignore_index=True,sort=True)"
   ]
  },
  {
   "cell_type": "code",
   "execution_count": null,
   "metadata": {},
   "outputs": [],
   "source": [
    "Report_BRVO_Itemized_New=Report_BRVO_Itemized_New[['Proc_Code','Of_EOC_with_drug_Itemized','#EOCs','#Units','EOC_Total_Pmts','EOC_Total_Pmt_Code_Portion','EOC_Total_Pmt_Non_Code_Portion',\n",
    "                             '%_of_code_portion','%_of_non_code_portion','EOC_Avg_Pmt','EOC_Total_Calc_Allow','EOC_Total_Calculated_Allow_Code_Portion',\n",
    "                             'EOC_Total_Calculated_Allow_Non_Code_Portion','%_of_allow_code_portion','%_of_allow_non_code_portion','EOC_Avg_Calc_Allow'\n",
    "                            ]]"
   ]
  },
  {
   "cell_type": "code",
   "execution_count": null,
   "metadata": {},
   "outputs": [],
   "source": [
    "Report_BRVO_Itemized_New"
   ]
  },
  {
   "cell_type": "code",
   "execution_count": null,
   "metadata": {},
   "outputs": [],
   "source": [
    "#csv file name and path\n",
    "file_name = 'Report_Itemized_BRVO'\n",
    "file_path = os.path.join(output_folder, file_name)\n",
    "file_path+='.csv'\n",
    "Report_BRVO_Itemized_New.to_csv(file_path,index=False)"
   ]
  },
  {
   "cell_type": "code",
   "execution_count": null,
   "metadata": {},
   "outputs": [],
   "source": [
    "df_Lumped_BRVO=df_Lumped_NonDrug.loc[((df_Lumped_NonDrug['Primary_Diagnosis_10'] == 'BRVO')|(df_Lumped_NonDrug['ICD-10_Claim_Diagnosis_Code02'] == 'BRVO')|(df_Lumped_NonDrug['ICD-10_Claim_Diagnosis_Code03'] == 'BRVO')\n",
    "                        |(df_Lumped_NonDrug['ICD-10_Claim_Diagnosis_Code02'] == 'BRVO')|(df_Lumped_NonDrug['ICD-10_Claim_Diagnosis_Code03'] == 'BRVO')|(df_Lumped_NonDrug['ICD-10_Claim_Diagnosis_Code04'] == 'BRVO')\n",
    "                        |(df_Lumped_NonDrug['ICD-10_Claim_Diagnosis_Code05'] == 'BRVO') |(df_Lumped_NonDrug['ICD-10_Claim_Diagnosis_Code06'] == 'BRVO')|(df_Lumped_NonDrug['ICD-10_Claim_Diagnosis_Code07'] == 'BRVO')\n",
    "                        |(df_Lumped_NonDrug['ICD-10_Claim_Diagnosis_Code08'] == 'BRVO')|(df_Lumped_NonDrug['ICD-10_Claim_Diagnosis_Code09'] == 'BRVO')|(df_Lumped_NonDrug['ICD-10_Claim_Diagnosis_Code010'] == 'BRVO')\n",
    "                        |(df_Lumped_NonDrug['ICD-10_Claim_Diagnosis_Code011'] == 'BRVO')|(df_Lumped_NonDrug['Primary_Diagnosis_9'] == 'BRVO'))\n",
    "                        &((df_Lumped_NonDrug['ICD-10_Claim_Diagnosis_Code02'] == 'ME')|(df_Lumped_NonDrug['ICD-10_Claim_Diagnosis_Code03'] == 'ME')|(df_Lumped_NonDrug['ICD-10_Claim_Diagnosis_Code04'] == 'ME')\n",
    "                        |(df_Lumped_NonDrug['ICD-10_Claim_Diagnosis_Code05'] == 'ME')|(df_Lumped_NonDrug['ICD-10_Claim_Diagnosis_Code06'] == 'ME')\n",
    "                        |(df_Lumped_NonDrug['ICD-10_Claim_Diagnosis_Code07'] == 'ME')|(df_Lumped_NonDrug['ICD-10_Claim_Diagnosis_Code08'] == 'ME')\n",
    "                        |(df_Lumped_NonDrug['ICD-10_Claim_Diagnosis_Code09'] == 'ME')|(df_Lumped_NonDrug['ICD-10_Claim_Diagnosis_Code010'] == 'ME')\n",
    "                        |(df_Lumped_NonDrug['ICD-10_Claim_Diagnosis_Code011'] == 'ME')\n",
    "                        |(df_Lumped_NonDrug['Primary_Diagnosis_9'] == 'ME'))]\n",
    "         "
   ]
  },
  {
   "cell_type": "code",
   "execution_count": null,
   "metadata": {},
   "outputs": [],
   "source": [
    "Report_Lumped_BRVO  = df_Lumped_BRVO.rename(columns=lambda col: b.get(str(col)) if str(col) in b else col)"
   ]
  },
  {
   "cell_type": "code",
   "execution_count": null,
   "metadata": {},
   "outputs": [],
   "source": [
    "Report_Lumped_BRVO[['#EOCs','EOC_with_no_drug','#Units','EOC_Total_Pmt_Code_Portion',\n",
    "         'EOC_Total_Calculated_Allow_Code_Portion',\n",
    "         ]]"
   ]
  },
  {
   "cell_type": "code",
   "execution_count": null,
   "metadata": {},
   "outputs": [],
   "source": [
    "Report_Lumped_BRVO= Report_Lumped_BRVO.loc[Report_Lumped_BRVO['EOC_Total_Pmt_Code_Portion']!=0]"
   ]
  },
  {
   "cell_type": "code",
   "execution_count": null,
   "metadata": {},
   "outputs": [],
   "source": [
    "Report_Lumped_BRVO['#EOCs'].nunique()"
   ]
  },
  {
   "cell_type": "code",
   "execution_count": null,
   "metadata": {},
   "outputs": [],
   "source": [
    "Report_Lumped_BRVO.agg(['sum'])"
   ]
  },
  {
   "cell_type": "markdown",
   "metadata": {},
   "source": [
    "################################################################################################################################\n",
    "# Diabetes\n",
    "################################################################################################################################"
   ]
  },
  {
   "cell_type": "code",
   "execution_count": null,
   "metadata": {},
   "outputs": [],
   "source": [
    "df_Diabetes=df_Modifier.loc[(df_Modifier['Primary_Diagnosis_10'] == 'Diabetes') |(df_Modifier['ICD-10_Claim_Diagnosis_Code02'] == 'Diabetes')\n",
    "                           |(df_Modifier['ICD-10_Claim_Diagnosis_Code03'] == 'Diabetes')|(df_Modifier['ICD-10_Claim_Diagnosis_Code04'] == 'Diabetes') \n",
    "                           |(df_Modifier['ICD-10_Claim_Diagnosis_Code05'] == 'Diabetes') |(df_Modifier['ICD-10_Claim_Diagnosis_Code06'] == 'Diabetes')\n",
    "                           |(df_Modifier['ICD-10_Claim_Diagnosis_Code07'] == 'Diabetes')|(df_Modifier['ICD-10_Claim_Diagnosis_Code08'] == 'Diabetes')\n",
    "                           |(df_Modifier['ICD-10_Claim_Diagnosis_Code09'] == 'Diabetes')|(df_Modifier['ICD-10_Claim_Diagnosis_Code010'] == 'Diabetes')\n",
    "                           |(df_Modifier['ICD-10_Claim_Diagnosis_Code011'] == 'Diabetes')|(df_Modifier['Primary_Diagnosis_9'] == 'Diabetes') ]"
   ]
  },
  {
   "cell_type": "code",
   "execution_count": null,
   "metadata": {},
   "outputs": [],
   "source": [
    "df_Diabetes=(df_Diabetes.groupby(['Claim_ID','Proc_Clas','Proc_Code','Proc_Desc'])\n",
    "    .agg({'Sum_Charges':'sum','Sum_All_Charges':'sum','Sum_Net_Payments':'sum',\n",
    "         'Sum_Contractual_Adj':'sum','Sum_Calculated_Allowable':'sum','Sum_Actual_Allowed_Amts':'sum','Sum_Expected_Allowed_Amts':'sum','Sum_All_Adj':'sum','Sum_Allowable_Diff':'sum','Sum_Payments':'sum',\n",
    "          })\n",
    "    .reset_index())\n",
    "df_Diabetes\n"
   ]
  },
  {
   "cell_type": "code",
   "execution_count": null,
   "metadata": {},
   "outputs": [],
   "source": [
    "df_Diabetes_DRUG=df_Diabetes[df_Diabetes['Proc_Clas']=='Drug']\n",
    "df_Diabetes_DRUG"
   ]
  },
  {
   "cell_type": "code",
   "execution_count": null,
   "metadata": {},
   "outputs": [],
   "source": [
    "df_Diabetes_Itemized =df_Diabetes[df_Diabetes['Proc_Clas']=='Non-Drug']\n",
    "df_Diabetes_Itemized"
   ]
  },
  {
   "cell_type": "code",
   "execution_count": null,
   "metadata": {},
   "outputs": [],
   "source": [
    "df_Diabetes_Itemized_New= (df_Diabetes_Itemized.groupby(['Claim_ID','Proc_Clas'])\n",
    "    .agg({'Sum_Charges':'sum','Sum_All_Charges':'sum','Sum_Net_Payments':'sum',\n",
    "         'Sum_Contractual_Adj':'sum','Sum_Calculated_Allowable':'sum','Sum_Actual_Allowed_Amts':'sum','Sum_Expected_Allowed_Amts':'sum','Sum_All_Adj':'sum','Sum_Allowable_Diff':'sum','Sum_Payments':'sum',\n",
    "          })\n",
    "    .reset_index()\n",
    "                 )\n"
   ]
  },
  {
   "cell_type": "code",
   "execution_count": null,
   "metadata": {},
   "outputs": [],
   "source": [
    "Report_Diabetes = pd.merge(df_Diabetes_DRUG,\n",
    "                 df_Diabetes_Itemized_New,\n",
    "                 on='Claim_ID', \n",
    "                 how='inner')"
   ]
  },
  {
   "cell_type": "code",
   "execution_count": null,
   "metadata": {},
   "outputs": [],
   "source": [
    "Report_Diabetes = Report_Diabetes.rename(columns=lambda col: d.get(str(col)) if str(col) in d else col)\n",
    "Report_Diabetes[['Claim_ID','Proc_Code','EOC_with_or_no_drug','#Units','EOC_Total_Pmt_Code_Portion',\n",
    "         'EOC_Total_Calculated_Allow_Code_Portion','EOC_Total_Pmt_Non_Code_Portion',\n",
    "         'EOC_Total_Calculated_Allow_Non_Code_Portion','Total_All_Adj']]\n",
    "\n"
   ]
  },
  {
   "cell_type": "code",
   "execution_count": null,
   "metadata": {},
   "outputs": [],
   "source": [
    "Report_Diabetes = Report_Diabetes.loc[Report_Diabetes['EOC_Total_Pmt_Code_Portion']!=0] "
   ]
  },
  {
   "cell_type": "code",
   "execution_count": null,
   "metadata": {},
   "outputs": [],
   "source": [
    "Report_Diabetes_New= (Report_Diabetes.groupby(['Proc_Code','EOC_with_or_no_drug'])\n",
    "    .agg({'Claim_ID':'count','#Units':'sum','EOC_Total_Pmt_Code_Portion':'sum','EOC_Total_Pmt_Non_Code_Portion':'sum',\n",
    "         'EOC_Total_Calculated_Allow_Code_Portion':'sum','EOC_Total_Calculated_Allow_Non_Code_Portion':'sum',\n",
    "         'Total_All_Adj':'sum'})\n",
    "    .reset_index()\n",
    "    .rename(columns={'Claim_ID':'#EOCs'})\n",
    ")"
   ]
  },
  {
   "cell_type": "code",
   "execution_count": null,
   "metadata": {},
   "outputs": [],
   "source": [
    "Report_Diabetes_New['EOC_Total_Pmts'] = Report_Diabetes_New.apply(eoc_total_pmt, axis=1) \n",
    "Report_Diabetes_New['%_of_code_portion'] = Report_Diabetes_New.apply(total_code_portion, axis=1) \n",
    "Report_Diabetes_New['%_of_non_code_portion'] = Report_Diabetes_New.apply(total_non_code_portion, axis=1) \n",
    "Report_Diabetes_New['EOC_Total_Calc_Allow'] = Report_Diabetes_New.apply(eoc_total_calc_allow, axis=1) \n",
    "Report_Diabetes_New['%_of_allow_code_portion'] = Report_Diabetes_New.apply(total_allow_code_portion, axis=1) \n",
    "Report_Diabetes_New['%_of_allow_non_code_portion'] = Report_Diabetes_New.apply(total_allow_non_code_portion, axis=1) \n",
    "Report_Diabetes_New['EOC_Avg_Pmt'] = Report_Diabetes_New.apply(eoc_avg_pmt, axis=1) \n",
    "Report_Diabetes_New['EOC_Avg_Calc_Allow'] = Report_Diabetes_New.apply(eoc_avg_calc_allow, axis=1) \n"
   ]
  },
  {
   "cell_type": "code",
   "execution_count": null,
   "metadata": {},
   "outputs": [],
   "source": [
    "total_diabetes = Report_Diabetes_New.apply(np.sum)\n",
    "total_diabetes['Proc_Code'] = 'Total'\n",
    "Report_Diabetes_New= Report_Diabetes_New.append(pd.DataFrame(total_diabetes.values, index=total_diabetes.keys()).T, ignore_index=True,sort=True)"
   ]
  },
  {
   "cell_type": "code",
   "execution_count": null,
   "metadata": {},
   "outputs": [],
   "source": [
    "Report_Diabetes_New=Report_Diabetes_New[['Proc_Code','EOC_with_or_no_drug','#EOCs','#Units','EOC_Total_Pmts','EOC_Total_Pmt_Code_Portion','EOC_Total_Pmt_Non_Code_Portion',\n",
    "                             '%_of_code_portion','%_of_non_code_portion','EOC_Avg_Pmt','EOC_Total_Calc_Allow','EOC_Total_Calculated_Allow_Code_Portion',\n",
    "                             'EOC_Total_Calculated_Allow_Non_Code_Portion','%_of_allow_code_portion','%_of_allow_non_code_portion','EOC_Avg_Calc_Allow'\n",
    "                            ]]"
   ]
  },
  {
   "cell_type": "code",
   "execution_count": null,
   "metadata": {},
   "outputs": [],
   "source": [
    "Report_Diabetes_New"
   ]
  },
  {
   "cell_type": "code",
   "execution_count": null,
   "metadata": {},
   "outputs": [],
   "source": [
    "#csv file name and path\n",
    "file_name = 'Report_Diabetes'\n",
    "file_path = os.path.join(output_folder, file_name)\n",
    "file_path+='.csv'\n",
    "Report_Diabetes_New.to_csv(file_path,index=False)"
   ]
  },
  {
   "cell_type": "code",
   "execution_count": null,
   "metadata": {},
   "outputs": [],
   "source": [
    "Report_Diabetes_Itemized = pd.merge(\n",
    "                 df_Diabetes_Itemized,\n",
    "                 df_Diabetes_DRUG,\n",
    "                 on='Claim_ID', \n",
    "                 how='inner')"
   ]
  },
  {
   "cell_type": "code",
   "execution_count": null,
   "metadata": {},
   "outputs": [],
   "source": [
    "Report_Diabetes_Itemized  = Report_Diabetes_Itemized .rename(columns=lambda col: c.get(str(col)) if str(col) in c else col)"
   ]
  },
  {
   "cell_type": "code",
   "execution_count": null,
   "metadata": {},
   "outputs": [],
   "source": [
    "Report_Diabetes_Itemized[['Claim_ID','Of_EOC_with_drug_Itemized','#Units','EOC_Total_Pmt_Code_Portion',\n",
    "         'EOC_Total_Calculated_Allow_Code_Portion','EOC_Total_Pmt_Non_Code_Portion',\n",
    "         'EOC_Total_Calculated_Allow_Non_Code_Portion','Total_All_Adj']]"
   ]
  },
  {
   "cell_type": "code",
   "execution_count": null,
   "metadata": {},
   "outputs": [],
   "source": [
    "Report_Diabetes_Itemized = Report_Diabetes_Itemized.loc[Report_Diabetes_Itemized['EOC_Total_Pmt_Code_Portion']!=0]"
   ]
  },
  {
   "cell_type": "code",
   "execution_count": null,
   "metadata": {},
   "outputs": [],
   "source": [
    "Report_Diabetes_Itemized_New= (Report_Diabetes_Itemized.groupby(['Proc_Code','Of_EOC_with_drug_Itemized'])\n",
    "    .agg({'Claim_ID':'count','#Units':'sum','EOC_Total_Pmt_Code_Portion':'sum','EOC_Total_Pmt_Non_Code_Portion':'sum',\n",
    "         'EOC_Total_Calculated_Allow_Code_Portion':'sum','EOC_Total_Calculated_Allow_Non_Code_Portion':'sum',\n",
    "         'Total_All_Adj':'sum'})\n",
    "    .reset_index()\n",
    "    .rename(columns={'Claim_ID':'#EOCs'})\n",
    ")"
   ]
  },
  {
   "cell_type": "code",
   "execution_count": null,
   "metadata": {},
   "outputs": [],
   "source": [
    "Report_Diabetes_Itemized_New['EOC_Total_Pmts'] = Report_Diabetes_Itemized_New.apply(eoc_total_pmt, axis=1) \n",
    "Report_Diabetes_Itemized_New['%_of_code_portion'] = Report_Diabetes_Itemized_New.apply(total_code_portion, axis=1) \n",
    "Report_Diabetes_Itemized_New['%_of_non_code_portion'] = Report_Diabetes_Itemized_New.apply(total_non_code_portion, axis=1) \n",
    "Report_Diabetes_Itemized_New['EOC_Total_Calc_Allow'] = Report_Diabetes_Itemized_New.apply(eoc_total_calc_allow, axis=1) \n",
    "Report_Diabetes_Itemized_New['%_of_allow_code_portion'] = Report_Diabetes_Itemized_New.apply(total_allow_code_portion, axis=1) \n",
    "Report_Diabetes_Itemized_New['%_of_allow_non_code_portion'] = Report_Diabetes_Itemized_New.apply(total_allow_non_code_portion, axis=1) \n",
    "Report_Diabetes_Itemized_New['EOC_Avg_Pmt'] = Report_Diabetes_Itemized_New.apply(eoc_avg_pmt, axis=1) \n",
    "Report_Diabetes_Itemized_New['EOC_Avg_Calc_Allow'] = Report_Diabetes_Itemized_New.apply(eoc_avg_calc_allow, axis=1) "
   ]
  },
  {
   "cell_type": "code",
   "execution_count": null,
   "metadata": {},
   "outputs": [],
   "source": [
    "total_idiabetes = Report_Diabetes_New.apply(np.sum)\n",
    "total_idiabetes['Proc_Code'] = 'Total'\n",
    "Report_Diabetes_Itemized_New= Report_Diabetes_Itemized_New.append(pd.DataFrame(total_idiabetes.values, index=total_idiabetes.keys()).T, ignore_index=True,sort=True)"
   ]
  },
  {
   "cell_type": "code",
   "execution_count": null,
   "metadata": {},
   "outputs": [],
   "source": [
    "Report_Diabetes_Itemized_New=Report_Diabetes_Itemized_New[['Proc_Code','Of_EOC_with_drug_Itemized','#EOCs','#Units','EOC_Total_Pmts','EOC_Total_Pmt_Code_Portion','EOC_Total_Pmt_Non_Code_Portion',\n",
    "                             '%_of_code_portion','%_of_non_code_portion','EOC_Avg_Pmt','EOC_Total_Calc_Allow','EOC_Total_Calculated_Allow_Code_Portion',\n",
    "                             'EOC_Total_Calculated_Allow_Non_Code_Portion','%_of_allow_code_portion','%_of_allow_non_code_portion','EOC_Avg_Calc_Allow'\n",
    "                            ]]"
   ]
  },
  {
   "cell_type": "code",
   "execution_count": null,
   "metadata": {},
   "outputs": [],
   "source": [
    "Report_Diabetes_Itemized_New"
   ]
  },
  {
   "cell_type": "code",
   "execution_count": null,
   "metadata": {},
   "outputs": [],
   "source": [
    "#csv file name and path\n",
    "file_name = 'Report_Itemized_Diabetes'\n",
    "file_path = os.path.join(output_folder, file_name)\n",
    "file_path+='.csv'\n",
    "Report_Diabetes_Itemized_New.to_csv(file_path,index=False)"
   ]
  },
  {
   "cell_type": "code",
   "execution_count": null,
   "metadata": {},
   "outputs": [],
   "source": [
    "df_Lumped_Diabetes=df_Lumped_NonDrug.loc[(df_Lumped_NonDrug['Primary_Diagnosis_10'] == 'Diabetes') |(df_Lumped_NonDrug['ICD-10_Claim_Diagnosis_Code02'] == 'Diabetes')\n",
    "                           |(df_Lumped_NonDrug['ICD-10_Claim_Diagnosis_Code03'] == 'Diabetes')|(df_Lumped_NonDrug['ICD-10_Claim_Diagnosis_Code04'] == 'Diabetes') \n",
    "                           |(df_Lumped_NonDrug['ICD-10_Claim_Diagnosis_Code05'] == 'Diabetes') |(df_Lumped_NonDrug['ICD-10_Claim_Diagnosis_Code06'] == 'Diabetes')\n",
    "                           |(df_Lumped_NonDrug['ICD-10_Claim_Diagnosis_Code07'] == 'Diabetes')|(df_Lumped_NonDrug['ICD-10_Claim_Diagnosis_Code08'] == 'Diabetes')\n",
    "                           |(df_Lumped_NonDrug['ICD-10_Claim_Diagnosis_Code09'] == 'Diabetes')|(df_Lumped_NonDrug['ICD-10_Claim_Diagnosis_Code010'] == 'Diabetes')\n",
    "                           |(df_Lumped_NonDrug['ICD-10_Claim_Diagnosis_Code011'] == 'Diabetes')|(df_Lumped_NonDrug['Primary_Diagnosis_9'] == 'Diabetes') ]"
   ]
  },
  {
   "cell_type": "code",
   "execution_count": null,
   "metadata": {},
   "outputs": [],
   "source": [
    "Report_Lumped_Diabetes  = df_Lumped_Diabetes.rename(columns=lambda col: b.get(str(col)) if str(col) in b else col)"
   ]
  },
  {
   "cell_type": "code",
   "execution_count": null,
   "metadata": {},
   "outputs": [],
   "source": [
    "Report_Lumped_Diabetes[['#EOCs','EOC_with_no_drug','#Units','EOC_Total_Pmt_Code_Portion',\n",
    "         'EOC_Total_Calculated_Allow_Code_Portion',\n",
    "         ]]"
   ]
  },
  {
   "cell_type": "code",
   "execution_count": null,
   "metadata": {},
   "outputs": [],
   "source": [
    "Report_Lumped_Diabetes= Report_Lumped_Diabetes.loc[Report_Lumped_Diabetes['EOC_Total_Pmt_Code_Portion']!=0]"
   ]
  },
  {
   "cell_type": "code",
   "execution_count": null,
   "metadata": {},
   "outputs": [],
   "source": [
    "Report_Lumped_Diabetes['#EOCs'].nunique()"
   ]
  },
  {
   "cell_type": "code",
   "execution_count": null,
   "metadata": {},
   "outputs": [],
   "source": [
    "Report_Lumped_Diabetes.agg(['sum'])"
   ]
  },
  {
   "cell_type": "markdown",
   "metadata": {},
   "source": [
    "################################################################################################################################\n",
    "# AMD - Dry\n",
    "################################################################################################################################"
   ]
  },
  {
   "cell_type": "code",
   "execution_count": null,
   "metadata": {},
   "outputs": [],
   "source": [
    "df_AMD_Dry=df_Modifier.loc[(df_Modifier['Primary_Diagnosis_10'] == 'AMD - Dry') |(df_Modifier['ICD-10_Claim_Diagnosis_Code02'] == 'AMD - Dry')\n",
    "                           |(df_Modifier['ICD-10_Claim_Diagnosis_Code03'] == 'AMD - Dry')|(df_Modifier['ICD-10_Claim_Diagnosis_Code04'] == 'AMD - Dry') \n",
    "                           |(df_Modifier['ICD-10_Claim_Diagnosis_Code05'] == 'AMD - Dry') |(df_Modifier['ICD-10_Claim_Diagnosis_Code06'] == 'AMD - Dry')\n",
    "                           |(df_Modifier['ICD-10_Claim_Diagnosis_Code07'] == 'AMD - Dry')|(df_Modifier['ICD-10_Claim_Diagnosis_Code08'] == 'AMD - Dry')\n",
    "                           |(df_Modifier['ICD-10_Claim_Diagnosis_Code09'] == 'AMD - Dry')|(df_Modifier['ICD-10_Claim_Diagnosis_Code010'] == 'AMD - Dry')\n",
    "                           |(df_Modifier['ICD-10_Claim_Diagnosis_Code011'] == 'AMD - Dry')|(df_Modifier['Primary_Diagnosis_9'] == 'AMD - Dry') ]\n",
    "\n",
    "df_AMD_Dry=(df_AMD_Dry.groupby(['Claim_ID','Proc_Clas','Proc_Code','Proc_Desc'])\n",
    "    .agg({'Sum_Charges':'sum','Sum_All_Charges':'sum','Sum_Net_Payments':'sum',\n",
    "         'Sum_Contractual_Adj':'sum','Sum_Calculated_Allowable':'sum','Sum_Actual_Allowed_Amts':'sum','Sum_Expected_Allowed_Amts':'sum','Sum_All_Adj':'sum','Sum_Allowable_Diff':'sum','Sum_Payments':'sum',\n",
    "          })\n",
    "    .reset_index())\n",
    "df_AMD_Dry\n",
    "\n",
    "\n",
    "df_AMD_Dry_DRUG=df_AMD_Dry[df_AMD_Dry['Proc_Clas']=='Drug']\n",
    "df_AMD_Dry_DRUG\n",
    "\n",
    "df_AMD_Dry_Itemized =df_AMD_Dry[df_AMD_Dry['Proc_Clas']=='Non-Drug']\n",
    "df_AMD_Dry_Itemized\n",
    "\n",
    "df_AMD_Dry_Itemized_New= (df_AMD_Dry_Itemized.groupby(['Claim_ID','Proc_Clas'])\n",
    "    .agg({'Sum_Charges':'sum','Sum_All_Charges':'sum','Sum_Net_Payments':'sum',\n",
    "         'Sum_Contractual_Adj':'sum','Sum_Calculated_Allowable':'sum','Sum_Actual_Allowed_Amts':'sum','Sum_Expected_Allowed_Amts':'sum','Sum_All_Adj':'sum','Sum_Allowable_Diff':'sum','Sum_Payments':'sum',\n",
    "          })\n",
    "    .reset_index()\n",
    "                 )\n",
    "\n",
    "\n",
    "Report_AMD_Dry = pd.merge(df_AMD_Dry_DRUG,\n",
    "                 df_AMD_Dry_Itemized_New,\n",
    "                 on='Claim_ID', \n",
    "                 how='inner')\n",
    "\n",
    "Report_AMD_Dry = Report_AMD_Dry.rename(columns=lambda col: d.get(str(col)) if str(col) in d else col)\n",
    "Report_AMD_Dry[['Claim_ID','Proc_Code','EOC_with_or_no_drug','#Units','EOC_Total_Pmt_Code_Portion',\n",
    "         'EOC_Total_Calculated_Allow_Code_Portion','EOC_Total_Pmt_Non_Code_Portion',\n",
    "         'EOC_Total_Calculated_Allow_Non_Code_Portion','Total_All_Adj']]\n",
    "\n",
    "\n",
    "\n",
    "Report_AMD_Dry = Report_AMD_Dry.loc[Report_AMD_Dry['EOC_Total_Pmt_Code_Portion']!=0] \n",
    "\n",
    "Report_AMD_Dry_New= (Report_AMD_Dry.groupby(['Proc_Code','EOC_with_or_no_drug'])\n",
    "    .agg({'Claim_ID':'count','#Units':'sum','EOC_Total_Pmt_Code_Portion':'sum','EOC_Total_Pmt_Non_Code_Portion':'sum',\n",
    "         'EOC_Total_Calculated_Allow_Code_Portion':'sum','EOC_Total_Calculated_Allow_Non_Code_Portion':'sum',\n",
    "         'Total_All_Adj':'sum'})\n",
    "    .reset_index()\n",
    "    .rename(columns={'Claim_ID':'#EOCs'})\n",
    ")\n",
    "\n",
    "Report_AMD_Dry_New['EOC_Total_Pmts'] = Report_AMD_Dry_New.apply(eoc_total_pmt, axis=1) \n",
    "Report_AMD_Dry_New['%_of_code_portion'] = Report_AMD_Dry_New.apply(total_code_portion, axis=1) \n",
    "Report_AMD_Dry_New['%_of_non_code_portion'] = Report_AMD_Dry_New.apply(total_non_code_portion, axis=1) \n",
    "Report_AMD_Dry_New['EOC_Total_Calc_Allow'] = Report_AMD_Dry_New.apply(eoc_total_calc_allow, axis=1) \n",
    "Report_AMD_Dry_New['%_of_allow_code_portion'] = Report_AMD_Dry_New.apply(total_allow_code_portion, axis=1) \n",
    "Report_AMD_Dry_New['%_of_allow_non_code_portion'] = Report_AMD_Dry_New.apply(total_allow_non_code_portion, axis=1) \n",
    "Report_AMD_Dry_New['EOC_Avg_Pmt'] = Report_AMD_Dry_New.apply(eoc_avg_pmt, axis=1) \n",
    "Report_AMD_Dry_New['EOC_Avg_Calc_Allow'] = Report_AMD_Dry_New.apply(eoc_avg_calc_allow, axis=1) \n",
    "\n",
    "\n",
    "total_AMD_Dry = Report_AMD_Dry_New.apply(np.sum)\n",
    "total_AMD_Dry['Proc_Code'] = 'Total'\n",
    "Report_AMD_Dry_New= Report_AMD_Dry_New.append(pd.DataFrame(total_AMD_Dry.values, index=total_AMD_Dry.keys()).T, ignore_index=True,sort=True)\n",
    "\n",
    "Report_AMD_Dry_New=Report_AMD_Dry_New[['Proc_Code','EOC_with_or_no_drug','#EOCs','#Units','EOC_Total_Pmts','EOC_Total_Pmt_Code_Portion','EOC_Total_Pmt_Non_Code_Portion',\n",
    "                             '%_of_code_portion','%_of_non_code_portion','EOC_Avg_Pmt','EOC_Total_Calc_Allow','EOC_Total_Calculated_Allow_Code_Portion',\n",
    "                             'EOC_Total_Calculated_Allow_Non_Code_Portion','%_of_allow_code_portion','%_of_allow_non_code_portion','EOC_Avg_Calc_Allow'\n",
    "                            ]]\n",
    "\n",
    "Report_AMD_Dry_New\n",
    "\n",
    "#csv file name and path\n",
    "file_name = 'Report_AMD_Dry'\n",
    "file_path = os.path.join(output_folder, file_name)\n",
    "file_path+='.csv'\n",
    "Report_AMD_Dry_New.to_csv(file_path,index=False)\n",
    "\n",
    "Report_AMD_Dry_Itemized = pd.merge(\n",
    "                 df_AMD_Dry_Itemized,\n",
    "                 df_AMD_Dry_DRUG,\n",
    "                 on='Claim_ID', \n",
    "                 how='inner')\n",
    "\n",
    "Report_AMD_Dry_Itemized  = Report_AMD_Dry_Itemized .rename(columns=lambda col: c.get(str(col)) if str(col) in c else col)\n",
    "\n",
    "Report_AMD_Dry_Itemized[['Claim_ID','Of_EOC_with_drug_Itemized','#Units','EOC_Total_Pmt_Code_Portion',\n",
    "         'EOC_Total_Calculated_Allow_Code_Portion','EOC_Total_Pmt_Non_Code_Portion',\n",
    "         'EOC_Total_Calculated_Allow_Non_Code_Portion','Total_All_Adj']]\n",
    "\n",
    "Report_AMD_Dry_Itemized = Report_AMD_Dry_Itemized.loc[Report_AMD_Dry_Itemized['EOC_Total_Pmt_Code_Portion']!=0]\n",
    "\n",
    "Report_AMD_Dry_Itemized_New= (Report_AMD_Dry_Itemized.groupby(['Proc_Code','Of_EOC_with_drug_Itemized'])\n",
    "    .agg({'Claim_ID':'count','#Units':'sum','EOC_Total_Pmt_Code_Portion':'sum','EOC_Total_Pmt_Non_Code_Portion':'sum',\n",
    "         'EOC_Total_Calculated_Allow_Code_Portion':'sum','EOC_Total_Calculated_Allow_Non_Code_Portion':'sum',\n",
    "         'Total_All_Adj':'sum'})\n",
    "    .reset_index()\n",
    "    .rename(columns={'Claim_ID':'#EOCs'})\n",
    ")\n",
    "\n",
    "Report_AMD_Dry_Itemized_New['EOC_Total_Pmts'] = Report_AMD_Dry_Itemized_New.apply(eoc_total_pmt, axis=1) \n",
    "Report_AMD_Dry_Itemized_New['%_of_code_portion'] = Report_AMD_Dry_Itemized_New.apply(total_code_portion, axis=1) \n",
    "Report_AMD_Dry_Itemized_New['%_of_non_code_portion'] = Report_AMD_Dry_Itemized_New.apply(total_non_code_portion, axis=1) \n",
    "Report_AMD_Dry_Itemized_New['EOC_Total_Calc_Allow'] = Report_AMD_Dry_Itemized_New.apply(eoc_total_calc_allow, axis=1) \n",
    "Report_AMD_Dry_Itemized_New['%_of_allow_code_portion'] = Report_AMD_Dry_Itemized_New.apply(total_allow_code_portion, axis=1) \n",
    "Report_AMD_Dry_Itemized_New['%_of_allow_non_code_portion'] = Report_AMD_Dry_Itemized_New.apply(total_allow_non_code_portion, axis=1) \n",
    "Report_AMD_Dry_Itemized_New['EOC_Avg_Pmt'] = Report_AMD_Dry_Itemized_New.apply(eoc_avg_pmt, axis=1) \n",
    "Report_AMD_Dry_Itemized_New['EOC_Avg_Calc_Allow'] = Report_AMD_Dry_Itemized_New.apply(eoc_avg_calc_allow, axis=1) \n",
    "\n",
    "total_iAMD_Dry = Report_AMD_Dry_New.apply(np.sum)\n",
    "total_iAMD_Dry['Proc_Code'] = 'Total'\n",
    "Report_AMD_Dry_Itemized_New= Report_AMD_Dry_Itemized_New.append(pd.DataFrame(total_iAMD_Dry.values, index=total_iAMD_Dry.keys()).T, ignore_index=True,sort=True)\n",
    "\n",
    "Report_AMD_Dry_Itemized_New=Report_AMD_Dry_Itemized_New[['Proc_Code','Of_EOC_with_drug_Itemized','#EOCs','#Units','EOC_Total_Pmts','EOC_Total_Pmt_Code_Portion','EOC_Total_Pmt_Non_Code_Portion',\n",
    "                             '%_of_code_portion','%_of_non_code_portion','EOC_Avg_Pmt','EOC_Total_Calc_Allow','EOC_Total_Calculated_Allow_Code_Portion',\n",
    "                             'EOC_Total_Calculated_Allow_Non_Code_Portion','%_of_allow_code_portion','%_of_allow_non_code_portion','EOC_Avg_Calc_Allow'\n",
    "                            ]]\n",
    "\n",
    "Report_AMD_Dry_Itemized_New\n",
    "\n",
    "#csv file name and path\n",
    "file_name = 'Report_Itemized_AMD_Dry'\n",
    "file_path = os.path.join(output_folder, file_name)\n",
    "file_path+='.csv'\n",
    "Report_AMD_Dry_Itemized_New.to_csv(file_path,index=False)\n",
    "\n",
    "df_Lumped_AMD_Dry=df_Lumped_NonDrug.loc[(df_Lumped_NonDrug['Primary_Diagnosis_10'] == 'AMD_Dry') |(df_Lumped_NonDrug['ICD-10_Claim_Diagnosis_Code02'] == 'AMD_Dry')\n",
    "                           |(df_Lumped_NonDrug['ICD-10_Claim_Diagnosis_Code03'] == 'AMD_Dry')|(df_Lumped_NonDrug['ICD-10_Claim_Diagnosis_Code04'] == 'AMD_Dry') \n",
    "                           |(df_Lumped_NonDrug['ICD-10_Claim_Diagnosis_Code05'] == 'AMD_Dry') |(df_Lumped_NonDrug['ICD-10_Claim_Diagnosis_Code06'] == 'AMD_Dry')\n",
    "                           |(df_Lumped_NonDrug['ICD-10_Claim_Diagnosis_Code07'] == 'AMD_Dry')|(df_Lumped_NonDrug['ICD-10_Claim_Diagnosis_Code08'] == 'AMD_Dry')\n",
    "                           |(df_Lumped_NonDrug['ICD-10_Claim_Diagnosis_Code09'] == 'AMD_Dry')|(df_Lumped_NonDrug['ICD-10_Claim_Diagnosis_Code010'] == 'AMD_Dry')\n",
    "                           |(df_Lumped_NonDrug['ICD-10_Claim_Diagnosis_Code011'] == 'AMD_Dry')|(df_Lumped_NonDrug['Primary_Diagnosis_9'] == 'AMD_Dry') ]\n",
    "\n",
    "Report_Lumped_AMD_Dry  = df_Lumped_AMD_Dry.rename(columns=lambda col: b.get(str(col)) if str(col) in b else col)\n",
    "\n",
    "Report_Lumped_AMD_Dry[['#EOCs','EOC_with_no_drug','#Units','EOC_Total_Pmt_Code_Portion',\n",
    "         'EOC_Total_Calculated_Allow_Code_Portion',\n",
    "         ]]\n",
    "\n",
    "Report_Lumped_AMD_Dry= Report_Lumped_AMD_Dry.loc[Report_Lumped_AMD_Dry['EOC_Total_Pmt_Code_Portion']!=0]\n",
    "\n",
    "Report_Lumped_AMD_Dry['#EOCs'].nunique()\n",
    "\n",
    "Report_Lumped_AMD_Dry.agg(['sum'])"
   ]
  },
  {
   "cell_type": "markdown",
   "metadata": {},
   "source": [
    "################################################################################################################################\n",
    "# Puckering\n",
    "################################################################################################################################"
   ]
  },
  {
   "cell_type": "code",
   "execution_count": null,
   "metadata": {},
   "outputs": [],
   "source": [
    "df_Puckering=df_Modifier.loc[(df_Modifier['Primary_Diagnosis_10'] == 'Puckering') |(df_Modifier['ICD-10_Claim_Diagnosis_Code02'] == 'Puckering')\n",
    "                           |(df_Modifier['ICD-10_Claim_Diagnosis_Code03'] == 'Puckering')|(df_Modifier['ICD-10_Claim_Diagnosis_Code04'] == 'Puckering') \n",
    "                           |(df_Modifier['ICD-10_Claim_Diagnosis_Code05'] == 'Puckering') |(df_Modifier['ICD-10_Claim_Diagnosis_Code06'] == 'Puckering')\n",
    "                           |(df_Modifier['ICD-10_Claim_Diagnosis_Code07'] == 'Puckering')|(df_Modifier['ICD-10_Claim_Diagnosis_Code08'] == 'Puckering')\n",
    "                           |(df_Modifier['ICD-10_Claim_Diagnosis_Code09'] == 'Puckering')|(df_Modifier['ICD-10_Claim_Diagnosis_Code010'] == 'Puckering')\n",
    "                           |(df_Modifier['ICD-10_Claim_Diagnosis_Code011'] == 'Puckering')|(df_Modifier['Primary_Diagnosis_9'] == 'Puckering') ]\n",
    "\n",
    "df_Puckering=(df_Puckering.groupby(['Claim_ID','Proc_Clas','Proc_Code','Proc_Desc'])\n",
    "    .agg({'Sum_Charges':'sum','Sum_All_Charges':'sum','Sum_Net_Payments':'sum',\n",
    "         'Sum_Contractual_Adj':'sum','Sum_Calculated_Allowable':'sum','Sum_Actual_Allowed_Amts':'sum','Sum_Expected_Allowed_Amts':'sum','Sum_All_Adj':'sum','Sum_Allowable_Diff':'sum','Sum_Payments':'sum',\n",
    "          })\n",
    "    .reset_index())\n",
    "df_Puckering\n",
    "\n",
    "\n",
    "df_Puckering_DRUG=df_Puckering[df_Puckering['Proc_Clas']=='Drug']\n",
    "df_Puckering_DRUG\n",
    "\n",
    "df_Puckering_Itemized =df_Puckering[df_Puckering['Proc_Clas']=='Non-Drug']\n",
    "df_Puckering_Itemized\n",
    "\n",
    "df_Puckering_Itemized_New= (df_Puckering_Itemized.groupby(['Claim_ID','Proc_Clas'])\n",
    "    .agg({'Sum_Charges':'sum','Sum_All_Charges':'sum','Sum_Net_Payments':'sum',\n",
    "         'Sum_Contractual_Adj':'sum','Sum_Calculated_Allowable':'sum','Sum_Actual_Allowed_Amts':'sum','Sum_Expected_Allowed_Amts':'sum','Sum_All_Adj':'sum','Sum_Allowable_Diff':'sum','Sum_Payments':'sum',\n",
    "          })\n",
    "    .reset_index()\n",
    "                 )\n",
    "\n",
    "\n",
    "Report_Puckering = pd.merge(df_Puckering_DRUG,\n",
    "                 df_Puckering_Itemized_New,\n",
    "                 on='Claim_ID', \n",
    "                 how='inner')\n",
    "\n",
    "Report_Puckering = Report_Puckering.rename(columns=lambda col: d.get(str(col)) if str(col) in d else col)\n",
    "Report_Puckering[['Claim_ID','Proc_Code','EOC_with_or_no_drug','#Units','EOC_Total_Pmt_Code_Portion',\n",
    "         'EOC_Total_Calculated_Allow_Code_Portion','EOC_Total_Pmt_Non_Code_Portion',\n",
    "         'EOC_Total_Calculated_Allow_Non_Code_Portion','Total_All_Adj']]\n",
    "\n",
    "\n",
    "\n",
    "Report_Puckering = Report_Puckering.loc[Report_Puckering['EOC_Total_Pmt_Code_Portion']!=0] \n",
    "\n",
    "Report_Puckering_New= (Report_Puckering.groupby(['Proc_Code','EOC_with_or_no_drug'])\n",
    "    .agg({'Claim_ID':'count','#Units':'sum','EOC_Total_Pmt_Code_Portion':'sum','EOC_Total_Pmt_Non_Code_Portion':'sum',\n",
    "         'EOC_Total_Calculated_Allow_Code_Portion':'sum','EOC_Total_Calculated_Allow_Non_Code_Portion':'sum',\n",
    "         'Total_All_Adj':'sum'})\n",
    "    .reset_index()\n",
    "    .rename(columns={'Claim_ID':'#EOCs'})\n",
    ")\n",
    "\n",
    "Report_Puckering_New['EOC_Total_Pmts'] = Report_Puckering_New.apply(eoc_total_pmt, axis=1) \n",
    "Report_Puckering_New['%_of_code_portion'] = Report_Puckering_New.apply(total_code_portion, axis=1) \n",
    "Report_Puckering_New['%_of_non_code_portion'] = Report_Puckering_New.apply(total_non_code_portion, axis=1) \n",
    "Report_Puckering_New['EOC_Total_Calc_Allow'] = Report_Puckering_New.apply(eoc_total_calc_allow, axis=1) \n",
    "Report_Puckering_New['%_of_allow_code_portion'] = Report_Puckering_New.apply(total_allow_code_portion, axis=1) \n",
    "Report_Puckering_New['%_of_allow_non_code_portion'] = Report_Puckering_New.apply(total_allow_non_code_portion, axis=1) \n",
    "Report_Puckering_New['EOC_Avg_Pmt'] = Report_Puckering_New.apply(eoc_avg_pmt, axis=1) \n",
    "Report_Puckering_New['EOC_Avg_Calc_Allow'] = Report_Puckering_New.apply(eoc_avg_calc_allow, axis=1) \n",
    "\n",
    "\n",
    "total_Puckering = Report_Puckering_New.apply(np.sum)\n",
    "total_Puckering['Proc_Code'] = 'Total'\n",
    "Report_Puckering_New= Report_Puckering_New.append(pd.DataFrame(total_Puckering.values, index=total_Puckering.keys()).T, ignore_index=True,sort=True)\n",
    "\n",
    "Report_Puckering_New=Report_Puckering_New[['Proc_Code','EOC_with_or_no_drug','#EOCs','#Units','EOC_Total_Pmts','EOC_Total_Pmt_Code_Portion','EOC_Total_Pmt_Non_Code_Portion',\n",
    "                             '%_of_code_portion','%_of_non_code_portion','EOC_Avg_Pmt','EOC_Total_Calc_Allow','EOC_Total_Calculated_Allow_Code_Portion',\n",
    "                             'EOC_Total_Calculated_Allow_Non_Code_Portion','%_of_allow_code_portion','%_of_allow_non_code_portion','EOC_Avg_Calc_Allow'\n",
    "                            ]]\n",
    "\n",
    "Report_Puckering_New\n",
    "\n",
    "#csv file name and path\n",
    "file_name = 'Report_Puckering'\n",
    "file_path = os.path.join(output_folder, file_name)\n",
    "file_path+='.csv'\n",
    "Report_Puckering_New.to_csv(file_path,index=False)\n",
    "\n",
    "Report_Puckering_Itemized = pd.merge(\n",
    "                 df_Puckering_Itemized,\n",
    "                 df_Puckering_DRUG,\n",
    "                 on='Claim_ID', \n",
    "                 how='inner')\n",
    "\n",
    "Report_Puckering_Itemized  = Report_Puckering_Itemized .rename(columns=lambda col: c.get(str(col)) if str(col) in c else col)\n",
    "\n",
    "Report_Puckering_Itemized[['Claim_ID','Of_EOC_with_drug_Itemized','#Units','EOC_Total_Pmt_Code_Portion',\n",
    "         'EOC_Total_Calculated_Allow_Code_Portion','EOC_Total_Pmt_Non_Code_Portion',\n",
    "         'EOC_Total_Calculated_Allow_Non_Code_Portion','Total_All_Adj']]\n",
    "\n",
    "Report_Puckering_Itemized = Report_Puckering_Itemized.loc[Report_Puckering_Itemized['EOC_Total_Pmt_Code_Portion']!=0]\n",
    "\n",
    "Report_Puckering_Itemized_New= (Report_Puckering_Itemized.groupby(['Proc_Code','Of_EOC_with_drug_Itemized'])\n",
    "    .agg({'Claim_ID':'count','#Units':'sum','EOC_Total_Pmt_Code_Portion':'sum','EOC_Total_Pmt_Non_Code_Portion':'sum',\n",
    "         'EOC_Total_Calculated_Allow_Code_Portion':'sum','EOC_Total_Calculated_Allow_Non_Code_Portion':'sum',\n",
    "         'Total_All_Adj':'sum'})\n",
    "    .reset_index()\n",
    "    .rename(columns={'Claim_ID':'#EOCs'})\n",
    ")\n",
    "\n",
    "Report_Puckering_Itemized_New['EOC_Total_Pmts'] = Report_Puckering_Itemized_New.apply(eoc_total_pmt, axis=1) \n",
    "Report_Puckering_Itemized_New['%_of_code_portion'] = Report_Puckering_Itemized_New.apply(total_code_portion, axis=1) \n",
    "Report_Puckering_Itemized_New['%_of_non_code_portion'] = Report_Puckering_Itemized_New.apply(total_non_code_portion, axis=1) \n",
    "Report_Puckering_Itemized_New['EOC_Total_Calc_Allow'] = Report_Puckering_Itemized_New.apply(eoc_total_calc_allow, axis=1) \n",
    "Report_Puckering_Itemized_New['%_of_allow_code_portion'] = Report_Puckering_Itemized_New.apply(total_allow_code_portion, axis=1) \n",
    "Report_Puckering_Itemized_New['%_of_allow_non_code_portion'] = Report_Puckering_Itemized_New.apply(total_allow_non_code_portion, axis=1) \n",
    "Report_Puckering_Itemized_New['EOC_Avg_Pmt'] = Report_Puckering_Itemized_New.apply(eoc_avg_pmt, axis=1) \n",
    "Report_Puckering_Itemized_New['EOC_Avg_Calc_Allow'] = Report_Puckering_Itemized_New.apply(eoc_avg_calc_allow, axis=1) \n",
    "\n",
    "total_iPuckering = Report_Puckering_New.apply(np.sum)\n",
    "total_iPuckering['Proc_Code'] = 'Total'\n",
    "Report_Puckering_Itemized_New= Report_Puckering_Itemized_New.append(pd.DataFrame(total_iPuckering.values, index=total_iPuckering.keys()).T, ignore_index=True,sort=True)\n",
    "\n",
    "Report_Puckering_Itemized_New=Report_Puckering_Itemized_New[['Proc_Code','Of_EOC_with_drug_Itemized','#EOCs','#Units','EOC_Total_Pmts','EOC_Total_Pmt_Code_Portion','EOC_Total_Pmt_Non_Code_Portion',\n",
    "                             '%_of_code_portion','%_of_non_code_portion','EOC_Avg_Pmt','EOC_Total_Calc_Allow','EOC_Total_Calculated_Allow_Code_Portion',\n",
    "                             'EOC_Total_Calculated_Allow_Non_Code_Portion','%_of_allow_code_portion','%_of_allow_non_code_portion','EOC_Avg_Calc_Allow'\n",
    "                            ]]\n",
    "\n",
    "Report_Puckering_Itemized_New\n",
    "\n",
    "#csv file name and path\n",
    "file_name = 'Report_Itemized_Puckering'\n",
    "file_path = os.path.join(output_folder, file_name)\n",
    "file_path+='.csv'\n",
    "Report_Puckering_Itemized_New.to_csv(file_path,index=False)\n",
    "\n",
    "df_Lumped_Puckering=df_Lumped_NonDrug.loc[(df_Lumped_NonDrug['Primary_Diagnosis_10'] == 'Puckering') |(df_Lumped_NonDrug['ICD-10_Claim_Diagnosis_Code02'] == 'Puckering')\n",
    "                           |(df_Lumped_NonDrug['ICD-10_Claim_Diagnosis_Code03'] == 'Puckering')|(df_Lumped_NonDrug['ICD-10_Claim_Diagnosis_Code04'] == 'Puckering') \n",
    "                           |(df_Lumped_NonDrug['ICD-10_Claim_Diagnosis_Code05'] == 'Puckering') |(df_Lumped_NonDrug['ICD-10_Claim_Diagnosis_Code06'] == 'Puckering')\n",
    "                           |(df_Lumped_NonDrug['ICD-10_Claim_Diagnosis_Code07'] == 'Puckering')|(df_Lumped_NonDrug['ICD-10_Claim_Diagnosis_Code08'] == 'Puckering')\n",
    "                           |(df_Lumped_NonDrug['ICD-10_Claim_Diagnosis_Code09'] == 'Puckering')|(df_Lumped_NonDrug['ICD-10_Claim_Diagnosis_Code010'] == 'Puckering')\n",
    "                           |(df_Lumped_NonDrug['ICD-10_Claim_Diagnosis_Code011'] == 'Puckering')|(df_Lumped_NonDrug['Primary_Diagnosis_9'] == 'Puckering') ]\n",
    "\n",
    "Report_Lumped_Puckering  = df_Lumped_Puckering.rename(columns=lambda col: b.get(str(col)) if str(col) in b else col)\n",
    "\n",
    "Report_Lumped_Puckering[['#EOCs','EOC_with_no_drug','#Units','EOC_Total_Pmt_Code_Portion',\n",
    "         'EOC_Total_Calculated_Allow_Code_Portion',\n",
    "         ]]\n",
    "\n",
    "Report_Lumped_Puckering= Report_Lumped_Puckering.loc[Report_Lumped_Puckering['EOC_Total_Pmt_Code_Portion']!=0]\n",
    "\n",
    "Report_Lumped_Puckering['#EOCs'].nunique()\n",
    "\n",
    "Report_Lumped_Puckering.agg(['sum'])"
   ]
  },
  {
   "cell_type": "markdown",
   "metadata": {},
   "source": [
    "################################################################################################################################\n",
    "# Injury\n",
    "################################################################################################################################"
   ]
  },
  {
   "cell_type": "code",
   "execution_count": null,
   "metadata": {},
   "outputs": [],
   "source": [
    "df_Injury=df_Modifier.loc[(df_Modifier['Primary_Diagnosis_10'] == 'Injury') |(df_Modifier['ICD-10_Claim_Diagnosis_Code02'] == 'Injury')\n",
    "                           |(df_Modifier['ICD-10_Claim_Diagnosis_Code03'] == 'Injury')|(df_Modifier['ICD-10_Claim_Diagnosis_Code04'] == 'Injury') \n",
    "                           |(df_Modifier['ICD-10_Claim_Diagnosis_Code05'] == 'Injury') |(df_Modifier['ICD-10_Claim_Diagnosis_Code06'] == 'Injury')\n",
    "                           |(df_Modifier['ICD-10_Claim_Diagnosis_Code07'] == 'Injury')|(df_Modifier['ICD-10_Claim_Diagnosis_Code08'] == 'Injury')\n",
    "                           |(df_Modifier['ICD-10_Claim_Diagnosis_Code09'] == 'Injury')|(df_Modifier['ICD-10_Claim_Diagnosis_Code010'] == 'Injury')\n",
    "                           |(df_Modifier['ICD-10_Claim_Diagnosis_Code011'] == 'Injury')|(df_Modifier['Primary_Diagnosis_9'] == 'Injury') ]\n",
    "\n",
    "df_Injury=(df_Injury.groupby(['Claim_ID','Proc_Clas','Proc_Code','Proc_Desc'])\n",
    "    .agg({'Sum_Charges':'sum','Sum_All_Charges':'sum','Sum_Net_Payments':'sum',\n",
    "         'Sum_Contractual_Adj':'sum','Sum_Calculated_Allowable':'sum','Sum_Actual_Allowed_Amts':'sum','Sum_Expected_Allowed_Amts':'sum','Sum_All_Adj':'sum','Sum_Allowable_Diff':'sum','Sum_Payments':'sum',\n",
    "          })\n",
    "    .reset_index())\n",
    "df_Injury\n",
    "\n",
    "\n",
    "df_Injury_DRUG=df_Injury[df_Injury['Proc_Clas']=='Drug']\n",
    "df_Injury_DRUG\n",
    "\n",
    "df_Injury_Itemized =df_Injury[df_Injury['Proc_Clas']=='Non-Drug']\n",
    "df_Injury_Itemized\n",
    "\n",
    "df_Injury_Itemized_New= (df_Injury_Itemized.groupby(['Claim_ID','Proc_Clas'])\n",
    "    .agg({'Sum_Charges':'sum','Sum_All_Charges':'sum','Sum_Net_Payments':'sum',\n",
    "         'Sum_Contractual_Adj':'sum','Sum_Calculated_Allowable':'sum','Sum_Actual_Allowed_Amts':'sum','Sum_Expected_Allowed_Amts':'sum','Sum_All_Adj':'sum','Sum_Allowable_Diff':'sum','Sum_Payments':'sum',\n",
    "          })\n",
    "    .reset_index()\n",
    "                 )\n",
    "\n",
    "\n",
    "Report_Injury = pd.merge(df_Injury_DRUG,\n",
    "                 df_Injury_Itemized_New,\n",
    "                 on='Claim_ID', \n",
    "                 how='inner')\n",
    "\n",
    "Report_Injury = Report_Injury.rename(columns=lambda col: d.get(str(col)) if str(col) in d else col)\n",
    "Report_Injury[['Claim_ID','Proc_Code','EOC_with_or_no_drug','#Units','EOC_Total_Pmt_Code_Portion',\n",
    "         'EOC_Total_Calculated_Allow_Code_Portion','EOC_Total_Pmt_Non_Code_Portion',\n",
    "         'EOC_Total_Calculated_Allow_Non_Code_Portion','Total_All_Adj']]\n",
    "\n",
    "\n",
    "\n",
    "Report_Injury = Report_Injury.loc[Report_Injury['EOC_Total_Pmt_Code_Portion']!=0] \n",
    "\n",
    "Report_Injury_New= (Report_Injury.groupby(['Proc_Code','EOC_with_or_no_drug'])\n",
    "    .agg({'Claim_ID':'count','#Units':'sum','EOC_Total_Pmt_Code_Portion':'sum','EOC_Total_Pmt_Non_Code_Portion':'sum',\n",
    "         'EOC_Total_Calculated_Allow_Code_Portion':'sum','EOC_Total_Calculated_Allow_Non_Code_Portion':'sum',\n",
    "         'Total_All_Adj':'sum'})\n",
    "    .reset_index()\n",
    "    .rename(columns={'Claim_ID':'#EOCs'})\n",
    ")\n",
    "\n",
    "Report_Injury_New['EOC_Total_Pmts'] = Report_Injury_New.apply(eoc_total_pmt, axis=1) \n",
    "Report_Injury_New['%_of_code_portion'] = Report_Injury_New.apply(total_code_portion, axis=1) \n",
    "Report_Injury_New['%_of_non_code_portion'] = Report_Injury_New.apply(total_non_code_portion, axis=1) \n",
    "Report_Injury_New['EOC_Total_Calc_Allow'] = Report_Injury_New.apply(eoc_total_calc_allow, axis=1) \n",
    "Report_Injury_New['%_of_allow_code_portion'] = Report_Injury_New.apply(total_allow_code_portion, axis=1) \n",
    "Report_Injury_New['%_of_allow_non_code_portion'] = Report_Injury_New.apply(total_allow_non_code_portion, axis=1) \n",
    "Report_Injury_New['EOC_Avg_Pmt'] = Report_Injury_New.apply(eoc_avg_pmt, axis=1) \n",
    "Report_Injury_New['EOC_Avg_Calc_Allow'] = Report_Injury_New.apply(eoc_avg_calc_allow, axis=1) \n",
    "\n",
    "\n",
    "total_Injury = Report_Injury_New.apply(np.sum)\n",
    "total_Injury['Proc_Code'] = 'Total'\n",
    "Report_Injury_New= Report_Injury_New.append(pd.DataFrame(total_Injury.values, index=total_Injury.keys()).T, ignore_index=True,sort=True)\n",
    "\n",
    "Report_Injury_New=Report_Injury_New[['Proc_Code','EOC_with_or_no_drug','#EOCs','#Units','EOC_Total_Pmts','EOC_Total_Pmt_Code_Portion','EOC_Total_Pmt_Non_Code_Portion',\n",
    "                             '%_of_code_portion','%_of_non_code_portion','EOC_Avg_Pmt','EOC_Total_Calc_Allow','EOC_Total_Calculated_Allow_Code_Portion',\n",
    "                             'EOC_Total_Calculated_Allow_Non_Code_Portion','%_of_allow_code_portion','%_of_allow_non_code_portion','EOC_Avg_Calc_Allow'\n",
    "                            ]]\n",
    "\n",
    "Report_Injury_New\n",
    "\n",
    "#csv file name and path\n",
    "file_name = 'Report_Injury'\n",
    "file_path = os.path.join(output_folder, file_name)\n",
    "file_path+='.csv'\n",
    "Report_Injury_New.to_csv(file_path,index=False)\n",
    "\n",
    "Report_Injury_Itemized = pd.merge(\n",
    "                 df_Injury_Itemized,\n",
    "                 df_Injury_DRUG,\n",
    "                 on='Claim_ID', \n",
    "                 how='inner')\n",
    "\n",
    "Report_Injury_Itemized  = Report_Injury_Itemized .rename(columns=lambda col: c.get(str(col)) if str(col) in c else col)\n",
    "\n",
    "Report_Injury_Itemized[['Claim_ID','Of_EOC_with_drug_Itemized','#Units','EOC_Total_Pmt_Code_Portion',\n",
    "         'EOC_Total_Calculated_Allow_Code_Portion','EOC_Total_Pmt_Non_Code_Portion',\n",
    "         'EOC_Total_Calculated_Allow_Non_Code_Portion','Total_All_Adj']]\n",
    "\n",
    "Report_Injury_Itemized = Report_Injury_Itemized.loc[Report_Injury_Itemized['EOC_Total_Pmt_Code_Portion']!=0]\n",
    "\n",
    "Report_Injury_Itemized_New= (Report_Injury_Itemized.groupby(['Proc_Code','Of_EOC_with_drug_Itemized'])\n",
    "    .agg({'Claim_ID':'count','#Units':'sum','EOC_Total_Pmt_Code_Portion':'sum','EOC_Total_Pmt_Non_Code_Portion':'sum',\n",
    "         'EOC_Total_Calculated_Allow_Code_Portion':'sum','EOC_Total_Calculated_Allow_Non_Code_Portion':'sum',\n",
    "         'Total_All_Adj':'sum'})\n",
    "    .reset_index()\n",
    "    .rename(columns={'Claim_ID':'#EOCs'})\n",
    ")\n",
    "\n",
    "Report_Injury_Itemized_New['EOC_Total_Pmts'] = Report_Injury_Itemized_New.apply(eoc_total_pmt, axis=1) \n",
    "Report_Injury_Itemized_New['%_of_code_portion'] = Report_Injury_Itemized_New.apply(total_code_portion, axis=1) \n",
    "Report_Injury_Itemized_New['%_of_non_code_portion'] = Report_Injury_Itemized_New.apply(total_non_code_portion, axis=1) \n",
    "Report_Injury_Itemized_New['EOC_Total_Calc_Allow'] = Report_Injury_Itemized_New.apply(eoc_total_calc_allow, axis=1) \n",
    "Report_Injury_Itemized_New['%_of_allow_code_portion'] = Report_Injury_Itemized_New.apply(total_allow_code_portion, axis=1) \n",
    "Report_Injury_Itemized_New['%_of_allow_non_code_portion'] = Report_Injury_Itemized_New.apply(total_allow_non_code_portion, axis=1) \n",
    "Report_Injury_Itemized_New['EOC_Avg_Pmt'] = Report_Injury_Itemized_New.apply(eoc_avg_pmt, axis=1) \n",
    "Report_Injury_Itemized_New['EOC_Avg_Calc_Allow'] = Report_Injury_Itemized_New.apply(eoc_avg_calc_allow, axis=1) \n",
    "\n",
    "total_iInjury = Report_Injury_New.apply(np.sum)\n",
    "total_iInjury['Proc_Code'] = 'Total'\n",
    "Report_Injury_Itemized_New= Report_Injury_Itemized_New.append(pd.DataFrame(total_iInjury.values, index=total_iInjury.keys()).T, ignore_index=True,sort=True)\n",
    "\n",
    "Report_Injury_Itemized_New=Report_Injury_Itemized_New[['Proc_Code','Of_EOC_with_drug_Itemized','#EOCs','#Units','EOC_Total_Pmts','EOC_Total_Pmt_Code_Portion','EOC_Total_Pmt_Non_Code_Portion',\n",
    "                             '%_of_code_portion','%_of_non_code_portion','EOC_Avg_Pmt','EOC_Total_Calc_Allow','EOC_Total_Calculated_Allow_Code_Portion',\n",
    "                             'EOC_Total_Calculated_Allow_Non_Code_Portion','%_of_allow_code_portion','%_of_allow_non_code_portion','EOC_Avg_Calc_Allow'\n",
    "                            ]]\n",
    "\n",
    "Report_Injury_Itemized_New\n",
    "\n",
    "#csv file name and path\n",
    "file_name = 'Report_Itemized_Injury'\n",
    "file_path = os.path.join(output_folder, file_name)\n",
    "file_path+='.csv'\n",
    "Report_Injury_Itemized_New.to_csv(file_path,index=False)\n",
    "\n",
    "df_Lumped_Injury=df_Lumped_NonDrug.loc[(df_Lumped_NonDrug['Primary_Diagnosis_10'] == 'Injury') |(df_Lumped_NonDrug['ICD-10_Claim_Diagnosis_Code02'] == 'Injury')\n",
    "                           |(df_Lumped_NonDrug['ICD-10_Claim_Diagnosis_Code03'] == 'Injury')|(df_Lumped_NonDrug['ICD-10_Claim_Diagnosis_Code04'] == 'Injury') \n",
    "                           |(df_Lumped_NonDrug['ICD-10_Claim_Diagnosis_Code05'] == 'Injury') |(df_Lumped_NonDrug['ICD-10_Claim_Diagnosis_Code06'] == 'Injury')\n",
    "                           |(df_Lumped_NonDrug['ICD-10_Claim_Diagnosis_Code07'] == 'Injury')|(df_Lumped_NonDrug['ICD-10_Claim_Diagnosis_Code08'] == 'Injury')\n",
    "                           |(df_Lumped_NonDrug['ICD-10_Claim_Diagnosis_Code09'] == 'Injury')|(df_Lumped_NonDrug['ICD-10_Claim_Diagnosis_Code010'] == 'Injury')\n",
    "                           |(df_Lumped_NonDrug['ICD-10_Claim_Diagnosis_Code011'] == 'Injury')|(df_Lumped_NonDrug['Primary_Diagnosis_9'] == 'Injury') ]\n",
    "\n",
    "Report_Lumped_Injury  = df_Lumped_Injury.rename(columns=lambda col: b.get(str(col)) if str(col) in b else col)\n",
    "\n",
    "Report_Lumped_Injury[['#EOCs','EOC_with_no_drug','#Units','EOC_Total_Pmt_Code_Portion',\n",
    "         'EOC_Total_Calculated_Allow_Code_Portion',\n",
    "         ]]\n",
    "\n",
    "Report_Lumped_Injury= Report_Lumped_Injury.loc[Report_Lumped_Injury['EOC_Total_Pmt_Code_Portion']!=0]\n",
    "\n",
    "Report_Lumped_Injury['#EOCs'].nunique()\n",
    "\n",
    "Report_Lumped_Injury.agg(['sum'])"
   ]
  },
  {
   "cell_type": "markdown",
   "metadata": {},
   "source": [
    "################################################################################################################################\n",
    "# Vitreous Degeneration\n",
    "################################################################################################################################"
   ]
  },
  {
   "cell_type": "code",
   "execution_count": null,
   "metadata": {},
   "outputs": [],
   "source": [
    "df_Vitreous_Degeneration=df_Modifier.loc[(df_Modifier['Primary_Diagnosis_10'] == 'Vitreous Degeneration') |(df_Modifier['ICD-10_Claim_Diagnosis_Code02'] == 'Vitreous Degeneration')\n",
    "                           |(df_Modifier['ICD-10_Claim_Diagnosis_Code03'] == 'Vitreous Degeneration')|(df_Modifier['ICD-10_Claim_Diagnosis_Code04'] == 'Vitreous Degeneration') \n",
    "                           |(df_Modifier['ICD-10_Claim_Diagnosis_Code05'] == 'Vitreous Degeneration') |(df_Modifier['ICD-10_Claim_Diagnosis_Code06'] == 'Vitreous Degeneration')\n",
    "                           |(df_Modifier['ICD-10_Claim_Diagnosis_Code07'] == 'Vitreous Degeneration')|(df_Modifier['ICD-10_Claim_Diagnosis_Code08'] == 'Vitreous Degeneration')\n",
    "                           |(df_Modifier['ICD-10_Claim_Diagnosis_Code09'] == 'Vitreous Degeneration')|(df_Modifier['ICD-10_Claim_Diagnosis_Code010'] == 'Vitreous Degeneration')\n",
    "                           |(df_Modifier['ICD-10_Claim_Diagnosis_Code011'] == 'Vitreous Degeneration')|(df_Modifier['Primary_Diagnosis_9'] == 'Vitreous Degeneration') ]\n",
    "\n",
    "df_Vitreous_Degeneration=(df_Vitreous_Degeneration.groupby(['Claim_ID','Proc_Clas','Proc_Code','Proc_Desc'])\n",
    "    .agg({'Sum_Charges':'sum','Sum_All_Charges':'sum','Sum_Net_Payments':'sum',\n",
    "         'Sum_Contractual_Adj':'sum','Sum_Calculated_Allowable':'sum','Sum_Actual_Allowed_Amts':'sum','Sum_Expected_Allowed_Amts':'sum','Sum_All_Adj':'sum','Sum_Allowable_Diff':'sum','Sum_Payments':'sum',\n",
    "          })\n",
    "    .reset_index())\n",
    "df_Vitreous_Degeneration\n",
    "\n",
    "\n",
    "df_Vitreous_Degeneration_DRUG=df_Vitreous_Degeneration[df_Vitreous_Degeneration['Proc_Clas']=='Drug']\n",
    "df_Vitreous_Degeneration_DRUG\n",
    "\n",
    "df_Vitreous_Degeneration_Itemized =df_Vitreous_Degeneration[df_Vitreous_Degeneration['Proc_Clas']=='Non-Drug']\n",
    "df_Vitreous_Degeneration_Itemized\n",
    "\n",
    "df_Vitreous_Degeneration_Itemized_New= (df_Vitreous_Degeneration_Itemized.groupby(['Claim_ID','Proc_Clas'])\n",
    "    .agg({'Sum_Charges':'sum','Sum_All_Charges':'sum','Sum_Net_Payments':'sum',\n",
    "         'Sum_Contractual_Adj':'sum','Sum_Calculated_Allowable':'sum','Sum_Actual_Allowed_Amts':'sum','Sum_Expected_Allowed_Amts':'sum','Sum_All_Adj':'sum','Sum_Allowable_Diff':'sum','Sum_Payments':'sum',\n",
    "          })\n",
    "    .reset_index()\n",
    "                 )\n",
    "\n",
    "\n",
    "Report_Vitreous_Degeneration = pd.merge(df_Vitreous_Degeneration_DRUG,\n",
    "                 df_Vitreous_Degeneration_Itemized_New,\n",
    "                 on='Claim_ID', \n",
    "                 how='inner')\n",
    "\n",
    "Report_Vitreous_Degeneration = Report_Vitreous_Degeneration.rename(columns=lambda col: d.get(str(col)) if str(col) in d else col)\n",
    "Report_Vitreous_Degeneration[['Claim_ID','Proc_Code','EOC_with_or_no_drug','#Units','EOC_Total_Pmt_Code_Portion',\n",
    "         'EOC_Total_Calculated_Allow_Code_Portion','EOC_Total_Pmt_Non_Code_Portion',\n",
    "         'EOC_Total_Calculated_Allow_Non_Code_Portion','Total_All_Adj']]\n",
    "\n",
    "\n",
    "\n",
    "Report_Vitreous_Degeneration = Report_Vitreous_Degeneration.loc[Report_Vitreous_Degeneration['EOC_Total_Pmt_Code_Portion']!=0] \n",
    "\n",
    "Report_Vitreous_Degeneration_New= (Report_Vitreous_Degeneration.groupby(['Proc_Code','EOC_with_or_no_drug'])\n",
    "    .agg({'Claim_ID':'count','#Units':'sum','EOC_Total_Pmt_Code_Portion':'sum','EOC_Total_Pmt_Non_Code_Portion':'sum',\n",
    "         'EOC_Total_Calculated_Allow_Code_Portion':'sum','EOC_Total_Calculated_Allow_Non_Code_Portion':'sum',\n",
    "         'Total_All_Adj':'sum'})\n",
    "    .reset_index()\n",
    "    .rename(columns={'Claim_ID':'#EOCs'})\n",
    ")\n",
    "\n",
    "Report_Vitreous_Degeneration_New['EOC_Total_Pmts'] = Report_Vitreous_Degeneration_New.apply(eoc_total_pmt, axis=1) \n",
    "Report_Vitreous_Degeneration_New['%_of_code_portion'] = Report_Vitreous_Degeneration_New.apply(total_code_portion, axis=1) \n",
    "Report_Vitreous_Degeneration_New['%_of_non_code_portion'] = Report_Vitreous_Degeneration_New.apply(total_non_code_portion, axis=1) \n",
    "Report_Vitreous_Degeneration_New['EOC_Total_Calc_Allow'] = Report_Vitreous_Degeneration_New.apply(eoc_total_calc_allow, axis=1) \n",
    "Report_Vitreous_Degeneration_New['%_of_allow_code_portion'] = Report_Vitreous_Degeneration_New.apply(total_allow_code_portion, axis=1) \n",
    "Report_Vitreous_Degeneration_New['%_of_allow_non_code_portion'] = Report_Vitreous_Degeneration_New.apply(total_allow_non_code_portion, axis=1) \n",
    "Report_Vitreous_Degeneration_New['EOC_Avg_Pmt'] = Report_Vitreous_Degeneration_New.apply(eoc_avg_pmt, axis=1) \n",
    "Report_Vitreous_Degeneration_New['EOC_Avg_Calc_Allow'] = Report_Vitreous_Degeneration_New.apply(eoc_avg_calc_allow, axis=1) \n",
    "\n",
    "\n",
    "total_Vitreous_Degeneration = Report_Vitreous_Degeneration_New.apply(np.sum)\n",
    "total_Vitreous_Degeneration['Proc_Code'] = 'Total'\n",
    "Report_Vitreous_Degeneration_New= Report_Vitreous_Degeneration_New.append(pd.DataFrame(total_Vitreous_Degeneration.values, index=total_Vitreous_Degeneration.keys()).T, ignore_index=True,sort=True)\n",
    "\n",
    "Report_Vitreous_Degeneration_New=Report_Vitreous_Degeneration_New[['Proc_Code','EOC_with_or_no_drug','#EOCs','#Units','EOC_Total_Pmts','EOC_Total_Pmt_Code_Portion','EOC_Total_Pmt_Non_Code_Portion',\n",
    "                             '%_of_code_portion','%_of_non_code_portion','EOC_Avg_Pmt','EOC_Total_Calc_Allow','EOC_Total_Calculated_Allow_Code_Portion',\n",
    "                             'EOC_Total_Calculated_Allow_Non_Code_Portion','%_of_allow_code_portion','%_of_allow_non_code_portion','EOC_Avg_Calc_Allow'\n",
    "                            ]]\n",
    "\n",
    "Report_Vitreous_Degeneration_New\n",
    "\n",
    "#csv file name and path\n",
    "file_name = 'Report_Vitreous_Degeneration'\n",
    "file_path = os.path.join(output_folder, file_name)\n",
    "file_path+='.csv'\n",
    "Report_Vitreous_Degeneration_New.to_csv(file_path,index=False)\n",
    "\n",
    "Report_Vitreous_Degeneration_Itemized = pd.merge(\n",
    "                 df_Vitreous_Degeneration_Itemized,\n",
    "                 df_Vitreous_Degeneration_DRUG,\n",
    "                 on='Claim_ID', \n",
    "                 how='inner')\n",
    "\n",
    "Report_Vitreous_Degeneration_Itemized  = Report_Vitreous_Degeneration_Itemized .rename(columns=lambda col: c.get(str(col)) if str(col) in c else col)\n",
    "\n",
    "Report_Vitreous_Degeneration_Itemized[['Claim_ID','Of_EOC_with_drug_Itemized','#Units','EOC_Total_Pmt_Code_Portion',\n",
    "         'EOC_Total_Calculated_Allow_Code_Portion','EOC_Total_Pmt_Non_Code_Portion',\n",
    "         'EOC_Total_Calculated_Allow_Non_Code_Portion','Total_All_Adj']]\n",
    "\n",
    "Report_Vitreous_Degeneration_Itemized = Report_Vitreous_Degeneration_Itemized.loc[Report_Vitreous_Degeneration_Itemized['EOC_Total_Pmt_Code_Portion']!=0]\n",
    "\n",
    "Report_Vitreous_Degeneration_Itemized_New= (Report_Vitreous_Degeneration_Itemized.groupby(['Proc_Code','Of_EOC_with_drug_Itemized'])\n",
    "    .agg({'Claim_ID':'count','#Units':'sum','EOC_Total_Pmt_Code_Portion':'sum','EOC_Total_Pmt_Non_Code_Portion':'sum',\n",
    "         'EOC_Total_Calculated_Allow_Code_Portion':'sum','EOC_Total_Calculated_Allow_Non_Code_Portion':'sum',\n",
    "         'Total_All_Adj':'sum'})\n",
    "    .reset_index()\n",
    "    .rename(columns={'Claim_ID':'#EOCs'})\n",
    ")\n",
    "\n",
    "Report_Vitreous_Degeneration_Itemized_New['EOC_Total_Pmts'] = Report_Vitreous_Degeneration_Itemized_New.apply(eoc_total_pmt, axis=1) \n",
    "Report_Vitreous_Degeneration_Itemized_New['%_of_code_portion'] = Report_Vitreous_Degeneration_Itemized_New.apply(total_code_portion, axis=1) \n",
    "Report_Vitreous_Degeneration_Itemized_New['%_of_non_code_portion'] = Report_Vitreous_Degeneration_Itemized_New.apply(total_non_code_portion, axis=1) \n",
    "Report_Vitreous_Degeneration_Itemized_New['EOC_Total_Calc_Allow'] = Report_Vitreous_Degeneration_Itemized_New.apply(eoc_total_calc_allow, axis=1) \n",
    "Report_Vitreous_Degeneration_Itemized_New['%_of_allow_code_portion'] = Report_Vitreous_Degeneration_Itemized_New.apply(total_allow_code_portion, axis=1) \n",
    "Report_Vitreous_Degeneration_Itemized_New['%_of_allow_non_code_portion'] = Report_Vitreous_Degeneration_Itemized_New.apply(total_allow_non_code_portion, axis=1) \n",
    "Report_Vitreous_Degeneration_Itemized_New['EOC_Avg_Pmt'] = Report_Vitreous_Degeneration_Itemized_New.apply(eoc_avg_pmt, axis=1) \n",
    "Report_Vitreous_Degeneration_Itemized_New['EOC_Avg_Calc_Allow'] = Report_Vitreous_Degeneration_Itemized_New.apply(eoc_avg_calc_allow, axis=1) \n",
    "\n",
    "total_iVitreous_Degeneration = Report_Vitreous_Degeneration_New.apply(np.sum)\n",
    "total_iVitreous_Degeneration['Proc_Code'] = 'Total'\n",
    "Report_Vitreous_Degeneration_Itemized_New= Report_Vitreous_Degeneration_Itemized_New.append(pd.DataFrame(total_iVitreous_Degeneration.values, index=total_iVitreous_Degeneration.keys()).T, ignore_index=True,sort=True)\n",
    "\n",
    "Report_Vitreous_Degeneration_Itemized_New=Report_Vitreous_Degeneration_Itemized_New[['Proc_Code','Of_EOC_with_drug_Itemized','#EOCs','#Units','EOC_Total_Pmts','EOC_Total_Pmt_Code_Portion','EOC_Total_Pmt_Non_Code_Portion',\n",
    "                             '%_of_code_portion','%_of_non_code_portion','EOC_Avg_Pmt','EOC_Total_Calc_Allow','EOC_Total_Calculated_Allow_Code_Portion',\n",
    "                             'EOC_Total_Calculated_Allow_Non_Code_Portion','%_of_allow_code_portion','%_of_allow_non_code_portion','EOC_Avg_Calc_Allow'\n",
    "                            ]]\n",
    "\n",
    "Report_Vitreous_Degeneration_Itemized_New\n",
    "\n",
    "#csv file name and path\n",
    "file_name = 'Report_Itemized_Vitreous_Degeneration'\n",
    "file_path = os.path.join(output_folder, file_name)\n",
    "file_path+='.csv'\n",
    "Report_Vitreous_Degeneration_Itemized_New.to_csv(file_path,index=False)\n",
    "\n",
    "df_Lumped_Vitreous_Degeneration=df_Lumped_NonDrug.loc[(df_Lumped_NonDrug['Primary_Diagnosis_10'] == 'Vitreous_Degeneration') |(df_Lumped_NonDrug['ICD-10_Claim_Diagnosis_Code02'] == 'Vitreous_Degeneration')\n",
    "                           |(df_Lumped_NonDrug['ICD-10_Claim_Diagnosis_Code03'] == 'Vitreous_Degeneration')|(df_Lumped_NonDrug['ICD-10_Claim_Diagnosis_Code04'] == 'Vitreous_Degeneration') \n",
    "                           |(df_Lumped_NonDrug['ICD-10_Claim_Diagnosis_Code05'] == 'Vitreous_Degeneration') |(df_Lumped_NonDrug['ICD-10_Claim_Diagnosis_Code06'] == 'Vitreous_Degeneration')\n",
    "                           |(df_Lumped_NonDrug['ICD-10_Claim_Diagnosis_Code07'] == 'Vitreous_Degeneration')|(df_Lumped_NonDrug['ICD-10_Claim_Diagnosis_Code08'] == 'Vitreous_Degeneration')\n",
    "                           |(df_Lumped_NonDrug['ICD-10_Claim_Diagnosis_Code09'] == 'Vitreous_Degeneration')|(df_Lumped_NonDrug['ICD-10_Claim_Diagnosis_Code010'] == 'Vitreous_Degeneration')\n",
    "                           |(df_Lumped_NonDrug['ICD-10_Claim_Diagnosis_Code011'] == 'Vitreous_Degeneration')|(df_Lumped_NonDrug['Primary_Diagnosis_9'] == 'Vitreous_Degeneration') ]\n",
    "\n",
    "Report_Lumped_Vitreous_Degeneration  = df_Lumped_Vitreous_Degeneration.rename(columns=lambda col: b.get(str(col)) if str(col) in b else col)\n",
    "\n",
    "Report_Lumped_Vitreous_Degeneration[['#EOCs','EOC_with_no_drug','#Units','EOC_Total_Pmt_Code_Portion',\n",
    "         'EOC_Total_Calculated_Allow_Code_Portion',\n",
    "         ]]\n",
    "\n",
    "Report_Lumped_Vitreous_Degeneration= Report_Lumped_Vitreous_Degeneration.loc[Report_Lumped_Vitreous_Degeneration['EOC_Total_Pmt_Code_Portion']!=0]\n",
    "\n",
    "Report_Lumped_Vitreous_Degeneration['#EOCs'].nunique()\n",
    "\n",
    "Report_Lumped_Vitreous_Degeneration.agg(['sum'])"
   ]
  },
  {
   "cell_type": "markdown",
   "metadata": {},
   "source": [
    "################################################################################################################################\n",
    "# RD\n",
    "################################################################################################################################"
   ]
  },
  {
   "cell_type": "code",
   "execution_count": null,
   "metadata": {},
   "outputs": [],
   "source": [
    "df_RD=df_Modifier.loc[(df_Modifier['Primary_Diagnosis_10'] == 'RD') |(df_Modifier['ICD-10_Claim_Diagnosis_Code02'] == 'RD')\n",
    "                           |(df_Modifier['ICD-10_Claim_Diagnosis_Code03'] == 'RD')|(df_Modifier['ICD-10_Claim_Diagnosis_Code04'] == 'RD') \n",
    "                           |(df_Modifier['ICD-10_Claim_Diagnosis_Code05'] == 'RD') |(df_Modifier['ICD-10_Claim_Diagnosis_Code06'] == 'RD')\n",
    "                           |(df_Modifier['ICD-10_Claim_Diagnosis_Code07'] == 'RD')|(df_Modifier['ICD-10_Claim_Diagnosis_Code08'] == 'RD')\n",
    "                           |(df_Modifier['ICD-10_Claim_Diagnosis_Code09'] == 'RD')|(df_Modifier['ICD-10_Claim_Diagnosis_Code010'] == 'RD')\n",
    "                           |(df_Modifier['ICD-10_Claim_Diagnosis_Code011'] == 'RD')|(df_Modifier['Primary_Diagnosis_9'] == 'RD') ]\n",
    "\n",
    "df_RD=(df_RD.groupby(['Claim_ID','Proc_Clas','Proc_Code','Proc_Desc'])\n",
    "    .agg({'Sum_Charges':'sum','Sum_All_Charges':'sum','Sum_Net_Payments':'sum',\n",
    "         'Sum_Contractual_Adj':'sum','Sum_Calculated_Allowable':'sum','Sum_Actual_Allowed_Amts':'sum','Sum_Expected_Allowed_Amts':'sum','Sum_All_Adj':'sum','Sum_Allowable_Diff':'sum','Sum_Payments':'sum',\n",
    "          })\n",
    "    .reset_index())\n",
    "df_RD\n",
    "\n",
    "\n",
    "df_RD_DRUG=df_RD[df_RD['Proc_Clas']=='Drug']\n",
    "df_RD_DRUG\n",
    "\n",
    "df_RD_Itemized =df_RD[df_RD['Proc_Clas']=='Non-Drug']\n",
    "df_RD_Itemized\n",
    "\n",
    "df_RD_Itemized_New= (df_RD_Itemized.groupby(['Claim_ID','Proc_Clas'])\n",
    "    .agg({'Sum_Charges':'sum','Sum_All_Charges':'sum','Sum_Net_Payments':'sum',\n",
    "         'Sum_Contractual_Adj':'sum','Sum_Calculated_Allowable':'sum','Sum_Actual_Allowed_Amts':'sum','Sum_Expected_Allowed_Amts':'sum','Sum_All_Adj':'sum','Sum_Allowable_Diff':'sum','Sum_Payments':'sum',\n",
    "          })\n",
    "    .reset_index()\n",
    "                 )\n",
    "\n",
    "\n",
    "Report_RD = pd.merge(df_RD_DRUG,\n",
    "                 df_RD_Itemized_New,\n",
    "                 on='Claim_ID', \n",
    "                 how='inner')\n",
    "\n",
    "Report_RD = Report_RD.rename(columns=lambda col: d.get(str(col)) if str(col) in d else col)\n",
    "Report_RD[['Claim_ID','Proc_Code','EOC_with_or_no_drug','#Units','EOC_Total_Pmt_Code_Portion',\n",
    "         'EOC_Total_Calculated_Allow_Code_Portion','EOC_Total_Pmt_Non_Code_Portion',\n",
    "         'EOC_Total_Calculated_Allow_Non_Code_Portion','Total_All_Adj']]\n",
    "\n",
    "\n",
    "\n",
    "Report_RD = Report_RD.loc[Report_RD['EOC_Total_Pmt_Code_Portion']!=0] \n",
    "\n",
    "Report_RD_New= (Report_RD.groupby(['Proc_Code','EOC_with_or_no_drug'])\n",
    "    .agg({'Claim_ID':'count','#Units':'sum','EOC_Total_Pmt_Code_Portion':'sum','EOC_Total_Pmt_Non_Code_Portion':'sum',\n",
    "         'EOC_Total_Calculated_Allow_Code_Portion':'sum','EOC_Total_Calculated_Allow_Non_Code_Portion':'sum',\n",
    "         'Total_All_Adj':'sum'})\n",
    "    .reset_index()\n",
    "    .rename(columns={'Claim_ID':'#EOCs'})\n",
    ")\n",
    "\n",
    "Report_RD_New['EOC_Total_Pmts'] = Report_RD_New.apply(eoc_total_pmt, axis=1) \n",
    "Report_RD_New['%_of_code_portion'] = Report_RD_New.apply(total_code_portion, axis=1) \n",
    "Report_RD_New['%_of_non_code_portion'] = Report_RD_New.apply(total_non_code_portion, axis=1) \n",
    "Report_RD_New['EOC_Total_Calc_Allow'] = Report_RD_New.apply(eoc_total_calc_allow, axis=1) \n",
    "Report_RD_New['%_of_allow_code_portion'] = Report_RD_New.apply(total_allow_code_portion, axis=1) \n",
    "Report_RD_New['%_of_allow_non_code_portion'] = Report_RD_New.apply(total_allow_non_code_portion, axis=1) \n",
    "Report_RD_New['EOC_Avg_Pmt'] = Report_RD_New.apply(eoc_avg_pmt, axis=1) \n",
    "Report_RD_New['EOC_Avg_Calc_Allow'] = Report_RD_New.apply(eoc_avg_calc_allow, axis=1) \n",
    "\n",
    "\n",
    "total_RD = Report_RD_New.apply(np.sum)\n",
    "total_RD['Proc_Code'] = 'Total'\n",
    "Report_RD_New= Report_RD_New.append(pd.DataFrame(total_RD.values, index=total_RD.keys()).T, ignore_index=True,sort=True)\n",
    "\n",
    "Report_RD_New=Report_RD_New[['Proc_Code','EOC_with_or_no_drug','#EOCs','#Units','EOC_Total_Pmts','EOC_Total_Pmt_Code_Portion','EOC_Total_Pmt_Non_Code_Portion',\n",
    "                             '%_of_code_portion','%_of_non_code_portion','EOC_Avg_Pmt','EOC_Total_Calc_Allow','EOC_Total_Calculated_Allow_Code_Portion',\n",
    "                             'EOC_Total_Calculated_Allow_Non_Code_Portion','%_of_allow_code_portion','%_of_allow_non_code_portion','EOC_Avg_Calc_Allow'\n",
    "                            ]]\n",
    "\n",
    "Report_RD_New\n",
    "\n",
    "#csv file name and path\n",
    "file_name = 'Report_RD'\n",
    "file_path = os.path.join(output_folder, file_name)\n",
    "file_path+='.csv'\n",
    "Report_RD_New.to_csv(file_path,index=False)\n",
    "\n",
    "Report_RD_Itemized = pd.merge(\n",
    "                 df_RD_Itemized,\n",
    "                 df_RD_DRUG,\n",
    "                 on='Claim_ID', \n",
    "                 how='inner')\n",
    "\n",
    "Report_RD_Itemized  = Report_RD_Itemized .rename(columns=lambda col: c.get(str(col)) if str(col) in c else col)\n",
    "\n",
    "Report_RD_Itemized[['Claim_ID','Of_EOC_with_drug_Itemized','#Units','EOC_Total_Pmt_Code_Portion',\n",
    "         'EOC_Total_Calculated_Allow_Code_Portion','EOC_Total_Pmt_Non_Code_Portion',\n",
    "         'EOC_Total_Calculated_Allow_Non_Code_Portion','Total_All_Adj']]\n",
    "\n",
    "Report_RD_Itemized = Report_RD_Itemized.loc[Report_RD_Itemized['EOC_Total_Pmt_Code_Portion']!=0]\n",
    "\n",
    "Report_RD_Itemized_New= (Report_RD_Itemized.groupby(['Proc_Code','Of_EOC_with_drug_Itemized'])\n",
    "    .agg({'Claim_ID':'count','#Units':'sum','EOC_Total_Pmt_Code_Portion':'sum','EOC_Total_Pmt_Non_Code_Portion':'sum',\n",
    "         'EOC_Total_Calculated_Allow_Code_Portion':'sum','EOC_Total_Calculated_Allow_Non_Code_Portion':'sum',\n",
    "         'Total_All_Adj':'sum'})\n",
    "    .reset_index()\n",
    "    .rename(columns={'Claim_ID':'#EOCs'})\n",
    ")\n",
    "\n",
    "Report_RD_Itemized_New['EOC_Total_Pmts'] = Report_RD_Itemized_New.apply(eoc_total_pmt, axis=1) \n",
    "Report_RD_Itemized_New['%_of_code_portion'] = Report_RD_Itemized_New.apply(total_code_portion, axis=1) \n",
    "Report_RD_Itemized_New['%_of_non_code_portion'] = Report_RD_Itemized_New.apply(total_non_code_portion, axis=1) \n",
    "Report_RD_Itemized_New['EOC_Total_Calc_Allow'] = Report_RD_Itemized_New.apply(eoc_total_calc_allow, axis=1) \n",
    "Report_RD_Itemized_New['%_of_allow_code_portion'] = Report_RD_Itemized_New.apply(total_allow_code_portion, axis=1) \n",
    "Report_RD_Itemized_New['%_of_allow_non_code_portion'] = Report_RD_Itemized_New.apply(total_allow_non_code_portion, axis=1) \n",
    "Report_RD_Itemized_New['EOC_Avg_Pmt'] = Report_RD_Itemized_New.apply(eoc_avg_pmt, axis=1) \n",
    "Report_RD_Itemized_New['EOC_Avg_Calc_Allow'] = Report_RD_Itemized_New.apply(eoc_avg_calc_allow, axis=1) \n",
    "\n",
    "total_iRD = Report_RD_New.apply(np.sum)\n",
    "total_iRD['Proc_Code'] = 'Total'\n",
    "Report_RD_Itemized_New= Report_RD_Itemized_New.append(pd.DataFrame(total_iRD.values, index=total_iRD.keys()).T, ignore_index=True,sort=True)\n",
    "\n",
    "Report_RD_Itemized_New=Report_RD_Itemized_New[['Proc_Code','Of_EOC_with_drug_Itemized','#EOCs','#Units','EOC_Total_Pmts','EOC_Total_Pmt_Code_Portion','EOC_Total_Pmt_Non_Code_Portion',\n",
    "                             '%_of_code_portion','%_of_non_code_portion','EOC_Avg_Pmt','EOC_Total_Calc_Allow','EOC_Total_Calculated_Allow_Code_Portion',\n",
    "                             'EOC_Total_Calculated_Allow_Non_Code_Portion','%_of_allow_code_portion','%_of_allow_non_code_portion','EOC_Avg_Calc_Allow'\n",
    "                            ]]\n",
    "\n",
    "Report_RD_Itemized_New\n",
    "\n",
    "#csv file name and path\n",
    "file_name = 'Report_Itemized_RD'\n",
    "file_path = os.path.join(output_folder, file_name)\n",
    "file_path+='.csv'\n",
    "Report_RD_Itemized_New.to_csv(file_path,index=False)\n",
    "\n",
    "df_Lumped_RD=df_Lumped_NonDrug.loc[(df_Lumped_NonDrug['Primary_Diagnosis_10'] == 'RD') |(df_Lumped_NonDrug['ICD-10_Claim_Diagnosis_Code02'] == 'RD')\n",
    "                           |(df_Lumped_NonDrug['ICD-10_Claim_Diagnosis_Code03'] == 'RD')|(df_Lumped_NonDrug['ICD-10_Claim_Diagnosis_Code04'] == 'RD') \n",
    "                           |(df_Lumped_NonDrug['ICD-10_Claim_Diagnosis_Code05'] == 'RD') |(df_Lumped_NonDrug['ICD-10_Claim_Diagnosis_Code06'] == 'RD')\n",
    "                           |(df_Lumped_NonDrug['ICD-10_Claim_Diagnosis_Code07'] == 'RD')|(df_Lumped_NonDrug['ICD-10_Claim_Diagnosis_Code08'] == 'RD')\n",
    "                           |(df_Lumped_NonDrug['ICD-10_Claim_Diagnosis_Code09'] == 'RD')|(df_Lumped_NonDrug['ICD-10_Claim_Diagnosis_Code010'] == 'RD')\n",
    "                           |(df_Lumped_NonDrug['ICD-10_Claim_Diagnosis_Code011'] == 'RD')|(df_Lumped_NonDrug['Primary_Diagnosis_9'] == 'RD') ]\n",
    "\n",
    "Report_Lumped_RD  = df_Lumped_RD.rename(columns=lambda col: b.get(str(col)) if str(col) in b else col)\n",
    "\n",
    "Report_Lumped_RD[['#EOCs','EOC_with_no_drug','#Units','EOC_Total_Pmt_Code_Portion',\n",
    "         'EOC_Total_Calculated_Allow_Code_Portion',\n",
    "         ]]\n",
    "\n",
    "Report_Lumped_RD= Report_Lumped_RD.loc[Report_Lumped_RD['EOC_Total_Pmt_Code_Portion']!=0]\n",
    "\n",
    "Report_Lumped_RD['#EOCs'].nunique()\n",
    "\n",
    "Report_Lumped_RD.agg(['sum'])"
   ]
  },
  {
   "cell_type": "markdown",
   "metadata": {},
   "source": [
    "################################################################################################################################\n",
    "# mCNV\n",
    "################################################################################################################################"
   ]
  },
  {
   "cell_type": "code",
   "execution_count": null,
   "metadata": {},
   "outputs": [],
   "source": [
    "df_mCNV=df_Modifier.loc[(df_Modifier['Primary_Diagnosis_10'] == 'mCNV') |(df_Modifier['ICD-10_Claim_Diagnosis_Code02'] == 'mCNV')\n",
    "                           |(df_Modifier['ICD-10_Claim_Diagnosis_Code03'] == 'mCNV')|(df_Modifier['ICD-10_Claim_Diagnosis_Code04'] == 'mCNV') \n",
    "                           |(df_Modifier['ICD-10_Claim_Diagnosis_Code05'] == 'mCNV') |(df_Modifier['ICD-10_Claim_Diagnosis_Code06'] == 'mCNV')\n",
    "                           |(df_Modifier['ICD-10_Claim_Diagnosis_Code07'] == 'mCNV')|(df_Modifier['ICD-10_Claim_Diagnosis_Code08'] == 'mCNV')\n",
    "                           |(df_Modifier['ICD-10_Claim_Diagnosis_Code09'] == 'mCNV')|(df_Modifier['ICD-10_Claim_Diagnosis_Code010'] == 'mCNV')\n",
    "                           |(df_Modifier['ICD-10_Claim_Diagnosis_Code011'] == 'mCNV')|(df_Modifier['Primary_Diagnosis_9'] == 'mCNV') ]\n",
    "\n",
    "df_mCNV=(df_mCNV.groupby(['Claim_ID','Proc_Clas','Proc_Code','Proc_Desc'])\n",
    "    .agg({'Sum_Charges':'sum','Sum_All_Charges':'sum','Sum_Net_Payments':'sum',\n",
    "         'Sum_Contractual_Adj':'sum','Sum_Calculated_Allowable':'sum','Sum_Actual_Allowed_Amts':'sum','Sum_Expected_Allowed_Amts':'sum','Sum_All_Adj':'sum','Sum_Allowable_Diff':'sum','Sum_Payments':'sum',\n",
    "          })\n",
    "    .reset_index())\n",
    "df_mCNV\n",
    "\n",
    "\n",
    "df_mCNV_DRUG=df_mCNV[df_mCNV['Proc_Clas']=='Drug']\n",
    "df_mCNV_DRUG\n",
    "\n",
    "df_mCNV_Itemized =df_mCNV[df_mCNV['Proc_Clas']=='Non-Drug']\n",
    "df_mCNV_Itemized\n",
    "\n",
    "df_mCNV_Itemized_New= (df_mCNV_Itemized.groupby(['Claim_ID','Proc_Clas'])\n",
    "    .agg({'Sum_Charges':'sum','Sum_All_Charges':'sum','Sum_Net_Payments':'sum',\n",
    "         'Sum_Contractual_Adj':'sum','Sum_Calculated_Allowable':'sum','Sum_Actual_Allowed_Amts':'sum','Sum_Expected_Allowed_Amts':'sum','Sum_All_Adj':'sum','Sum_Allowable_Diff':'sum','Sum_Payments':'sum',\n",
    "          })\n",
    "    .reset_index()\n",
    "                 )\n",
    "\n",
    "\n",
    "Report_mCNV = pd.merge(df_mCNV_DRUG,\n",
    "                 df_mCNV_Itemized_New,\n",
    "                 on='Claim_ID', \n",
    "                 how='inner')\n",
    "\n",
    "Report_mCNV = Report_mCNV.rename(columns=lambda col: d.get(str(col)) if str(col) in d else col)\n",
    "Report_mCNV[['Claim_ID','Proc_Code','EOC_with_or_no_drug','#Units','EOC_Total_Pmt_Code_Portion',\n",
    "         'EOC_Total_Calculated_Allow_Code_Portion','EOC_Total_Pmt_Non_Code_Portion',\n",
    "         'EOC_Total_Calculated_Allow_Non_Code_Portion','Total_All_Adj']]\n",
    "\n",
    "\n",
    "\n",
    "Report_mCNV = Report_mCNV.loc[Report_mCNV['EOC_Total_Pmt_Code_Portion']!=0] \n",
    "\n",
    "Report_mCNV_New= (Report_mCNV.groupby(['Proc_Code','EOC_with_or_no_drug'])\n",
    "    .agg({'Claim_ID':'count','#Units':'sum','EOC_Total_Pmt_Code_Portion':'sum','EOC_Total_Pmt_Non_Code_Portion':'sum',\n",
    "         'EOC_Total_Calculated_Allow_Code_Portion':'sum','EOC_Total_Calculated_Allow_Non_Code_Portion':'sum',\n",
    "         'Total_All_Adj':'sum'})\n",
    "    .reset_index()\n",
    "    .rename(columns={'Claim_ID':'#EOCs'})\n",
    ")\n",
    "\n",
    "Report_mCNV_New['EOC_Total_Pmts'] = Report_mCNV_New.apply(eoc_total_pmt, axis=1) \n",
    "Report_mCNV_New['%_of_code_portion'] = Report_mCNV_New.apply(total_code_portion, axis=1) \n",
    "Report_mCNV_New['%_of_non_code_portion'] = Report_mCNV_New.apply(total_non_code_portion, axis=1) \n",
    "Report_mCNV_New['EOC_Total_Calc_Allow'] = Report_mCNV_New.apply(eoc_total_calc_allow, axis=1) \n",
    "Report_mCNV_New['%_of_allow_code_portion'] = Report_mCNV_New.apply(total_allow_code_portion, axis=1) \n",
    "Report_mCNV_New['%_of_allow_non_code_portion'] = Report_mCNV_New.apply(total_allow_non_code_portion, axis=1) \n",
    "Report_mCNV_New['EOC_Avg_Pmt'] = Report_mCNV_New.apply(eoc_avg_pmt, axis=1) \n",
    "Report_mCNV_New['EOC_Avg_Calc_Allow'] = Report_mCNV_New.apply(eoc_avg_calc_allow, axis=1) \n",
    "\n",
    "\n",
    "total_mCNV = Report_mCNV_New.apply(np.sum)\n",
    "total_mCNV['Proc_Code'] = 'Total'\n",
    "Report_mCNV_New= Report_mCNV_New.append(pd.DataFrame(total_mCNV.values, index=total_mCNV.keys()).T, ignore_index=True,sort=True)\n",
    "\n",
    "Report_mCNV_New=Report_mCNV_New[['Proc_Code','EOC_with_or_no_drug','#EOCs','#Units','EOC_Total_Pmts','EOC_Total_Pmt_Code_Portion','EOC_Total_Pmt_Non_Code_Portion',\n",
    "                             '%_of_code_portion','%_of_non_code_portion','EOC_Avg_Pmt','EOC_Total_Calc_Allow','EOC_Total_Calculated_Allow_Code_Portion',\n",
    "                             'EOC_Total_Calculated_Allow_Non_Code_Portion','%_of_allow_code_portion','%_of_allow_non_code_portion','EOC_Avg_Calc_Allow'\n",
    "                            ]]\n",
    "\n",
    "Report_mCNV_New\n",
    "\n",
    "#csv file name and path\n",
    "file_name = 'Report_mCNV'\n",
    "file_path = os.path.join(output_folder, file_name)\n",
    "file_path+='.csv'\n",
    "Report_mCNV_New.to_csv(file_path,index=False)\n",
    "\n",
    "Report_mCNV_Itemized = pd.merge(\n",
    "                 df_mCNV_Itemized,\n",
    "                 df_mCNV_DRUG,\n",
    "                 on='Claim_ID', \n",
    "                 how='inner')\n",
    "\n",
    "Report_mCNV_Itemized  = Report_mCNV_Itemized .rename(columns=lambda col: c.get(str(col)) if str(col) in c else col)\n",
    "\n",
    "Report_mCNV_Itemized[['Claim_ID','Of_EOC_with_drug_Itemized','#Units','EOC_Total_Pmt_Code_Portion',\n",
    "         'EOC_Total_Calculated_Allow_Code_Portion','EOC_Total_Pmt_Non_Code_Portion',\n",
    "         'EOC_Total_Calculated_Allow_Non_Code_Portion','Total_All_Adj']]\n",
    "\n",
    "Report_mCNV_Itemized = Report_mCNV_Itemized.loc[Report_mCNV_Itemized['EOC_Total_Pmt_Code_Portion']!=0]\n",
    "\n",
    "Report_mCNV_Itemized_New= (Report_mCNV_Itemized.groupby(['Proc_Code','Of_EOC_with_drug_Itemized'])\n",
    "    .agg({'Claim_ID':'count','#Units':'sum','EOC_Total_Pmt_Code_Portion':'sum','EOC_Total_Pmt_Non_Code_Portion':'sum',\n",
    "         'EOC_Total_Calculated_Allow_Code_Portion':'sum','EOC_Total_Calculated_Allow_Non_Code_Portion':'sum',\n",
    "         'Total_All_Adj':'sum'})\n",
    "    .reset_index()\n",
    "    .rename(columns={'Claim_ID':'#EOCs'})\n",
    ")\n",
    "\n",
    "Report_mCNV_Itemized_New['EOC_Total_Pmts'] = Report_mCNV_Itemized_New.apply(eoc_total_pmt, axis=1) \n",
    "Report_mCNV_Itemized_New['%_of_code_portion'] = Report_mCNV_Itemized_New.apply(total_code_portion, axis=1) \n",
    "Report_mCNV_Itemized_New['%_of_non_code_portion'] = Report_mCNV_Itemized_New.apply(total_non_code_portion, axis=1) \n",
    "Report_mCNV_Itemized_New['EOC_Total_Calc_Allow'] = Report_mCNV_Itemized_New.apply(eoc_total_calc_allow, axis=1) \n",
    "Report_mCNV_Itemized_New['%_of_allow_code_portion'] = Report_mCNV_Itemized_New.apply(total_allow_code_portion, axis=1) \n",
    "Report_mCNV_Itemized_New['%_of_allow_non_code_portion'] = Report_mCNV_Itemized_New.apply(total_allow_non_code_portion, axis=1) \n",
    "Report_mCNV_Itemized_New['EOC_Avg_Pmt'] = Report_mCNV_Itemized_New.apply(eoc_avg_pmt, axis=1) \n",
    "Report_mCNV_Itemized_New['EOC_Avg_Calc_Allow'] = Report_mCNV_Itemized_New.apply(eoc_avg_calc_allow, axis=1) \n",
    "\n",
    "total_imCNV = Report_mCNV_New.apply(np.sum)\n",
    "total_imCNV['Proc_Code'] = 'Total'\n",
    "Report_mCNV_Itemized_New= Report_mCNV_Itemized_New.append(pd.DataFrame(total_imCNV.values, index=total_imCNV.keys()).T, ignore_index=True,sort=True)\n",
    "\n",
    "Report_mCNV_Itemized_New=Report_mCNV_Itemized_New[['Proc_Code','Of_EOC_with_drug_Itemized','#EOCs','#Units','EOC_Total_Pmts','EOC_Total_Pmt_Code_Portion','EOC_Total_Pmt_Non_Code_Portion',\n",
    "                             '%_of_code_portion','%_of_non_code_portion','EOC_Avg_Pmt','EOC_Total_Calc_Allow','EOC_Total_Calculated_Allow_Code_Portion',\n",
    "                             'EOC_Total_Calculated_Allow_Non_Code_Portion','%_of_allow_code_portion','%_of_allow_non_code_portion','EOC_Avg_Calc_Allow'\n",
    "                            ]]\n",
    "\n",
    "Report_mCNV_Itemized_New\n",
    "\n",
    "#csv file name and path\n",
    "file_name = 'Report_Itemized_mCNV'\n",
    "file_path = os.path.join(output_folder, file_name)\n",
    "file_path+='.csv'\n",
    "Report_mCNV_Itemized_New.to_csv(file_path,index=False)\n",
    "\n",
    "df_Lumped_mCNV=df_Lumped_NonDrug.loc[(df_Lumped_NonDrug['Primary_Diagnosis_10'] == 'mCNV') |(df_Lumped_NonDrug['ICD-10_Claim_Diagnosis_Code02'] == 'mCNV')\n",
    "                           |(df_Lumped_NonDrug['ICD-10_Claim_Diagnosis_Code03'] == 'mCNV')|(df_Lumped_NonDrug['ICD-10_Claim_Diagnosis_Code04'] == 'mCNV') \n",
    "                           |(df_Lumped_NonDrug['ICD-10_Claim_Diagnosis_Code05'] == 'mCNV') |(df_Lumped_NonDrug['ICD-10_Claim_Diagnosis_Code06'] == 'mCNV')\n",
    "                           |(df_Lumped_NonDrug['ICD-10_Claim_Diagnosis_Code07'] == 'mCNV')|(df_Lumped_NonDrug['ICD-10_Claim_Diagnosis_Code08'] == 'mCNV')\n",
    "                           |(df_Lumped_NonDrug['ICD-10_Claim_Diagnosis_Code09'] == 'mCNV')|(df_Lumped_NonDrug['ICD-10_Claim_Diagnosis_Code010'] == 'mCNV')\n",
    "                           |(df_Lumped_NonDrug['ICD-10_Claim_Diagnosis_Code011'] == 'mCNV')|(df_Lumped_NonDrug['Primary_Diagnosis_9'] == 'mCNV') ]\n",
    "\n",
    "Report_Lumped_mCNV  = df_Lumped_mCNV.rename(columns=lambda col: b.get(str(col)) if str(col) in b else col)\n",
    "\n",
    "Report_Lumped_mCNV[['#EOCs','EOC_with_no_drug','#Units','EOC_Total_Pmt_Code_Portion',\n",
    "         'EOC_Total_Calculated_Allow_Code_Portion',\n",
    "         ]]\n",
    "\n",
    "Report_Lumped_mCNV= Report_Lumped_mCNV.loc[Report_Lumped_mCNV['EOC_Total_Pmt_Code_Portion']!=0]\n",
    "\n",
    "Report_Lumped_mCNV['#EOCs'].nunique()\n",
    "\n",
    "Report_Lumped_mCNV.agg(['sum'])"
   ]
  },
  {
   "cell_type": "markdown",
   "metadata": {},
   "source": [
    "################################################################################################################################\n",
    "# Neoplasm\n",
    "################################################################################################################################"
   ]
  },
  {
   "cell_type": "code",
   "execution_count": null,
   "metadata": {},
   "outputs": [],
   "source": [
    "df_Neoplasm=df_Modifier.loc[(df_Modifier['Primary_Diagnosis_10'] == 'Neoplasm') |(df_Modifier['ICD-10_Claim_Diagnosis_Code02'] == 'Neoplasm')\n",
    "                           |(df_Modifier['ICD-10_Claim_Diagnosis_Code03'] == 'Neoplasm')|(df_Modifier['ICD-10_Claim_Diagnosis_Code04'] == 'Neoplasm') \n",
    "                           |(df_Modifier['ICD-10_Claim_Diagnosis_Code05'] == 'Neoplasm') |(df_Modifier['ICD-10_Claim_Diagnosis_Code06'] == 'Neoplasm')\n",
    "                           |(df_Modifier['ICD-10_Claim_Diagnosis_Code07'] == 'Neoplasm')|(df_Modifier['ICD-10_Claim_Diagnosis_Code08'] == 'Neoplasm')\n",
    "                           |(df_Modifier['ICD-10_Claim_Diagnosis_Code09'] == 'Neoplasm')|(df_Modifier['ICD-10_Claim_Diagnosis_Code010'] == 'Neoplasm')\n",
    "                           |(df_Modifier['ICD-10_Claim_Diagnosis_Code011'] == 'Neoplasm')|(df_Modifier['Primary_Diagnosis_9'] == 'Neoplasm') ]\n",
    "\n",
    "df_Neoplasm=(df_Neoplasm.groupby(['Claim_ID','Proc_Clas','Proc_Code','Proc_Desc'])\n",
    "    .agg({'Sum_Charges':'sum','Sum_All_Charges':'sum','Sum_Net_Payments':'sum',\n",
    "         'Sum_Contractual_Adj':'sum','Sum_Calculated_Allowable':'sum','Sum_Actual_Allowed_Amts':'sum','Sum_Expected_Allowed_Amts':'sum','Sum_All_Adj':'sum','Sum_Allowable_Diff':'sum','Sum_Payments':'sum',\n",
    "          })\n",
    "    .reset_index())\n",
    "df_Neoplasm\n",
    "\n",
    "\n",
    "df_Neoplasm_DRUG=df_Neoplasm[df_Neoplasm['Proc_Clas']=='Drug']\n",
    "df_Neoplasm_DRUG\n",
    "\n",
    "df_Neoplasm_Itemized =df_Neoplasm[df_Neoplasm['Proc_Clas']=='Non-Drug']\n",
    "df_Neoplasm_Itemized\n",
    "\n",
    "df_Neoplasm_Itemized_New= (df_Neoplasm_Itemized.groupby(['Claim_ID','Proc_Clas'])\n",
    "    .agg({'Sum_Charges':'sum','Sum_All_Charges':'sum','Sum_Net_Payments':'sum',\n",
    "         'Sum_Contractual_Adj':'sum','Sum_Calculated_Allowable':'sum','Sum_Actual_Allowed_Amts':'sum','Sum_Expected_Allowed_Amts':'sum','Sum_All_Adj':'sum','Sum_Allowable_Diff':'sum','Sum_Payments':'sum',\n",
    "          })\n",
    "    .reset_index()\n",
    "                 )\n",
    "\n",
    "\n",
    "Report_Neoplasm = pd.merge(df_Neoplasm_DRUG,\n",
    "                 df_Neoplasm_Itemized_New,\n",
    "                 on='Claim_ID', \n",
    "                 how='inner')\n",
    "\n",
    "Report_Neoplasm = Report_Neoplasm.rename(columns=lambda col: d.get(str(col)) if str(col) in d else col)\n",
    "Report_Neoplasm[['Claim_ID','Proc_Code','EOC_with_or_no_drug','#Units','EOC_Total_Pmt_Code_Portion',\n",
    "         'EOC_Total_Calculated_Allow_Code_Portion','EOC_Total_Pmt_Non_Code_Portion',\n",
    "         'EOC_Total_Calculated_Allow_Non_Code_Portion','Total_All_Adj']]\n",
    "\n",
    "\n",
    "\n",
    "Report_Neoplasm = Report_Neoplasm.loc[Report_Neoplasm['EOC_Total_Pmt_Code_Portion']!=0] \n",
    "\n",
    "Report_Neoplasm_New= (Report_Neoplasm.groupby(['Proc_Code','EOC_with_or_no_drug'])\n",
    "    .agg({'Claim_ID':'count','#Units':'sum','EOC_Total_Pmt_Code_Portion':'sum','EOC_Total_Pmt_Non_Code_Portion':'sum',\n",
    "         'EOC_Total_Calculated_Allow_Code_Portion':'sum','EOC_Total_Calculated_Allow_Non_Code_Portion':'sum',\n",
    "         'Total_All_Adj':'sum'})\n",
    "    .reset_index()\n",
    "    .rename(columns={'Claim_ID':'#EOCs'})\n",
    ")\n",
    "\n",
    "Report_Neoplasm_New['EOC_Total_Pmts'] = Report_Neoplasm_New.apply(eoc_total_pmt, axis=1) \n",
    "Report_Neoplasm_New['%_of_code_portion'] = Report_Neoplasm_New.apply(total_code_portion, axis=1) \n",
    "Report_Neoplasm_New['%_of_non_code_portion'] = Report_Neoplasm_New.apply(total_non_code_portion, axis=1) \n",
    "Report_Neoplasm_New['EOC_Total_Calc_Allow'] = Report_Neoplasm_New.apply(eoc_total_calc_allow, axis=1) \n",
    "Report_Neoplasm_New['%_of_allow_code_portion'] = Report_Neoplasm_New.apply(total_allow_code_portion, axis=1) \n",
    "Report_Neoplasm_New['%_of_allow_non_code_portion'] = Report_Neoplasm_New.apply(total_allow_non_code_portion, axis=1) \n",
    "Report_Neoplasm_New['EOC_Avg_Pmt'] = Report_Neoplasm_New.apply(eoc_avg_pmt, axis=1) \n",
    "Report_Neoplasm_New['EOC_Avg_Calc_Allow'] = Report_Neoplasm_New.apply(eoc_avg_calc_allow, axis=1) \n",
    "\n",
    "\n",
    "total_Neoplasm = Report_Neoplasm_New.apply(np.sum)\n",
    "total_Neoplasm['Proc_Code'] = 'Total'\n",
    "Report_Neoplasm_New= Report_Neoplasm_New.append(pd.DataFrame(total_Neoplasm.values, index=total_Neoplasm.keys()).T, ignore_index=True,sort=True)\n",
    "\n",
    "Report_Neoplasm_New=Report_Neoplasm_New[['Proc_Code','EOC_with_or_no_drug','#EOCs','#Units','EOC_Total_Pmts','EOC_Total_Pmt_Code_Portion','EOC_Total_Pmt_Non_Code_Portion',\n",
    "                             '%_of_code_portion','%_of_non_code_portion','EOC_Avg_Pmt','EOC_Total_Calc_Allow','EOC_Total_Calculated_Allow_Code_Portion',\n",
    "                             'EOC_Total_Calculated_Allow_Non_Code_Portion','%_of_allow_code_portion','%_of_allow_non_code_portion','EOC_Avg_Calc_Allow'\n",
    "                            ]]\n",
    "\n",
    "Report_Neoplasm_New\n",
    "\n",
    "#csv file name and path\n",
    "file_name = 'Report_Neoplasm'\n",
    "file_path = os.path.join(output_folder, file_name)\n",
    "file_path+='.csv'\n",
    "Report_Neoplasm_New.to_csv(file_path,index=False)\n",
    "\n",
    "Report_Neoplasm_Itemized = pd.merge(\n",
    "                 df_Neoplasm_Itemized,\n",
    "                 df_Neoplasm_DRUG,\n",
    "                 on='Claim_ID', \n",
    "                 how='inner')\n",
    "\n",
    "Report_Neoplasm_Itemized  = Report_Neoplasm_Itemized .rename(columns=lambda col: c.get(str(col)) if str(col) in c else col)\n",
    "\n",
    "Report_Neoplasm_Itemized[['Claim_ID','Of_EOC_with_drug_Itemized','#Units','EOC_Total_Pmt_Code_Portion',\n",
    "         'EOC_Total_Calculated_Allow_Code_Portion','EOC_Total_Pmt_Non_Code_Portion',\n",
    "         'EOC_Total_Calculated_Allow_Non_Code_Portion','Total_All_Adj']]\n",
    "\n",
    "Report_Neoplasm_Itemized = Report_Neoplasm_Itemized.loc[Report_Neoplasm_Itemized['EOC_Total_Pmt_Code_Portion']!=0]\n",
    "\n",
    "Report_Neoplasm_Itemized_New= (Report_Neoplasm_Itemized.groupby(['Proc_Code','Of_EOC_with_drug_Itemized'])\n",
    "    .agg({'Claim_ID':'count','#Units':'sum','EOC_Total_Pmt_Code_Portion':'sum','EOC_Total_Pmt_Non_Code_Portion':'sum',\n",
    "         'EOC_Total_Calculated_Allow_Code_Portion':'sum','EOC_Total_Calculated_Allow_Non_Code_Portion':'sum',\n",
    "         'Total_All_Adj':'sum'})\n",
    "    .reset_index()\n",
    "    .rename(columns={'Claim_ID':'#EOCs'})\n",
    ")\n",
    "\n",
    "Report_Neoplasm_Itemized_New['EOC_Total_Pmts'] = Report_Neoplasm_Itemized_New.apply(eoc_total_pmt, axis=1) \n",
    "Report_Neoplasm_Itemized_New['%_of_code_portion'] = Report_Neoplasm_Itemized_New.apply(total_code_portion, axis=1) \n",
    "Report_Neoplasm_Itemized_New['%_of_non_code_portion'] = Report_Neoplasm_Itemized_New.apply(total_non_code_portion, axis=1) \n",
    "Report_Neoplasm_Itemized_New['EOC_Total_Calc_Allow'] = Report_Neoplasm_Itemized_New.apply(eoc_total_calc_allow, axis=1) \n",
    "Report_Neoplasm_Itemized_New['%_of_allow_code_portion'] = Report_Neoplasm_Itemized_New.apply(total_allow_code_portion, axis=1) \n",
    "Report_Neoplasm_Itemized_New['%_of_allow_non_code_portion'] = Report_Neoplasm_Itemized_New.apply(total_allow_non_code_portion, axis=1) \n",
    "Report_Neoplasm_Itemized_New['EOC_Avg_Pmt'] = Report_Neoplasm_Itemized_New.apply(eoc_avg_pmt, axis=1) \n",
    "Report_Neoplasm_Itemized_New['EOC_Avg_Calc_Allow'] = Report_Neoplasm_Itemized_New.apply(eoc_avg_calc_allow, axis=1) \n",
    "\n",
    "total_iNeoplasm = Report_Neoplasm_New.apply(np.sum)\n",
    "total_iNeoplasm['Proc_Code'] = 'Total'\n",
    "Report_Neoplasm_Itemized_New= Report_Neoplasm_Itemized_New.append(pd.DataFrame(total_iNeoplasm.values, index=total_iNeoplasm.keys()).T, ignore_index=True,sort=True)\n",
    "\n",
    "Report_Neoplasm_Itemized_New=Report_Neoplasm_Itemized_New[['Proc_Code','Of_EOC_with_drug_Itemized','#EOCs','#Units','EOC_Total_Pmts','EOC_Total_Pmt_Code_Portion','EOC_Total_Pmt_Non_Code_Portion',\n",
    "                             '%_of_code_portion','%_of_non_code_portion','EOC_Avg_Pmt','EOC_Total_Calc_Allow','EOC_Total_Calculated_Allow_Code_Portion',\n",
    "                             'EOC_Total_Calculated_Allow_Non_Code_Portion','%_of_allow_code_portion','%_of_allow_non_code_portion','EOC_Avg_Calc_Allow'\n",
    "                            ]]\n",
    "\n",
    "Report_Neoplasm_Itemized_New\n",
    "\n",
    "#csv file name and path\n",
    "file_name = 'Report_Itemized_Neoplasm'\n",
    "file_path = os.path.join(output_folder, file_name)\n",
    "file_path+='.csv'\n",
    "Report_Neoplasm_Itemized_New.to_csv(file_path,index=False)\n",
    "\n",
    "df_Lumped_Neoplasm=df_Lumped_NonDrug.loc[(df_Lumped_NonDrug['Primary_Diagnosis_10'] == 'Neoplasm') |(df_Lumped_NonDrug['ICD-10_Claim_Diagnosis_Code02'] == 'Neoplasm')\n",
    "                           |(df_Lumped_NonDrug['ICD-10_Claim_Diagnosis_Code03'] == 'Neoplasm')|(df_Lumped_NonDrug['ICD-10_Claim_Diagnosis_Code04'] == 'Neoplasm') \n",
    "                           |(df_Lumped_NonDrug['ICD-10_Claim_Diagnosis_Code05'] == 'Neoplasm') |(df_Lumped_NonDrug['ICD-10_Claim_Diagnosis_Code06'] == 'Neoplasm')\n",
    "                           |(df_Lumped_NonDrug['ICD-10_Claim_Diagnosis_Code07'] == 'Neoplasm')|(df_Lumped_NonDrug['ICD-10_Claim_Diagnosis_Code08'] == 'Neoplasm')\n",
    "                           |(df_Lumped_NonDrug['ICD-10_Claim_Diagnosis_Code09'] == 'Neoplasm')|(df_Lumped_NonDrug['ICD-10_Claim_Diagnosis_Code010'] == 'Neoplasm')\n",
    "                           |(df_Lumped_NonDrug['ICD-10_Claim_Diagnosis_Code011'] == 'Neoplasm')|(df_Lumped_NonDrug['Primary_Diagnosis_9'] == 'Neoplasm') ]\n",
    "\n",
    "Report_Lumped_Neoplasm  = df_Lumped_Neoplasm.rename(columns=lambda col: b.get(str(col)) if str(col) in b else col)\n",
    "\n",
    "Report_Lumped_Neoplasm[['#EOCs','EOC_with_no_drug','#Units','EOC_Total_Pmt_Code_Portion',\n",
    "         'EOC_Total_Calculated_Allow_Code_Portion',\n",
    "         ]]\n",
    "\n",
    "Report_Lumped_Neoplasm= Report_Lumped_Neoplasm.loc[Report_Lumped_Neoplasm['EOC_Total_Pmt_Code_Portion']!=0]\n",
    "\n",
    "Report_Lumped_Neoplasm['#EOCs'].nunique()\n",
    "\n",
    "Report_Lumped_Neoplasm.agg(['sum'])"
   ]
  },
  {
   "cell_type": "markdown",
   "metadata": {},
   "source": [
    "################################################################################################################################\n",
    "# Other\n",
    "################################################################################################################################"
   ]
  },
  {
   "cell_type": "code",
   "execution_count": null,
   "metadata": {},
   "outputs": [],
   "source": [
    "df_Other=df_Modifier.loc[(df_Modifier['Primary_Diagnosis_10'] == 'OTHER') |(df_Modifier['ICD-10_Claim_Diagnosis_Code02'] == 'OTHER')\n",
    "                           |(df_Modifier['ICD-10_Claim_Diagnosis_Code03'] == 'OTHER')|(df_Modifier['ICD-10_Claim_Diagnosis_Code04'] == 'OTHER') \n",
    "                           |(df_Modifier['ICD-10_Claim_Diagnosis_Code05'] == 'OTHER') |(df_Modifier['ICD-10_Claim_Diagnosis_Code06'] == 'OTHER')\n",
    "                           |(df_Modifier['ICD-10_Claim_Diagnosis_Code07'] == 'OTHER')|(df_Modifier['ICD-10_Claim_Diagnosis_Code08'] == 'OTHER')\n",
    "                           |(df_Modifier['ICD-10_Claim_Diagnosis_Code09'] == 'OTHER')|(df_Modifier['ICD-10_Claim_Diagnosis_Code010'] == 'OTHER')\n",
    "                           |(df_Modifier['ICD-10_Claim_Diagnosis_Code011'] == 'OTHER')|(df_Modifier['Primary_Diagnosis_9'] == 'OTHER') ]\n",
    "\n",
    "df_Other=(df_Other.groupby(['Claim_ID','Proc_Clas','Proc_Code','Proc_Desc'])\n",
    "    .agg({'Sum_Charges':'sum','Sum_All_Charges':'sum','Sum_Net_Payments':'sum',\n",
    "         'Sum_Contractual_Adj':'sum','Sum_Calculated_Allowable':'sum','Sum_Actual_Allowed_Amts':'sum','Sum_Expected_Allowed_Amts':'sum','Sum_All_Adj':'sum','Sum_Allowable_Diff':'sum','Sum_Payments':'sum',\n",
    "          })\n",
    "    .reset_index())\n",
    "df_Other\n",
    "\n",
    "\n",
    "df_Other_DRUG=df_Other[df_Other['Proc_Clas']=='Drug']\n",
    "df_Other_DRUG\n",
    "\n",
    "df_Other_Itemized =df_Other[df_Other['Proc_Clas']=='Non-Drug']\n",
    "df_Other_Itemized\n",
    "\n",
    "df_Other_Itemized_New= (df_Other_Itemized.groupby(['Claim_ID','Proc_Clas'])\n",
    "    .agg({'Sum_Charges':'sum','Sum_All_Charges':'sum','Sum_Net_Payments':'sum',\n",
    "         'Sum_Contractual_Adj':'sum','Sum_Calculated_Allowable':'sum','Sum_Actual_Allowed_Amts':'sum','Sum_Expected_Allowed_Amts':'sum','Sum_All_Adj':'sum','Sum_Allowable_Diff':'sum','Sum_Payments':'sum',\n",
    "          })\n",
    "    .reset_index()\n",
    "                 )\n",
    "\n",
    "\n",
    "Report_Other = pd.merge(df_Other_DRUG,\n",
    "                 df_Other_Itemized_New,\n",
    "                 on='Claim_ID', \n",
    "                 how='inner')\n",
    "\n",
    "Report_Other = Report_Other.rename(columns=lambda col: d.get(str(col)) if str(col) in d else col)\n",
    "Report_Other[['Claim_ID','Proc_Code','EOC_with_or_no_drug','#Units','EOC_Total_Pmt_Code_Portion',\n",
    "         'EOC_Total_Calculated_Allow_Code_Portion','EOC_Total_Pmt_Non_Code_Portion',\n",
    "         'EOC_Total_Calculated_Allow_Non_Code_Portion','Total_All_Adj']]\n",
    "\n",
    "\n",
    "\n",
    "Report_Other = Report_Other.loc[Report_Other['EOC_Total_Pmt_Code_Portion']!=0] \n",
    "\n",
    "Report_Other_New= (Report_Other.groupby(['Proc_Code','EOC_with_or_no_drug'])\n",
    "    .agg({'Claim_ID':'count','#Units':'sum','EOC_Total_Pmt_Code_Portion':'sum','EOC_Total_Pmt_Non_Code_Portion':'sum',\n",
    "         'EOC_Total_Calculated_Allow_Code_Portion':'sum','EOC_Total_Calculated_Allow_Non_Code_Portion':'sum',\n",
    "         'Total_All_Adj':'sum'})\n",
    "    .reset_index()\n",
    "    .rename(columns={'Claim_ID':'#EOCs'})\n",
    ")\n",
    "\n",
    "Report_Other_New['EOC_Total_Pmts'] = Report_Other_New.apply(eoc_total_pmt, axis=1) \n",
    "Report_Other_New['%_of_code_portion'] = Report_Other_New.apply(total_code_portion, axis=1) \n",
    "Report_Other_New['%_of_non_code_portion'] = Report_Other_New.apply(total_non_code_portion, axis=1) \n",
    "Report_Other_New['EOC_Total_Calc_Allow'] = Report_Other_New.apply(eoc_total_calc_allow, axis=1) \n",
    "Report_Other_New['%_of_allow_code_portion'] = Report_Other_New.apply(total_allow_code_portion, axis=1) \n",
    "Report_Other_New['%_of_allow_non_code_portion'] = Report_Other_New.apply(total_allow_non_code_portion, axis=1) \n",
    "Report_Other_New['EOC_Avg_Pmt'] = Report_Other_New.apply(eoc_avg_pmt, axis=1) \n",
    "Report_Other_New['EOC_Avg_Calc_Allow'] = Report_Other_New.apply(eoc_avg_calc_allow, axis=1) \n",
    "\n",
    "\n",
    "total_Other = Report_Other_New.apply(np.sum)\n",
    "total_Other['Proc_Code'] = 'Total'\n",
    "Report_Other_New= Report_Other_New.append(pd.DataFrame(total_Other.values, index=total_Other.keys()).T, ignore_index=True,sort=True)\n",
    "\n",
    "Report_Other_New=Report_Other_New[['Proc_Code','EOC_with_or_no_drug','#EOCs','#Units','EOC_Total_Pmts','EOC_Total_Pmt_Code_Portion','EOC_Total_Pmt_Non_Code_Portion',\n",
    "                             '%_of_code_portion','%_of_non_code_portion','EOC_Avg_Pmt','EOC_Total_Calc_Allow','EOC_Total_Calculated_Allow_Code_Portion',\n",
    "                             'EOC_Total_Calculated_Allow_Non_Code_Portion','%_of_allow_code_portion','%_of_allow_non_code_portion','EOC_Avg_Calc_Allow'\n",
    "                            ]]\n",
    "\n",
    "Report_Other_New\n",
    "\n",
    "#csv file name and path\n",
    "file_name = 'Report_Other'\n",
    "file_path = os.path.join(output_folder, file_name)\n",
    "file_path+='.csv'\n",
    "Report_Other_New.to_csv(file_path,index=False)\n",
    "\n",
    "Report_Other_Itemized = pd.merge(\n",
    "                 df_Other_Itemized,\n",
    "                 df_Other_DRUG,\n",
    "                 on='Claim_ID', \n",
    "                 how='inner')\n",
    "\n",
    "Report_Other_Itemized  = Report_Other_Itemized .rename(columns=lambda col: c.get(str(col)) if str(col) in c else col)\n",
    "\n",
    "Report_Other_Itemized[['Claim_ID','Of_EOC_with_drug_Itemized','#Units','EOC_Total_Pmt_Code_Portion',\n",
    "         'EOC_Total_Calculated_Allow_Code_Portion','EOC_Total_Pmt_Non_Code_Portion',\n",
    "         'EOC_Total_Calculated_Allow_Non_Code_Portion','Total_All_Adj']]\n",
    "\n",
    "Report_Other_Itemized = Report_Other_Itemized.loc[Report_Other_Itemized['EOC_Total_Pmt_Code_Portion']!=0]\n",
    "\n",
    "Report_Other_Itemized_New= (Report_Other_Itemized.groupby(['Proc_Code','Of_EOC_with_drug_Itemized'])\n",
    "    .agg({'Claim_ID':'count','#Units':'sum','EOC_Total_Pmt_Code_Portion':'sum','EOC_Total_Pmt_Non_Code_Portion':'sum',\n",
    "         'EOC_Total_Calculated_Allow_Code_Portion':'sum','EOC_Total_Calculated_Allow_Non_Code_Portion':'sum',\n",
    "         'Total_All_Adj':'sum'})\n",
    "    .reset_index()\n",
    "    .rename(columns={'Claim_ID':'#EOCs'})\n",
    ")\n",
    "\n",
    "Report_Other_Itemized_New['EOC_Total_Pmts'] = Report_Other_Itemized_New.apply(eoc_total_pmt, axis=1) \n",
    "Report_Other_Itemized_New['%_of_code_portion'] = Report_Other_Itemized_New.apply(total_code_portion, axis=1) \n",
    "Report_Other_Itemized_New['%_of_non_code_portion'] = Report_Other_Itemized_New.apply(total_non_code_portion, axis=1) \n",
    "Report_Other_Itemized_New['EOC_Total_Calc_Allow'] = Report_Other_Itemized_New.apply(eoc_total_calc_allow, axis=1) \n",
    "Report_Other_Itemized_New['%_of_allow_code_portion'] = Report_Other_Itemized_New.apply(total_allow_code_portion, axis=1) \n",
    "Report_Other_Itemized_New['%_of_allow_non_code_portion'] = Report_Other_Itemized_New.apply(total_allow_non_code_portion, axis=1) \n",
    "Report_Other_Itemized_New['EOC_Avg_Pmt'] = Report_Other_Itemized_New.apply(eoc_avg_pmt, axis=1) \n",
    "Report_Other_Itemized_New['EOC_Avg_Calc_Allow'] = Report_Other_Itemized_New.apply(eoc_avg_calc_allow, axis=1) \n",
    "\n",
    "total_iOther = Report_Other_New.apply(np.sum)\n",
    "total_iOther['Proc_Code'] = 'Total'\n",
    "Report_Other_Itemized_New= Report_Other_Itemized_New.append(pd.DataFrame(total_iOther.values, index=total_iOther.keys()).T, ignore_index=True,sort=True)\n",
    "\n",
    "Report_Other_Itemized_New=Report_Other_Itemized_New[['Proc_Code','Of_EOC_with_drug_Itemized','#EOCs','#Units','EOC_Total_Pmts','EOC_Total_Pmt_Code_Portion','EOC_Total_Pmt_Non_Code_Portion',\n",
    "                             '%_of_code_portion','%_of_non_code_portion','EOC_Avg_Pmt','EOC_Total_Calc_Allow','EOC_Total_Calculated_Allow_Code_Portion',\n",
    "                             'EOC_Total_Calculated_Allow_Non_Code_Portion','%_of_allow_code_portion','%_of_allow_non_code_portion','EOC_Avg_Calc_Allow'\n",
    "                            ]]\n",
    "\n",
    "Report_Other_Itemized_New\n",
    "\n",
    "#csv file name and path\n",
    "file_name = 'Report_Itemized_Other'\n",
    "file_path = os.path.join(output_folder, file_name)\n",
    "file_path+='.csv'\n",
    "Report_Other_Itemized_New.to_csv(file_path,index=False)\n",
    "\n",
    "df_Lumped_Other=df_Lumped_NonDrug.loc[(df_Lumped_NonDrug['Primary_Diagnosis_10'] == 'OTHER') |(df_Lumped_NonDrug['ICD-10_Claim_Diagnosis_Code02'] == 'OTHER')\n",
    "                           |(df_Lumped_NonDrug['ICD-10_Claim_Diagnosis_Code03'] == 'OTHER')|(df_Lumped_NonDrug['ICD-10_Claim_Diagnosis_Code04'] == 'OTHER') \n",
    "                           |(df_Lumped_NonDrug['ICD-10_Claim_Diagnosis_Code05'] == 'OTHER') |(df_Lumped_NonDrug['ICD-10_Claim_Diagnosis_Code06'] == 'OTHER')\n",
    "                           |(df_Lumped_NonDrug['ICD-10_Claim_Diagnosis_Code07'] == 'OTHER')|(df_Lumped_NonDrug['ICD-10_Claim_Diagnosis_Code08'] == 'OTHER')\n",
    "                           |(df_Lumped_NonDrug['ICD-10_Claim_Diagnosis_Code09'] == 'OTHER')|(df_Lumped_NonDrug['ICD-10_Claim_Diagnosis_Code010'] == 'OTHER')\n",
    "                           |(df_Lumped_NonDrug['ICD-10_Claim_Diagnosis_Code011'] == 'OTHER')|(df_Lumped_NonDrug['Primary_Diagnosis_9'] == 'OTHER') ]\n",
    "\n",
    "Report_Lumped_Other  = df_Lumped_Other.rename(columns=lambda col: b.get(str(col)) if str(col) in b else col)\n",
    "\n",
    "Report_Lumped_Other[['#EOCs','EOC_with_no_drug','#Units','EOC_Total_Pmt_Code_Portion',\n",
    "         'EOC_Total_Calculated_Allow_Code_Portion',\n",
    "         ]]\n",
    "\n",
    "Report_Lumped_Other= Report_Lumped_Other.loc[Report_Lumped_Other['EOC_Total_Pmt_Code_Portion']!=0]\n",
    "\n",
    "Report_Lumped_Other['#EOCs'].nunique()\n",
    "\n",
    "Report_Lumped_Other.agg(['sum'])"
   ]
  },
  {
   "cell_type": "code",
   "execution_count": null,
   "metadata": {},
   "outputs": [],
   "source": [
    "from glob import glob\n",
    "#csv file name and path\n",
    "file_name = 'All_Insurances'\n",
    "file_path = os.path.join(output_folder, file_name)\n",
    "file_path+='.csv'\n",
    "with open(file_path, 'a') as singleFile:\n",
    "    for csvFile in glob('../EOC_Raw_Data/EOC_Reports_All_Insurance/Re*.csv'):\n",
    "        for line in open(csvFile, 'r'):\n",
    "            singleFile.write(line)"
   ]
  },
  {
   "cell_type": "code",
   "execution_count": null,
   "metadata": {},
   "outputs": [],
   "source": []
  }
 ],
 "metadata": {
  "kernelspec": {
   "display_name": "Python 3",
   "language": "python",
   "name": "python3"
  },
  "language_info": {
   "codemirror_mode": {
    "name": "ipython",
    "version": 3
   },
   "file_extension": ".py",
   "mimetype": "text/x-python",
   "name": "python",
   "nbconvert_exporter": "python",
   "pygments_lexer": "ipython3",
   "version": "3.7.0"
  }
 },
 "nbformat": 4,
 "nbformat_minor": 2
}
