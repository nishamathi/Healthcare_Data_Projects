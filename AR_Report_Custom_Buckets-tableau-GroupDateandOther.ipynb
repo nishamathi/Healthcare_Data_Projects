{
 "cells": [
  {
   "cell_type": "code",
   "execution_count": null,
   "metadata": {},
   "outputs": [],
   "source": [
    "# import required packages/libraries\n",
    "import pandas as pd\n",
    "import numpy as np\n",
    "# read data into dataframe\n",
    "df =  pd.read_csv(\"../AR_Raw_Data/AR_Raw_Custom_Buckets_Tableau.csv\")\n",
    "# set option to display all columns in a dataframe \n",
    "pd.set_option('display.width', 200)\n",
    "pd.set_option('display.max_columns', None)\n",
    "\n",
    "# display first 5 rows in the dataframe\n",
    "df.head()"
   ]
  },
  {
   "cell_type": "code",
   "execution_count": null,
   "metadata": {},
   "outputs": [],
   "source": [
    "df.rename(columns={\n",
    "'Trnsfr Type':'Transfer_Type',\n",
    "'Proccode-Grp Procedure Clas...':'Proc_Classification',\n",
    "'Rndrng Prvdr':'Rendering_Provider',\n",
    "'Rndrng Prvdrfullnme':'Physician',\n",
    "'Patient Dprtmnt':'Patient_Dept',\n",
    "'Svc Dprtmnt':'Service_Dept',\n",
    "'Svc Dept Bill Name':'Service_Dept_Name',\n",
    "'Patientid':'Patient_ID',\n",
    "'Srvday':'Claim_Service_Day',\n",
    "'Claimid':'Claim_ID',\n",
    "'Agingasofdate':'Aging_Date',\n",
    "'Trnsfr Intnt':'Transfer_Intent',\n",
    "'Trnsfr Type':'Transfer_Type',\n",
    "'Charge Type':'Transaction_Charge_Type',\n",
    "'Primary Clm Cstm Ins Grpng':'Primary_Claim_Custom_Insurance_Grouping',\n",
    "'Primary Clm Ins Pkg Name':'Primary_Claim_Insurance_Package_Name',\n",
    " 'Srvbucket: <31': '1 -30 Days',\n",
    " 'Srvbucket: 31 - 60': '31 - 60 Days',\n",
    " 'Srvbucket: 61 - 90': '61 - 90 Days',\n",
    " 'Srvbucket: 91 - 180':'91 - 180 Days',\n",
    " 'Srvbucket: 181 - 365':'181 - 365 Days',\n",
    " 'Srvbucket: >365':'1+ Years',\n",
    " 'srvbucket: Total': 'Total'\n",
    "    },\n",
    "    inplace=True)"
   ]
  },
  {
   "cell_type": "code",
   "execution_count": null,
   "metadata": {},
   "outputs": [],
   "source": [
    "df.head()"
   ]
  },
  {
   "cell_type": "code",
   "execution_count": null,
   "metadata": {},
   "outputs": [],
   "source": [
    "df.describe()"
   ]
  },
  {
   "cell_type": "code",
   "execution_count": null,
   "metadata": {},
   "outputs": [],
   "source": [
    "df.info()"
   ]
  },
  {
   "cell_type": "code",
   "execution_count": null,
   "metadata": {},
   "outputs": [],
   "source": [
    "pd.set_option('display.max_rows', 500)\n",
    "null_count = df.isnull().sum()\n",
    "print(null_count)"
   ]
  },
  {
   "cell_type": "code",
   "execution_count": null,
   "metadata": {},
   "outputs": [],
   "source": [
    "# importsome more packages/libraries\n",
    "import seaborn as sns\n",
    "import matplotlib.pyplot as plt\n",
    "fig = plt.figure(figsize=(50,30)) \n",
    "# play with the figsize until the plot is big enough to plot all the columns\n",
    "# of your dataset, or the way you desire it to look like otherwise\n",
    "\n",
    "#sns.heatmap(data.corr())\n",
    "\n",
    "# plot a heatmap to find out co relation matrix of clumns in the dataframe\n",
    "sns.heatmap(df.corr(), cmap='YlGn')\n",
    "plt.show()\n",
    "fig.savefig(\"Correlation.png\")"
   ]
  },
  {
   "cell_type": "code",
   "execution_count": null,
   "metadata": {},
   "outputs": [],
   "source": [
    "df.corr(method='pearson').style.format(\"{:.2}\").background_gradient(cmap=plt.get_cmap('coolwarm'), axis=1)"
   ]
  },
  {
   "cell_type": "code",
   "execution_count": null,
   "metadata": {},
   "outputs": [],
   "source": [
    "#df_Updated = df[df['Claim_Service_Day'] >= '9/1/2017']"
   ]
  },
  {
   "cell_type": "code",
   "execution_count": null,
   "metadata": {},
   "outputs": [],
   "source": [
    "#df_Updated.to_csv('../AR_Raw_Data/Updated_AR_Data_Custom_Buckets.csv',index=False)"
   ]
  },
  {
   "cell_type": "code",
   "execution_count": null,
   "metadata": {},
   "outputs": [],
   "source": [
    "#df_Updated.head()"
   ]
  },
  {
   "cell_type": "code",
   "execution_count": null,
   "metadata": {},
   "outputs": [],
   "source": [
    "df.Service_Dept_Name.unique()"
   ]
  },
  {
   "cell_type": "markdown",
   "metadata": {},
   "source": [
    "## we can see that Associated Retinal Consutants have different formats. Need to club then into single before grouping them"
   ]
  },
  {
   "cell_type": "code",
   "execution_count": null,
   "metadata": {},
   "outputs": [],
   "source": [
    "df.loc[df['Service_Dept_Name'].str.startswith('A'), 'Service_Dept_Name'] = 'Associated Retinal Consultants, LLC'"
   ]
  },
  {
   "cell_type": "code",
   "execution_count": null,
   "metadata": {},
   "outputs": [],
   "source": [
    "df['Date'] =pd.PeriodIndex(df.Aging_Date, freq='M').strftime('%b-%Y')"
   ]
  },
  {
   "cell_type": "code",
   "execution_count": null,
   "metadata": {},
   "outputs": [],
   "source": [
    "df_Dept= df.groupby(['Date','Service_Dept_Name'],as_index=False).sum().sort_values(['Total'],ascending=False)"
   ]
  },
  {
   "cell_type": "code",
   "execution_count": null,
   "metadata": {},
   "outputs": [],
   "source": [
    "df_Dept"
   ]
  },
  {
   "cell_type": "code",
   "execution_count": null,
   "metadata": {},
   "outputs": [],
   "source": [
    "df_Dept.drop(['Claim_ID','Patient_ID'],inplace=True,axis=1)"
   ]
  },
  {
   "cell_type": "code",
   "execution_count": null,
   "metadata": {},
   "outputs": [],
   "source": [
    "df_Dept"
   ]
  },
  {
   "cell_type": "code",
   "execution_count": null,
   "metadata": {},
   "outputs": [],
   "source": [
    "#df_Dept.loc['Top Customers']= df_Dept.sum()"
   ]
  },
  {
   "cell_type": "code",
   "execution_count": null,
   "metadata": {},
   "outputs": [],
   "source": [
    "import numpy as np\n",
    "total = df_Dept.apply(np.sum)\n",
    "total['Service_Dept_Name'] = 'Top Departments'\n",
    "df_Dept_New= df_Dept.append(pd.DataFrame( total.values, index=total.keys()).T, ignore_index=False, sort=False)"
   ]
  },
  {
   "cell_type": "code",
   "execution_count": null,
   "metadata": {},
   "outputs": [],
   "source": [
    "#df_Dept"
   ]
  },
  {
   "cell_type": "code",
   "execution_count": null,
   "metadata": {},
   "outputs": [],
   "source": [
    "#df_Dept.append(df_Dept.sum(numeric_only=True), ignore_index=True)"
   ]
  },
  {
   "cell_type": "code",
   "execution_count": null,
   "metadata": {},
   "outputs": [],
   "source": [
    "df_Dept_New"
   ]
  },
  {
   "cell_type": "code",
   "execution_count": null,
   "metadata": {},
   "outputs": [],
   "source": [
    "#df_Dept.Department = df_Dept.Department.fillna('Top Customers')"
   ]
  },
  {
   "cell_type": "code",
   "execution_count": null,
   "metadata": {},
   "outputs": [],
   "source": [
    "df_Dept_New.to_csv('../AR_Raw_Data/Accounts_Receivable-by_Serv_Dept_DateFilter_Month_as-of_Oct2018.csv',index=False)"
   ]
  },
  {
   "cell_type": "code",
   "execution_count": null,
   "metadata": {},
   "outputs": [],
   "source": [
    "df_Physician= df.groupby(['Date','Physician'],as_index=False).sum().sort_values(['Total'],ascending=False)"
   ]
  },
  {
   "cell_type": "code",
   "execution_count": null,
   "metadata": {},
   "outputs": [],
   "source": [
    "df_Physician"
   ]
  },
  {
   "cell_type": "code",
   "execution_count": null,
   "metadata": {},
   "outputs": [],
   "source": [
    "df_Physician.drop(['Claim_ID','Patient_ID'],inplace=True,axis=1)"
   ]
  },
  {
   "cell_type": "code",
   "execution_count": null,
   "metadata": {},
   "outputs": [],
   "source": [
    "total_p = df_Physician.apply(np.sum)\n",
    "total_p['Physician'] = 'Total'\n",
    "df_Physician_New= df_Physician.append(pd.DataFrame(total_p.values, index=total_p.keys()).T, ignore_index=True)"
   ]
  },
  {
   "cell_type": "code",
   "execution_count": null,
   "metadata": {},
   "outputs": [],
   "source": [
    "df_Physician_New"
   ]
  },
  {
   "cell_type": "code",
   "execution_count": null,
   "metadata": {},
   "outputs": [],
   "source": [
    "df_Physician_New.to_csv('../AR_Raw_Data/Accounts_Receivable-by_Physician_DateFilter_Month_as-of_Oct2018.csv',index=False)"
   ]
  },
  {
   "cell_type": "code",
   "execution_count": null,
   "metadata": {},
   "outputs": [],
   "source": []
  }
 ],
 "metadata": {
  "kernelspec": {
   "display_name": "Python 3",
   "language": "python",
   "name": "python3"
  },
  "language_info": {
   "codemirror_mode": {
    "name": "ipython",
    "version": 3
   },
   "file_extension": ".py",
   "mimetype": "text/x-python",
   "name": "python",
   "nbconvert_exporter": "python",
   "pygments_lexer": "ipython3",
   "version": "3.7.0"
  }
 },
 "nbformat": 4,
 "nbformat_minor": 2
}
