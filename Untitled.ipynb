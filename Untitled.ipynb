{
 "cells": [
  {
   "cell_type": "code",
   "execution_count": null,
   "metadata": {},
   "outputs": [],
   "source": [
    "# import required packages/libraries\n",
    "import pandas as pd\n",
    "import numpy as np\n",
    "import os\n",
    "\n",
    "# Path to the data directory into which the cleaned data is saved.\n",
    "csv_file_path = os.path.join(\"..\", \"EOC_Raw_Data\", \"Sept2018.csv\")\n",
    "if not os.path.exists(csv_file_path):\n",
    "    print(\"{} doesn't exist - perhaps the data cleaning script needs to be run?\".format(csv_file_path))\n",
    "\n",
    "# set option to display all columns in a dataframe \n",
    "pd.set_option('display.width', 500)\n",
    "pd.set_option('display.max_columns', None)\n",
    "\n",
    "# read data into dataframe\n",
    "df = pd.read_csv(csv_file_path, quoting=2, parse_dates=True, infer_datetime_format=True, encoding=\"UTF-8\")\n",
    "\n",
    "# display first 5 rows in the dataframe\n",
    "df.head()"
   ]
  },
  {
   "cell_type": "code",
   "execution_count": null,
   "metadata": {},
   "outputs": [],
   "source": [
    "df.rename(columns={\n",
    "'claimid':'Claim_ID',\n",
    "'srvday':'Claim_Service_Day',\n",
    "'rndrng prvdrid':'Rendering_Provider_ID',\n",
    "'rndrng prvdr':'Rendering_Provider',\n",
    "'rndrng prvdrfullnme':'Rendering_Provider_Name',\n",
    "'svc dprtmnt':'Service_Dept',\n",
    "'appttype':'Appt_Type',\n",
    "'patientid':'Patient_ID',\n",
    "'ins pkg name':'Ins_Pkg_Name',\n",
    "'primary clm ins pkg name':'Primary_Claim_Ins_Pkg_Name',\n",
    "'secondary clm ins pkg name':'Secondary_Claim_Ins_Pkg_Name',\n",
    "'proccode-descr':'Procedure_Codes_with_desc',\n",
    "'proccode-grp':'Proc_Code_Group',\n",
    "'proccode-grp procedure clas...':'Proc_Clas',    \n",
    "'svc dept bill name':'Service_Dept_Billing_Name',\n",
    "'icd10claimdiagcode01':'Primary_Diagnosis_10', \n",
    "'icd9claimdiagcode01':'Primary_Diagnosis_9',\n",
    "'icd10claimdiagcode02':'ICD-10_Claim_Diagnosis_Code02',\n",
    "'icd9claimdiagcode02':'ICD-9_Claim_Diagnosis_Code02',\n",
    "'chg units sum':'Sum_Charge_Units',\n",
    "'#chg':'Sum_Charges',\n",
    "'net pmt':'Sum_Net_Payments',\n",
    "'all chgs':'Sum_All_Charges',\n",
    "'contract':'Sum_Contractual_Adj',\n",
    "'allowed':'Sum_Actual_Allowed_Amts',\n",
    "'expected':'Sum_Expected_Allowed_Amts',\n",
    "'allow diff':'Sum_Allowable_Diff',\n",
    "'pmt':'Sum_Payments',\n",
    "'refund':'Sum_Refunds',\n",
    "'type':'Transaction_Type',\n",
    "'trnsfr type':'Transfer_Type',\n",
    "'adjall':'Sum_All_Adj'\n",
    "    },\n",
    "    inplace=True)"
   ]
  },
  {
   "cell_type": "code",
   "execution_count": null,
   "metadata": {},
   "outputs": [],
   "source": [
    "df.head()"
   ]
  },
  {
   "cell_type": "code",
   "execution_count": null,
   "metadata": {},
   "outputs": [],
   "source": []
  }
 ],
 "metadata": {
  "kernelspec": {
   "display_name": "Python 3",
   "language": "python",
   "name": "python3"
  },
  "language_info": {
   "codemirror_mode": {
    "name": "ipython",
    "version": 3
   },
   "file_extension": ".py",
   "mimetype": "text/x-python",
   "name": "python",
   "nbconvert_exporter": "python",
   "pygments_lexer": "ipython3",
   "version": "3.7.0"
  }
 },
 "nbformat": 4,
 "nbformat_minor": 2
}
