{
 "cells": [
  {
   "cell_type": "code",
   "execution_count": null,
   "metadata": {},
   "outputs": [],
   "source": [
    "# import required packages/libraries\n",
    "import pandas as pd\n",
    "import numpy as np\n",
    "# read data into dataframe\n",
    "data =  pd.read_csv(\"../AthenaTRANSACTIONS_LESS_2018.csv\")"
   ]
  },
  {
   "cell_type": "code",
   "execution_count": null,
   "metadata": {},
   "outputs": [],
   "source": [
    "# set option to display all columns in a dataframe \n",
    "pd.set_option('display.width', 200)\n",
    "pd.set_option('display.max_columns', None)\n",
    "\n",
    "# display first 5 rows in the dataframe\n",
    "data.head()"
   ]
  },
  {
   "cell_type": "code",
   "execution_count": null,
   "metadata": {},
   "outputs": [],
   "source": [
    "#see total information about dataframe on columns, datatypes, number of records\n",
    "data.info()"
   ]
  },
  {
   "cell_type": "code",
   "execution_count": null,
   "metadata": {},
   "outputs": [],
   "source": [
    "# display count of null records in the data if any\n",
    "data.isna().sum()"
   ]
  },
  {
   "cell_type": "markdown",
   "metadata": {},
   "source": [
    "## Handle Missing Data\n",
    "#### Almost more than 65% of values are emprty/missing in \n",
    "- icd10transactiondiagcode2,        \n",
    "- icd10transactiondiagcode3         \n",
    "- icd10transactiondiagcode4          \n",
    "- icd9transactiondiagcode1           \n",
    "- icd9transactiondiagcode2           \n",
    "- icd9transactiondiagcode3          \n",
    "- icd9transactiondiagcode4\n",
    "#### Let's drop those columns "
   ]
  },
  {
   "cell_type": "code",
   "execution_count": null,
   "metadata": {},
   "outputs": [],
   "source": [
    "columns= ['icd10transactiondiagcode2','icd10transactiondiagcode3','icd10transactiondiagcode4','icd9transactiondiagcode1', \n",
    "'icd9transactiondiagcode2', 'icd9transactiondiagcode3', 'icd9transactiondiagcode4']\n",
    "\n",
    "# drop the colunmns from the dataframe\n",
    "data.drop(columns, inplace=True, axis=1)\n"
   ]
  },
  {
   "cell_type": "code",
   "execution_count": null,
   "metadata": {},
   "outputs": [],
   "source": [
    "# verify that columns are dropped\n",
    "data.head()"
   ]
  },
  {
   "cell_type": "code",
   "execution_count": null,
   "metadata": {},
   "outputs": [],
   "source": [
    "# importsome more packages/libraries\n",
    "import seaborn as sns\n",
    "import matplotlib.pyplot as plt\n",
    "plt.figure(figsize=(40,30)) \n",
    "# play with the figsize until the plot is big enough to plot all the columns\n",
    "# of your dataset, or the way you desire it to look like otherwise\n",
    "\n",
    "#sns.heatmap(data.corr())\n",
    "\n",
    "# plot a heatmap to find out co relation matrix of clumns in the dataframe\n",
    "sns.heatmap(data.corr(), cmap='BuGn')"
   ]
  },
  {
   "cell_type": "markdown",
   "metadata": {},
   "source": []
  },
  {
   "cell_type": "markdown",
   "metadata": {},
   "source": [
    "#### 1. From data it seems that Patient id and enterpize id are same and they dont have any co relation with other variable columns.  But we will keep those to see how they are related to claims\n",
    "\n",
    "#### 2. From co relation matrix we can see that \n",
    "- total rvu                            \n",
    "- work rvu                          \n",
    "- practice expense rvu               \n",
    "- adj work rvu                         \n",
    "- adj total rvu \n",
    "\n",
    "#### these are highly co related. So need to find out the way to handle missing data\n",
    "\n"
   ]
  },
  {
   "cell_type": "code",
   "execution_count": null,
   "metadata": {},
   "outputs": [],
   "source": [
    "sns.boxplot(x=data['total rvu'])"
   ]
  },
  {
   "cell_type": "code",
   "execution_count": null,
   "metadata": {},
   "outputs": [],
   "source": [
    "sns.boxplot(x=data['work rvu'])"
   ]
  },
  {
   "cell_type": "code",
   "execution_count": null,
   "metadata": {},
   "outputs": [],
   "source": [
    "sns.boxplot(x=data['practice expense rvu'])\n"
   ]
  },
  {
   "cell_type": "code",
   "execution_count": null,
   "metadata": {},
   "outputs": [],
   "source": [
    "sns.boxplot(x=data['adj work rvu'])\n"
   ]
  },
  {
   "cell_type": "code",
   "execution_count": null,
   "metadata": {},
   "outputs": [],
   "source": [
    "sns.boxplot(x=data['adj total rvu'])"
   ]
  },
  {
   "cell_type": "markdown",
   "metadata": {},
   "source": [
    "#### From the box plot we can see that majority of values fall under certain value and only few are outliers.\n",
    "#### Lets replaces all missing values of each column with their corresponding median value"
   ]
  },
  {
   "cell_type": "code",
   "execution_count": null,
   "metadata": {},
   "outputs": [],
   "source": [
    "median_total_rvu = data['total rvu'].median()\n",
    "data['total rvu']=data['total rvu'].fillna(median_total_rvu)"
   ]
  },
  {
   "cell_type": "code",
   "execution_count": null,
   "metadata": {},
   "outputs": [],
   "source": [
    "median_work_rvu = data['work rvu'].median()\n",
    "data['work rvu']=data['work rvu'].fillna(median_work_rvu)"
   ]
  },
  {
   "cell_type": "code",
   "execution_count": null,
   "metadata": {},
   "outputs": [],
   "source": [
    "median_pra_exp_rvu = data['practice expense rvu'].median()\n",
    "data['practice expense rvu']=data['practice expense rvu'].fillna(median_pra_exp_rvu)"
   ]
  },
  {
   "cell_type": "code",
   "execution_count": null,
   "metadata": {},
   "outputs": [],
   "source": [
    "median_adj_work_rvu = data['adj work rvu'].median()\n",
    "data['adj work rvu']=data['adj work rvu'].fillna(median_adj_work_rvu)"
   ]
  },
  {
   "cell_type": "code",
   "execution_count": null,
   "metadata": {},
   "outputs": [],
   "source": [
    "median_adj_total_rvu = data['adj total rvu'].median()\n",
    "data['adj total rvu']=data['adj total rvu'].fillna(median_adj_total_rvu)"
   ]
  },
  {
   "cell_type": "code",
   "execution_count": null,
   "metadata": {},
   "outputs": [],
   "source": [
    "data.dropna().describe()"
   ]
  },
  {
   "cell_type": "code",
   "execution_count": null,
   "metadata": {},
   "outputs": [],
   "source": [
    "# verify there are no more null values\n",
    "data.isna().sum()"
   ]
  },
  {
   "cell_type": "markdown",
   "metadata": {},
   "source": [
    "#### icd10transactiondiagcode1 Transaction code has 2 missing values, which is ok as of now."
   ]
  },
  {
   "cell_type": "code",
   "execution_count": null,
   "metadata": {},
   "outputs": [],
   "source": [
    "# rename the columns names to understand the data better\n",
    "data.rename(columns={'srvday':'Claim Service Day','claimid':'Claim ID', 'proccode':'Procedure Code', 'allowed':'Sum of Actual Allowed Amounts', \n",
    "                   'adjall':'Sum of All Adjustments', 'all chgs':'Sum of All Charges', 'contract':'Sum of Contractual Adjustments', \n",
    "                   'current chg':'Sum of Current Charges',\n",
    "                   'expected':'Sum of Expected Allowed Amounts', 'late chg':'Sum of Late Charges','net pmt':'Sum of Net Payments',\n",
    "                   'netreceivable':'Sum of Net Receivable' ,'net xfer':'Sum of Net Transfers' ,'adjoth': 'Sum of Other Adjustments', 'pmt':'Sum of Payments',\n",
    "                   'refund': 'Sum of Refunds',\n",
    "                   'total rvu':'Total RVU','work rvu':'Work RVU','#chg':'Sum of Charges','chg units sum':'Sum of Charge Units',\n",
    "                   'practice expense rvu':'Practice Expense RVU','adj work rvu':'Adjusted Work RVU','adj total rvu':'Adjusted Total RVU',\n",
    "                   'trnsfr type':'Transfer Type','procclass':'Procedure Classification','ins pkg name':'Insurance Package Name',\n",
    "                   'procgroup':'Procedure Code Group','rndrng prvdr':'Rendering Provider' ,'patient dprtmnt':'Patient Department' ,\n",
    "                   'svc dprtmnt': 'Service Department','patientid':'Patient ID','enterpriseid':'Patient Enterprise ID' },\n",
    "                    inplace=True)"
   ]
  },
  {
   "cell_type": "code",
   "execution_count": null,
   "metadata": {},
   "outputs": [],
   "source": [
    "data.head()"
   ]
  },
  {
   "cell_type": "markdown",
   "metadata": {},
   "source": [
    "# Exploratory Data Analysis"
   ]
  },
  {
   "cell_type": "markdown",
   "metadata": {},
   "source": [
    "## Analysis 1:\n",
    "#### Find out maximum appearing Claim ID's and then in turn find out corresonding maximum appearing Procedure codes "
   ]
  },
  {
   "cell_type": "code",
   "execution_count": null,
   "metadata": {
    "scrolled": true
   },
   "outputs": [],
   "source": [
    "data.groupby(['Patient ID', 'Claim ID']).sum()"
   ]
  },
  {
   "cell_type": "markdown",
   "metadata": {},
   "source": [
    "### It seems that maximum appearing Claim ID's are : \n",
    "1162926, 1159569, 1176159, 1194841, 1203331, 1212531, 1229473\n",
    "\n",
    "\n"
   ]
  },
  {
   "cell_type": "markdown",
   "metadata": {},
   "source": [
    "### Lets see more about these claim ID's :"
   ]
  },
  {
   "cell_type": "code",
   "execution_count": null,
   "metadata": {},
   "outputs": [],
   "source": [
    "claim_id_array =[1162926, 1159569, 1176159, 1194841, 1203331, 1212531, 1229473]\n",
    "max_claim = data.loc[data['Claim ID'].isin(claim_id_array)]\n",
    "max_claim"
   ]
  },
  {
   "cell_type": "code",
   "execution_count": null,
   "metadata": {
    "scrolled": true
   },
   "outputs": [],
   "source": [
    "max_claim.groupby(['Procedure Code', 'Claim ID']).sum()"
   ]
  },
  {
   "cell_type": "code",
   "execution_count": null,
   "metadata": {},
   "outputs": [],
   "source": [
    "fig= plt.figure(figsize=(20,8))\n",
    "sns.countplot(max_claim['Procedure Code'])\n",
    "plt.show()\n",
    "fig.savefig(\"Procedure_Code_Count.png\")"
   ]
  },
  {
   "cell_type": "markdown",
   "metadata": {},
   "source": [
    "## Analysis 2"
   ]
  },
  {
   "cell_type": "markdown",
   "metadata": {},
   "source": [
    "#### Find out Patient ID's who have late charges, and how much is the amount"
   ]
  },
  {
   "cell_type": "code",
   "execution_count": null,
   "metadata": {},
   "outputs": [],
   "source": [
    "data[data['Sum of Late Charges'] != 0]['Patient ID']"
   ]
  },
  {
   "cell_type": "code",
   "execution_count": null,
   "metadata": {},
   "outputs": [],
   "source": []
  }
 ],
 "metadata": {
  "kernelspec": {
   "display_name": "Python 3",
   "language": "python",
   "name": "python3"
  },
  "language_info": {
   "codemirror_mode": {
    "name": "ipython",
    "version": 3
   },
   "file_extension": ".py",
   "mimetype": "text/x-python",
   "name": "python",
   "nbconvert_exporter": "python",
   "pygments_lexer": "ipython3",
   "version": "3.7.0"
  }
 },
 "nbformat": 4,
 "nbformat_minor": 2
}
