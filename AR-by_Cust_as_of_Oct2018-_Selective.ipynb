{
 "cells": [
  {
   "cell_type": "code",
   "execution_count": null,
   "metadata": {},
   "outputs": [],
   "source": [
    "# import required packages/libraries\n",
    "import pandas as pd\n",
    "import numpy as np\n",
    "# read data into dataframe\n",
    "df =  pd.read_csv(\"../AR_Raw_Data/AR_Raw_Data_Oct2018_selective.csv\")\n",
    "# set option to display all columns in a dataframe \n",
    "pd.set_option('display.width', 200)\n",
    "pd.set_option('display.max_columns', None)\n",
    "\n",
    "# display first 5 rows in the dataframe\n",
    "df.head()"
   ]
  },
  {
   "cell_type": "code",
   "execution_count": null,
   "metadata": {},
   "outputs": [],
   "source": [
    "df.rename(columns={\n",
    "'adj total rvu':'Adj_Total_RVU',\n",
    "'type':'Trans_Type',\n",
    "'charge type':'Trans_Charge_Type',\n",
    "'trnsfr type':'Transfer_Type',\n",
    "'proccode-grp procedure clas...':'Proc_Classification',\n",
    "'ins pkg name':'Insurance_Pkg_Name',\n",
    "'ins pkg type':'Insurance_Pkg_Type',\n",
    "'proccode-grp':'Proc_Code_Group',\n",
    "'rndrng prvdr':'Rendering_Provider',\n",
    "'rndrng prvdrfullnme':'Rendering_Provider_Full_Name',\n",
    "'patient dprtmnt':'Patient_Dept',\n",
    "'svc dprtmnt':'Service_Dept',\n",
    "'svc dept bill name':'Service_Dept_Billing_Name',\n",
    "'icd10transactiondiagcode1':'ICD-10_Trans_Diagnosis_Code1',\n",
    "'icd9transactiondiagcode1':'ICD-9_Trans_Diagnosis_Code1',\n",
    "'patientid':'Patient_ID',\n",
    "'srvday':'Claim_Service_Day',\n",
    "'claimid':'Claim_ID',\n",
    "'transactivtyid':'Trans_ID',\n",
    "'postdate':'Trans_Post_Date',\n",
    "'trnsctn pstvd':'Trans_Post-Void',\n",
    "'createddate':'Trans_Charge_Created_Date' ,\n",
    "'chargeid':'Charge_ID',\n",
    "'chrg ln nt':'Charge_Line_Note',\n",
    "'proccode-descr':'Proc_Codes_with_desc',\n",
    "'avgpmt':'Avg_Payment' ,\n",
    "'allowed':'Sum_Actual_Allowed_Amts' ,\n",
    "'adjall':'Sum_All_Adjustments' ,\n",
    "'all chgs':'Sum_All_Charges' ,\n",
    "'recovery':'Sum_Collection_Recoveries',\n",
    "'current chg':'Sum_Current_Charges',\n",
    "'expected':'Sum_Expected_Allowed_Amounts',\n",
    "'late chg':'Sum_Late_Charges',\n",
    "'net pmt':'Sum_Net_Payments',\n",
    "'netreceivable':'Sum_Net_Receivable',\n",
    "'pmt':'Sum_Payments',\n",
    "'total rvu':'Total_RVU',\n",
    "'work rvu':'Work_RVU',\n",
    "'practice expense rvu':'Practice_Expense_RVU',\n",
    "'adj work rvu':'Adjusted_Work_RVU' ,\n",
    "\n",
    "    },\n",
    "    inplace=True)"
   ]
  },
  {
   "cell_type": "code",
   "execution_count": null,
   "metadata": {},
   "outputs": [],
   "source": [
    "df.head()"
   ]
  },
  {
   "cell_type": "code",
   "execution_count": null,
   "metadata": {},
   "outputs": [],
   "source": [
    "df.describe()"
   ]
  },
  {
   "cell_type": "code",
   "execution_count": null,
   "metadata": {},
   "outputs": [],
   "source": [
    "df.info()"
   ]
  },
  {
   "cell_type": "code",
   "execution_count": null,
   "metadata": {},
   "outputs": [],
   "source": [
    "pd.set_option('display.max_rows', 500)\n",
    "null_count = df.isnull().sum()\n",
    "print(null_count)"
   ]
  },
  {
   "cell_type": "code",
   "execution_count": null,
   "metadata": {},
   "outputs": [],
   "source": [
    "# importsome more packages/libraries\n",
    "import seaborn as sns\n",
    "import matplotlib.pyplot as plt\n",
    "fig = plt.figure(figsize=(50,30)) \n",
    "# play with the figsize until the plot is big enough to plot all the columns\n",
    "# of your dataset, or the way you desire it to look like otherwise\n",
    "\n",
    "#sns.heatmap(data.corr())\n",
    "\n",
    "# plot a heatmap to find out co relation matrix of clumns in the dataframe\n",
    "sns.heatmap(df.corr(), cmap='YlGn')\n",
    "plt.show()\n",
    "fig.savefig(\"Correlation.png\")"
   ]
  },
  {
   "cell_type": "code",
   "execution_count": null,
   "metadata": {},
   "outputs": [],
   "source": [
    "df.corr(method='pearson').style.format(\"{:.2}\").background_gradient(cmap=plt.get_cmap('coolwarm'), axis=1)"
   ]
  },
  {
   "cell_type": "code",
   "execution_count": null,
   "metadata": {},
   "outputs": [],
   "source": [
    "df.corr().unstack().sort_values().drop_duplicates()"
   ]
  },
  {
   "cell_type": "markdown",
   "metadata": {},
   "source": [
    "## From above matix we can see that:\n",
    "\n",
    "    Sum_Net_Receivable\n",
    "    Sum_Expected_Allowed_Amounts\n",
    "    Sum_All_Charges\n",
    "    Adjusted_Work_RVU\n",
    "    Practice_Expense_RVU\n",
    "    Sum_Current_Charges\n",
    "    Work_RVU\n",
    "    Total_RVU\n",
    "    Sum_All_Adjustments\n",
    "    Sum_Payments\n",
    "    Patient Enterprise_ID\n",
    "\n",
    "## Have greater co-relation >0.5\n"
   ]
  },
  {
   "cell_type": "code",
   "execution_count": null,
   "metadata": {},
   "outputs": [],
   "source": [
    "median_adj_total_rvu = df['Adj_Total_RVU'].median()\n",
    "df['Adj_Total_RVU']=df['Adj_Total_RVU'].fillna(median_adj_total_rvu)"
   ]
  },
  {
   "cell_type": "code",
   "execution_count": null,
   "metadata": {},
   "outputs": [],
   "source": [
    "median_total_rvu = df['Total_RVU'].median()\n",
    "df['Total_RVU']=df['Total_RVU'].fillna(median_total_rvu)"
   ]
  },
  {
   "cell_type": "code",
   "execution_count": null,
   "metadata": {},
   "outputs": [],
   "source": [
    "median_work_rvu = df['Work_RVU'].median()\n",
    "df['Work_RVU']=df['Work_RVU'].fillna(median_work_rvu)"
   ]
  },
  {
   "cell_type": "code",
   "execution_count": null,
   "metadata": {},
   "outputs": [],
   "source": [
    "median_practice_expense_rvu = df['Practice_Expense_RVU'].median()\n",
    "df['Practice_Expense_RVU']=df['Practice_Expense_RVU'].fillna(median_practice_expense_rvu)"
   ]
  },
  {
   "cell_type": "code",
   "execution_count": null,
   "metadata": {},
   "outputs": [],
   "source": [
    "median_adjusted_work_rvu = df['Adjusted_Work_RVU'].median()\n",
    "df['Adjusted_Work_RVU']=df['Adjusted_Work_RVU'].fillna(median_adjusted_work_rvu)"
   ]
  },
  {
   "cell_type": "code",
   "execution_count": null,
   "metadata": {},
   "outputs": [],
   "source": [
    "df.isnull().sum()"
   ]
  },
  {
   "cell_type": "code",
   "execution_count": null,
   "metadata": {},
   "outputs": [],
   "source": [
    "df.to_csv('../AR_Raw_Data/Updated_AR_Raw_Data_Oct2018_Selective.csv',index=False)"
   ]
  },
  {
   "cell_type": "code",
   "execution_count": null,
   "metadata": {},
   "outputs": [],
   "source": [
    "df['AR Balances']=df['Sum_All_Charges']- (df['Sum_All_Adjustments'] + df['Sum_Net_Payments'])"
   ]
  },
  {
   "cell_type": "code",
   "execution_count": null,
   "metadata": {},
   "outputs": [],
   "source": [
    "df.info()"
   ]
  },
  {
   "cell_type": "code",
   "execution_count": null,
   "metadata": {},
   "outputs": [],
   "source": [
    "df.head()"
   ]
  },
  {
   "cell_type": "code",
   "execution_count": null,
   "metadata": {},
   "outputs": [],
   "source": [
    "df_AR= df['Service_Dept_Billing_Name','AR Balances']"
   ]
  },
  {
   "cell_type": "code",
   "execution_count": null,
   "metadata": {},
   "outputs": [],
   "source": []
  },
  {
   "cell_type": "code",
   "execution_count": null,
   "metadata": {},
   "outputs": [],
   "source": []
  }
 ],
 "metadata": {
  "kernelspec": {
   "display_name": "Python 3",
   "language": "python",
   "name": "python3"
  },
  "language_info": {
   "codemirror_mode": {
    "name": "ipython",
    "version": 3
   },
   "file_extension": ".py",
   "mimetype": "text/x-python",
   "name": "python",
   "nbconvert_exporter": "python",
   "pygments_lexer": "ipython3",
   "version": "3.7.0"
  }
 },
 "nbformat": 4,
 "nbformat_minor": 2
}
