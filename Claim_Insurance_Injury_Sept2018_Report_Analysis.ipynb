{
 "cells": [
  {
   "cell_type": "code",
   "execution_count": null,
   "metadata": {},
   "outputs": [],
   "source": [
    "# import required packages/libraries\n",
    "import pandas as pd\n",
    "import numpy as np\n",
    "# read data into dataframe\n",
    "df =  pd.read_csv(\"../Claim_Insurance_Injury_Sept2018_Report.csv\")"
   ]
  },
  {
   "cell_type": "code",
   "execution_count": null,
   "metadata": {
    "scrolled": true
   },
   "outputs": [],
   "source": [
    "df.head()"
   ]
  },
  {
   "cell_type": "code",
   "execution_count": null,
   "metadata": {},
   "outputs": [],
   "source": [
    "df.rename(columns={'patientid':'Patient ID',\n",
    "'claimid':'Claim ID',\n",
    "'srvday':'Claim Service Day',\n",
    "'svc dprtmnt':'Service Department',\n",
    "'visitbypanel':'Visits by Panel (#)',\n",
    "'visitwithusualprovider':'Visit With Usual Provider (#)',\n",
    "'visitwithanotherprovider':'Visit With Another Provider (#)',\n",
    "'net pmt':'Sum of Net Payments ($)',\n",
    "'all chgs':'Sum of All Charges ($)',\n",
    "'clm cnt':'Count of Claims (#)',\n",
    "'rndrng prvdr':'Rendering Provider',\n",
    "'patientinspcprvdr':'Patient Insurance Primary Care Provider',\n",
    "'patientinspcprvdrfrstnme':'Patient Insurance Primary Care Provider First Name',\n",
    "'patientinspcprvdrlstnme':'Patient Insurance Primary Care Provider Last Name',\n",
    "'patientinspcprvdrid':'Patient Insurance Primary Care Provider ID',\n",
    "'patientinspcprvdr state':'Patient Insurance Primary Care Provider State',\n",
    "'patientinspcprvdr city':'Patient Insurance Primary Care Provider City',\n",
    "'patientinspcprvdr zip':'Patient Insurance Primary Care Provider Zip',\n",
    "'patientinsrefprvdr':'Patient Insurance Referring Provider',\n",
    "'patientinsrefprvdrid':'Patient Insurance Referring Provider ID',\n",
    "'patientinsrefprvdrfrstnme':'Patient Insurance Referring Provider First Name',\n",
    "'patientinsrefprvdrlstnme':'Patient Insurance Referring Provider Last Name',\n",
    "'patientinsrefprvdr state':'Patient Insurance Referring Provider State',\n",
    "'patientinsrefprvdr city':'Patient Insurance Referring Provider City',\n",
    "'patientinsrefprvdr zip':'Patient Insurance Referring Provider Zip',\n",
    "'patient ins pkg id':'Patient Insurance Package ID',\n",
    "'patient ins pkg name':'Patient Insurance Package Name',\n",
    "'patient ins pkg type':'Patient Insurance Package Type',\n",
    "'patient ins injury desc':'Patient Insurance Injury Description',\n",
    "'patient ins injrd body part':'Patient Insurance Injured Body Part',\n",
    "     },\n",
    "    inplace=True)"
   ]
  },
  {
   "cell_type": "code",
   "execution_count": null,
   "metadata": {},
   "outputs": [],
   "source": [
    "# set option to display all columns in a dataframe \n",
    "pd.set_option('display.width', 200)\n",
    "pd.set_option('display.max_columns', None)\n",
    "\n",
    "# display first 5 rows in the dataframe\n",
    "df.head()"
   ]
  },
  {
   "cell_type": "code",
   "execution_count": null,
   "metadata": {},
   "outputs": [],
   "source": [
    "df.info()"
   ]
  },
  {
   "cell_type": "code",
   "execution_count": null,
   "metadata": {},
   "outputs": [],
   "source": [
    "df.isnull().sum()"
   ]
  },
  {
   "cell_type": "markdown",
   "metadata": {},
   "source": [
    "## From above we can see there are lots of columns with Missing data\n",
    "Lets keep it as it is and create heatmap to find out co relation first"
   ]
  },
  {
   "cell_type": "code",
   "execution_count": null,
   "metadata": {},
   "outputs": [],
   "source": [
    "# importsome more packages/libraries\n",
    "import seaborn as sns\n",
    "import matplotlib.pyplot as plt\n",
    "plt.figure(figsize=(20,10)) \n",
    "# play with the figsize until the plot is big enough to plot all the columns\n",
    "# of your dataset, or the way you desire it to look like otherwise\n",
    "\n",
    "#sns.heatmap(data.corr())\n",
    "\n",
    "# plot a heatmap to find out co relation matrix of clumns in the dataframe\n",
    "sns.heatmap(df.corr(), cmap='YlGn')\n",
    "plt.show()"
   ]
  },
  {
   "cell_type": "markdown",
   "metadata": {},
   "source": [
    "### from above we can see couple of variables have good co relation amongst themselves like:\n",
    "    - Visit By Panel is corelated to Sum of All Charges,Visit With usual Provider and Visit with ANother Provider, viceversa\n",
    "    \n",
    "    \n",
    "    "
   ]
  },
  {
   "cell_type": "markdown",
   "metadata": {},
   "source": [
    "#### Lets see Visit By Panel distrbution"
   ]
  },
  {
   "cell_type": "code",
   "execution_count": null,
   "metadata": {},
   "outputs": [],
   "source": [
    "fig= plt.figure(figsize=(40,20))\n",
    "sns.countplot(data= df, y ='Visits by Panel (#)').set_title(\"Visit by Panel Count\")\n",
    "sns.set(font_scale=3)\n",
    "plt.show()\n",
    "fig.savefig(\"Visit_by_Panel_Count.png\")"
   ]
  },
  {
   "cell_type": "code",
   "execution_count": null,
   "metadata": {},
   "outputs": [],
   "source": [
    "import matplotlib.pyplot as mpl\n",
    "mpl.rcParams['font.size'] = 4\n",
    "df['Visits by Panel (#)'].value_counts()[:20].plot(kind='barh')\n",
    "    "
   ]
  },
  {
   "cell_type": "code",
   "execution_count": null,
   "metadata": {},
   "outputs": [],
   "source": []
  }
 ],
 "metadata": {
  "kernelspec": {
   "display_name": "Python 3",
   "language": "python",
   "name": "python3"
  },
  "language_info": {
   "codemirror_mode": {
    "name": "ipython",
    "version": 3
   },
   "file_extension": ".py",
   "mimetype": "text/x-python",
   "name": "python",
   "nbconvert_exporter": "python",
   "pygments_lexer": "ipython3",
   "version": "3.7.0"
  }
 },
 "nbformat": 4,
 "nbformat_minor": 2
}
