{
 "cells": [
  {
   "cell_type": "code",
   "execution_count": null,
   "metadata": {},
   "outputs": [],
   "source": [
    "# import required packages/libraries\n",
    "import pandas as pd\n",
    "import numpy as np\n",
    "import os\n",
    "\n",
    "# Path to the data directory into which the cleaned data is saved.\n",
    "csv_file_path = os.path.join(\"..\", \"Allowable\", \"Jan-2018.csv\")\n",
    "#csv_file_path_1 = os.path.join(\"..\", \"EOC_Raw_Data\", \"EOC_Data_2018.csv\")\n",
    "if not os.path.exists(csv_file_path):\n",
    "    print(\"{} doesn't exist - perhaps the data cleaning script needs to be run?\".format(csv_file_path))\n",
    "\n",
    "# set option to display all columns in a dataframe \n",
    "pd.set_option('display.width', 500)\n",
    "pd.set_option('display.max_columns', None)"
   ]
  },
  {
   "cell_type": "code",
   "execution_count": null,
   "metadata": {},
   "outputs": [],
   "source": [
    "# read data into dataframe\n",
    "df = pd.read_csv(csv_file_path, quoting=2, parse_dates=True, infer_datetime_format=True, encoding=\"UTF-8\",low_memory=False, skiprows=1)\n",
    "#df_2018 = pd.read_csv(csv_file_path_1, quoting=2, parse_dates=True, infer_datetime_format=True, encoding=\"UTF-8\",low_memory=False)\n",
    "\n",
    "# display first 5 rows in the dataframe\n",
    "df.head()"
   ]
  },
  {
   "cell_type": "code",
   "execution_count": null,
   "metadata": {},
   "outputs": [],
   "source": [
    "df.rename(columns={\n",
    "'claimid':'Claim_ID',\n",
    "'srvday':'Claim_Service_Day',\n",
    "'rndrng prvdr':'Rendering_Provider',\n",
    "'rndrng prvdrfullnme':'Rendering_Provider_Name',\n",
    "'rndrng prvdrlstnme':'Rendering_Provider_LastName',\n",
    "'svc dprtmnt':'Service_Dept',\n",
    "'appttype':'Appt_Type',\n",
    "'patientid':'Patient_ID',\n",
    "'ins pkg name':'Ins_Pkg_Name',\n",
    "'primary clm ins pkg name':'Primary_Claim_Ins_Pkg_Name',\n",
    "'secondary clm ins pkg name':'Secondary_Claim_Ins_Pkg_Name',\n",
    "'proccode-descr':'Procedure_Codes_with_desc',\n",
    "'proccode-grp procedure clas...':'Proc_Clas',    \n",
    "'icd10claimdiagcode01':'Primary_Diagnosis_10', \n",
    "'icd10claimdiagcode02':'ICD-10_Claim_Diagnosis_Code02',\n",
    "'icd10claimdiagcode03':'ICD-10_Claim_Diagnosis_Code03',\n",
    "'icd10claimdiagcode04':'ICD-10_Claim_Diagnosis_Code04',\n",
    "'icd10claimdiagcode05':'ICD-10_Claim_Diagnosis_Code05',\n",
    "'icd10claimdiagcode06':'ICD-10_Claim_Diagnosis_Code06',\n",
    "'icd10claimdiagcode07':'ICD-10_Claim_Diagnosis_Code07',\n",
    "'icd10claimdiagcode08':'ICD-10_Claim_Diagnosis_Code08',\n",
    "'icd10claimdiagcode09':'ICD-10_Claim_Diagnosis_Code09',\n",
    "'icd10claimdiagcode10':'ICD-10_Claim_Diagnosis_Code010',\n",
    "'icd10claimdiagcode11':'ICD-10_Claim_Diagnosis_Code011',\n",
    "'icd10claimdiagcode12':'ICD-10_Claim_Diagnosis_Code012',\n",
    "'icd9claimdiagcode01':'Primary_Diagnosis_9',\n",
    "'icd9claimdiagcode02':'ICD-9_Claim_Diagnosis_Code02',\n",
    "'icd9claimdiagcode03':'ICD-9_Claim_Diagnosis_Code03',\n",
    "'icd9claimdiagcode04':'ICD-9_Claim_Diagnosis_Code04',\n",
    "'chg units sum':'Sum_Charge_Units',\n",
    "'#chg':'Sum_Charges',\n",
    "'net pmt':'Sum_Net_Payments',\n",
    "'all chgs':'Sum_All_Charges',\n",
    "'contract':'Sum_Contractual_Adj',\n",
    "'allowed':'Sum_Actual_Allowed_Amts',\n",
    "'expected':'Sum_Expected_Allowed_Amts',\n",
    "'allow diff':'Sum_Allowable_Diff',\n",
    "'pmt':'Sum_Payments',\n",
    "'trnsfr type':'Transfer_Type',\n",
    "'adjall':'Sum_All_Adj',\n",
    "'current chg':'Current_Charge'\n",
    "    },\n",
    "    inplace=True)"
   ]
  },
  {
   "cell_type": "code",
   "execution_count": null,
   "metadata": {},
   "outputs": [],
   "source": [
    "df.head()"
   ]
  },
  {
   "cell_type": "code",
   "execution_count": null,
   "metadata": {
    "scrolled": true
   },
   "outputs": [],
   "source": [
    "df.info()"
   ]
  },
  {
   "cell_type": "code",
   "execution_count": null,
   "metadata": {},
   "outputs": [],
   "source": [
    "df.describe()"
   ]
  },
  {
   "cell_type": "code",
   "execution_count": null,
   "metadata": {},
   "outputs": [],
   "source": [
    "df.isnull().sum()"
   ]
  },
  {
   "cell_type": "code",
   "execution_count": null,
   "metadata": {},
   "outputs": [],
   "source": [
    "#(df_2017['Transfer_Type'] == 'trnsfr type').count()"
   ]
  },
  {
   "cell_type": "code",
   "execution_count": null,
   "metadata": {},
   "outputs": [],
   "source": [
    "df['Proc_Code1'], df['Proc_Desc'] = df['Procedure_Codes_with_desc'].str.split(':', 1).str"
   ]
  },
  {
   "cell_type": "code",
   "execution_count": null,
   "metadata": {},
   "outputs": [],
   "source": [
    "df['Proc_Code']= df['Proc_Code1'].str.split(',').str[0]"
   ]
  },
  {
   "cell_type": "code",
   "execution_count": null,
   "metadata": {},
   "outputs": [],
   "source": [
    "df['Transfer_Type'].unique()"
   ]
  },
  {
   "cell_type": "code",
   "execution_count": null,
   "metadata": {},
   "outputs": [],
   "source": [
    "df['Primary_Claim_Ins_Pkg_Name'].unique()"
   ]
  },
  {
   "cell_type": "code",
   "execution_count": null,
   "metadata": {},
   "outputs": [],
   "source": [
    "df_medicare = df[(df['Primary_Claim_Ins_Pkg_Name'].str.contains(\"Medicare\")) | (df['Primary_Claim_Ins_Pkg_Name'].str.contains(\"Medicaid\"))]"
   ]
  },
  {
   "cell_type": "code",
   "execution_count": null,
   "metadata": {},
   "outputs": [],
   "source": [
    "df_medicare[\"Primary_Claim_Ins_Pkg_Name\"].unique()"
   ]
  },
  {
   "cell_type": "code",
   "execution_count": null,
   "metadata": {},
   "outputs": [],
   "source": [
    "#df_filtered = df_medicare[(~df_medicare['Primary_Claim_Ins_Pkg_Name'].str.startswith(\"WellCare\")) | (~df_medicare['Primary_Claim_Ins_Pkg_Name'].str.startswith(\"Horizon NJ Health\"))]"
   ]
  },
  {
   "cell_type": "code",
   "execution_count": null,
   "metadata": {},
   "outputs": [],
   "source": [
    "df_filtered = df_medicare [['Claim_ID','Rendering_Provider_LastName','Primary_Claim_Ins_Pkg_Name','Proc_Code','Sum_Charge_Units']]"
   ]
  },
  {
   "cell_type": "code",
   "execution_count": null,
   "metadata": {},
   "outputs": [],
   "source": [
    "df_filtered "
   ]
  },
  {
   "cell_type": "code",
   "execution_count": null,
   "metadata": {},
   "outputs": [],
   "source": [
    "df_filtered['Primary_Claim_Ins_Pkg_Name'].unique()"
   ]
  },
  {
   "cell_type": "code",
   "execution_count": null,
   "metadata": {},
   "outputs": [],
   "source": [
    "#csv_file_path = os.path.join(\"..\", \"Allowable\", \"Physician_List.csv\")\n",
    "#df_Phyisician = pd.read_csv(csv_file_path, quoting=2, parse_dates=True, infer_datetime_format=True, encoding=\"UTF-8\",low_memory=False)"
   ]
  },
  {
   "cell_type": "code",
   "execution_count": null,
   "metadata": {},
   "outputs": [],
   "source": [
    "#df_Phyisician"
   ]
  },
  {
   "cell_type": "code",
   "execution_count": null,
   "metadata": {},
   "outputs": [],
   "source": [
    "#df_filtered_BCBS = df_filtered[df_filtered['Primary_Claim_Ins_Pkg_Name'].str.contains(\"BCBS\")]"
   ]
  },
  {
   "cell_type": "code",
   "execution_count": null,
   "metadata": {},
   "outputs": [],
   "source": [
    "#df_filtered_BCBS"
   ]
  },
  {
   "cell_type": "code",
   "execution_count": null,
   "metadata": {},
   "outputs": [],
   "source": [
    "df_filtered=df_filtered.apply(lambda x: x.str.title() if(x.dtype == 'object') else x)"
   ]
  },
  {
   "cell_type": "code",
   "execution_count": null,
   "metadata": {},
   "outputs": [],
   "source": [
    "#list = df_Phyisician['BCBS']"
   ]
  },
  {
   "cell_type": "code",
   "execution_count": null,
   "metadata": {},
   "outputs": [],
   "source": [
    "#def set_type(row):\n",
    "    #if row[\"Rendering_Provider_LastName\"] in {'Cohen','Cummins','Feiner','Hahn','Harris','Ho','Kim','Madreperla','Noorily','Seery','Voleti','Mughal','Chinskey','Fine','Friedman','Green','Keyser','Krawitz','Mantopoulos','Prenner','Roth','Shah','Wheatley','Yarian'}:\n",
    "        #return \"PAR\"\n",
    "    #else:\n",
    "        #return \"NON-PAR\"\n",
    "\n",
    "#df_filtered_BCBS = df_filtered_BCBS.assign(Type=df_filtered_BCBS.apply(set_type, axis=1))\n",
    "\n",
    "        "
   ]
  },
  {
   "cell_type": "code",
   "execution_count": null,
   "metadata": {},
   "outputs": [],
   "source": [
    "df_filtered"
   ]
  },
  {
   "cell_type": "code",
   "execution_count": null,
   "metadata": {},
   "outputs": [],
   "source": [
    "# Path to the data directory into which the cleaned data is saved.\n",
    "csv_file_path = os.path.join(\"..\", \"Allowable\", \"Medicare_2018.csv\")\n",
    "#csv_file_path_1 = os.path.join(\"..\", \"EOC_Raw_Data\", \"EOC_Data_2018.csv\")\n",
    "if not os.path.exists(csv_file_path):\n",
    "    print(\"{} doesn't exist - perhaps the data cleaning script needs to be run?\".format(csv_file_path))\n",
    "# read data into dataframe\n",
    "df_fee_schedules = pd.read_csv(csv_file_path, quoting=2, parse_dates=True, infer_datetime_format=True, encoding=\"UTF-8\",low_memory=False)"
   ]
  },
  {
   "cell_type": "code",
   "execution_count": null,
   "metadata": {},
   "outputs": [],
   "source": [
    "df_fee_schedules.head()"
   ]
  },
  {
   "cell_type": "code",
   "execution_count": null,
   "metadata": {},
   "outputs": [],
   "source": [
    "df_fee_schedules=df_fee_schedules.drop_duplicates(subset=['PROC CODE'], keep='first')"
   ]
  },
  {
   "cell_type": "code",
   "execution_count": null,
   "metadata": {},
   "outputs": [],
   "source": [
    "df_fee_schedules"
   ]
  },
  {
   "cell_type": "code",
   "execution_count": null,
   "metadata": {},
   "outputs": [],
   "source": [
    "df_fee_schedules=df_fee_schedules.rename(columns = {'PROC CODE':'Proc_Code','PAR FEE':'PAR_FEE'})"
   ]
  },
  {
   "cell_type": "code",
   "execution_count": null,
   "metadata": {},
   "outputs": [],
   "source": [
    "df_fee_schedules.dtypes"
   ]
  },
  {
   "cell_type": "code",
   "execution_count": null,
   "metadata": {},
   "outputs": [],
   "source": [
    "df_filtered.dtypes"
   ]
  },
  {
   "cell_type": "code",
   "execution_count": null,
   "metadata": {},
   "outputs": [],
   "source": [
    "df_filtered_New= (df_filtered.groupby(['Claim_ID','Proc_Code','Primary_Claim_Ins_Pkg_Name'])\n",
    "    .agg({'Sum_Charge_Units':'sum',\n",
    "          })\n",
    "    .reset_index()\n",
    "                 )"
   ]
  },
  {
   "cell_type": "code",
   "execution_count": null,
   "metadata": {},
   "outputs": [],
   "source": [
    "df_filtered_New"
   ]
  },
  {
   "cell_type": "code",
   "execution_count": null,
   "metadata": {},
   "outputs": [],
   "source": [
    "df_filtered_New['Proc_Code'].unique()"
   ]
  },
  {
   "cell_type": "code",
   "execution_count": null,
   "metadata": {},
   "outputs": [],
   "source": [
    "df_filtered_New = df_filtered_New.merge(df_fee_schedules, how='left')"
   ]
  },
  {
   "cell_type": "code",
   "execution_count": null,
   "metadata": {},
   "outputs": [],
   "source": [
    "df_filtered_New.columns"
   ]
  },
  {
   "cell_type": "code",
   "execution_count": null,
   "metadata": {},
   "outputs": [],
   "source": [
    "df_filtered_New= df_filtered_New[['Claim_ID', 'Proc_Code', 'Primary_Claim_Ins_Pkg_Name','Sum_Charge_Units','MODIFIER', 'PAR_FEE']]"
   ]
  },
  {
   "cell_type": "code",
   "execution_count": null,
   "metadata": {},
   "outputs": [],
   "source": [
    "df_filtered_New"
   ]
  },
  {
   "cell_type": "code",
   "execution_count": null,
   "metadata": {},
   "outputs": [],
   "source": [
    "df_filtered_New['Primary_Claim_Ins_Pkg_Name'].unique()"
   ]
  },
  {
   "cell_type": "code",
   "execution_count": null,
   "metadata": {},
   "outputs": [],
   "source": [
    "df_filtered_New=df_filtered_New[df_filtered_New['PAR_FEE'].notnull()]"
   ]
  },
  {
   "cell_type": "code",
   "execution_count": null,
   "metadata": {},
   "outputs": [],
   "source": [
    "df_filtered_New"
   ]
  },
  {
   "cell_type": "code",
   "execution_count": null,
   "metadata": {},
   "outputs": [],
   "source": [
    "df_filtered_New.to_csv(\"../Allowable/Fees.csv\",index=False)"
   ]
  },
  {
   "cell_type": "code",
   "execution_count": null,
   "metadata": {},
   "outputs": [],
   "source": [
    "# Path to the data directory into which the cleaned data is saved.\n",
    "csv_file_path = os.path.join(\"..\", \"Allowable\", \"Contracts_Rates.csv\")\n",
    "#csv_file_path_1 = os.path.join(\"..\", \"EOC_Raw_Data\", \"EOC_Data_2018.csv\")\n",
    "if not os.path.exists(csv_file_path):\n",
    "    print(\"{} doesn't exist - perhaps the data cleaning script needs to be run?\".format(csv_file_path))\n",
    "# read data into dataframe\n",
    "df_contracts =  pd.read_csv(csv_file_path, quoting=2, parse_dates=True, infer_datetime_format=True, encoding=\"UTF-8\",low_memory=False)\n"
   ]
  },
  {
   "cell_type": "code",
   "execution_count": null,
   "metadata": {},
   "outputs": [],
   "source": [
    "df_contracts"
   ]
  },
  {
   "cell_type": "code",
   "execution_count": null,
   "metadata": {},
   "outputs": [],
   "source": [
    "df_contracts"
   ]
  },
  {
   "cell_type": "code",
   "execution_count": null,
   "metadata": {},
   "outputs": [],
   "source": [
    "df_contracts.to_csv(\"../Allowable/Contracts.csv\",index=False)"
   ]
  },
  {
   "cell_type": "code",
   "execution_count": null,
   "metadata": {},
   "outputs": [],
   "source": [
    "df_contracts.dtypes"
   ]
  },
  {
   "cell_type": "code",
   "execution_count": null,
   "metadata": {},
   "outputs": [],
   "source": [
    "df_filtered_New = df_filtered_New.merge(df_contracts,left_on='Primary_Claim_Ins_Pkg_Name',right_on='Primary_Ins_Package_Name',how='left')"
   ]
  },
  {
   "cell_type": "code",
   "execution_count": null,
   "metadata": {},
   "outputs": [],
   "source": [
    "df_filtered_New"
   ]
  },
  {
   "cell_type": "code",
   "execution_count": null,
   "metadata": {},
   "outputs": [],
   "source": [
    "df_filtered_New=df_filtered_New[df_filtered_New['Rate'].notnull()]"
   ]
  },
  {
   "cell_type": "code",
   "execution_count": null,
   "metadata": {},
   "outputs": [],
   "source": [
    "def calc_par_fee(column): \n",
    "    if column['Rate'] != 'NaN' :\n",
    "        return (column['PAR_FEE'] * column['Rate'])\n",
    "    else :\n",
    "        return 0"
   ]
  },
  {
   "cell_type": "code",
   "execution_count": null,
   "metadata": {},
   "outputs": [],
   "source": [
    "df_filtered_New['Calc_Contract_Value'] = df_filtered_New.apply(calc_par_fee, axis=1) "
   ]
  },
  {
   "cell_type": "code",
   "execution_count": null,
   "metadata": {},
   "outputs": [],
   "source": [
    "df_filtered_New"
   ]
  },
  {
   "cell_type": "code",
   "execution_count": null,
   "metadata": {},
   "outputs": [],
   "source": [
    "def exp_allow(column): \n",
    "    if column['Calc_Contract_Value'] != 0 :\n",
    "        return (column['Calc_Contract_Value'] * column['Sum_Charge_Units'])\n",
    "    else :\n",
    "        return 0"
   ]
  },
  {
   "cell_type": "code",
   "execution_count": null,
   "metadata": {},
   "outputs": [],
   "source": [
    "df_filtered_New['Calc_Expected_Allowable'] = df_filtered_New.apply(exp_allow, axis=1) "
   ]
  },
  {
   "cell_type": "code",
   "execution_count": null,
   "metadata": {},
   "outputs": [],
   "source": [
    "df_filtered_New"
   ]
  },
  {
   "cell_type": "code",
   "execution_count": null,
   "metadata": {},
   "outputs": [],
   "source": [
    "df.columns"
   ]
  },
  {
   "cell_type": "code",
   "execution_count": null,
   "metadata": {},
   "outputs": [],
   "source": [
    "df = df[['Claim_ID','Proc_Code','Sum_Actual_Allowed_Amts','Sum_All_Charges','Sum_Net_Payments','Sum_Expected_Allowed_Amts']]"
   ]
  },
  {
   "cell_type": "code",
   "execution_count": null,
   "metadata": {},
   "outputs": [],
   "source": [
    "df_Calc_AR =  df_filtered_New.merge(df, how='left', on=['Claim_ID','Proc_Code'])"
   ]
  },
  {
   "cell_type": "code",
   "execution_count": null,
   "metadata": {},
   "outputs": [],
   "source": [
    "df_Calc_AR "
   ]
  },
  {
   "cell_type": "code",
   "execution_count": null,
   "metadata": {},
   "outputs": [],
   "source": [
    "df_Calc_AR  = df_Calc_AR .drop(df_Calc_AR[df_Calc_AR.Sum_Net_Payments == 0].index)\n",
    "df_Calc_AR  = df_Calc_AR .drop(df_Calc_AR[df_Calc_AR.Sum_All_Charges == 0].index)"
   ]
  },
  {
   "cell_type": "code",
   "execution_count": null,
   "metadata": {},
   "outputs": [],
   "source": [
    "def ar_actual(column): \n",
    "        return ((column['Sum_All_Charges'] - column['Sum_Expected_Allowed_Amts'])-(-column['Sum_Net_Payments']))\n"
   ]
  },
  {
   "cell_type": "code",
   "execution_count": null,
   "metadata": {},
   "outputs": [],
   "source": [
    "df_Calc_AR['Actual_AR'] = df_Calc_AR.apply(ar_actual, axis=1) "
   ]
  },
  {
   "cell_type": "code",
   "execution_count": null,
   "metadata": {},
   "outputs": [],
   "source": [
    "def ar_calc(column): \n",
    "        return ((column['Sum_All_Charges'] - column['Calc_Expected_Allowable'])- (-column['Sum_Net_Payments']))\n"
   ]
  },
  {
   "cell_type": "code",
   "execution_count": null,
   "metadata": {},
   "outputs": [],
   "source": [
    "df_Calc_AR['Calc_AR'] = df_Calc_AR.apply(ar_calc, axis=1)"
   ]
  },
  {
   "cell_type": "code",
   "execution_count": null,
   "metadata": {},
   "outputs": [],
   "source": [
    "df_Calc_AR "
   ]
  },
  {
   "cell_type": "code",
   "execution_count": null,
   "metadata": {},
   "outputs": [],
   "source": [
    "total = df_Calc_AR.apply(np.sum)\n",
    "total['Primary_Claim_Ins_Pkg_Name'] = 'Total'\n",
    "df_Calc_AR_New= df_Calc_AR.append(pd.DataFrame(total.values, index=total.keys()).T, ignore_index=True)"
   ]
  },
  {
   "cell_type": "code",
   "execution_count": null,
   "metadata": {},
   "outputs": [],
   "source": [
    "df_Calc_AR_New.columns"
   ]
  },
  {
   "cell_type": "code",
   "execution_count": null,
   "metadata": {},
   "outputs": [],
   "source": [
    "df_Calc_AR_New=df_Calc_AR_New[['Claim_ID', 'Proc_Code', 'Primary_Claim_Ins_Pkg_Name', 'Sum_Charge_Units', 'MODIFIER', 'PAR_FEE', 'Rate', 'Calc_Contract_Value', 'Calc_Expected_Allowable', 'Sum_Actual_Allowed_Amts', 'Sum_All_Charges', 'Sum_Net_Payments', 'Sum_Expected_Allowed_Amts', 'Actual_AR', 'Calc_AR']]"
   ]
  },
  {
   "cell_type": "code",
   "execution_count": null,
   "metadata": {},
   "outputs": [],
   "source": [
    "df_Calc_AR_New.to_csv(\"../Allowable/Report_Calc_AR.csv\",index=False)"
   ]
  },
  {
   "cell_type": "code",
   "execution_count": null,
   "metadata": {},
   "outputs": [],
   "source": []
  }
 ],
 "metadata": {
  "kernelspec": {
   "display_name": "Python 3",
   "language": "python",
   "name": "python3"
  },
  "language_info": {
   "codemirror_mode": {
    "name": "ipython",
    "version": 3
   },
   "file_extension": ".py",
   "mimetype": "text/x-python",
   "name": "python",
   "nbconvert_exporter": "python",
   "pygments_lexer": "ipython3",
   "version": "3.7.0"
  }
 },
 "nbformat": 4,
 "nbformat_minor": 2
}
