{
 "cells": [
  {
   "cell_type": "code",
   "execution_count": null,
   "metadata": {},
   "outputs": [],
   "source": [
    "# import required packages/libraries\n",
    "import pandas as pd\n",
    "import numpy as np\n",
    "# read data into dataframe\n",
    "df =  pd.read_csv(\"../Claim_Report_Sept2018.csv\")"
   ]
  },
  {
   "cell_type": "code",
   "execution_count": null,
   "metadata": {},
   "outputs": [],
   "source": [
    "df.head()"
   ]
  },
  {
   "cell_type": "markdown",
   "metadata": {},
   "source": [
    "### First thing need to rename the columns to get better understanding of attributes"
   ]
  },
  {
   "cell_type": "code",
   "execution_count": null,
   "metadata": {},
   "outputs": [],
   "source": [
    "df.rename(columns={'claimid':'Claim ID',\n",
    "    'clm mspinsurancetypecode': 'Claim MSPQ Insurance Type Code', \n",
    "    'clm mspinsurancetypename':'Claim MSPQ Insurance Type Name',\n",
    "    'srvday':'Claim Service Day',\n",
    "    'srvmnth': 'Claim Service Month',\n",
    "    'patient status':'Patient Claim Status',\n",
    "    'prmry clm dgnss cd st':'Primary Claim Diagnosis Code Set',\n",
    "    'primary status':'Primary Claim Status',\n",
    "    'prmry clm typ':'Primary Claim Type',\n",
    "    'pri clm sbmssn cnt':'Primary Claim Submission Count',\n",
    "    'scndry clm dgnss cd st':'Secondary Claim Diagnosis Code Set',\n",
    "    'secondary status':'Secondary Claim Status',\n",
    "    'scndry clm typ':'Secondary Claim Type',\n",
    "    'sec clm sbmssn cnt':'Secondary Claim Submission Count',\n",
    "    'patient age':'Patient Age',\n",
    "    'ptnt age mnths': 'Patient Age (Months)',\n",
    "    'patientdob':'Patient Date of Birth',\n",
    "    'patientid':'Patient ID',\n",
    "    'patient name':'Patient Name',\n",
    "    'race':'Patient Race',\n",
    "    'pat sex orientation':'Patient Sexual Orientation',\n",
    "    'patient state':'Patient State',\n",
    "    'patient city':'Patient City',\n",
    "    'status':'Patient Status',\n",
    "     },\n",
    "    inplace=True)"
   ]
  },
  {
   "cell_type": "code",
   "execution_count": null,
   "metadata": {},
   "outputs": [],
   "source": [
    "df.head()"
   ]
  },
  {
   "cell_type": "markdown",
   "metadata": {},
   "source": [
    "### Now it looks better, lets go ahead and see data types aand total number of records"
   ]
  },
  {
   "cell_type": "code",
   "execution_count": null,
   "metadata": {},
   "outputs": [],
   "source": [
    "df.info()"
   ]
  },
  {
   "cell_type": "markdown",
   "metadata": {},
   "source": [
    "#### So total records are approx 11112 and datatypes are float. Lets explore further and see how many missing values are resent for each column"
   ]
  },
  {
   "cell_type": "code",
   "execution_count": null,
   "metadata": {
    "scrolled": true
   },
   "outputs": [],
   "source": [
    "df.isnull().sum()"
   ]
  },
  {
   "cell_type": "markdown",
   "metadata": {},
   "source": [
    "#### From above we can see, except Claim ID\n",
    "    - Claim MSPQ Insurance Type Code        11112[No Records]\n",
    "    - Claim MSPQ Insurance Type Name        11112[No Records]\n",
    "    - Claim Service Day                         1[Only one record missing]\n",
    "    - Claim Service Month                       1[Only one record missing]\n",
    "    - Patient Claim Status                      1[Only one record missing]\n",
    "    - Primary Claim Diagnosis Code Set         75[75 records missing]\n",
    "    - Primary Claim Status                      1[Only one record missing]\n",
    "    - Primary Claim Type                       75[75 records missing]\n",
    "    - Primary Claim Submission Count            1[Only one record missing]\n",
    "    - Secondary Claim Diagnosis Code Set     9808[9808 records missing]\n",
    "    - Secondary Claim Status                    1[Only one record missing]\n",
    "    - Secondary Claim Type                   9808[9808 records missing]\n",
    "    - Secondary Claim Submission Count          1[Only one record missing]\n",
    "    - Patient Age                               1[Only one record missing]\n",
    "    - Patient Age (Months)                      1[Only one record missing]\n",
    "    - Patient Date of Birth                     1[Only one record missing]\n",
    "    - Patient ID                                1[Only one record missing]\n",
    "    - Patient Name                              1[Only one record missing]\n",
    "    - Patient Race                            411[411 records missing]\n",
    "    - Patient Sexual Orientation            11112[11112 records missing]\n",
    "    - Patient State                             1[Only one record missing]\n",
    "    - Patient City                              1[Only one record missing]\n",
    "    - Patient Status                            1[Only one record missing]\n"
   ]
  },
  {
   "cell_type": "markdown",
   "metadata": {},
   "source": [
    "So there is one claim which is no records at all as there are lots of columns with 1 record missing. Let's figure out which record it is and delete that reord from data"
   ]
  },
  {
   "cell_type": "code",
   "execution_count": null,
   "metadata": {},
   "outputs": [],
   "source": [
    "df"
   ]
  },
  {
   "cell_type": "markdown",
   "metadata": {},
   "source": [
    "### we can see that the last row has no data. Lets delete that row"
   ]
  },
  {
   "cell_type": "code",
   "execution_count": null,
   "metadata": {},
   "outputs": [],
   "source": [
    "df = df[:-1]"
   ]
  },
  {
   "cell_type": "code",
   "execution_count": null,
   "metadata": {},
   "outputs": [],
   "source": [
    "df"
   ]
  },
  {
   "cell_type": "markdown",
   "metadata": {},
   "source": [
    "#### SO now we don't have any wrong record in dataframe"
   ]
  },
  {
   "cell_type": "markdown",
   "metadata": {},
   "source": [
    "#### Lets take count of missing values again"
   ]
  },
  {
   "cell_type": "code",
   "execution_count": null,
   "metadata": {},
   "outputs": [],
   "source": [
    "df.isnull().sum()"
   ]
  },
  {
   "cell_type": "markdown",
   "metadata": {},
   "source": [
    "#### Now we have accurate column missing value count"
   ]
  },
  {
   "cell_type": "markdown",
   "metadata": {},
   "source": [
    "## Handle Missing Data"
   ]
  },
  {
   "cell_type": "markdown",
   "metadata": {},
   "source": [
    "#### 1. As we can see columns Claim MSPQ Insurance Type Code, Claim MSPQ Insurance Type Name, Patient Sexual Orientation. So there is no need of these columns we can drop those off\n"
   ]
  },
  {
   "cell_type": "code",
   "execution_count": null,
   "metadata": {},
   "outputs": [],
   "source": [
    "df = df.drop(columns=['Claim MSPQ Insurance Type Code', 'Claim MSPQ Insurance Type Name', 'Patient Sexual Orientation'])"
   ]
  },
  {
   "cell_type": "code",
   "execution_count": null,
   "metadata": {},
   "outputs": [],
   "source": [
    "df"
   ]
  },
  {
   "cell_type": "code",
   "execution_count": null,
   "metadata": {
    "scrolled": true
   },
   "outputs": [],
   "source": [
    "df.isnull().sum()"
   ]
  },
  {
   "cell_type": "markdown",
   "metadata": {},
   "source": [
    "#### Now to proceed futher lets draw a heatmap on finding co relation beween different variable[columns] "
   ]
  },
  {
   "cell_type": "code",
   "execution_count": null,
   "metadata": {},
   "outputs": [],
   "source": [
    "# importsome more packages/libraries\n",
    "import seaborn as sns\n",
    "import matplotlib.pyplot as plt\n",
    "plt.figure(figsize=(20,10)) \n",
    "# play with the figsize until the plot is big enough to plot all the columns\n",
    "# of your dataset, or the way you desire it to look like otherwise\n",
    "\n",
    "#sns.heatmap(data.corr())\n",
    "\n",
    "# plot a heatmap to find out co relation matrix of clumns in the dataframe\n",
    "sns.heatmap(df.corr(), cmap='magma')\n",
    "plt.shot()"
   ]
  },
  {
   "cell_type": "markdown",
   "metadata": {},
   "source": [
    "## From above we can see that, \n",
    "### - Primary Claim Submission count has high co relation with Secondary Claim Submission count\n",
    "### - Patient Age and Patinet ID has High co relation with Secondary Claim Submission count \n",
    "### - Patient Age has little less co relation with Primary Claim Submission count than Secondary Claim submission count "
   ]
  },
  {
   "cell_type": "markdown",
   "metadata": {},
   "source": [
    "#### Now lets see percentage distribution for remaining missing values in columns, so that we can replace those with correct % values\n",
    "- Secondary Claim Diagnosis Code Set    9807\n",
    "- Secondary Claim Type                  9807\n",
    "- Primary Claim Diagnosis Code Set        74\n",
    "- Primary Claim Type                      74\n",
    "- Patient Race                           410"
   ]
  },
  {
   "cell_type": "code",
   "execution_count": null,
   "metadata": {},
   "outputs": [],
   "source": [
    "df['Secondary Claim Diagnosis Code Set'].value_counts(normalize=True) * 100"
   ]
  },
  {
   "cell_type": "code",
   "execution_count": null,
   "metadata": {},
   "outputs": [],
   "source": [
    "#df['Primary Claim Diagnosis Code Set'].value_counts(normalize=True) * 100\n",
    "(df['Primary Claim Diagnosis Code Set'].value_counts()/df['Primary Claim Diagnosis Code Set'].count())*100"
   ]
  },
  {
   "cell_type": "code",
   "execution_count": null,
   "metadata": {},
   "outputs": [],
   "source": [
    "df['Secondary Claim Type'].value_counts(normalize=True) * 100"
   ]
  },
  {
   "cell_type": "code",
   "execution_count": null,
   "metadata": {},
   "outputs": [],
   "source": [
    "df['Primary Claim Type'].value_counts(normalize=True) * 100"
   ]
  },
  {
   "cell_type": "markdown",
   "metadata": {},
   "source": [
    "So we can replace all missing values of primary and secondary claims with ICD -10 and Primary and secondary claim type values as \"Professional\""
   ]
  },
  {
   "cell_type": "code",
   "execution_count": null,
   "metadata": {},
   "outputs": [],
   "source": [
    "df['Secondary Claim Diagnosis Code Set'] = df['Secondary Claim Diagnosis Code Set'].fillna('ICD -10')"
   ]
  },
  {
   "cell_type": "code",
   "execution_count": null,
   "metadata": {},
   "outputs": [],
   "source": [
    "df['Primary Claim Diagnosis Code Set'] = df['Primary Claim Diagnosis Code Set'].fillna('ICD -10')"
   ]
  },
  {
   "cell_type": "code",
   "execution_count": null,
   "metadata": {},
   "outputs": [],
   "source": [
    "df['Secondary Claim Type'] = df['Secondary Claim Type'].fillna('Professional')"
   ]
  },
  {
   "cell_type": "code",
   "execution_count": null,
   "metadata": {},
   "outputs": [],
   "source": [
    "df['Primary Claim Type'] = df['Primary Claim Type'].fillna('Professional')"
   ]
  },
  {
   "cell_type": "markdown",
   "metadata": {},
   "source": [
    "#### Lets take a null coun again"
   ]
  },
  {
   "cell_type": "code",
   "execution_count": null,
   "metadata": {},
   "outputs": [],
   "source": [
    "df.isnull().sum()"
   ]
  },
  {
   "cell_type": "markdown",
   "metadata": {},
   "source": [
    "#### Now we are only left witj Patient Race. lets see distribution of person race values"
   ]
  },
  {
   "cell_type": "code",
   "execution_count": null,
   "metadata": {
    "scrolled": true
   },
   "outputs": [],
   "source": [
    "df['Patient Race'].value_counts(normalize=True) * 100"
   ]
  },
  {
   "cell_type": "markdown",
   "metadata": {},
   "source": [
    "\n",
    "### From above we can see race types appearing closer to 0.01% values\n",
    "    - Middle Eastern or North African     0.009345\n",
    "    - Italian                             0.009345\n",
    "    - Haitian                             0.009345\n",
    "    - Polish                              0.009345\n",
    "    - Arab                                0.009345\n",
    "\n",
    "#### We will only consider below values , if we decide to replace missing.  \n",
    "    - White                              62.424073\n",
    "    - Patient Declined                   21.427904\n",
    "    - Other Race                          5.457434\n",
    "    - Asian                               2.943650\n",
    "    - Black or African American           2.616578\n",
    "    - Black                               2.504439\n",
    "    - Asian Indian                        1.597981\n",
    "    - African American                    0.663489\n",
    "    - Dominican                           0.317727\n",
    "\n"
   ]
  },
  {
   "cell_type": "code",
   "execution_count": null,
   "metadata": {},
   "outputs": [],
   "source": [
    "fig= plt.figure(figsize=(40,20))\n",
    "sns.countplot(data= df, y ='Patient Race').set_title(\"Patient Race Count\")\n",
    "sns.set(font_scale=3)\n",
    "plt.show()\n",
    "fig.savefig(\"Patient_Race_Count.png\")"
   ]
  },
  {
   "cell_type": "markdown",
   "metadata": {},
   "source": [
    "## Analysis 1: Lets see Patient Age distribution for claim type"
   ]
  },
  {
   "cell_type": "code",
   "execution_count": null,
   "metadata": {},
   "outputs": [],
   "source": [
    "df['Patient Age'].value_counts(normalize=True) * 100"
   ]
  },
  {
   "cell_type": "code",
   "execution_count": null,
   "metadata": {},
   "outputs": [],
   "source": [
    "df['Patient Age'].hist()"
   ]
  },
  {
   "cell_type": "code",
   "execution_count": null,
   "metadata": {},
   "outputs": [],
   "source": [
    "bins = [0,20,40,60,80,100,120]\n",
    "plt.hist(df['Patient Age'].values, bins=bins)\n",
    "plt.xlabel(\"Age range\")\n",
    "plt.ylabel(\"Count\")\n",
    "plt.xticks(bins)\n",
    "plt.show()"
   ]
  },
  {
   "cell_type": "markdown",
   "metadata": {},
   "source": [
    "## Analysis 2: Patient Age distribution as per State\n"
   ]
  },
  {
   "cell_type": "code",
   "execution_count": null,
   "metadata": {},
   "outputs": [],
   "source": [
    "fig= plt.figure(figsize=(40,20))\n",
    "sns.boxplot(x=\"Patient State\",y=\"Patient Age\",data=df, palette=\"coolwarm\")\n",
    "sns.set(font_scale=3)"
   ]
  },
  {
   "cell_type": "markdown",
   "metadata": {},
   "source": [
    "## Analysis 3: Patient race distibution as per Age"
   ]
  },
  {
   "cell_type": "code",
   "execution_count": null,
   "metadata": {},
   "outputs": [],
   "source": [
    "fig= plt.figure(figsize=(70,20))\n",
    "sns.violinplot(x=\"Patient Race\", y=\"Patient Age\", data=df,palette='rainbow')\n",
    "sns.set(font_scale=3)"
   ]
  },
  {
   "cell_type": "markdown",
   "metadata": {},
   "source": [
    "## Analysis 4: Patient race distribution as per State"
   ]
  },
  {
   "cell_type": "code",
   "execution_count": null,
   "metadata": {},
   "outputs": [],
   "source": [
    "import plotly as py\n",
    "import plotly.graph_objs as go\n",
    "data = dict (\n",
    "    type = 'choropleth',\n",
    "    locations = df['Patient State'],\n",
    "    locationmode='USA-states',\n",
    "    colorscale = [[0, 'green'], [0.5, 'red'], [1.0, 'rgb(0, 0, 255)']],\n",
    "    z=df['Patient Race'])\n",
    "\n",
    "lyt = dict(geo=dict(scope='usa'))\n",
    "map = go.Figure(data=[data], layout = lyt)\n",
    "py.offline.plot(map)"
   ]
  },
  {
   "cell_type": "markdown",
   "metadata": {},
   "source": [
    "## Analysis 5: Patient Claim Status Distribution"
   ]
  },
  {
   "cell_type": "code",
   "execution_count": null,
   "metadata": {
    "scrolled": true
   },
   "outputs": [],
   "source": [
    "fig= plt.figure(figsize=(40,20))\n",
    "sns.countplot(data= df, x ='Patient Claim Status').set_title(\"Patient Count as per Claim Status \")\n",
    "sns.set(font_scale=3)\n",
    "plt.show()\n",
    "fig.savefig(\"Patient_Claim_Status_Count.png\")"
   ]
  },
  {
   "cell_type": "code",
   "execution_count": null,
   "metadata": {},
   "outputs": [],
   "source": [
    "df['Patient Claim Status'].value_counts().plot(kind='pie', autopct='%1.1f%%',textprops={'fontsize':5})"
   ]
  },
  {
   "cell_type": "code",
   "execution_count": null,
   "metadata": {},
   "outputs": [],
   "source": [
    "from matplotlib import font_manager as fm\n",
    "fig, ax = plt.subplots(figsize=(6, 3), subplot_kw=dict(aspect=\"equal\"))\n",
    "wedges,autotexts=ax.pie(df['Patient Claim Status'].value_counts(),\n",
    "                                  textprops=dict(color=\"w\"))\n",
    "proptease = fm.FontProperties()\n",
    "proptease.set_size('xx-small')\n",
    "ingredients = ['CLOSED','BILLED','DROP','COLLECT','MGRHOLD','HOLD']\n",
    "ax.legend(wedges,ingredients,\n",
    "          title=\"Status\",\n",
    "          loc=\"center left\",\n",
    "          bbox_to_anchor=(1, 0, 0.5, 1))\n",
    "\n",
    "plt.rcParams['font.size'] = 2\n",
    "plt.setp(autotexts,fontproperties=proptease)\n",
    "\n",
    "ax.set_title(\"Patient Claim Status Count\")\n",
    "\n",
    "plt.show()"
   ]
  },
  {
   "cell_type": "code",
   "execution_count": null,
   "metadata": {},
   "outputs": [],
   "source": []
  },
  {
   "cell_type": "code",
   "execution_count": null,
   "metadata": {},
   "outputs": [],
   "source": []
  }
 ],
 "metadata": {
  "kernelspec": {
   "display_name": "Python 3",
   "language": "python",
   "name": "python3"
  },
  "language_info": {
   "codemirror_mode": {
    "name": "ipython",
    "version": 3
   },
   "file_extension": ".py",
   "mimetype": "text/x-python",
   "name": "python",
   "nbconvert_exporter": "python",
   "pygments_lexer": "ipython3",
   "version": "3.7.0"
  }
 },
 "nbformat": 4,
 "nbformat_minor": 2
}
