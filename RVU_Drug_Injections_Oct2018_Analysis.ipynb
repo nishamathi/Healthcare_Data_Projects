{
 "cells": [
  {
   "cell_type": "markdown",
   "metadata": {},
   "source": [
    "# Analysis of two datasets in transaction activity "
   ]
  },
  {
   "cell_type": "code",
   "execution_count": null,
   "metadata": {},
   "outputs": [],
   "source": [
    "# import required packages/libraries\n",
    "import pandas as pd\n",
    "import numpy as np\n",
    "# read data into dataframe\n",
    "df1 =  pd.read_csv(\"../Raw_Data/RVU_Raw_Data.csv\")\n",
    "df2 =  pd.read_csv(\"../Raw_Data/Drug_Injection_Raw_Data.csv\")\n"
   ]
  },
  {
   "cell_type": "code",
   "execution_count": null,
   "metadata": {
    "scrolled": true
   },
   "outputs": [],
   "source": [
    "df1.info()"
   ]
  },
  {
   "cell_type": "markdown",
   "metadata": {},
   "source": [
    "## Lets see shape of first dataframe"
   ]
  },
  {
   "cell_type": "code",
   "execution_count": null,
   "metadata": {},
   "outputs": [],
   "source": [
    "df1.shape"
   ]
  },
  {
   "cell_type": "code",
   "execution_count": null,
   "metadata": {},
   "outputs": [],
   "source": [
    "df2.info()"
   ]
  },
  {
   "cell_type": "markdown",
   "metadata": {},
   "source": [
    "## Lets see shape of second dataframe"
   ]
  },
  {
   "cell_type": "code",
   "execution_count": null,
   "metadata": {},
   "outputs": [],
   "source": [
    "df2.shape"
   ]
  },
  {
   "cell_type": "markdown",
   "metadata": {},
   "source": [
    "### The dimensions are differerent but we can see that lots of columns common between these two dataframes"
   ]
  },
  {
   "cell_type": "markdown",
   "metadata": {},
   "source": [
    "## Lets first rename the columns of the dataframes"
   ]
  },
  {
   "cell_type": "code",
   "execution_count": null,
   "metadata": {},
   "outputs": [],
   "source": [
    "df1.rename(columns={'rndrng prvdr':'Rendering_Provider',\n",
    "'rndrng prvdr prvdr grp':'Rendering_Provider_Provider_Group',\n",
    "'adj total rvu':'Adjusted_Total_RVU',\n",
    "'adj work rvu':'Adjusted_Work_RVU',\n",
    "'total rvu':'Total_RVU',\n",
    "'work rvu':'Work_RVU',\n",
    "'proccode-grp':'Procedure_Code_Group',\n",
    "'proccode-descr':'Procedure_Codes_with_description',\n",
    "'proccode':'Procedure_Codes',\n",
    "'svc dprtmnt':'Service_Department',\n",
    "'primary clm ins pkg name':'Primary_Claim_Insurance_Package_Name',\n",
    "'#chg':'Sum_of_Charges',\n",
    "'net pmt':'Sum_of_Net_Payments',\n",
    "'srvday':'Claim_Service_Day',\n",
    "'claimid':'Claim_ID' ,\n",
    "'patientid':'Patient_ID',\n",
    "'patient zip':'Patient_Zip_Code',\n",
    "'patient state':'Patient_State',\n",
    "'patientsex':'Patient_Sex',\n",
    "'race':'Patient_Race'\n",
    "\n",
    "     },\n",
    "    inplace=True)"
   ]
  },
  {
   "cell_type": "code",
   "execution_count": null,
   "metadata": {},
   "outputs": [],
   "source": [
    "df2.rename(columns={\n",
    "'claimid':'Claim_ID' ,\n",
    "'status':'Claim_Status' ,\n",
    "'srvday':'Claim_Service_Day' ,\n",
    "'currenterror':'Current_Error' ,\n",
    "'patientid':'Patient_ID' ,\n",
    "'patient name':'Patient_Name' ,\n",
    "'patientdob':'Patient_Date_of_Birth',\n",
    "'createddate':'Transaction_Charge_Created_Date',\n",
    "'srvdate':'Transaction_Service_Date' ,\n",
    "'postdate':'Transaction_Post_Date',\n",
    "'patient dprtmnt':'Patient_Department',\n",
    "'svc dprtmnt':'Service_Department' ,\n",
    "'svc dept POS type':'Service-Department_Place_of_Service_Type' ,\n",
    "'svc dept POS type ID':'Service_Department_Place_of_Service_Type_ID',\n",
    "'proccode-grp':'Procedure_Code_Group' ,\n",
    "'proccode':'Procedure_Codes' ,\n",
    "'proccode-descr':'Procedure_Codes_with_description',\n",
    "'primary clm cstm ins grpng':'Primary_Claim_Custom_Insurance_Grouping',\n",
    "'primary clm ins pkg name':'Primary_Claim_Insurance_Package_Name' ,\n",
    "'secondary clm ins pkg name':'Secondary_Claim_Insurance_Package_Name',\n",
    "'rndrng prvdr':'Rendering_Provider' ,\n",
    "'rndrng prvdr prvdr grp':'Rendering_Provider_Provider_Group',\n",
    "'sup prvdr':'Supervising_Provider',\n",
    "'ins report cat grp':'Insurance_Reporting_Category_Group' ,\n",
    "'trnsfr type':'Transfer_Type' ,\n",
    "'icd10claimdiagdescr01':'ICD-10_Claim_Diagnosis_Codes_with_desc01' ,\n",
    "'icd10claimdiagdescr02':'ICD-10_Claim_Diagnosis_Codes_with_desc02' ,\n",
    "'icd9claimdiagdescr01':'ICD-9_Claim_Diagnosis_Codes_with_desc01' ,\n",
    "'icd9claimdiagdescr02':'ICD-9_Claim_Diagnosis_Codes_with_desc02',\n",
    "'adj total rvu':'Adjusted_Total_RVU' ,\n",
    "'adj work rvu':'Adjusted_Work_RVU' ,\n",
    "'clm cnt':'Count_of_Claims' ,\n",
    "'no of pymnts':'Number_of_Payments' ,\n",
    "'adjall':'Sum_of_All_Adjustments' ,\n",
    "'all chgs':'Sum_of_All_Charges' ,\n",
    "'baddebt':'Sum_of_Bad_Debt_Adjustments' ,\n",
    "'allow diff':'Sum_of_Allowable_Difference' ,\n",
    "'cap':'Sum_of_Capitated_Adjustments' ,\n",
    "'#chg':'Sum_of_Charges',\n",
    "'collect':'Sum_of_Collect_Adjustments' ,\n",
    "'fee':'Sum_of_Collection_Fee_Adjustments' ,\n",
    "'recovery':'Sum_of_Collection_Recoveries' ,\n",
    "'contract':'Sum_of_Contractual_Adjustments',\n",
    "'current chg':'Sum_of_Current_Charges',\n",
    "'globl':'Sum_of_Global_Adjustments',\n",
    "'interest':'Sum_of_Interest_Adjustments',\n",
    "'late chg':'Sum_of_Late_Charges',\n",
    "'net pmt':'Sum_of_Net_Payments',\n",
    "'netreceivable':'Sum_of_Net_Receivable',\n",
    "'net xfer':'Sum_of_Net_Transfers',\n",
    "'adjoth':'Sum_of_Other_Adjustments',\n",
    "'pmt':'Sum_of_Payments',\n",
    "'pre-collect':'Sum_of_Pre-Collect_Adjustments',\n",
    "'refund':'Sum_of_Refunds',\n",
    "'whold':'Sum_of_Withhold_Adjustments' ,\n",
    "'total rvu':'Total_RVU' ,\n",
    "'work rvu':'Work_RVU' ,\n",
    "'free':'Sum_of_Freecare_Adjustments' ,\n",
    "'avgpmt':'Average_Payment' ,\n",
    "'chckdin appt cnt':'Count_of_Checked-in_appointments',\n",
    "'allowed':'Sum_of_Actual_Allowed_Amounts' ,\n",
    "'expected':'Sum_of_Expected_Allowed_Amounts',\n",
    "'chg units sum':'Sum_of_Charge_Units',\n",
    "'claim schdlng prvdr':'Claim_Scheduling_Provider',\n",
    "'apptstarttime':'Appointment_Starttime',\n",
    "'ins report cat':'Insurance_Reporting_Category' \n",
    "\n",
    "     },\n",
    "    inplace=True)"
   ]
  },
  {
   "cell_type": "markdown",
   "metadata": {},
   "source": [
    "### Check the missing data in both dataframes"
   ]
  },
  {
   "cell_type": "code",
   "execution_count": null,
   "metadata": {},
   "outputs": [],
   "source": [
    "df1.isnull().sum()"
   ]
  },
  {
   "cell_type": "code",
   "execution_count": null,
   "metadata": {},
   "outputs": [],
   "source": [
    "df2.isnull().sum()"
   ]
  },
  {
   "cell_type": "markdown",
   "metadata": {},
   "source": [
    "### Lets see the common columns between two dataframes"
   ]
  },
  {
   "cell_type": "code",
   "execution_count": null,
   "metadata": {},
   "outputs": [],
   "source": [
    "import numpy as np\n",
    "np.intersect1d(df2.columns, df1.columns)"
   ]
  },
  {
   "cell_type": "markdown",
   "metadata": {},
   "source": [
    "### So below are the columns which are present in both the dataframes\n",
    "        - Adjusted Total RVU \n",
    "        - Adjusted Work RVU \n",
    "        - Claim ID\n",
    "        - Claim Service Day \n",
    "        - Patient ID\n",
    "        - Primary Claim Insurance Package Name \n",
    "        - Procedure Code Group,\n",
    "        - Procedure Code(s) \n",
    "        - Procedure Code(s) with description\n",
    "        - Rendering Provider' \n",
    "        - Rendering Provider Provider Group\n",
    "        - Service Department, \n",
    "        - Sum of Charges (#)\n",
    "        - Sum of Net Payments ($) \n",
    "        - Total RVU \n",
    "        - Work RVU"
   ]
  },
  {
   "cell_type": "code",
   "execution_count": null,
   "metadata": {},
   "outputs": [],
   "source": [
    "#df2.drop(['Adjusted_Total_RVU','Adjusted_Work_RVU','Total_RVU','Work_RVU','Claim_Service_Day','Procedure_Code_Group',\n",
    "#         'Procedure_Codes_with_description','Procedure_Codes','Rendering_Provider', 'Rendering_Provider_Provider_Group',\n",
    " #        'Service_Department','Sum_of_Charges','Sum_of_Net_Payments','Primary_Claim_Insurance_Package_Name'],inplace=True,axis=1)"
   ]
  },
  {
   "cell_type": "code",
   "execution_count": null,
   "metadata": {},
   "outputs": [],
   "source": [
    "#df2.info()"
   ]
  },
  {
   "cell_type": "code",
   "execution_count": null,
   "metadata": {},
   "outputs": [],
   "source": []
  },
  {
   "cell_type": "markdown",
   "metadata": {},
   "source": [
    "## Lets see columns in each dataframe which has duplicate values"
   ]
  },
  {
   "cell_type": "code",
   "execution_count": null,
   "metadata": {},
   "outputs": [],
   "source": [
    "from collections import Counter\n",
    "\n",
    "c = Counter(list(zip(df1.Rendering_Provider, df1.Rendering_Provider_Provider_Group,df1.Adjusted_Total_RVU,df1.Adjusted_Work_RVU,\n",
    "                        df1.Total_RVU,df1.Work_RVU,df1.Procedure_Code_Group,df1.Procedure_Codes_with_description,\n",
    "                        df1.Procedure_Codes,df1.Service_Department,df1.Primary_Claim_Insurance_Package_Name,\n",
    "                        df1.Sum_of_Charges,df1.Sum_of_Net_Payments,df1.Claim_Service_Day,df1.Claim_ID,\n",
    "                        df1.Patient_ID,df1.Patient_Zip_Code,df1.Patient_State,df1.Patient_Sex,df1.Patient_Race\n",
    "                        )\n",
    "                    )\n",
    "                )\n",
    "print(c)"
   ]
  },
  {
   "cell_type": "code",
   "execution_count": null,
   "metadata": {},
   "outputs": [],
   "source": [
    "df1.groupby(['Rendering_Provider', 'Rendering_Provider_Provider_Group','Adjusted_Total_RVU','Adjusted_Work_RVU',\n",
    "                        'Total_RVU','Work_RVU','Procedure_Codes_with_description',\n",
    "                        'Procedure_Codes','Service_Department','Primary_Claim_Insurance_Package_Name',\n",
    "                        'Sum_of_Charges','Sum_of_Net_Payments','Claim_Service_Day','Claim_ID',\n",
    "                        'Procedure_Code_Group','Patient_Zip_Code','Patient_State','Patient_Sex','Patient_Race'])['Patient_ID'].value_counts().to_frame('Count')"
   ]
  },
  {
   "cell_type": "markdown",
   "metadata": {},
   "source": [
    "#### So total unique records are 112813 in dataframe 1, so total duplicate counts are (117614 -  112813) = 4801"
   ]
  },
  {
   "cell_type": "markdown",
   "metadata": {},
   "source": [
    "## Lets see columns in each dataframe2 which has duplicate values "
   ]
  },
  {
   "cell_type": "code",
   "execution_count": null,
   "metadata": {},
   "outputs": [],
   "source": [
    "#list(df2.columns.values)\n",
    "list(df2)"
   ]
  },
  {
   "cell_type": "code",
   "execution_count": null,
   "metadata": {},
   "outputs": [],
   "source": [
    "#df2.groupby(['Claim_ID',\n",
    " 'Claim_Status',\n",
    " 'Current_Error',\n",
    " 'Patient_ID',\n",
    " 'Patient_Name',\n",
    " 'Patient_Date_of_Birth',\n",
    " 'Transaction_Charge_Created_Date',\n",
    " 'Transaction_Service_Date',\n",
    " 'Transaction_Post_Date',\n",
    " 'Patient_Department',\n",
    " 'Service-Department_Place_of_Service_Type',\n",
    " 'Service_Department_Place_of_Service_Type_ID',\n",
    " 'Primary_Claim_Custom_Insurance_Grouping',\n",
    " 'Primary_Claim_Insurance_Package_Name',\n",
    " 'Secondary_Claim_Insurance_Package_Name',\n",
    " 'Supervising_Provider',\n",
    " 'Insurance_Reporting_Category',\n",
    " 'Insurance_Reporting_Category_Group',\n",
    " 'Transfer_Type',\n",
    " 'ICD-10_Claim_Diagnosis_Codes_with_desc01',\n",
    " 'ICD-10_Claim_Diagnosis_Codes_with_desc02',\n",
    " 'ICD-9_Claim_Diagnosis_Codes_with_desc01',\n",
    " 'ICD-9_Claim_Diagnosis_Codes_with_desc02',\n",
    " 'Adjusted_Total_RVU',\n",
    " 'Adjusted_Work_RVU',\n",
    " 'Count_of_Claims',\n",
    " 'Number_of_Payments',\n",
    " 'Sum_of_All_Adjustments',\n",
    " 'Sum_of_All_Charges',\n",
    " 'Sum_of_Bad_Debt_Adjustments',\n",
    " 'Sum_of_Allowable_Difference',\n",
    " 'Sum_of_Capitated_Adjustments',\n",
    " 'Sum_of_Collect_Adjustments',\n",
    " 'Sum_of_Collection_Fee_Adjustments',\n",
    " 'Sum_of_Collection_Recoveries',\n",
    " 'Sum_of_Contractual_Adjustments',\n",
    " 'Sum_of_Current_Charges',\n",
    " 'Sum_of_Global_Adjustments',\n",
    " 'Sum_of_Interest_Adjustments',\n",
    " 'Sum_of_Late_Charges',\n",
    " 'Sum_of_Net_Receivable',\n",
    " 'Sum_of_Net_Transfers',\n",
    " 'Sum_of_Other_Adjustments',\n",
    " 'Sum_of_Payments',\n",
    " 'Sum_of_Pre-Collect_Adjustments',\n",
    " 'Sum_of_Refunds',\n",
    " 'Sum_of_Withhold_Adjustments',\n",
    " 'Total_RVU',\n",
    " 'Work_RVU',\n",
    " 'Sum_of_Freecare_Adjustments',\n",
    " 'Average_Payment',\n",
    " 'Count_of_Checked-in_appointments',\n",
    " 'Sum_of_Actual_Allowed_Amounts',\n",
    " 'Sum_of_Expected_Allowed_Amounts',\n",
    " 'Sum_of_Charge_Units',\n",
    " 'Claim_Scheduling_Provider',\n",
    " 'Appointment_Starttime'])['Patient_ID'].value_counts().to_frame('Count"
   ]
  },
  {
   "cell_type": "markdown",
   "metadata": {},
   "source": [
    "## So in df2 we have only 798 unique values"
   ]
  },
  {
   "cell_type": "markdown",
   "metadata": {},
   "source": [
    "## Lets merge these two dataframes and see how many rows we will get"
   ]
  },
  {
   "cell_type": "code",
   "execution_count": null,
   "metadata": {},
   "outputs": [],
   "source": [
    "#df = pd.concat([df1, df2], axis = 1)\n",
    "df = pd.merge(df2, df1, on=['Claim_ID','Patient_ID'],how='left')"
   ]
  },
  {
   "cell_type": "code",
   "execution_count": null,
   "metadata": {
    "scrolled": true
   },
   "outputs": [],
   "source": [
    "df.info()"
   ]
  },
  {
   "cell_type": "code",
   "execution_count": null,
   "metadata": {},
   "outputs": [],
   "source": [
    "df = df.loc[:,~df.columns.duplicated()]"
   ]
  },
  {
   "cell_type": "code",
   "execution_count": null,
   "metadata": {},
   "outputs": [],
   "source": [
    "list(df)"
   ]
  },
  {
   "cell_type": "code",
   "execution_count": null,
   "metadata": {},
   "outputs": [],
   "source": [
    "Unique_ProcCode_y = df.Procedure_Codes_y.unique()\n",
    "len(Unique_ProcCode_y)"
   ]
  },
  {
   "cell_type": "code",
   "execution_count": null,
   "metadata": {},
   "outputs": [],
   "source": [
    "print(Unique_ProcCode_y)"
   ]
  },
  {
   "cell_type": "code",
   "execution_count": null,
   "metadata": {},
   "outputs": [],
   "source": [
    "df['Procedure_Codes_y'].isnull().sum()"
   ]
  },
  {
   "cell_type": "code",
   "execution_count": null,
   "metadata": {},
   "outputs": [],
   "source": [
    "df.drop(['Claim_Service_Day_y','Sum_of_Net_Payments_y','Sum_of_Charges_y','Primary_Claim_Insurance_Package_Name_y','Service_Department_y',\n",
    "        'Procedure_Codes_y','Procedure_Codes_with_description_y','Procedure_Code_Group_y','Work_RVU_y','Adjusted_Total_RVU_y',\n",
    " 'Adjusted_Work_RVU_y','Total_RVU_y','Rendering_Provider_y','Rendering_Provider_Provider_Group_y'],inplace=True,axis=1)"
   ]
  },
  {
   "cell_type": "code",
   "execution_count": null,
   "metadata": {},
   "outputs": [],
   "source": [
    "#df1.to_csv('Updated_RVU_Data.csv', encoding='utf-8', index=False)"
   ]
  },
  {
   "cell_type": "code",
   "execution_count": null,
   "metadata": {},
   "outputs": [],
   "source": [
    "#df2.to_csv('Updated_Drug_Injection_Data.csv', encoding='utf-8', index=False)"
   ]
  },
  {
   "cell_type": "code",
   "execution_count": null,
   "metadata": {},
   "outputs": [],
   "source": [
    "df.info()\n"
   ]
  },
  {
   "cell_type": "code",
   "execution_count": null,
   "metadata": {
    "scrolled": false
   },
   "outputs": [],
   "source": [
    "# set option to display all columns in a dataframe \n",
    "pd.set_option('display.width', 200)\n",
    "pd.set_option('display.max_columns', None)\n",
    "df.drop_duplicates()"
   ]
  },
  {
   "cell_type": "code",
   "execution_count": null,
   "metadata": {},
   "outputs": [],
   "source": [
    "df.info()"
   ]
  },
  {
   "cell_type": "code",
   "execution_count": null,
   "metadata": {},
   "outputs": [],
   "source": [
    "Unique_ProcedureCode = df.Procedure_Codes_with_description_x.unique()\n",
    "print(Unique_ProcedureCode)"
   ]
  },
  {
   "cell_type": "code",
   "execution_count": null,
   "metadata": {},
   "outputs": [],
   "source": [
    "len(Unique_ProcedureCode)"
   ]
  },
  {
   "cell_type": "code",
   "execution_count": null,
   "metadata": {},
   "outputs": [],
   "source": [
    "Unique_ProcCode = df.Procedure_Codes_x.unique()\n",
    "print(Unique_ProcCode)"
   ]
  },
  {
   "cell_type": "code",
   "execution_count": null,
   "metadata": {},
   "outputs": [],
   "source": [
    "len(Unique_ProcCode)"
   ]
  },
  {
   "cell_type": "code",
   "execution_count": null,
   "metadata": {},
   "outputs": [],
   "source": [
    "df['Procedure_Codes_x'].isnull().sum()"
   ]
  },
  {
   "cell_type": "code",
   "execution_count": null,
   "metadata": {},
   "outputs": [],
   "source": [
    "def sym_diff(Unique_ProcCode, Unique_ProcCode_y):\n",
    "    return list(set(Unique_ProcCode).symmetric_difference(set(Unique_ProcCode_y)))"
   ]
  },
  {
   "cell_type": "code",
   "execution_count": null,
   "metadata": {},
   "outputs": [],
   "source": [
    "import itertools as it\n",
    "\n",
    "\n",
    "[x for x, y in it.zip_longest(Unique_ProcCode, Unique_ProcCode_y) if x != y]"
   ]
  },
  {
   "cell_type": "code",
   "execution_count": null,
   "metadata": {},
   "outputs": [],
   "source": [
    "df_right = pd.merge(df2, df1, on=['Claim_ID','Patient_ID'],how='right')"
   ]
  },
  {
   "cell_type": "code",
   "execution_count": null,
   "metadata": {},
   "outputs": [],
   "source": [
    "df_right.head()"
   ]
  },
  {
   "cell_type": "markdown",
   "metadata": {},
   "source": [
    "## Lets divide procedure code description column into multiple columns"
   ]
  },
  {
   "cell_type": "code",
   "execution_count": null,
   "metadata": {},
   "outputs": [],
   "source": [
    "df =df.join(df['Procedure_Codes_with_description_x'].str.split(':', 1, expand=True).rename(columns={0:'Proc_Code', 1:'Proc_Desc'}))"
   ]
  },
  {
   "cell_type": "code",
   "execution_count": null,
   "metadata": {},
   "outputs": [],
   "source": [
    "df.head()"
   ]
  },
  {
   "cell_type": "code",
   "execution_count": null,
   "metadata": {},
   "outputs": [],
   "source": [
    "df.drop(['Proc_Code'],inplace=True,axis=1)"
   ]
  },
  {
   "cell_type": "code",
   "execution_count": null,
   "metadata": {},
   "outputs": [],
   "source": [
    "df.head()"
   ]
  },
  {
   "cell_type": "markdown",
   "metadata": {},
   "source": [
    "## Lets split Procedure Code column into two"
   ]
  },
  {
   "cell_type": "code",
   "execution_count": null,
   "metadata": {},
   "outputs": [],
   "source": [
    "df =df.join(df['Procedure_Codes_x'].str.split(',', 1, expand=True).rename(columns={0:'Proc_Code', 1:'Modifier'}))"
   ]
  },
  {
   "cell_type": "code",
   "execution_count": null,
   "metadata": {},
   "outputs": [],
   "source": [
    "df['Modifier'].isnull().sum()"
   ]
  },
  {
   "cell_type": "code",
   "execution_count": null,
   "metadata": {},
   "outputs": [],
   "source": [
    "df_NN_Modifier = df.loc[df['Modifier'].notnull()]"
   ]
  },
  {
   "cell_type": "code",
   "execution_count": null,
   "metadata": {},
   "outputs": [],
   "source": [
    "len(df_NN_Modifier)"
   ]
  },
  {
   "cell_type": "code",
   "execution_count": null,
   "metadata": {},
   "outputs": [],
   "source": [
    "Unique_Modifier_Values = df_NN_Modifier.Modifier.unique()\n",
    "print(Unique_Modifier_Values)"
   ]
  },
  {
   "cell_type": "code",
   "execution_count": null,
   "metadata": {},
   "outputs": [],
   "source": [
    "len(Unique_Modifier_Values)"
   ]
  },
  {
   "cell_type": "code",
   "execution_count": null,
   "metadata": {},
   "outputs": [],
   "source": []
  },
  {
   "cell_type": "code",
   "execution_count": null,
   "metadata": {},
   "outputs": [],
   "source": [
    "values =['67028: INTRAVITREAL INJECTION OF PHARMACOLOGIC AGENT',\"67515: INJECTION OF MEDICATION INTO TENON'S CAPSULE\",'67028,50: INTRAVITREAL INJECTION OF PHARMACOLOGIC AGENT BILAT',\n",
    "        '67025: INJECTION OF VITREOUS SUBSTITUTE, FLUID-GAS EXCHANGE']\n",
    "df_new= df.loc[df['Procedure_Codes_with_description_x'].isin(values)]\n",
    "df_new.info(),\n"
   ]
  },
  {
   "cell_type": "code",
   "execution_count": null,
   "metadata": {},
   "outputs": [],
   "source": [
    "df_new.groupby(['Transaction_Charge_Created_Date']).sum()"
   ]
  },
  {
   "cell_type": "code",
   "execution_count": null,
   "metadata": {},
   "outputs": [],
   "source": []
  }
 ],
 "metadata": {
  "kernelspec": {
   "display_name": "Python 3",
   "language": "python",
   "name": "python3"
  },
  "language_info": {
   "codemirror_mode": {
    "name": "ipython",
    "version": 3
   },
   "file_extension": ".py",
   "mimetype": "text/x-python",
   "name": "python",
   "nbconvert_exporter": "python",
   "pygments_lexer": "ipython3",
   "version": "3.7.0"
  }
 },
 "nbformat": 4,
 "nbformat_minor": 2
}
