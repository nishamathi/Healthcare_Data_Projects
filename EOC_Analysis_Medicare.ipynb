{
 "cells": [
  {
   "cell_type": "code",
   "execution_count": null,
   "metadata": {},
   "outputs": [],
   "source": [
    "# import required packages/libraries\n",
    "import pandas as pd\n",
    "import numpy as np\n",
    "\n",
    "import os\n",
    "# Path to the data directory into which the cleaned data is saved.\n",
    "csv_file_path = os.path.join(\"..\", \"EOC_Raw_Data\", \"Sept2018.csv\")\n",
    "if not os.path.exists(csv_file_path):\n",
    "    print(\"{} doesn't exist - perhaps the data cleaning script needs to be run?\".format(csv_file_path))\n",
    "\n",
    "# set option to display all columns in a dataframe \n",
    "pd.set_option('display.width', 500)\n",
    "pd.set_option('display.max_columns', None)\n",
    "\n",
    "# read data into dataframe\n",
    "df = pd.read_csv(csv_file_path, quoting=2, parse_dates=True, infer_datetime_format=True, encoding=\"UTF-8\")\n",
    "# set option to display all columns in a dataframe \n",
    "pd.set_option('display.width', 500)\n",
    "pd.set_option('display.max_columns', None)\n",
    "\n",
    "# display first 5 rows in the dataframe\n",
    "df.head()"
   ]
  },
  {
   "cell_type": "code",
   "execution_count": null,
   "metadata": {},
   "outputs": [],
   "source": [
    "df.rename(columns={\n",
    "'claimid':'Claim_ID',\n",
    "'srvday':'Claim_Service_Day',\n",
    "'rndrng prvdrid':'Rendering_Provider_ID',\n",
    "'rndrng prvdr':'Rendering_Provider',\n",
    "'rndrng prvdrfullnme':'Rendering_Provider_Name',\n",
    "'svc dprtmnt':'Service_Dept',\n",
    "'appttype':'Appt_Type',\n",
    "'patientid':'Patient_ID',\n",
    "'ins pkg name':'Ins_Pkg_Name',\n",
    "'primary clm ins pkg name':'Primary_Claim_Ins_Pkg_Name',\n",
    "'secondary clm ins pkg name':'Secondary_Claim_Ins_Pkg_Name',\n",
    "'proccode-descr':'Procedure_Codes_with_desc',\n",
    "'proccode-grp':'Proc_Code_Group',\n",
    "'proccode-grp procedure clas...':'Proc_Clas',    \n",
    "'svc dept bill name':'Service_Dept_Billing_Name',\n",
    "'icd10claimdiagcode01':'Primary_Diagnosis_10', \n",
    "'icd9claimdiagcode01':'Primary_Diagnosis_9',\n",
    "'icd10claimdiagcode02':'ICD-10_Claim_Diagnosis_Code02',\n",
    "'icd9claimdiagcode02':'ICD-9_Claim_Diagnosis_Code02',\n",
    "'chg units sum':'Sum_Charge_Units',\n",
    "'#chg':'Sum_Charges',\n",
    "'net pmt':'Sum_Net_Payments',\n",
    "'all chgs':'Sum_All_Charges',\n",
    "'contract':'Sum_Contractual_Adj',\n",
    "'allowed':'Sum_Actual_Allowed_Amts',\n",
    "'expected':'Sum_Expected_Allowed_Amts',\n",
    "'allow diff':'Sum_Allowable_Diff',\n",
    "'pmt':'Sum_Payments',\n",
    "'refund':'Sum_Refunds',\n",
    "'type':'Transaction_Type',\n",
    "'trnsfr type':'Transfer_Type',\n",
    "'adjall':'Sum_All_Adj'\n",
    "    },\n",
    "    inplace=True)"
   ]
  },
  {
   "cell_type": "code",
   "execution_count": null,
   "metadata": {},
   "outputs": [],
   "source": [
    "df.head()"
   ]
  },
  {
   "cell_type": "code",
   "execution_count": null,
   "metadata": {},
   "outputs": [],
   "source": [
    "# don't need 'Rendering_Provider_ID','Service_Dept_Billing_Name'\n",
    "#df.drop(['Rendering_Provider_ID','Service_Dept_Billing_Name'],inplace=True,axis=1)"
   ]
  },
  {
   "cell_type": "code",
   "execution_count": null,
   "metadata": {},
   "outputs": [],
   "source": [
    "df.head()"
   ]
  },
  {
   "cell_type": "code",
   "execution_count": null,
   "metadata": {},
   "outputs": [],
   "source": [
    "df.info()"
   ]
  },
  {
   "cell_type": "code",
   "execution_count": null,
   "metadata": {},
   "outputs": [],
   "source": [
    "df.describe()"
   ]
  },
  {
   "cell_type": "code",
   "execution_count": null,
   "metadata": {},
   "outputs": [],
   "source": [
    "df.isnull().sum()"
   ]
  },
  {
   "cell_type": "code",
   "execution_count": null,
   "metadata": {},
   "outputs": [],
   "source": [
    "df['Transfer_Type'].unique()"
   ]
  },
  {
   "cell_type": "markdown",
   "metadata": {},
   "source": [
    "################################################################################################################################\n",
    "# Filter data only for Primary Payments\n",
    "################################################################################################################################"
   ]
  },
  {
   "cell_type": "code",
   "execution_count": null,
   "metadata": {},
   "outputs": [],
   "source": [
    "df = df.loc[df['Transfer_Type'] == 'Primary']"
   ]
  },
  {
   "cell_type": "code",
   "execution_count": null,
   "metadata": {
    "scrolled": false
   },
   "outputs": [],
   "source": [
    "df = df.loc[df['Ins_Pkg_Name'] == 'Medicare-NJ (Medicare)']"
   ]
  },
  {
   "cell_type": "code",
   "execution_count": null,
   "metadata": {},
   "outputs": [],
   "source": [
    "df"
   ]
  },
  {
   "cell_type": "code",
   "execution_count": null,
   "metadata": {},
   "outputs": [],
   "source": [
    "df['Proc_Code'], df['Proc_Desc'] = df['Procedure_Codes_with_desc'].str.split(':', 1).str"
   ]
  },
  {
   "cell_type": "code",
   "execution_count": null,
   "metadata": {},
   "outputs": [],
   "source": [
    "df.head(2)"
   ]
  },
  {
   "cell_type": "code",
   "execution_count": null,
   "metadata": {},
   "outputs": [],
   "source": [
    "df.drop(['Procedure_Codes_with_desc'],inplace=True,axis=1)"
   ]
  },
  {
   "cell_type": "code",
   "execution_count": null,
   "metadata": {},
   "outputs": [],
   "source": [
    "df['Proc_Code'].unique()"
   ]
  },
  {
   "cell_type": "code",
   "execution_count": null,
   "metadata": {},
   "outputs": [],
   "source": [
    "df['Proc_Desc'].unique()"
   ]
  },
  {
   "cell_type": "code",
   "execution_count": null,
   "metadata": {},
   "outputs": [],
   "source": [
    " df['Care_Centre'],df['Rendering_Prvdr'] = df['Rendering_Provider'].str.split('_', 1).str"
   ]
  },
  {
   "cell_type": "code",
   "execution_count": null,
   "metadata": {},
   "outputs": [],
   "source": [
    "df"
   ]
  },
  {
   "cell_type": "code",
   "execution_count": null,
   "metadata": {},
   "outputs": [],
   "source": [
    "df.drop(['Rendering_Provider'],inplace=True,axis=1)"
   ]
  },
  {
   "cell_type": "code",
   "execution_count": null,
   "metadata": {},
   "outputs": [],
   "source": [
    "df.head(2)"
   ]
  },
  {
   "cell_type": "code",
   "execution_count": null,
   "metadata": {},
   "outputs": [],
   "source": [
    "df['Care_Centre'].unique()"
   ]
  },
  {
   "cell_type": "code",
   "execution_count": null,
   "metadata": {},
   "outputs": [],
   "source": [
    "df['Rendering_Prvdr'].unique()"
   ]
  },
  {
   "cell_type": "code",
   "execution_count": null,
   "metadata": {},
   "outputs": [],
   "source": [
    "#df['Primary_Diagnosis'] = df['ICD-10_Claim_Diagnosis_Code01'].astype(str) + '/'+ df['ICD-9_Claim_Diagnosis_Code01']"
   ]
  },
  {
   "cell_type": "code",
   "execution_count": null,
   "metadata": {},
   "outputs": [],
   "source": [
    "#df['Secondary_Diagnosis'] = df['ICD-10_Claim_Diagnosis_Code02'].astype(str) + '/'+ df['ICD-9_Claim_Diagnosis_Code02']"
   ]
  },
  {
   "cell_type": "code",
   "execution_count": null,
   "metadata": {},
   "outputs": [],
   "source": [
    "#df.drop(['ICD-9_Claim_Diagnosis_Code01','ICD-10_Claim_Diagnosis_Code01','ICD-9_Claim_Diagnosis_Code02','ICD-10_Claim_Diagnosis_Code02'],inplace=True,axis=1)"
   ]
  },
  {
   "cell_type": "code",
   "execution_count": null,
   "metadata": {},
   "outputs": [],
   "source": [
    "df.head(2)"
   ]
  },
  {
   "cell_type": "code",
   "execution_count": null,
   "metadata": {},
   "outputs": [],
   "source": [
    "df['Sum_Calculated_Allowable']= df['Sum_All_Charges'] - df['Sum_All_Adj']"
   ]
  },
  {
   "cell_type": "code",
   "execution_count": null,
   "metadata": {},
   "outputs": [],
   "source": [
    "df"
   ]
  },
  {
   "cell_type": "code",
   "execution_count": null,
   "metadata": {},
   "outputs": [],
   "source": [
    "df['Primary_Diagnosis_10'].unique()"
   ]
  },
  {
   "cell_type": "code",
   "execution_count": null,
   "metadata": {},
   "outputs": [],
   "source": [
    "df['Primary_Diagnosis_9'].unique()"
   ]
  },
  {
   "cell_type": "code",
   "execution_count": null,
   "metadata": {},
   "outputs": [],
   "source": [
    "replacements = {\n",
    "   'Primary_Diagnosis_10': {\n",
    "        \n",
    "       \n",
    "        r'(H3532.*)': 'AMD - Wet',\n",
    "        r'(E1.*)': 'Other - DM',\n",
    "        r'(H3531.*)': 'AMD - Dry',\n",
    "        r'(H358.*)': 'BRVO',\n",
    "        r'(H3483.*)': 'BRVO',\n",
    "        r'(Q.*)': 'Congenital',\n",
    "        r'(H3481.*)': 'CRVO',\n",
    "        r'(S[0-9].*)': 'Injury',\n",
    "        r'(T[0-9].*)': 'Injury',\n",
    "        #r'(T1.*)': 'Injury',\n",
    "        #r'(T2.*)': 'Injury',\n",
    "        #r'(T66.*)': 'Injury',\n",
    "        r'(H44.*)': 'mCNV',\n",
    "        r'(C[0-9].*)':'Neoplasm',\n",
    "        #r'(C2.*)':'Neoplasm',\n",
    "        #r'(C3.*)':'Neoplasm',\n",
    "        #r'(C6.*)':'Neoplasm',\n",
    "        r'(D[0-9].*)':'Neoplasm',\n",
    "        #r'(D2.*)':'Neoplasm',\n",
    "        #r'(D3.*)':'Neoplasm',\n",
    "        #r'(D6.*)':'Neoplasm',\n",
    "        r'(H3537.*)': 'Puckering',\n",
    "        r'(H33.*)': 'RD',\n",
    "        r'(H431.*)':'Vitreous Degeneration',\n",
    "        r'(H438.*)':'Vitreous Degeneration',\n",
    "       \n",
    "\n",
    "\n",
    "        \n",
    "   }\n",
    "}\n",
    "df.replace(replacements, regex=True, inplace=True)\n",
    "df"
   ]
  },
  {
   "cell_type": "code",
   "execution_count": null,
   "metadata": {},
   "outputs": [],
   "source": [
    "df['Primary_Diagnosis_10'].unique()"
   ]
  },
  {
   "cell_type": "code",
   "execution_count": null,
   "metadata": {},
   "outputs": [],
   "source": [
    "df['Primary_Diagnosis']= df['Primary_Diagnosis_10'].replace(['H40041', 'H35713','Z98890',\n",
    "       'H35352', 'H35413', 'H5213', 'H30132', 'H20052', 'H40052',\n",
    "       'H33311', 'H3562', 'BRVO', 'H35342', 'H35353', 'M316', 'H43393',\n",
    "       'Z961', 'H33312', 'H20042', 'H35073', 'H20013',\n",
    "       'H3553', 'H5316', 'H35461', 'H35351', 'H35711', 'H35712',\n",
    "       'H47333', 'H35341','H3023', 'G43B1', 'H3570', 'H538',\n",
    "       'H35412', 'H2589', 'H3552', 'H30012', 'H33313', 'H3341', 'H47092',\n",
    "       'H0013', 'H401130', 'H3561', 'H33192', 'H3533', 'H47012', 'H3563',\n",
    "       'Z79899', 'H53122', 'H33103', 'H33302', 'B394', 'H33322', 'H35411',\n",
    "       'H209', 'H35051', 'H35362', 'H18231', 'H0102A', 'H35033', 'H59021',\n",
    "       'H3509', 'H211X2', 'G453', 'H33321', 'H2511', 'H59022', 'H5709',\n",
    "       'H4089', 'H40053', 'B029', 'H5203', 'H4710', 'B5801', 'H27132',\n",
    "       'H40023', 'H338', 'H31012', 'H43392', 'H33303', 'H33193', 'H318',\n",
    "       'H3342', 'H34211', 'H15101', 'H40012', 'D485', 'H3554', 'H33301',\n",
    "       'G932', 'H04123', 'Z947', 'H47323', 'H27112', 'H35053', 'H20823',\n",
    "       'Z9001', 'H3321', 'H2513', 'H40003', 'H47011', 'H43391', 'H35361',\n",
    "       'H16223', 'H3412', 'G8911', 'H25813', 'H3411', 'Congenital',\n",
    "       'H31001', 'H40013', 'H20023', 'H26491', 'H35052', 'H35731',\n",
    "       'H3092', 'H409', 'H27131', 'H2102', 'H01003', 'H401132', 'H35432',\n",
    "       'H26102', 'H4749', 'H35363', 'G7000', 'B0052', 'C439', 'H53431',\n",
    "       'H21301', 'H25812', 'H34231', 'H11002', 'Z0000', 'D571', 'H4901',\n",
    "       'H35063', 'H31401', 'H35042', 'H35103', 'H33323', 'H35722',\n",
    "       'G43B0', 'H30112', 'H3522', 'H21233', 'H3021', 'H30102', 'H52212',\n",
    "       'H27111', 'H40051', 'H5351', 'H35343', 'H0016', 'H35383', 'H2013',\n",
    "       'D487', 'H31092', 'H01004', 'H2021', 'H2000', 'H00016', 'Z4801',\n",
    "       'H35041', 'H1811', 'H5319', 'H401133', 'G510', 'H35433', 'H1840',\n",
    "       'H3323', 'H3093', 'A150', 'H01023', 'H34232', 'H35021', 'H35071',\n",
    "       'H31411', 'H33191', 'H31112', 'H401131', 'H3530', 'H31091',\n",
    "       'H3523', 'H1132', 'H18221', 'H5712', 'H26493', 'H532', 'H26492',\n",
    "       'H25811', 'H527', 'H35072', 'H25041', 'H35721', 'H2512', 'H30143',\n",
    "       'H53433', 'H1089', 'H59023', 'H40021', 'H31111', 'H1012', 'H40022',\n",
    "       'H35463', 'H35133', 'H15012', 'H20012', 'H15032', 'H4602',\n",
    "       'H15832', 'M0800', 'H16143', 'H3322', 'H02053', 'H401120', 'B0239',\n",
    "       'H31412', 'H4042X0', 'H543', 'H401421', 'H34212', 'H53453',\n",
    "       'H5340', 'H401110', 'H40042', 'H27121', 'H11441', 'H479', 'H33102',\n",
    "       'H16001', 'H30041', 'H47291', 'H53432', 'H31002', 'H47292',\n",
    "       'H18422', 'H20021', 'H5789', 'H53121', 'H25043', 'H30021',\n",
    "       'H30131', 'H3022', 'H2011', 'H401113', 'H1033', 'H31422', 'H20011',\n",
    "       'H35023', 'H35723', 'H53123', 'H47091', 'H3091', 'H4061X2',\n",
    "       'H02403', 'H31011', 'H53041', 'H53451', 'H47321', 'H53412',\n",
    "       'H401112', 'H27122', 'H1045', 'H47013', 'Z794', 'H35113', 'B830',\n",
    "       'H4323', 'H18831', 'H04129', 'H0520', 'H53142', 'H259', 'H57813',\n",
    "       'H47392', 'H47332', 'H524', 'H211X1', 'G309', 'H18421', 'H10022',\n",
    "       'H349', 'H35022', 'H4062X0', 'H31423', 'H1820', 'H31093', 'H20022',\n",
    "       'H3500', 'H16102', 'H539', 'H1131', 'H401121', 'H21542', 'H4612',\n",
    "       'H31102', 'L570', 'H5704', 'H15833', 'H4713', 'H402230', 'H53459',\n",
    "       'H4322', 'R0789', 'H02413', 'R112', 'Z87448', 'H40049', 'H2701',\n",
    "       'H4601', 'H31311', 'H53421', 'H15102', 'H35462', 'H47093', 'H179',\n",
    "       'H402211', 'H10011', 'H33332', 'H02409', 'H31301', 'H401123',\n",
    "       'H1133', 'D499', 'H16203', 'H33101', 'H2101', 'H30133', 'H3122',\n",
    "       'H33331', 'G379', 'G35', 'B308', 'H4302', 'H53461', 'H25042',\n",
    "       'H40043', 'H35032', 'H401434', 'H2142', 'H04322', 'H30142',\n",
    "       'H47312', 'H4061X4', 'H59092', 'H01006', 'H04121', 'H547',\n",
    "       'H20821', 'H4711', 'A5143', 'H5111', 'H548', 'H53133', 'H5711',\n",
    "       'H4031X1', 'H34233', 'H401134', 'H16122', 'H4611', 'H04329',\n",
    "       'H3551', 'H16101', 'H4720', 'H3560', 'H16141', 'H401111', 'H01026',\n",
    "       'H10021', 'H468', 'H15121', 'Z8709', 'B259', 'R55', 'H31003',\n",
    "       'H4722', 'R5081','H33112', 'H31103', 'Injury', 'H16042', 'H3120',\n",
    "       'T378X5A', 'G8918', 'H04122', 'H15011', 'H3343', 'H47331',\n",
    "       'H25012', 'H4603', 'H35031', 'H1851', 'H1032', 'H402222', 'H53143',\n",
    "       'H33111', 'H40231', 'H20822', 'H04203', 'R51', 'H2022', 'I6529',\n",
    "       'H47293', 'I4891', 'H21569', 'H01009', 'H00025', 'H401232',\n",
    "       'H21341', 'H35011', 'Z83518', 'H31321', 'H3550', 'H1812', 'H27123',\n",
    "       'H35013', 'H31421', 'H40033', 'H30149', 'H2012', 'H53002',\n",
    "       'H53001', 'D869', 'H16002', 'H402223', 'H21541', 'M3210', 'H50811',\n",
    "       'H40009', 'E0500', 'H47033', 'H4041X2', 'H30002', 'H18423',\n",
    "       'H21262', 'H5231', 'H00031', 'Z821', 'Z000', 'H5941', 'H5010',\n",
    "       'H30141', 'H35043', 'H02833', 'H463', 'H26101', 'H401122',\n",
    "       'H53411', 'H16221', 'H35061', 'H40002', 'H4911', 'H18462',\n",
    "       'H53132', 'G20', 'H30003', 'H469', 'H5350', 'H26131', 'H3413',\n",
    "       'H35423', 'H16012', 'H21312', 'H1031', 'H30043', 'H5211', 'H00023',\n",
    "       'H35062', 'I10', 'H401310', 'H30103', 'K223', 'C8440','G43109','H34821'],'OTHER',inplace=True)"
   ]
  },
  {
   "cell_type": "code",
   "execution_count": null,
   "metadata": {},
   "outputs": [],
   "source": [
    "df['Primary_Diagnosis_10'].unique()"
   ]
  },
  {
   "cell_type": "code",
   "execution_count": null,
   "metadata": {},
   "outputs": [],
   "source": [
    "df.head()"
   ]
  },
  {
   "cell_type": "code",
   "execution_count": null,
   "metadata": {},
   "outputs": [],
   "source": [
    "df['Proc_Code'].isnull().sum()"
   ]
  },
  {
   "cell_type": "code",
   "execution_count": null,
   "metadata": {},
   "outputs": [],
   "source": [
    "df['Proc_Code_Copy'] = df['Proc_Code']"
   ]
  },
  {
   "cell_type": "code",
   "execution_count": null,
   "metadata": {},
   "outputs": [],
   "source": [
    "#df.groupby(['Claim_ID'])"
   ]
  },
  {
   "cell_type": "code",
   "execution_count": null,
   "metadata": {},
   "outputs": [],
   "source": [
    "df_Modifier = df.loc[df['Proc_Code'].str.startswith(('J','C'))]"
   ]
  },
  {
   "cell_type": "code",
   "execution_count": null,
   "metadata": {},
   "outputs": [],
   "source": [
    "df_Modifier"
   ]
  },
  {
   "cell_type": "code",
   "execution_count": null,
   "metadata": {},
   "outputs": [],
   "source": [
    "df_Modifier['Proc_Desc'].isnull().sum()"
   ]
  },
  {
   "cell_type": "code",
   "execution_count": null,
   "metadata": {},
   "outputs": [],
   "source": [
    "df_Modifier['Proc_Code'].isnull().sum()"
   ]
  },
  {
   "cell_type": "code",
   "execution_count": null,
   "metadata": {},
   "outputs": [],
   "source": [
    "#df_Modifier['Proc_Desc'].dtypes()"
   ]
  },
  {
   "cell_type": "code",
   "execution_count": null,
   "metadata": {},
   "outputs": [],
   "source": [
    "#df_Modifier.loc['Modifier_Name'] = df_Modifier['Proc_Desc'].apply(lambda x: x.split()[0].strip())\n"
   ]
  },
  {
   "cell_type": "code",
   "execution_count": null,
   "metadata": {},
   "outputs": [],
   "source": [
    "#df_Modifier.groupby(['Ins_Pkg_Name'],as_index=False)[[\"Sum_Charge_Units\", \"Sum_Net_Payments\", \"Sum_All_Charges\",\"Sum_Contractual_Adj\",\"Sum_Actual_Allowed_Amts\"]].sum()"
   ]
  },
  {
   "cell_type": "code",
   "execution_count": null,
   "metadata": {},
   "outputs": [],
   "source": [
    "df_Modifier_New= (df_Modifier.groupby(['Ins_Pkg_Name','Primary_Diagnosis_10','Proc_Code','Proc_Desc','Proc_Code_Group'])\n",
    "    .agg({'Claim_ID':'count','Proc_Code_Copy':'count','Patient_ID':'count','Sum_Charge_Units': 'sum','Sum_Net_Payments':'sum','Sum_Charges':'sum','Sum_All_Charges':'sum',\n",
    "         'Sum_Contractual_Adj':'sum','Sum_Actual_Allowed_Amts':'sum','Sum_Expected_Allowed_Amts':'sum','Sum_All_Adj':'sum','Sum_Calculated_Allowable':'sum','Sum_Allowable_Diff':'sum','Sum_Payments':'sum',\n",
    "          'Sum_Refunds':'sum',})\n",
    "    .reset_index()\n",
    "    .rename(columns={'Claim_ID':'#EOCs','Proc_Code_Copy':'#Units','Patient_ID':'#Patient_ID','Sum_Charge_Units':'Total_#Charge_Units',\n",
    "                     'Sum_Charges':'Total_Charges','Sum_Net_Payments':'EOC_Total_Pmts_of_code_portion_only','Sum_All_Charges':'EOC_Total_Pmts',\n",
    "                     'Sum_Contractual_Adj':'EOC_Total_Pmts_of_non-code_portion_only','Sum_Calculated_Allowable':'EOC_Total_Calculated_Allowable','Sum_Actual_Allowed_Amts':'Total_Actual_Allowed_Amts',\n",
    "                     'Sum_Expected_Allowed_Amts':'Total_Expected_Allowed_Amts','Sum_All_Adj':'Total_All_Adj','Sum_Allowable_Diff':'Total_Allowable_Diff','Sum_Payments':'Total_Payments','Sum_Refunds':'Total_Refunds'})\n",
    ")"
   ]
  },
  {
   "cell_type": "code",
   "execution_count": null,
   "metadata": {},
   "outputs": [],
   "source": [
    "df_Modifier_New"
   ]
  },
  {
   "cell_type": "code",
   "execution_count": null,
   "metadata": {},
   "outputs": [],
   "source": [
    "#df_Modifier[['Primary_Diagnosis'].contains('H353290/36252','H353291/36252','H353292/36252','H353293/36252').replace('AMD - Wet')]\n",
    "  "
   ]
  },
  {
   "cell_type": "markdown",
   "metadata": {},
   "source": [
    "################################################################################################################################\n",
    "# AMD - Wet\n",
    "################################################################################################################################"
   ]
  },
  {
   "cell_type": "code",
   "execution_count": null,
   "metadata": {},
   "outputs": [],
   "source": [
    "df_AMD_Wet=df_Modifier_New.loc[df_Modifier_New['Primary_Diagnosis_10'] == 'AMD - Wet']"
   ]
  },
  {
   "cell_type": "code",
   "execution_count": null,
   "metadata": {},
   "outputs": [],
   "source": [
    "Report_AMD_Wet=df_AMD_Wet.groupby(['Proc_Code','Proc_Desc','Proc_Code_Group'],as_index=False)[[\"#EOCs\",\"#Units\",\"#Patient_ID\",\"Total_#Charge_Units\", \"Total_Charges\",\"EOC_Total_Pmts_of_code_portion_only\",'EOC_Total_Pmts',\"EOC_Total_Pmts_of_non-code_portion_only\",'EOC_Total_Calculated_Allowable',\"Total_Actual_Allowed_Amts\",'Total_Expected_Allowed_Amts','Total_All_Adj','Total_Allowable_Diff','Total_Payments','Total_Refunds']].sum()\n"
   ]
  },
  {
   "cell_type": "code",
   "execution_count": null,
   "metadata": {},
   "outputs": [],
   "source": [
    "Report_AMD_Wet"
   ]
  },
  {
   "cell_type": "code",
   "execution_count": null,
   "metadata": {},
   "outputs": [],
   "source": [
    "total_amd = Report_AMD_Wet.apply(np.sum)\n",
    "total_amd['Proc_Code_Group'] = 'Total'\n",
    "Report_AMD_Wet_New= Report_AMD_Wet.append(pd.DataFrame(total_amd.values, index=total_amd.keys()).T, ignore_index=True)"
   ]
  },
  {
   "cell_type": "code",
   "execution_count": null,
   "metadata": {},
   "outputs": [],
   "source": [
    "Report_AMD_Wet_New"
   ]
  },
  {
   "cell_type": "code",
   "execution_count": null,
   "metadata": {},
   "outputs": [],
   "source": [
    "list(Report_AMD_Wet_New['Proc_Code'])"
   ]
  },
  {
   "cell_type": "code",
   "execution_count": null,
   "metadata": {},
   "outputs": [],
   "source": [
    "def percentage_code(column): \n",
    "    if column['EOC_Total_Pmts'] != 0 :\n",
    "        return ((column['EOC_Total_Pmts_of_code_portion_only']/ column['EOC_Total_Pmts'])*100)\n",
    "    else :\n",
    "        return 0\n",
    "\n"
   ]
  },
  {
   "cell_type": "code",
   "execution_count": null,
   "metadata": {},
   "outputs": [],
   "source": [
    "Report_AMD_Wet_New['%_of_code_portion'] = Report_AMD_Wet_New.apply(percentage_code, axis=1) \n"
   ]
  },
  {
   "cell_type": "code",
   "execution_count": null,
   "metadata": {},
   "outputs": [],
   "source": [
    "def percentage_non_code(column): \n",
    "    if column['EOC_Total_Pmts'] != 0 :\n",
    "        return ((column['EOC_Total_Pmts_of_non-code_portion_only']/ column['EOC_Total_Pmts'])*100)\n",
    "    else :\n",
    "        return 0"
   ]
  },
  {
   "cell_type": "code",
   "execution_count": null,
   "metadata": {},
   "outputs": [],
   "source": [
    "Report_AMD_Wet_New['%_of_non_code_portion'] = Report_AMD_Wet_New.apply(percentage_non_code, axis=1) "
   ]
  },
  {
   "cell_type": "code",
   "execution_count": null,
   "metadata": {},
   "outputs": [],
   "source": [
    "Report_AMD_Wet_New"
   ]
  },
  {
   "cell_type": "code",
   "execution_count": null,
   "metadata": {},
   "outputs": [],
   "source": [
    "def eoc_avg_pmt(column): \n",
    "    if column['#EOCs'] != 0 :\n",
    "        return ((column['EOC_Total_Pmts']/ column['#EOCs']))\n",
    "    else :\n",
    "        return 0"
   ]
  },
  {
   "cell_type": "code",
   "execution_count": null,
   "metadata": {},
   "outputs": [],
   "source": [
    "Report_AMD_Wet_New['EOC_Avg_Pmts'] = Report_AMD_Wet_New.apply(eoc_avg_pmt, axis=1) "
   ]
  },
  {
   "cell_type": "code",
   "execution_count": null,
   "metadata": {},
   "outputs": [],
   "source": [
    "#Function to create output data folder to store graph and .csv \n",
    "def create_directory_for_output():\n",
    "    data_folder = os.path.join(\"..\", \"EOC_Raw_Data\", 'EOC_Reports_Medicare')\n",
    "    if not os.path.exists(data_folder):\n",
    "        os.mkdir(data_folder)\n",
    "    return data_folder\n",
    "\n",
    "output_folder=create_directory_for_output()\n",
    "output_folder"
   ]
  },
  {
   "cell_type": "code",
   "execution_count": null,
   "metadata": {},
   "outputs": [],
   "source": [
    "#csv file name and path\n",
    "file_name = 'Report_AMD_Wet'\n",
    "file_path = os.path.join(output_folder, file_name)\n",
    "file_path+='.csv'\n",
    "Report_AMD_Wet_New.to_csv(file_path,index=False)"
   ]
  },
  {
   "cell_type": "code",
   "execution_count": null,
   "metadata": {},
   "outputs": [],
   "source": [
    "df_Itemized = df[~df['Proc_Code'].isin(['C9257','J0178','J0278','J0713','J2001','J2778','J2778,03MG','J2778,N,03MG','J2778,PF3','J2778,PF5','J2997','J3300','J3301','J3370','J3396','J3490,F','J3490,M','J7312','J7313','J9035','J9250'])]"
   ]
  },
  {
   "cell_type": "code",
   "execution_count": null,
   "metadata": {},
   "outputs": [],
   "source": [
    "df_Itemized "
   ]
  },
  {
   "cell_type": "code",
   "execution_count": null,
   "metadata": {},
   "outputs": [],
   "source": [
    "df_Itemized_New= (df_Itemized.groupby(['Ins_Pkg_Name','Primary_Diagnosis_10','Proc_Code','Proc_Desc','Proc_Code_Group'])\n",
    "    .agg({'Claim_ID':'count','Proc_Code_Copy':'count','Patient_ID':'count','Sum_Charge_Units': 'sum','Sum_Net_Payments':'sum','Sum_Charges':'sum','Sum_All_Charges':'sum',\n",
    "         'Sum_Contractual_Adj':'sum','Sum_Actual_Allowed_Amts':'sum','Sum_Expected_Allowed_Amts':'sum','Sum_All_Adj':'sum','Sum_Calculated_Allowable':'sum','Sum_Allowable_Diff':'sum','Sum_Payments':'sum',\n",
    "          'Sum_Refunds':'sum',})\n",
    "    .reset_index()\n",
    "    .rename(columns={'Claim_ID':'#EOCs','Proc_Code_Copy':'#Units','Patient_ID':'#Patient_ID','Sum_Charge_Units':'Total_#Charge_Units',\n",
    "                     'Sum_Charges':'Total_Charges','Sum_Net_Payments':'EOC_Total_Pmts_of_code_portion_only','Sum_All_Charges':'EOC_Total_Pmts',\n",
    "                     'Sum_Contractual_Adj':'EOC_Total_Pmts_of_non-code_portion_only','Sum_Calculated_Allowable':'EOC_Total_Calculated_Allowable','Sum_Actual_Allowed_Amts':'Total_Actual_Allowed_Amts',\n",
    "                     'Sum_Expected_Allowed_Amts':'Total_Expected_Allowed_Amts','Sum_All_Adj':'Total_All_Adj','Sum_Allowable_Diff':'Total_Allowable_Diff','Sum_Payments':'Total_Payments','Sum_Refunds':'Total_Refunds'})\n",
    ")"
   ]
  },
  {
   "cell_type": "code",
   "execution_count": null,
   "metadata": {},
   "outputs": [],
   "source": [
    "df_Itemized_New"
   ]
  },
  {
   "cell_type": "code",
   "execution_count": null,
   "metadata": {},
   "outputs": [],
   "source": [
    "df_Itemized_AMD_Wet=df_Itemized_New.loc[df_Itemized_New['Primary_Diagnosis_10'] == 'AMD - Wet']"
   ]
  },
  {
   "cell_type": "code",
   "execution_count": null,
   "metadata": {},
   "outputs": [],
   "source": [
    "Report_Itemized_AMD_Wet=df_Itemized_AMD_Wet.groupby(['Proc_Code','Proc_Desc','Proc_Code_Group'],as_index=False)[[\"#EOCs\",\"#Units\",\"#Patient_ID\",\"Total_#Charge_Units\", \"Total_Charges\",\"EOC_Total_Pmts_of_code_portion_only\",'EOC_Total_Pmts',\"EOC_Total_Pmts_of_non-code_portion_only\",'EOC_Total_Calculated_Allowable',\"Total_Actual_Allowed_Amts\",'Total_Expected_Allowed_Amts','Total_All_Adj','Total_Allowable_Diff','Total_Payments','Total_Refunds']].sum()\n"
   ]
  },
  {
   "cell_type": "code",
   "execution_count": null,
   "metadata": {},
   "outputs": [],
   "source": [
    "Report_Itemized_AMD_Wet"
   ]
  },
  {
   "cell_type": "code",
   "execution_count": null,
   "metadata": {},
   "outputs": [],
   "source": [
    "total_amd = Report_Itemized_AMD_Wet.apply(np.sum)\n",
    "total_amd['Proc_Code_Group'] = 'Total'\n",
    "Report_Itemized_AMD_Wet_New= Report_Itemized_AMD_Wet.append(pd.DataFrame(total_amd.values, index=total_amd.keys()).T, ignore_index=True,sort=False)"
   ]
  },
  {
   "cell_type": "code",
   "execution_count": null,
   "metadata": {},
   "outputs": [],
   "source": [
    "Report_Itemized_AMD_Wet_New['%_of_code_portion'] = Report_Itemized_AMD_Wet_New.apply(percentage_code, axis=1) \n",
    "Report_Itemized_AMD_Wet_New['%_of_non_code_portion'] = Report_Itemized_AMD_Wet_New.apply(percentage_non_code, axis=1) \n",
    "Report_Itemized_AMD_Wet_New['EOC_Avg_Pmts'] = Report_Itemized_AMD_Wet_New.apply(eoc_avg_pmt, axis=1) "
   ]
  },
  {
   "cell_type": "code",
   "execution_count": null,
   "metadata": {},
   "outputs": [],
   "source": [
    "Report_Itemized_AMD_Wet_New"
   ]
  },
  {
   "cell_type": "code",
   "execution_count": null,
   "metadata": {},
   "outputs": [],
   "source": [
    "#csv file name and path\n",
    "file_name = 'Report_Itemized_AMD_Wet'\n",
    "file_path = os.path.join(output_folder, file_name)\n",
    "file_path+='.csv'\n",
    "Report_Itemized_AMD_Wet_New.to_csv(file_path,index=False)"
   ]
  },
  {
   "cell_type": "markdown",
   "metadata": {},
   "source": [
    "################################################################################################################################\n",
    "# CRVO\n",
    "################################################################################################################################"
   ]
  },
  {
   "cell_type": "code",
   "execution_count": null,
   "metadata": {},
   "outputs": [],
   "source": [
    "df_CRVO=df_Modifier_New.loc[df_Modifier_New['Primary_Diagnosis_10'] == 'CRVO']\n",
    "Report_CRVO=df_CRVO.groupby(['Proc_Code','Proc_Desc','Proc_Code_Group'],as_index=False)[[\"#EOCs\",\"#Units\",\"#Patient_ID\",\"Total_#Charge_Units\", \"Total_Charges\",\"EOC_Total_Pmts_of_code_portion_only\",'EOC_Total_Pmts',\"EOC_Total_Pmts_of_non-code_portion_only\",'EOC_Total_Calculated_Allowable',\"Total_Actual_Allowed_Amts\",'Total_Expected_Allowed_Amts','Total_All_Adj','Total_Allowable_Diff','Total_Payments','Total_Refunds']].sum()\n",
    "Report_CRVO\n",
    "total_crvo = Report_CRVO.apply(np.sum)\n",
    "total_crvo['Proc_Code_Group'] = 'Total'\n",
    "Report_CRVO_New= Report_CRVO.append(pd.DataFrame(total_crvo.values, index=total_crvo.keys()).T, ignore_index=True,sort=False)\n",
    "Report_CRVO_New['%_of_code_portion'] = Report_CRVO_New.apply(percentage_code, axis=1) \n",
    "Report_CRVO_New['%_of_non_code_portion'] = Report_CRVO_New.apply(percentage_non_code, axis=1) \n",
    "Report_CRVO_New['EOC_Avg_Pmts'] = Report_CRVO_New.apply(eoc_avg_pmt, axis=1) "
   ]
  },
  {
   "cell_type": "code",
   "execution_count": null,
   "metadata": {},
   "outputs": [],
   "source": [
    "Report_CRVO_New"
   ]
  },
  {
   "cell_type": "code",
   "execution_count": null,
   "metadata": {},
   "outputs": [],
   "source": [
    "#csv file name and path\n",
    "file_name = 'Report_CRVO'\n",
    "file_path = os.path.join(output_folder, file_name)\n",
    "file_path+='.csv'\n",
    "Report_CRVO_New.to_csv(file_path,index=False)"
   ]
  },
  {
   "cell_type": "code",
   "execution_count": null,
   "metadata": {},
   "outputs": [],
   "source": [
    "df_Itemized_CRVO=df_Itemized_New.loc[df_Itemized_New['Primary_Diagnosis_10'] == 'CRVO']\n",
    "Report_Itemized_CRVO=df_Itemized_CRVO.groupby(['Proc_Code','Proc_Desc','Proc_Code_Group'],as_index=False)[[\"#EOCs\",\"#Units\",\"#Patient_ID\",\"Total_#Charge_Units\", \"Total_Charges\",\"EOC_Total_Pmts_of_code_portion_only\",'EOC_Total_Pmts',\"EOC_Total_Pmts_of_non-code_portion_only\",'EOC_Total_Calculated_Allowable',\"Total_Actual_Allowed_Amts\",'Total_Expected_Allowed_Amts','Total_All_Adj','Total_Allowable_Diff','Total_Payments','Total_Refunds']].sum()\n",
    "Report_Itemized_CRVO\n",
    "total_crvo = Report_Itemized_CRVO.apply(np.sum)\n",
    "total_crvo['Proc_Code_Group'] = 'Total'\n",
    "Report_Itemized_CRVO_New= Report_Itemized_CRVO.append(pd.DataFrame(total_crvo.values, index=total_crvo.keys()).T, ignore_index=True,sort=False)\n",
    "Report_Itemized_CRVO_New['%_of_code_portion'] = Report_Itemized_CRVO_New.apply(percentage_code, axis=1) \n",
    "Report_Itemized_CRVO_New['%_of_non_code_portion'] = Report_Itemized_CRVO_New.apply(percentage_non_code, axis=1) \n",
    "Report_Itemized_CRVO_New['EOC_Avg_Pmts'] = Report_Itemized_CRVO_New.apply(eoc_avg_pmt, axis=1)"
   ]
  },
  {
   "cell_type": "code",
   "execution_count": null,
   "metadata": {},
   "outputs": [],
   "source": [
    "Report_Itemized_CRVO_New"
   ]
  },
  {
   "cell_type": "code",
   "execution_count": null,
   "metadata": {},
   "outputs": [],
   "source": [
    "#csv file name and path\n",
    "file_name = 'Report_Itemized_CRVO'\n",
    "file_path = os.path.join(output_folder, file_name)\n",
    "file_path+='.csv'\n",
    "Report_Itemized_CRVO_New.to_csv(file_path,index=False)"
   ]
  },
  {
   "cell_type": "markdown",
   "metadata": {},
   "source": [
    "################################################################################################################################\n",
    "# BRVO\n",
    "################################################################################################################################"
   ]
  },
  {
   "cell_type": "code",
   "execution_count": null,
   "metadata": {},
   "outputs": [],
   "source": [
    "df_BRVO=df_Modifier_New.loc[df_Modifier_New['Primary_Diagnosis_10'] == 'BRVO']\n",
    "Report_BRVO=df_BRVO.groupby(['Proc_Code','Proc_Desc','Proc_Code_Group'],as_index=False)[[\"#EOCs\",\"#Units\",\"#Patient_ID\",\"Total_#Charge_Units\", \"Total_Charges\",\"EOC_Total_Pmts_of_code_portion_only\",'EOC_Total_Pmts',\"EOC_Total_Pmts_of_non-code_portion_only\",'EOC_Total_Calculated_Allowable',\"Total_Actual_Allowed_Amts\",'Total_Expected_Allowed_Amts','Total_All_Adj','Total_Allowable_Diff','Total_Payments','Total_Refunds']].sum()\n",
    "Report_BRVO\n",
    "total_brvo = Report_BRVO.apply(np.sum)\n",
    "total_brvo['Proc_Code_Group'] = 'Total'\n",
    "Report_BRVO_New= Report_BRVO.append(pd.DataFrame(total_brvo.values, index=total_brvo.keys()).T, ignore_index=True,sort=False)\n",
    "Report_BRVO_New['%_of_code_portion'] = Report_BRVO_New.apply(percentage_code, axis=1) \n",
    "Report_BRVO_New['%_of_non_code_portion'] = Report_BRVO_New.apply(percentage_non_code, axis=1) \n",
    "Report_BRVO_New['EOC_Avg_Pmts'] = Report_BRVO_New.apply(eoc_avg_pmt, axis=1) "
   ]
  },
  {
   "cell_type": "code",
   "execution_count": null,
   "metadata": {},
   "outputs": [],
   "source": [
    "Report_BRVO_New"
   ]
  },
  {
   "cell_type": "code",
   "execution_count": null,
   "metadata": {},
   "outputs": [],
   "source": [
    "#csv file name and path\n",
    "file_name = 'Report_BRVO'\n",
    "file_path = os.path.join(output_folder, file_name)\n",
    "file_path+='.csv'\n",
    "Report_BRVO_New.to_csv(file_path,index=False)"
   ]
  },
  {
   "cell_type": "code",
   "execution_count": null,
   "metadata": {},
   "outputs": [],
   "source": [
    "df_Itemized_BRVO=df_Itemized_New.loc[df_Itemized_New['Primary_Diagnosis_10'] == 'BRVO']\n",
    "Report_Itemized_BRVO=df_Itemized_BRVO.groupby(['Proc_Code','Proc_Desc','Proc_Code_Group'],as_index=False)[[\"#EOCs\",\"#Units\",\"#Patient_ID\",\"Total_#Charge_Units\", \"Total_Charges\",\"EOC_Total_Pmts_of_code_portion_only\",'EOC_Total_Pmts',\"EOC_Total_Pmts_of_non-code_portion_only\",'EOC_Total_Calculated_Allowable',\"Total_Actual_Allowed_Amts\",'Total_Expected_Allowed_Amts','Total_All_Adj','Total_Allowable_Diff','Total_Payments','Total_Refunds']].sum()\n",
    "Report_Itemized_BRVO\n",
    "total_brvo = Report_Itemized_BRVO.apply(np.sum)\n",
    "total_brvo['Proc_Code_Group'] = 'Total'\n",
    "Report_Itemized_BRVO_New= Report_Itemized_BRVO.append(pd.DataFrame(total_brvo.values, index=total_brvo.keys()).T, ignore_index=True,sort=False)\n",
    "Report_Itemized_BRVO_New['%_of_code_portion'] = Report_Itemized_BRVO_New.apply(percentage_code, axis=1) \n",
    "Report_Itemized_BRVO_New['%_of_non_code_portion'] = Report_Itemized_BRVO_New.apply(percentage_non_code, axis=1) \n",
    "Report_Itemized_BRVO_New['EOC_Avg_Pmts'] = Report_Itemized_BRVO_New.apply(eoc_avg_pmt, axis=1)"
   ]
  },
  {
   "cell_type": "code",
   "execution_count": null,
   "metadata": {},
   "outputs": [],
   "source": [
    "Report_Itemized_BRVO_New"
   ]
  },
  {
   "cell_type": "code",
   "execution_count": null,
   "metadata": {},
   "outputs": [],
   "source": [
    "#csv file name and path\n",
    "file_name = 'Report_Itemized_BRVO'\n",
    "file_path = os.path.join(output_folder, file_name)\n",
    "file_path+='.csv'\n",
    "Report_Itemized_BRVO_New.to_csv(file_path,index=False)"
   ]
  },
  {
   "cell_type": "markdown",
   "metadata": {},
   "source": [
    "################################################################################################################################\n",
    "# AMD - Dry\n",
    "################################################################################################################################"
   ]
  },
  {
   "cell_type": "code",
   "execution_count": null,
   "metadata": {},
   "outputs": [],
   "source": [
    "df_AMD_Dry=df_Modifier_New.loc[df_Modifier_New['Primary_Diagnosis_10'] == 'AMD - Dry']\n",
    "Report_AMD_Dry=df_AMD_Dry.groupby(['Proc_Code','Proc_Desc','Proc_Code_Group'],as_index=False)[[\"#EOCs\",\"#Units\",\"#Patient_ID\",\"Total_#Charge_Units\", \"Total_Charges\",\"EOC_Total_Pmts_of_code_portion_only\",'EOC_Total_Pmts',\"EOC_Total_Pmts_of_non-code_portion_only\",'EOC_Total_Calculated_Allowable',\"Total_Actual_Allowed_Amts\",'Total_Expected_Allowed_Amts','Total_All_Adj','Total_Allowable_Diff','Total_Payments','Total_Refunds']].sum()\n",
    "Report_AMD_Dry\n",
    "total_amdy = Report_AMD_Dry.apply(np.sum)\n",
    "total_amdy['Proc_Code_Group'] = 'Total'\n",
    "Report_AMD_Dry_New= Report_AMD_Dry.append(pd.DataFrame(total_amdy.values, index=total_amdy.keys()).T, ignore_index=True,sort=False)\n",
    "Report_AMD_Dry_New['%_of_code_portion'] = Report_AMD_Dry_New.apply(percentage_code, axis=1) \n",
    "Report_AMD_Dry_New['%_of_non_code_portion'] = Report_AMD_Dry_New.apply(percentage_non_code, axis=1) \n",
    "Report_AMD_Dry_New['EOC_Avg_Pmts'] = Report_AMD_Dry_New.apply(eoc_avg_pmt, axis=1)"
   ]
  },
  {
   "cell_type": "code",
   "execution_count": null,
   "metadata": {},
   "outputs": [],
   "source": [
    "Report_AMD_Dry_New"
   ]
  },
  {
   "cell_type": "code",
   "execution_count": null,
   "metadata": {},
   "outputs": [],
   "source": [
    "#csv file name and path\n",
    "file_name = 'Report_AMD_Dry'\n",
    "file_path = os.path.join(output_folder, file_name)\n",
    "file_path+='.csv'\n",
    "Report_AMD_Dry_New.to_csv(file_path,index=False)"
   ]
  },
  {
   "cell_type": "code",
   "execution_count": null,
   "metadata": {},
   "outputs": [],
   "source": [
    "df_Itemized_AMD_Dry=df_Itemized_New.loc[df_Itemized_New['Primary_Diagnosis_10'] == 'AMD - Dry']\n",
    "Report_Itemized_AMD_Dry=df_Itemized_AMD_Dry.groupby(['Proc_Code','Proc_Desc','Proc_Code_Group'],as_index=False)[[\"#EOCs\",\"#Units\",\"#Patient_ID\",\"Total_#Charge_Units\", \"Total_Charges\",\"EOC_Total_Pmts_of_code_portion_only\",'EOC_Total_Pmts',\"EOC_Total_Pmts_of_non-code_portion_only\",'EOC_Total_Calculated_Allowable',\"Total_Actual_Allowed_Amts\",'Total_Expected_Allowed_Amts','Total_All_Adj','Total_Allowable_Diff','Total_Payments','Total_Refunds']].sum()\n",
    "Report_Itemized_AMD_Dry\n",
    "total_amdy = Report_Itemized_AMD_Dry.apply(np.sum)\n",
    "total_amdy['Proc_Code_Group'] = 'Total'\n",
    "Report_Itemized_AMD_Dry_New= Report_Itemized_AMD_Dry.append(pd.DataFrame(total_amdy.values, index=total_amdy.keys()).T, ignore_index=True,sort=False)\n",
    "Report_Itemized_AMD_Dry_New['%_of_code_portion'] = Report_Itemized_AMD_Dry_New.apply(percentage_code, axis=1) \n",
    "Report_Itemized_AMD_Dry_New['%_of_non_code_portion'] = Report_Itemized_AMD_Dry_New.apply(percentage_non_code, axis=1) \n",
    "Report_Itemized_AMD_Dry_New['EOC_Avg_Pmts'] = Report_Itemized_AMD_Dry_New.apply(eoc_avg_pmt, axis=1) "
   ]
  },
  {
   "cell_type": "code",
   "execution_count": null,
   "metadata": {},
   "outputs": [],
   "source": [
    "Report_Itemized_AMD_Dry_New"
   ]
  },
  {
   "cell_type": "code",
   "execution_count": null,
   "metadata": {},
   "outputs": [],
   "source": [
    "#csv file name and path\n",
    "file_name = 'Report_Itemized_AMD_Dry'\n",
    "file_path = os.path.join(output_folder, file_name)\n",
    "file_path+='.csv'\n",
    "Report_Itemized_AMD_Dry_New.to_csv(file_path,index=False)"
   ]
  },
  {
   "cell_type": "markdown",
   "metadata": {},
   "source": [
    "################################################################################################################################\n",
    "# Puckering\n",
    "################################################################################################################################"
   ]
  },
  {
   "cell_type": "code",
   "execution_count": null,
   "metadata": {},
   "outputs": [],
   "source": [
    "df_Puckering=df_Modifier_New.loc[df_Modifier_New['Primary_Diagnosis_10'] == 'Puckering']\n",
    "Report_Puckering=df_Puckering.groupby(['Proc_Code','Proc_Desc','Proc_Code_Group'],as_index=False)[[\"#EOCs\",\"#Units\",\"#Patient_ID\",\"Total_#Charge_Units\", \"Total_Charges\",\"EOC_Total_Pmts_of_code_portion_only\",'EOC_Total_Pmts',\"EOC_Total_Pmts_of_non-code_portion_only\",'EOC_Total_Calculated_Allowable',\"Total_Actual_Allowed_Amts\",'Total_Expected_Allowed_Amts','Total_All_Adj','Total_Allowable_Diff','Total_Payments','Total_Refunds']].sum()\n",
    "Report_Puckering\n",
    "total_puck = Report_Puckering.apply(np.sum)\n",
    "total_puck['Proc_Code_Group'] = 'Total'\n",
    "Report_Puckering_New= Report_Puckering.append(pd.DataFrame(total_puck.values, index=total_puck.keys()).T, ignore_index=True,sort=False)\n",
    "Report_Puckering_New['%_of_code_portion'] = Report_Puckering_New.apply(percentage_code, axis=1) \n",
    "Report_Puckering_New['%_of_non_code_portion'] = Report_Puckering_New.apply(percentage_non_code, axis=1) \n",
    "Report_Puckering_New['EOC_Avg_Pmts'] = Report_Puckering_New.apply(eoc_avg_pmt, axis=1)"
   ]
  },
  {
   "cell_type": "code",
   "execution_count": null,
   "metadata": {},
   "outputs": [],
   "source": [
    "Report_Puckering_New"
   ]
  },
  {
   "cell_type": "code",
   "execution_count": null,
   "metadata": {},
   "outputs": [],
   "source": [
    "#csv file name and path\n",
    "file_name = 'Report_Puckering'\n",
    "file_path = os.path.join(output_folder, file_name)\n",
    "file_path+='.csv'\n",
    "Report_Puckering_New.to_csv(file_path,index=False)"
   ]
  },
  {
   "cell_type": "code",
   "execution_count": null,
   "metadata": {},
   "outputs": [],
   "source": [
    "df_Itemized_Puckering=df_Itemized_New.loc[df_Itemized_New['Primary_Diagnosis_10'] == 'Puckering']\n",
    "Report_Itemized_Puckering=df_Itemized_Puckering.groupby(['Proc_Code','Proc_Desc','Proc_Code_Group'],as_index=False)[[\"#EOCs\",\"#Units\",\"#Patient_ID\",\"Total_#Charge_Units\", \"Total_Charges\",\"EOC_Total_Pmts_of_code_portion_only\",'EOC_Total_Pmts',\"EOC_Total_Pmts_of_non-code_portion_only\",'EOC_Total_Calculated_Allowable',\"Total_Actual_Allowed_Amts\",'Total_Expected_Allowed_Amts','Total_All_Adj','Total_Allowable_Diff','Total_Payments','Total_Refunds']].sum()\n",
    "Report_Itemized_Puckering\n",
    "total_puck = Report_Itemized_Puckering.apply(np.sum)\n",
    "total_puck['Proc_Code_Group'] = 'Total'\n",
    "Report_Itemized_Puckering_New= Report_Itemized_Puckering.append(pd.DataFrame(total_puck.values, index=total_puck.keys()).T, ignore_index=True,sort=False)\n",
    "Report_Itemized_Puckering_New['%_of_code_portion'] = Report_Itemized_Puckering_New.apply(percentage_code, axis=1) \n",
    "Report_Itemized_Puckering_New['%_of_non_code_portion'] = Report_Itemized_Puckering_New.apply(percentage_non_code, axis=1) \n",
    "Report_Itemized_Puckering_New['EOC_Avg_Pmts'] = Report_Itemized_Puckering_New.apply(eoc_avg_pmt, axis=1) "
   ]
  },
  {
   "cell_type": "code",
   "execution_count": null,
   "metadata": {},
   "outputs": [],
   "source": [
    "Report_Itemized_Puckering_New"
   ]
  },
  {
   "cell_type": "code",
   "execution_count": null,
   "metadata": {},
   "outputs": [],
   "source": [
    "#csv file name and path\n",
    "file_name = 'Report_Itemized_Puckering'\n",
    "file_path = os.path.join(output_folder, file_name)\n",
    "file_path+='.csv'\n",
    "Report_Itemized_Puckering_New.to_csv(file_path,index=False)"
   ]
  },
  {
   "cell_type": "markdown",
   "metadata": {},
   "source": [
    "################################################################################################################################\n",
    "# Injury\n",
    "################################################################################################################################"
   ]
  },
  {
   "cell_type": "code",
   "execution_count": null,
   "metadata": {},
   "outputs": [],
   "source": [
    "df_Injury=df_Modifier_New.loc[df_Modifier_New['Primary_Diagnosis_10'] == 'Injury']\n",
    "Report_Injury=df_Injury.groupby(['Proc_Code','Proc_Desc','Proc_Code_Group'],as_index=False)[[\"#EOCs\",\"#Units\",\"#Patient_ID\",\"Total_#Charge_Units\", \"Total_Charges\",\"EOC_Total_Pmts_of_code_portion_only\",'EOC_Total_Pmts',\"EOC_Total_Pmts_of_non-code_portion_only\",'EOC_Total_Calculated_Allowable',\"Total_Actual_Allowed_Amts\",'Total_Expected_Allowed_Amts','Total_All_Adj','Total_Allowable_Diff','Total_Payments','Total_Refunds']].sum()\n",
    "Report_Injury\n",
    "total_inj = Report_Injury.apply(np.sum)\n",
    "total_inj['Proc_Code_Group'] = 'Total'\n",
    "Report_Injury_New= Report_Injury.append(pd.DataFrame(total_inj.values, index=total_inj.keys()).T, ignore_index=True,sort=False)\n",
    "Report_Injury_New['%_of_code_portion'] = Report_Injury_New.apply(percentage_code, axis=1) \n",
    "Report_Injury_New['%_of_non_code_portion'] = Report_Injury_New.apply(percentage_non_code, axis=1) \n",
    "Report_Injury_New['EOC_Avg_Pmts'] = Report_Injury_New.apply(eoc_avg_pmt, axis=1) "
   ]
  },
  {
   "cell_type": "code",
   "execution_count": null,
   "metadata": {},
   "outputs": [],
   "source": [
    "Report_Injury_New"
   ]
  },
  {
   "cell_type": "code",
   "execution_count": null,
   "metadata": {},
   "outputs": [],
   "source": [
    "#csv file name and path\n",
    "file_name = 'Report_Injury'\n",
    "file_path = os.path.join(output_folder, file_name)\n",
    "file_path+='.csv'\n",
    "Report_Injury_New.to_csv(file_path,index=False)"
   ]
  },
  {
   "cell_type": "code",
   "execution_count": null,
   "metadata": {},
   "outputs": [],
   "source": [
    "df_Itemized_Injury=df_Itemized_New.loc[df_Itemized_New['Primary_Diagnosis_10'] == 'Injury']\n",
    "Report_Itemized_Injury=df_Itemized_Injury.groupby(['Proc_Code','Proc_Desc','Proc_Code_Group'],as_index=False)[[\"#EOCs\",\"#Units\",\"#Patient_ID\",\"Total_#Charge_Units\", \"Total_Charges\",\"EOC_Total_Pmts_of_code_portion_only\",'EOC_Total_Pmts',\"EOC_Total_Pmts_of_non-code_portion_only\",'EOC_Total_Calculated_Allowable',\"Total_Actual_Allowed_Amts\",'Total_Expected_Allowed_Amts','Total_All_Adj','Total_Allowable_Diff','Total_Payments','Total_Refunds']].sum()\n",
    "Report_Itemized_Injury\n",
    "total_inj = Report_Itemized_Injury.apply(np.sum)\n",
    "total_inj['Proc_Code_Group'] = 'Total'\n",
    "Report_Itemized_Injury_New= Report_Itemized_Injury.append(pd.DataFrame(total_inj.values, index=total_inj.keys()).T, ignore_index=True,sort=False)\n",
    "Report_Itemized_Injury_New['%_of_code_portion'] = Report_Itemized_Injury_New.apply(percentage_code, axis=1) \n",
    "Report_Itemized_Injury_New['%_of_non_code_portion'] = Report_Itemized_Injury_New.apply(percentage_non_code, axis=1) \n",
    "Report_Itemized_Injury_New['EOC_Avg_Pmts'] = Report_Itemized_Injury_New.apply(eoc_avg_pmt, axis=1) "
   ]
  },
  {
   "cell_type": "code",
   "execution_count": null,
   "metadata": {},
   "outputs": [],
   "source": [
    "Report_Itemized_Injury_New"
   ]
  },
  {
   "cell_type": "code",
   "execution_count": null,
   "metadata": {},
   "outputs": [],
   "source": [
    "#csv file name and path\n",
    "file_name = 'Report_Itemized_Injury'\n",
    "file_path = os.path.join(output_folder, file_name)\n",
    "file_path+='.csv'\n",
    "Report_Itemized_Injury_New.to_csv(file_path,index=False)"
   ]
  },
  {
   "cell_type": "markdown",
   "metadata": {},
   "source": [
    "################################################################################################################################\n",
    "# Vitreous Degeneration\n",
    "################################################################################################################################"
   ]
  },
  {
   "cell_type": "code",
   "execution_count": null,
   "metadata": {},
   "outputs": [],
   "source": [
    "df_Vitreous_Degeneration=df_Modifier_New.loc[df_Modifier_New['Primary_Diagnosis_10'] == 'Vitreous Degeneration']\n",
    "Report_Vitreous_Degeneration=df_Vitreous_Degeneration.groupby(['Proc_Code','Proc_Desc','Proc_Code_Group'],as_index=False)[[\"#EOCs\",\"#Units\",\"#Patient_ID\",\"Total_#Charge_Units\", \"Total_Charges\",\"EOC_Total_Pmts_of_code_portion_only\",'EOC_Total_Pmts',\"EOC_Total_Pmts_of_non-code_portion_only\",'EOC_Total_Calculated_Allowable',\"Total_Actual_Allowed_Amts\",'Total_Expected_Allowed_Amts','Total_All_Adj','Total_Allowable_Diff','Total_Payments','Total_Refunds']].sum()\n",
    "Report_Vitreous_Degeneration\n",
    "total_vd = Report_Vitreous_Degeneration.apply(np.sum)\n",
    "total_vd['Proc_Code_Group'] = 'Total'\n",
    "Report_Vitreous_Degeneration_New= Report_Vitreous_Degeneration.append(pd.DataFrame(total_vd.values, index=total_vd.keys()).T, ignore_index=True,sort=False)\n",
    "Report_Vitreous_Degeneration_New['%_of_code_portion'] = Report_Vitreous_Degeneration_New.apply(percentage_code, axis=1) \n",
    "Report_Vitreous_Degeneration_New['%_of_non_code_portion'] = Report_Vitreous_Degeneration_New.apply(percentage_non_code, axis=1) \n",
    "Report_Vitreous_Degeneration_New['EOC_Avg_Pmts'] = Report_Vitreous_Degeneration_New.apply(eoc_avg_pmt, axis=1)"
   ]
  },
  {
   "cell_type": "code",
   "execution_count": null,
   "metadata": {},
   "outputs": [],
   "source": [
    "Report_Vitreous_Degeneration_New"
   ]
  },
  {
   "cell_type": "code",
   "execution_count": null,
   "metadata": {},
   "outputs": [],
   "source": [
    "#csv file name and path\n",
    "file_name = 'Report_Vitreous_Degeneration'\n",
    "file_path = os.path.join(output_folder, file_name)\n",
    "file_path+='.csv'\n",
    "Report_Vitreous_Degeneration_New.to_csv(file_path,index=False)"
   ]
  },
  {
   "cell_type": "code",
   "execution_count": null,
   "metadata": {},
   "outputs": [],
   "source": [
    "df_Itemized_Vitreous_Degeneration=df_Itemized_New.loc[df_Itemized_New['Primary_Diagnosis_10'] == 'Vitreous Degeneration']\n",
    "Report_Itemized_Vitreous_Degeneration=df_Itemized_Vitreous_Degeneration.groupby(['Proc_Code','Proc_Desc','Proc_Code_Group'],as_index=False)[[\"#EOCs\",\"#Units\",\"#Patient_ID\",\"Total_#Charge_Units\", \"Total_Charges\",\"EOC_Total_Pmts_of_code_portion_only\",'EOC_Total_Pmts',\"EOC_Total_Pmts_of_non-code_portion_only\",'EOC_Total_Calculated_Allowable',\"Total_Actual_Allowed_Amts\",'Total_Expected_Allowed_Amts','Total_All_Adj','Total_Allowable_Diff','Total_Payments','Total_Refunds']].sum()\n",
    "Report_Itemized_Vitreous_Degeneration\n",
    "total_vd = Report_Itemized_Vitreous_Degeneration.apply(np.sum)\n",
    "total_vd['Proc_Code_Group'] = 'Total'\n",
    "Report_Itemized_Vitreous_Degeneration_New= Report_Itemized_Vitreous_Degeneration.append(pd.DataFrame(total_vd.values, index=total_vd.keys()).T, ignore_index=True,sort=False)\n",
    "Report_Itemized_Vitreous_Degeneration_New['%_of_code_portion'] = Report_Itemized_Vitreous_Degeneration_New.apply(percentage_code, axis=1) \n",
    "Report_Itemized_Vitreous_Degeneration_New['%_of_non_code_portion'] = Report_Itemized_Vitreous_Degeneration_New.apply(percentage_non_code, axis=1) \n",
    "Report_Itemized_Vitreous_Degeneration_New['EOC_Avg_Pmts'] = Report_Itemized_Vitreous_Degeneration_New.apply(eoc_avg_pmt, axis=1)"
   ]
  },
  {
   "cell_type": "code",
   "execution_count": null,
   "metadata": {},
   "outputs": [],
   "source": [
    "Report_Itemized_Vitreous_Degeneration_New"
   ]
  },
  {
   "cell_type": "code",
   "execution_count": null,
   "metadata": {},
   "outputs": [],
   "source": [
    "#csv file name and path\n",
    "file_name = 'Report_Itemized_Vitreous_Degeneration'\n",
    "file_path = os.path.join(output_folder, file_name)\n",
    "file_path+='.csv'\n",
    "Report_Itemized_Vitreous_Degeneration_New.to_csv(file_path,index=False)"
   ]
  },
  {
   "cell_type": "markdown",
   "metadata": {},
   "source": [
    "################################################################################################################################\n",
    "# RD\n",
    "################################################################################################################################"
   ]
  },
  {
   "cell_type": "code",
   "execution_count": null,
   "metadata": {},
   "outputs": [],
   "source": [
    "df_RD=df_Modifier_New.loc[df_Modifier_New['Primary_Diagnosis_10'] == 'RD']\n",
    "Report_RD=df_RD.groupby(['Proc_Code','Proc_Desc','Proc_Code_Group'],as_index=False)[[\"#EOCs\",\"#Units\",\"#Patient_ID\",\"Total_#Charge_Units\", \"Total_Charges\",\"EOC_Total_Pmts_of_code_portion_only\",'EOC_Total_Pmts',\"EOC_Total_Pmts_of_non-code_portion_only\",'EOC_Total_Calculated_Allowable',\"Total_Actual_Allowed_Amts\",'Total_Expected_Allowed_Amts','Total_All_Adj','Total_Allowable_Diff','Total_Payments','Total_Refunds']].sum()\n",
    "Report_RD\n",
    "total_rd = Report_RD.apply(np.sum)\n",
    "total_rd['Proc_Code_Group'] = 'Total'\n",
    "Report_RD_New= Report_RD.append(pd.DataFrame(total_rd.values, index=total_rd.keys()).T, ignore_index=True,sort=False)\n",
    "Report_RD_New['%_of_code_portion'] = Report_RD_New.apply(percentage_code, axis=1) \n",
    "Report_RD_New['%_of_non_code_portion'] = Report_RD_New.apply(percentage_non_code, axis=1) \n",
    "Report_RD_New['EOC_Avg_Pmts'] = Report_RD_New.apply(eoc_avg_pmt, axis=1)"
   ]
  },
  {
   "cell_type": "code",
   "execution_count": null,
   "metadata": {},
   "outputs": [],
   "source": [
    "Report_RD_New"
   ]
  },
  {
   "cell_type": "code",
   "execution_count": null,
   "metadata": {},
   "outputs": [],
   "source": [
    "#csv file name and path\n",
    "file_name = 'Report_RD'\n",
    "file_path = os.path.join(output_folder, file_name)\n",
    "file_path+='.csv'\n",
    "Report_RD_New.to_csv(file_path,index=False)"
   ]
  },
  {
   "cell_type": "code",
   "execution_count": null,
   "metadata": {},
   "outputs": [],
   "source": [
    "df_Itemized_RD=df_Itemized_New.loc[df_Itemized_New['Primary_Diagnosis_10'] == 'RD']\n",
    "Report_Itemized_RD=df_Itemized_RD.groupby(['Proc_Code','Proc_Desc','Proc_Code_Group'],as_index=False)[[\"#EOCs\",\"#Units\",\"#Patient_ID\",\"Total_#Charge_Units\", \"Total_Charges\",\"EOC_Total_Pmts_of_code_portion_only\",'EOC_Total_Pmts',\"EOC_Total_Pmts_of_non-code_portion_only\",'EOC_Total_Calculated_Allowable',\"Total_Actual_Allowed_Amts\",'Total_Expected_Allowed_Amts','Total_All_Adj','Total_Allowable_Diff','Total_Payments','Total_Refunds']].sum()\n",
    "Report_Itemized_RD\n",
    "total_rd = Report_Itemized_RD.apply(np.sum)\n",
    "total_rd['Proc_Code_Group'] = 'Total'\n",
    "Report_Itemized_RD_New= Report_Itemized_RD.append(pd.DataFrame(total_rd.values, index=total_rd.keys()).T, ignore_index=True,sort=False)\n",
    "Report_Itemized_RD_New['%_of_code_portion'] = Report_Itemized_RD_New.apply(percentage_code, axis=1) \n",
    "Report_Itemized_RD_New['%_of_non_code_portion'] = Report_Itemized_RD_New.apply(percentage_non_code, axis=1) \n",
    "Report_Itemized_RD_New['EOC_Avg_Pmts'] = Report_Itemized_RD_New.apply(eoc_avg_pmt, axis=1) "
   ]
  },
  {
   "cell_type": "code",
   "execution_count": null,
   "metadata": {},
   "outputs": [],
   "source": [
    "Report_Itemized_RD_New"
   ]
  },
  {
   "cell_type": "code",
   "execution_count": null,
   "metadata": {},
   "outputs": [],
   "source": [
    "#csv file name and path\n",
    "file_name = 'Report_Itemized_RD'\n",
    "file_path = os.path.join(output_folder, file_name)\n",
    "file_path+='.csv'\n",
    "Report_Itemized_RD_New.to_csv(file_path,index=False)"
   ]
  },
  {
   "cell_type": "markdown",
   "metadata": {},
   "source": [
    "################################################################################################################################\n",
    "# mCNV\n",
    "################################################################################################################################"
   ]
  },
  {
   "cell_type": "code",
   "execution_count": null,
   "metadata": {},
   "outputs": [],
   "source": [
    "df_mCNV=df_Modifier_New.loc[df_Modifier_New['Primary_Diagnosis_10'] == 'mCNV']\n",
    "Report_mCNV=df_mCNV.groupby(['Proc_Code','Proc_Desc','Proc_Code_Group'],as_index=False)[[\"#EOCs\",\"#Units\",\"#Patient_ID\",\"Total_#Charge_Units\", \"Total_Charges\",\"EOC_Total_Pmts_of_code_portion_only\",'EOC_Total_Pmts',\"EOC_Total_Pmts_of_non-code_portion_only\",'EOC_Total_Calculated_Allowable',\"Total_Actual_Allowed_Amts\",'Total_Expected_Allowed_Amts','Total_All_Adj','Total_Allowable_Diff','Total_Payments','Total_Refunds']].sum()\n",
    "Report_mCNV\n",
    "total_mcnv = Report_mCNV.apply(np.sum)\n",
    "total_mcnv['Proc_Code_Group'] = 'Total'\n",
    "Report_mCNV_New= Report_mCNV.append(pd.DataFrame(total_mcnv.values, index=total_mcnv.keys()).T, ignore_index=True,sort=False)\n",
    "Report_mCNV_New['%_of_code_portion'] = Report_mCNV_New.apply(percentage_code, axis=1) \n",
    "Report_mCNV_New['%_of_non_code_portion'] = Report_mCNV_New.apply(percentage_non_code, axis=1) \n",
    "Report_mCNV_New['EOC_Avg_Pmts'] = Report_mCNV_New.apply(eoc_avg_pmt, axis=1) "
   ]
  },
  {
   "cell_type": "code",
   "execution_count": null,
   "metadata": {},
   "outputs": [],
   "source": [
    "Report_mCNV_New"
   ]
  },
  {
   "cell_type": "code",
   "execution_count": null,
   "metadata": {},
   "outputs": [],
   "source": [
    "#csv file name and path\n",
    "file_name = 'Report_mCNV'\n",
    "file_path = os.path.join(output_folder, file_name)\n",
    "file_path+='.csv'\n",
    "Report_mCNV_New.to_csv(file_path,index=False)"
   ]
  },
  {
   "cell_type": "code",
   "execution_count": null,
   "metadata": {},
   "outputs": [],
   "source": [
    "df_Itemized_mCNV=df_Itemized_New.loc[df_Itemized_New['Primary_Diagnosis_10'] == 'mCNV']\n",
    "Report_Itemized_mCNV=df_Itemized_mCNV.groupby(['Proc_Code','Proc_Desc','Proc_Code_Group'],as_index=False)[[\"#EOCs\",\"#Units\",\"#Patient_ID\",\"Total_#Charge_Units\", \"Total_Charges\",\"EOC_Total_Pmts_of_code_portion_only\",'EOC_Total_Pmts',\"EOC_Total_Pmts_of_non-code_portion_only\",'EOC_Total_Calculated_Allowable',\"Total_Actual_Allowed_Amts\",'Total_Expected_Allowed_Amts','Total_All_Adj','Total_Allowable_Diff','Total_Payments','Total_Refunds']].sum()\n",
    "Report_Itemized_mCNV\n",
    "total_mcnv = Report_Itemized_mCNV.apply(np.sum)\n",
    "total_mcnv['Proc_Code_Group'] = 'Total'\n",
    "Report_Itemized_mCNV_New= Report_Itemized_mCNV.append(pd.DataFrame(total_mcnv.values, index=total_mcnv.keys()).T, ignore_index=True,sort=False)\n",
    "Report_Itemized_mCNV_New['%_of_code_portion'] = Report_Itemized_mCNV_New.apply(percentage_code, axis=1) \n",
    "Report_Itemized_mCNV_New['%_of_non_code_portion'] = Report_Itemized_mCNV_New.apply(percentage_non_code, axis=1) \n",
    "Report_Itemized_mCNV_New['EOC_Avg_Pmts'] = Report_Itemized_mCNV_New.apply(eoc_avg_pmt, axis=1) "
   ]
  },
  {
   "cell_type": "code",
   "execution_count": null,
   "metadata": {},
   "outputs": [],
   "source": [
    "Report_Itemized_mCNV_New"
   ]
  },
  {
   "cell_type": "code",
   "execution_count": null,
   "metadata": {},
   "outputs": [],
   "source": [
    "#csv file name and path\n",
    "file_name = 'Report_Itemized_mCNV'\n",
    "file_path = os.path.join(output_folder, file_name)\n",
    "file_path+='.csv'\n",
    "Report_Itemized_mCNV_New.to_csv(file_path,index=False)"
   ]
  },
  {
   "cell_type": "markdown",
   "metadata": {},
   "source": [
    "################################################################################################################################\n",
    "# Neoplasm\n",
    "################################################################################################################################"
   ]
  },
  {
   "cell_type": "code",
   "execution_count": null,
   "metadata": {},
   "outputs": [],
   "source": [
    "df_Neoplasm=df_Modifier_New.loc[df_Modifier_New['Primary_Diagnosis_10'] == 'Neoplasm']\n",
    "Report_Neoplasm=df_Neoplasm.groupby(['Proc_Code','Proc_Desc','Proc_Code_Group'],as_index=False)[[\"#EOCs\",\"#Units\",\"#Patient_ID\",\"Total_#Charge_Units\", \"Total_Charges\",\"EOC_Total_Pmts_of_code_portion_only\",'EOC_Total_Pmts',\"EOC_Total_Pmts_of_non-code_portion_only\",'EOC_Total_Calculated_Allowable',\"Total_Actual_Allowed_Amts\",'Total_Expected_Allowed_Amts','Total_All_Adj','Total_Allowable_Diff','Total_Payments','Total_Refunds']].sum()\n",
    "Report_Neoplasm\n",
    "total_nplm = Report_Neoplasm.apply(np.sum)\n",
    "total_nplm['Proc_Code_Group'] = 'Total'\n",
    "Report_Neoplasm_New= Report_Neoplasm.append(pd.DataFrame(total_nplm.values, index=total_nplm.keys()).T, ignore_index=True,sort=False)\n",
    "Report_Neoplasm_New['%_of_code_portion'] = Report_Neoplasm_New.apply(percentage_code, axis=1) \n",
    "Report_Neoplasm_New['%_of_non_code_portion'] = Report_Neoplasm_New.apply(percentage_non_code, axis=1) \n",
    "Report_Neoplasm_New['EOC_Avg_Pmts'] = Report_Neoplasm_New.apply(eoc_avg_pmt, axis=1) "
   ]
  },
  {
   "cell_type": "code",
   "execution_count": null,
   "metadata": {},
   "outputs": [],
   "source": [
    "Report_Neoplasm_New"
   ]
  },
  {
   "cell_type": "code",
   "execution_count": null,
   "metadata": {},
   "outputs": [],
   "source": [
    "#csv file name and path\n",
    "file_name = 'Report_Neoplasm'\n",
    "file_path = os.path.join(output_folder, file_name)\n",
    "file_path+='.csv'\n",
    "Report_Neoplasm_New.to_csv(file_path,index=False)"
   ]
  },
  {
   "cell_type": "code",
   "execution_count": null,
   "metadata": {},
   "outputs": [],
   "source": [
    "df_Itemized_Neoplasm=df_Itemized_New.loc[df_Itemized_New['Primary_Diagnosis_10'] == 'Neoplasm']\n",
    "Report_Itemized_Neoplasm=df_Itemized_Neoplasm.groupby(['Proc_Code','Proc_Desc','Proc_Code_Group'],as_index=False)[[\"#EOCs\",\"#Units\",\"#Patient_ID\",\"Total_#Charge_Units\", \"Total_Charges\",\"EOC_Total_Pmts_of_code_portion_only\",'EOC_Total_Pmts',\"EOC_Total_Pmts_of_non-code_portion_only\",'EOC_Total_Calculated_Allowable',\"Total_Actual_Allowed_Amts\",'Total_Expected_Allowed_Amts','Total_All_Adj','Total_Allowable_Diff','Total_Payments','Total_Refunds']].sum()\n",
    "Report_Itemized_Neoplasm\n",
    "total_nplm = Report_Itemized_Neoplasm.apply(np.sum)\n",
    "total_nplm['Proc_Code_Group'] = 'Total'\n",
    "Report_Itemized_Neoplasm_New= Report_Itemized_Neoplasm.append(pd.DataFrame(total_nplm.values, index=total_nplm.keys()).T, ignore_index=True,sort=False)\n",
    "Report_Itemized_Neoplasm_New['%_of_code_portion'] = Report_Itemized_Neoplasm_New.apply(percentage_code, axis=1) \n",
    "Report_Itemized_Neoplasm_New['%_of_non_code_portion'] = Report_Itemized_Neoplasm_New.apply(percentage_non_code, axis=1) \n",
    "Report_Itemized_Neoplasm_New['EOC_Avg_Pmts'] = Report_Itemized_Neoplasm_New.apply(eoc_avg_pmt, axis=1)"
   ]
  },
  {
   "cell_type": "code",
   "execution_count": null,
   "metadata": {},
   "outputs": [],
   "source": [
    "Report_Itemized_Neoplasm_New"
   ]
  },
  {
   "cell_type": "code",
   "execution_count": null,
   "metadata": {},
   "outputs": [],
   "source": [
    "#csv file name and path\n",
    "file_name = 'Report_Itemized_Neoplasm'\n",
    "file_path = os.path.join(output_folder, file_name)\n",
    "file_path+='.csv'\n",
    "Report_Itemized_Neoplasm_New.to_csv(file_path,index=False)"
   ]
  },
  {
   "cell_type": "markdown",
   "metadata": {},
   "source": [
    "################################################################################################################################\n",
    "# Other - DM\n",
    "################################################################################################################################"
   ]
  },
  {
   "cell_type": "code",
   "execution_count": null,
   "metadata": {},
   "outputs": [],
   "source": [
    "df_Other_DM=df_Modifier_New.loc[df_Modifier_New['Primary_Diagnosis_10'] == 'Other - DM']\n",
    "Report_Other_DM=df_Other_DM.groupby(['Proc_Code','Proc_Desc','Proc_Code_Group'],as_index=False)[[\"#EOCs\",\"#Units\",\"#Patient_ID\",\"Total_#Charge_Units\", \"Total_Charges\",\"EOC_Total_Pmts_of_code_portion_only\",'EOC_Total_Pmts',\"EOC_Total_Pmts_of_non-code_portion_only\",'EOC_Total_Calculated_Allowable',\"Total_Actual_Allowed_Amts\",'Total_Expected_Allowed_Amts','Total_All_Adj','Total_Allowable_Diff','Total_Payments','Total_Refunds']].sum()\n",
    "Report_Other_DM\n",
    "total_odm = Report_Other_DM.apply(np.sum)\n",
    "total_odm['Proc_Code_Group'] = 'Total'\n",
    "Report_Other_DM_New= Report_Other_DM.append(pd.DataFrame(total_odm.values, index=total_odm.keys()).T, ignore_index=True,sort=False)\n",
    "Report_Other_DM_New['%_of_code_portion'] = Report_Other_DM_New.apply(percentage_code, axis=1) \n",
    "Report_Other_DM_New['%_of_non_code_portion'] = Report_Other_DM_New.apply(percentage_non_code, axis=1) \n",
    "Report_Other_DM_New['EOC_Avg_Pmts'] = Report_Other_DM_New.apply(eoc_avg_pmt, axis=1) "
   ]
  },
  {
   "cell_type": "code",
   "execution_count": null,
   "metadata": {},
   "outputs": [],
   "source": [
    "Report_Other_DM_New"
   ]
  },
  {
   "cell_type": "code",
   "execution_count": null,
   "metadata": {},
   "outputs": [],
   "source": [
    "#csv file name and path\n",
    "file_name = 'Report_Other_DM'\n",
    "file_path = os.path.join(output_folder, file_name)\n",
    "file_path+='.csv'\n",
    "Report_Other_DM_New.to_csv(file_path,index=False)"
   ]
  },
  {
   "cell_type": "code",
   "execution_count": null,
   "metadata": {},
   "outputs": [],
   "source": [
    "df_Itemized_Other_DM=df_Itemized_New.loc[df_Itemized_New['Primary_Diagnosis_10'] == 'Other - DM']\n",
    "Report_Itemized_Other_DM=df_Itemized_Other_DM.groupby(['Proc_Code','Proc_Desc','Proc_Code_Group'],as_index=False)[[\"#EOCs\",\"#Units\",\"#Patient_ID\",\"Total_#Charge_Units\", \"Total_Charges\",\"EOC_Total_Pmts_of_code_portion_only\",'EOC_Total_Pmts',\"EOC_Total_Pmts_of_non-code_portion_only\",'EOC_Total_Calculated_Allowable',\"Total_Actual_Allowed_Amts\",'Total_Expected_Allowed_Amts','Total_All_Adj','Total_Allowable_Diff','Total_Payments','Total_Refunds']].sum()\n",
    "Report_Itemized_Other_DM\n",
    "total_odm = Report_Itemized_Other_DM.apply(np.sum)\n",
    "total_odm['Proc_Code_Group'] = 'Total'\n",
    "Report_Itemized_Other_DM_New= Report_Itemized_Other_DM.append(pd.DataFrame(total_odm.values, index=total_odm.keys()).T, ignore_index=True,sort=False)\n",
    "Report_Itemized_Other_DM_New['%_of_code_portion'] = Report_Itemized_Other_DM_New.apply(percentage_code, axis=1) \n",
    "Report_Itemized_Other_DM_New['%_of_non_code_portion'] = Report_Itemized_Other_DM_New.apply(percentage_non_code, axis=1) \n",
    "Report_Itemized_Other_DM_New['EOC_Avg_Pmts'] = Report_Itemized_Other_DM_New.apply(eoc_avg_pmt, axis=1) "
   ]
  },
  {
   "cell_type": "code",
   "execution_count": null,
   "metadata": {},
   "outputs": [],
   "source": [
    "Report_Itemized_Other_DM"
   ]
  },
  {
   "cell_type": "code",
   "execution_count": null,
   "metadata": {},
   "outputs": [],
   "source": [
    "#csv file name and path\n",
    "file_name = 'Report_Itemized_Other_DM'\n",
    "file_path = os.path.join(output_folder, file_name)\n",
    "file_path+='.csv'\n",
    "Report_Itemized_Other_DM_New.to_csv(file_path,index=False)"
   ]
  },
  {
   "cell_type": "markdown",
   "metadata": {},
   "source": [
    "################################################################################################################################\n",
    "# Other\n",
    "################################################################################################################################"
   ]
  },
  {
   "cell_type": "code",
   "execution_count": null,
   "metadata": {},
   "outputs": [],
   "source": [
    "df_Other=df_Modifier_New.loc[df_Modifier_New['Primary_Diagnosis_10'] == 'OTHER']\n",
    "Report_Other=df_Other.groupby(['Proc_Code','Proc_Desc','Proc_Code_Group'],as_index=False)[[\"#EOCs\",\"#Units\",\"#Patient_ID\",\"Total_#Charge_Units\", \"Total_Charges\",\"EOC_Total_Pmts_of_code_portion_only\",'EOC_Total_Pmts',\"EOC_Total_Pmts_of_non-code_portion_only\",'EOC_Total_Calculated_Allowable',\"Total_Actual_Allowed_Amts\",'Total_Expected_Allowed_Amts','Total_All_Adj','Total_Allowable_Diff','Total_Payments','Total_Refunds']].sum()\n",
    "Report_Other\n",
    "total_othr = Report_Other.apply(np.sum)\n",
    "total_othr['Proc_Code_Group'] = 'Total'\n",
    "Report_Other_New= Report_Other.append(pd.DataFrame(total_othr.values, index=total_othr.keys()).T, ignore_index=True,sort=False)\n",
    "Report_Other_New['%_of_code_portion'] = Report_Other_New.apply(percentage_code, axis=1) \n",
    "Report_Other_New['%_of_non_code_portion'] = Report_Other_New.apply(percentage_non_code, axis=1) \n",
    "Report_Other_New['EOC_Avg_Pmts'] = Report_Other_New.apply(eoc_avg_pmt, axis=1) "
   ]
  },
  {
   "cell_type": "code",
   "execution_count": null,
   "metadata": {},
   "outputs": [],
   "source": [
    "Report_Other_New"
   ]
  },
  {
   "cell_type": "code",
   "execution_count": null,
   "metadata": {},
   "outputs": [],
   "source": [
    "#csv file name and path\n",
    "file_name = 'Report_Other'\n",
    "file_path = os.path.join(output_folder, file_name)\n",
    "file_path+='.csv'\n",
    "Report_Other_New.to_csv(file_path,index=False)"
   ]
  },
  {
   "cell_type": "code",
   "execution_count": null,
   "metadata": {},
   "outputs": [],
   "source": [
    "df_Itemized_Other=df_Itemized_New.loc[df_Itemized_New['Primary_Diagnosis_10'] == 'OTHER']\n",
    "Report_Itemized_Other=df_Itemized_Other.groupby(['Proc_Code','Proc_Desc','Proc_Code_Group'],as_index=False)[[\"#EOCs\",\"#Units\",\"#Patient_ID\",\"Total_#Charge_Units\", \"Total_Charges\",\"EOC_Total_Pmts_of_code_portion_only\",'EOC_Total_Pmts',\"EOC_Total_Pmts_of_non-code_portion_only\",'EOC_Total_Calculated_Allowable',\"Total_Actual_Allowed_Amts\",'Total_Expected_Allowed_Amts','Total_All_Adj','Total_Allowable_Diff','Total_Payments','Total_Refunds']].sum()\n",
    "Report_Itemized_Other\n",
    "total_othr = Report_Itemized_Other.apply(np.sum)\n",
    "total_othr['Proc_Code_Group'] = 'Total'\n",
    "Report_Itemized_Other_New= Report_Itemized_Other.append(pd.DataFrame(total_othr.values, index=total_othr.keys()).T, ignore_index=True,sort=False)\n",
    "Report_Itemized_Other_New['%_of_code_portion'] = Report_Itemized_Other_New.apply(percentage_code, axis=1) \n",
    "Report_Itemized_Other_New['%_of_non_code_portion'] = Report_Itemized_Other_New.apply(percentage_non_code, axis=1) \n",
    "Report_Itemized_Other_New['EOC_Avg_Pmts'] = Report_Itemized_Other_New.apply(eoc_avg_pmt, axis=1) "
   ]
  },
  {
   "cell_type": "code",
   "execution_count": null,
   "metadata": {},
   "outputs": [],
   "source": [
    "Report_Itemized_Other_New"
   ]
  },
  {
   "cell_type": "code",
   "execution_count": null,
   "metadata": {},
   "outputs": [],
   "source": [
    "#csv file name and path\n",
    "file_name = 'Report_Itemized_Other'\n",
    "file_path = os.path.join(output_folder, file_name)\n",
    "file_path+='.csv'\n",
    "Report_Itemized_Other_New.to_csv(file_path,index=False)"
   ]
  },
  {
   "cell_type": "code",
   "execution_count": null,
   "metadata": {},
   "outputs": [],
   "source": [
    "from glob import glob\n",
    "#csv file name and path\n",
    "file_name = 'Medicare'\n",
    "file_path = os.path.join(output_folder, file_name)\n",
    "file_path+='.csv'\n",
    "with open(file_path, 'a') as singleFile:\n",
    "    for csvFile in glob('../EOC_Raw_Data/EOC_Reports_Medicare/Re*.csv'):\n",
    "        for line in open(csvFile, 'r'):\n",
    "            singleFile.write(line)"
   ]
  },
  {
   "cell_type": "code",
   "execution_count": null,
   "metadata": {},
   "outputs": [],
   "source": []
  }
 ],
 "metadata": {
  "kernelspec": {
   "display_name": "Python 3",
   "language": "python",
   "name": "python3"
  },
  "language_info": {
   "codemirror_mode": {
    "name": "ipython",
    "version": 3
   },
   "file_extension": ".py",
   "mimetype": "text/x-python",
   "name": "python",
   "nbconvert_exporter": "python",
   "pygments_lexer": "ipython3",
   "version": "3.7.0"
  }
 },
 "nbformat": 4,
 "nbformat_minor": 2
}
